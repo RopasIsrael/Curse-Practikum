{
 "cells": [
  {
   "cell_type": "markdown",
   "id": "46c14941",
   "metadata": {},
   "source": [
    "## Описание проекта\n",
    "### Контекст\n",
    "Вы — аналитик крупного интернет-магазина. Вместе с отделом маркетинга вы подготовили список гипотез для увеличения выручки.\n",
    "Приоритизируйте гипотезы, запустите A/B-тест и проанализируйте результаты.\n",
    "\n",
    "<b> Часть 1. Приоритизация гипотез.</b>\n",
    "- В файле /datasets/hypothesis.csv 9 гипотез по увеличению выручки интернет-магазина с указанными параметрами Reach, Impact, Confidence, Effort.\n",
    "\n",
    "Задача\n",
    "\n",
    "Примените фреймворк ICE для приоритизации гипотез. Отсортируйте их по убыванию приоритета.\n",
    "Примените фреймворк RICE для приоритизации гипотез. Отсортируйте их по убыванию приоритета.\n",
    "Укажите, как изменилась приоритизация гипотез при применении RICE вместо ICE. Объясните, почему так произошло."
   ]
  },
  {
   "cell_type": "code",
   "execution_count": 1,
   "id": "599e8f22",
   "metadata": {},
   "outputs": [],
   "source": [
    "import pandas as pd\n",
    "try:\n",
    "    hypothesis = pd.read_csv(r\"C:\\Users\\rpash\\Desktop\\шпаргалки\\hypothesis.csv\")\n",
    "except:\n",
    "    hypothesis = pd.read_csv('/datasets/hypothesis.csv')"
   ]
  },
  {
   "cell_type": "code",
   "execution_count": 2,
   "id": "fbc87ff3",
   "metadata": {},
   "outputs": [],
   "source": [
    "pd.options.display.max_colwidth = 150"
   ]
  },
  {
   "cell_type": "code",
   "execution_count": 3,
   "id": "d3730f28",
   "metadata": {},
   "outputs": [
    {
     "data": {
      "text/html": [
       "<div>\n",
       "<style scoped>\n",
       "    .dataframe tbody tr th:only-of-type {\n",
       "        vertical-align: middle;\n",
       "    }\n",
       "\n",
       "    .dataframe tbody tr th {\n",
       "        vertical-align: top;\n",
       "    }\n",
       "\n",
       "    .dataframe thead th {\n",
       "        text-align: right;\n",
       "    }\n",
       "</style>\n",
       "<table border=\"1\" class=\"dataframe\">\n",
       "  <thead>\n",
       "    <tr style=\"text-align: right;\">\n",
       "      <th></th>\n",
       "      <th>Hypothesis</th>\n",
       "      <th>ICE</th>\n",
       "    </tr>\n",
       "  </thead>\n",
       "  <tbody>\n",
       "    <tr>\n",
       "      <th>8</th>\n",
       "      <td>Запустить акцию, дающую скидку на товар в день рождения</td>\n",
       "      <td>16.200000</td>\n",
       "    </tr>\n",
       "    <tr>\n",
       "      <th>0</th>\n",
       "      <td>Добавить два новых канала привлечения трафика, что позволит привлекать на 30% больше пользователей</td>\n",
       "      <td>13.333333</td>\n",
       "    </tr>\n",
       "    <tr>\n",
       "      <th>7</th>\n",
       "      <td>Добавить форму подписки на все основные страницы, чтобы собрать базу клиентов для email-рассылок</td>\n",
       "      <td>11.200000</td>\n",
       "    </tr>\n",
       "    <tr>\n",
       "      <th>6</th>\n",
       "      <td>Показать на главной странице баннеры с актуальными акциями и распродажами, чтобы увеличить конверсию</td>\n",
       "      <td>8.000000</td>\n",
       "    </tr>\n",
       "    <tr>\n",
       "      <th>2</th>\n",
       "      <td>Добавить блоки рекомендаций товаров на сайт интернет магазина, чтобы повысить конверсию и средний чек заказа</td>\n",
       "      <td>7.000000</td>\n",
       "    </tr>\n",
       "    <tr>\n",
       "      <th>1</th>\n",
       "      <td>Запустить собственную службу доставки, что сократит срок доставки заказов</td>\n",
       "      <td>2.000000</td>\n",
       "    </tr>\n",
       "    <tr>\n",
       "      <th>5</th>\n",
       "      <td>Добавить страницу отзывов клиентов о магазине, что позволит увеличить количество заказов</td>\n",
       "      <td>1.333333</td>\n",
       "    </tr>\n",
       "    <tr>\n",
       "      <th>3</th>\n",
       "      <td>Изменить структура категорий, что увеличит конверсию, т.к. пользователи быстрее найдут нужный товар</td>\n",
       "      <td>1.125000</td>\n",
       "    </tr>\n",
       "    <tr>\n",
       "      <th>4</th>\n",
       "      <td>Изменить цвет фона главной страницы, чтобы увеличить вовлеченность пользователей</td>\n",
       "      <td>1.000000</td>\n",
       "    </tr>\n",
       "  </tbody>\n",
       "</table>\n",
       "</div>"
      ],
      "text/plain": [
       "                                                                                                     Hypothesis  \\\n",
       "8                                                       Запустить акцию, дающую скидку на товар в день рождения   \n",
       "0            Добавить два новых канала привлечения трафика, что позволит привлекать на 30% больше пользователей   \n",
       "7              Добавить форму подписки на все основные страницы, чтобы собрать базу клиентов для email-рассылок   \n",
       "6          Показать на главной странице баннеры с актуальными акциями и распродажами, чтобы увеличить конверсию   \n",
       "2  Добавить блоки рекомендаций товаров на сайт интернет магазина, чтобы повысить конверсию и средний чек заказа   \n",
       "1                                     Запустить собственную службу доставки, что сократит срок доставки заказов   \n",
       "5                      Добавить страницу отзывов клиентов о магазине, что позволит увеличить количество заказов   \n",
       "3           Изменить структура категорий, что увеличит конверсию, т.к. пользователи быстрее найдут нужный товар   \n",
       "4                              Изменить цвет фона главной страницы, чтобы увеличить вовлеченность пользователей   \n",
       "\n",
       "         ICE  \n",
       "8  16.200000  \n",
       "0  13.333333  \n",
       "7  11.200000  \n",
       "6   8.000000  \n",
       "2   7.000000  \n",
       "1   2.000000  \n",
       "5   1.333333  \n",
       "3   1.125000  \n",
       "4   1.000000  "
      ]
     },
     "metadata": {},
     "output_type": "display_data"
    }
   ],
   "source": [
    "hypothesis['ICE'] = (hypothesis['Impact'] * hypothesis['Confidence']) / hypothesis['Efforts']\n",
    "display(hypothesis[['Hypothesis', 'ICE']].sort_values(by=['ICE'], ascending=False))"
   ]
  },
  {
   "cell_type": "markdown",
   "id": "b44d7a4e",
   "metadata": {},
   "source": [
    "При построении гипотез мы видим, что  наибольший потенциал у 8, 0, 7.\n",
    "Высокий Impact ('влияние') и низкий Efforts('усилия'), обеспечивают высокий приоритет для этих задач"
   ]
  },
  {
   "cell_type": "code",
   "execution_count": 4,
   "id": "b7c8b95a",
   "metadata": {},
   "outputs": [
    {
     "name": "stdout",
     "output_type": "stream",
     "text": [
      "                                                                                                     Hypothesis  \\\n",
      "7              Добавить форму подписки на все основные страницы, чтобы собрать базу клиентов для email-рассылок   \n",
      "2  Добавить блоки рекомендаций товаров на сайт интернет магазина, чтобы повысить конверсию и средний чек заказа   \n",
      "0            Добавить два новых канала привлечения трафика, что позволит привлекать на 30% больше пользователей   \n",
      "6          Показать на главной странице баннеры с актуальными акциями и распродажами, чтобы увеличить конверсию   \n",
      "8                                                       Запустить акцию, дающую скидку на товар в день рождения   \n",
      "3           Изменить структура категорий, что увеличит конверсию, т.к. пользователи быстрее найдут нужный товар   \n",
      "1                                     Запустить собственную службу доставки, что сократит срок доставки заказов   \n",
      "5                      Добавить страницу отзывов клиентов о магазине, что позволит увеличить количество заказов   \n",
      "4                              Изменить цвет фона главной страницы, чтобы увеличить вовлеченность пользователей   \n",
      "\n",
      "    RICE  \n",
      "7  112.0  \n",
      "2   56.0  \n",
      "0   40.0  \n",
      "6   40.0  \n",
      "8   16.2  \n",
      "3    9.0  \n",
      "1    4.0  \n",
      "5    4.0  \n",
      "4    3.0  \n"
     ]
    }
   ],
   "source": [
    "hypothesis['RICE'] = (hypothesis['Reach']*hypothesis['Impact']*hypothesis['Confidence']) / hypothesis['Efforts']\n",
    "\n",
    "print(hypothesis[['Hypothesis','RICE']].sort_values(by='RICE', ascending=False))"
   ]
  },
  {
   "cell_type": "markdown",
   "id": "b4d0c5e4",
   "metadata": {},
   "source": [
    "При расчете RICE преоритеты немного сдвигаються, за счет высокого Reach ('охват'), теперь приоритетны 7, 2, 0, 6 ( таким образом у нас добавились гипотезы 2 и 6)"
   ]
  },
  {
   "cell_type": "markdown",
   "id": "e7de1104",
   "metadata": {},
   "source": [
    "### Вывод:\n",
    " Методы ICE/RICE хорошо работают, когда нужно запустить новый продукт на существующем рынке. Если вы хотите внедрить дополнительный канал обслуживания клиентов и собираетесь проверить гипотезы о том, как клиенты привыкли получать сервис в данный момент.\n",
    " При применении метода ICE основыне гипотезы были:\n",
    " - Запустить акцию, дающую скидку на товар в день рождения\t\n",
    " - Добавить два новых канала привлечения трафика, что позволит привлекать на 30% больше пользователей\n",
    " - Добавить форму подписки на все основные страницы, чтобы собрать базу клиентов для email-рассылок\t\n",
    " Они соотвестуют 2 ключевым показателя низкая стоимость внедрения + высокая ценность для клиентов.\n",
    " \n",
    " При применении метода RICE:\n",
    " - Добавить форму подписки на все основные страницы, чтобы собрать базу клиентов для email-рассылок\n",
    " - Добавить блоки рекомендаций товаров на сайт интернет магазина, чтобы повысить конверсию и средний чек заказа\n",
    " - Добавить два новых канала привлечения трафика, что позволит привлекать на 30% больше пользователей\n",
    " При добавлении показателя \"Reach\" (охват), приоритетные гипотезы сдвигаются, за счет того количества клиентов которых коснуться нововведения и их реакции."
   ]
  },
  {
   "cell_type": "markdown",
   "id": "98f0fa7a",
   "metadata": {},
   "source": [
    "## Часть 2. Анализ A/B-теста\n",
    "\n",
    "Вы провели A/B-тест и получили результаты, которые описаны в файлах /datasets/orders.csv и /datasets/visitors.csv.\n",
    "\n",
    "### Задача\n",
    "Проанализируйте A/B-тест:\n",
    "- Постройте график кумулятивной выручки по группам. Сделайте выводы и предположения.\n",
    "- Постройте график кумулятивного среднего чека по группам. Сделайте выводы и предположения.\n",
    "- Постройте график относительного изменения кумулятивного среднего чека группы B к группе A. Сделайте выводы и предположения.\n",
    "- Постройте график кумулятивного среднего количества заказов по группам. Сделайте выводы и предположения.\n",
    "- Постройте график относительного изменения кумулятивного среднего количества заказов группы B к группе A. Сделайте выводы и предположения.\n",
    "- Постройте точечный график количества заказов по пользователям. Сделайте выводы и предположения.\n",
    "- Посчитайте 95-й и 99-й перцентили количества заказов на пользователя. Выберите границу для определения аномальных пользователей.\n",
    "- Постройте точечный график стоимостей заказов. Сделайте выводы и предположения.\n",
    "- Посчитайте 95-й и 99-й перцентили стоимости заказов. Выберите границу для определения аномальных заказов.\n",
    "- Посчитайте статистическую значимость различий в среднем количестве заказов между группами по «сырым» данным. Сделайте выводы и предположения.\n",
    "- Посчитайте статистическую значимость различий в среднем чеке заказа между группами по «сырым» данным. Сделайте выводы и предположения.\n",
    "- Посчитайте статистическую значимость различий в среднем количестве заказов между группами по «очищенным» данным. Сделайте выводы и предположения.\n",
    "- Посчитайте статистическую значимость различий в среднем чеке заказа между группами по «очищенным» данным. Сделайте выводы и предположения.\n",
    "\n",
    "Примите решение по результатам теста и объясните его.\n",
    "Варианты решений: \n",
    "1. Остановить тест, зафиксировать победу одной из групп. \n",
    "2. Остановить тест, зафиксировать отсутствие различий между группами. \n",
    "3. Продолжить тест."
   ]
  },
  {
   "cell_type": "code",
   "execution_count": 5,
   "id": "a17bf876",
   "metadata": {},
   "outputs": [],
   "source": [
    "# Необходимые библиотеки для исследования \n",
    "from datetime import datetime, timedelta\n",
    "import numpy as np    \n",
    "from scipy import stats as st\n",
    "import seaborn as sns\n",
    "from IPython.display import display\n",
    "from matplotlib import pyplot as plt"
   ]
  },
  {
   "cell_type": "code",
   "execution_count": 6,
   "id": "366d82c2",
   "metadata": {},
   "outputs": [],
   "source": [
    "try:\n",
    "    orders = pd.read_csv(r\"C:\\Users\\rpash\\Desktop\\шпаргалки\\orders.csv\")\n",
    "except:\n",
    "    orders = pd.read_csv('/datasets/orders.csv')"
   ]
  },
  {
   "cell_type": "code",
   "execution_count": 7,
   "id": "24814204",
   "metadata": {},
   "outputs": [],
   "source": [
    "try:\n",
    "    visitors = pd.read_csv(r\"C:\\Users\\rpash\\Desktop\\шпаргалки\\visitors.csv\")\n",
    "except:\n",
    "    visitors = pd.read_csv('/datasets/visitors.csv')"
   ]
  },
  {
   "cell_type": "code",
   "execution_count": 8,
   "id": "7c0d5984",
   "metadata": {},
   "outputs": [
    {
     "data": {
      "text/html": [
       "<div>\n",
       "<style scoped>\n",
       "    .dataframe tbody tr th:only-of-type {\n",
       "        vertical-align: middle;\n",
       "    }\n",
       "\n",
       "    .dataframe tbody tr th {\n",
       "        vertical-align: top;\n",
       "    }\n",
       "\n",
       "    .dataframe thead th {\n",
       "        text-align: right;\n",
       "    }\n",
       "</style>\n",
       "<table border=\"1\" class=\"dataframe\">\n",
       "  <thead>\n",
       "    <tr style=\"text-align: right;\">\n",
       "      <th></th>\n",
       "      <th>transactionId</th>\n",
       "      <th>visitorId</th>\n",
       "      <th>date</th>\n",
       "      <th>revenue</th>\n",
       "      <th>group</th>\n",
       "    </tr>\n",
       "  </thead>\n",
       "  <tbody>\n",
       "    <tr>\n",
       "      <th>0</th>\n",
       "      <td>3667963787</td>\n",
       "      <td>3312258926</td>\n",
       "      <td>2019-08-15</td>\n",
       "      <td>1650</td>\n",
       "      <td>B</td>\n",
       "    </tr>\n",
       "    <tr>\n",
       "      <th>1</th>\n",
       "      <td>2804400009</td>\n",
       "      <td>3642806036</td>\n",
       "      <td>2019-08-15</td>\n",
       "      <td>730</td>\n",
       "      <td>B</td>\n",
       "    </tr>\n",
       "    <tr>\n",
       "      <th>2</th>\n",
       "      <td>2961555356</td>\n",
       "      <td>4069496402</td>\n",
       "      <td>2019-08-15</td>\n",
       "      <td>400</td>\n",
       "      <td>A</td>\n",
       "    </tr>\n",
       "    <tr>\n",
       "      <th>3</th>\n",
       "      <td>3797467345</td>\n",
       "      <td>1196621759</td>\n",
       "      <td>2019-08-15</td>\n",
       "      <td>9759</td>\n",
       "      <td>B</td>\n",
       "    </tr>\n",
       "    <tr>\n",
       "      <th>4</th>\n",
       "      <td>2282983706</td>\n",
       "      <td>2322279887</td>\n",
       "      <td>2019-08-15</td>\n",
       "      <td>2308</td>\n",
       "      <td>B</td>\n",
       "    </tr>\n",
       "    <tr>\n",
       "      <th>...</th>\n",
       "      <td>...</td>\n",
       "      <td>...</td>\n",
       "      <td>...</td>\n",
       "      <td>...</td>\n",
       "      <td>...</td>\n",
       "    </tr>\n",
       "    <tr>\n",
       "      <th>1192</th>\n",
       "      <td>2662137336</td>\n",
       "      <td>3733762160</td>\n",
       "      <td>2019-08-14</td>\n",
       "      <td>6490</td>\n",
       "      <td>B</td>\n",
       "    </tr>\n",
       "    <tr>\n",
       "      <th>1193</th>\n",
       "      <td>2203539145</td>\n",
       "      <td>370388673</td>\n",
       "      <td>2019-08-14</td>\n",
       "      <td>3190</td>\n",
       "      <td>A</td>\n",
       "    </tr>\n",
       "    <tr>\n",
       "      <th>1194</th>\n",
       "      <td>1807773912</td>\n",
       "      <td>573423106</td>\n",
       "      <td>2019-08-14</td>\n",
       "      <td>10550</td>\n",
       "      <td>A</td>\n",
       "    </tr>\n",
       "    <tr>\n",
       "      <th>1195</th>\n",
       "      <td>1947021204</td>\n",
       "      <td>1614305549</td>\n",
       "      <td>2019-08-14</td>\n",
       "      <td>100</td>\n",
       "      <td>A</td>\n",
       "    </tr>\n",
       "    <tr>\n",
       "      <th>1196</th>\n",
       "      <td>3936777065</td>\n",
       "      <td>2108080724</td>\n",
       "      <td>2019-08-15</td>\n",
       "      <td>202740</td>\n",
       "      <td>B</td>\n",
       "    </tr>\n",
       "  </tbody>\n",
       "</table>\n",
       "<p>1197 rows × 5 columns</p>\n",
       "</div>"
      ],
      "text/plain": [
       "      transactionId   visitorId        date  revenue group\n",
       "0        3667963787  3312258926  2019-08-15     1650     B\n",
       "1        2804400009  3642806036  2019-08-15      730     B\n",
       "2        2961555356  4069496402  2019-08-15      400     A\n",
       "3        3797467345  1196621759  2019-08-15     9759     B\n",
       "4        2282983706  2322279887  2019-08-15     2308     B\n",
       "...             ...         ...         ...      ...   ...\n",
       "1192     2662137336  3733762160  2019-08-14     6490     B\n",
       "1193     2203539145   370388673  2019-08-14     3190     A\n",
       "1194     1807773912   573423106  2019-08-14    10550     A\n",
       "1195     1947021204  1614305549  2019-08-14      100     A\n",
       "1196     3936777065  2108080724  2019-08-15   202740     B\n",
       "\n",
       "[1197 rows x 5 columns]"
      ]
     },
     "execution_count": 8,
     "metadata": {},
     "output_type": "execute_result"
    }
   ],
   "source": [
    "orders"
   ]
  },
  {
   "cell_type": "code",
   "execution_count": 9,
   "id": "e85ef872",
   "metadata": {},
   "outputs": [
    {
     "name": "stdout",
     "output_type": "stream",
     "text": [
      "<class 'pandas.core.frame.DataFrame'>\n",
      "RangeIndex: 1197 entries, 0 to 1196\n",
      "Data columns (total 5 columns):\n",
      " #   Column         Non-Null Count  Dtype \n",
      "---  ------         --------------  ----- \n",
      " 0   transactionId  1197 non-null   int64 \n",
      " 1   visitorId      1197 non-null   int64 \n",
      " 2   date           1197 non-null   object\n",
      " 3   revenue        1197 non-null   int64 \n",
      " 4   group          1197 non-null   object\n",
      "dtypes: int64(3), object(2)\n",
      "memory usage: 46.9+ KB\n"
     ]
    }
   ],
   "source": [
    "orders.info()"
   ]
  },
  {
   "cell_type": "code",
   "execution_count": 10,
   "id": "eba6d6b0",
   "metadata": {},
   "outputs": [
    {
     "data": {
      "text/html": [
       "<div>\n",
       "<style scoped>\n",
       "    .dataframe tbody tr th:only-of-type {\n",
       "        vertical-align: middle;\n",
       "    }\n",
       "\n",
       "    .dataframe tbody tr th {\n",
       "        vertical-align: top;\n",
       "    }\n",
       "\n",
       "    .dataframe thead th {\n",
       "        text-align: right;\n",
       "    }\n",
       "</style>\n",
       "<table border=\"1\" class=\"dataframe\">\n",
       "  <thead>\n",
       "    <tr style=\"text-align: right;\">\n",
       "      <th></th>\n",
       "      <th>transaction_id</th>\n",
       "      <th>visitor_id</th>\n",
       "      <th>date</th>\n",
       "      <th>revenue</th>\n",
       "      <th>group</th>\n",
       "    </tr>\n",
       "  </thead>\n",
       "  <tbody>\n",
       "    <tr>\n",
       "      <th>0</th>\n",
       "      <td>3667963787</td>\n",
       "      <td>3312258926</td>\n",
       "      <td>2019-08-15</td>\n",
       "      <td>1650</td>\n",
       "      <td>B</td>\n",
       "    </tr>\n",
       "    <tr>\n",
       "      <th>1</th>\n",
       "      <td>2804400009</td>\n",
       "      <td>3642806036</td>\n",
       "      <td>2019-08-15</td>\n",
       "      <td>730</td>\n",
       "      <td>B</td>\n",
       "    </tr>\n",
       "    <tr>\n",
       "      <th>2</th>\n",
       "      <td>2961555356</td>\n",
       "      <td>4069496402</td>\n",
       "      <td>2019-08-15</td>\n",
       "      <td>400</td>\n",
       "      <td>A</td>\n",
       "    </tr>\n",
       "    <tr>\n",
       "      <th>3</th>\n",
       "      <td>3797467345</td>\n",
       "      <td>1196621759</td>\n",
       "      <td>2019-08-15</td>\n",
       "      <td>9759</td>\n",
       "      <td>B</td>\n",
       "    </tr>\n",
       "    <tr>\n",
       "      <th>4</th>\n",
       "      <td>2282983706</td>\n",
       "      <td>2322279887</td>\n",
       "      <td>2019-08-15</td>\n",
       "      <td>2308</td>\n",
       "      <td>B</td>\n",
       "    </tr>\n",
       "  </tbody>\n",
       "</table>\n",
       "</div>"
      ],
      "text/plain": [
       "   transaction_id  visitor_id        date  revenue group\n",
       "0      3667963787  3312258926  2019-08-15     1650     B\n",
       "1      2804400009  3642806036  2019-08-15      730     B\n",
       "2      2961555356  4069496402  2019-08-15      400     A\n",
       "3      3797467345  1196621759  2019-08-15     9759     B\n",
       "4      2282983706  2322279887  2019-08-15     2308     B"
      ]
     },
     "execution_count": 10,
     "metadata": {},
     "output_type": "execute_result"
    }
   ],
   "source": [
    "#для удобства приведем названия столбцов к \"змеиному\" регистру.\n",
    "orders.columns = ['transaction_id', 'visitor_id', 'date', 'revenue', 'group'] \n",
    "orders.head(5)"
   ]
  },
  {
   "cell_type": "code",
   "execution_count": 11,
   "id": "06e656d1",
   "metadata": {},
   "outputs": [],
   "source": [
    "#приведём столбец date к типу datetime\n",
    "orders['date'] = pd.to_datetime(orders['date'])"
   ]
  },
  {
   "cell_type": "code",
   "execution_count": 12,
   "id": "2f4689ba",
   "metadata": {},
   "outputs": [
    {
     "data": {
      "text/plain": [
       "0"
      ]
     },
     "execution_count": 12,
     "metadata": {},
     "output_type": "execute_result"
    }
   ],
   "source": [
    "#проверим таблицу на наличие дубликатов\n",
    "orders.duplicated().sum()"
   ]
  },
  {
   "cell_type": "code",
   "execution_count": 13,
   "id": "27260fd6",
   "metadata": {},
   "outputs": [
    {
     "name": "stdout",
     "output_type": "stream",
     "text": [
      "8348.005847953216\n",
      "2978.0\n",
      "50\n",
      "1294500\n"
     ]
    }
   ],
   "source": [
    "#посмотрим на среднее, максимальное и минимальное значение в столбце с выручкой.\n",
    "print(orders['revenue'].mean())\n",
    "print(orders['revenue'].median())\n",
    "print(orders['revenue'].min())\n",
    "print(orders['revenue'].max())"
   ]
  },
  {
   "cell_type": "code",
   "execution_count": 14,
   "id": "755a4bd7",
   "metadata": {},
   "outputs": [
    {
     "data": {
      "text/html": [
       "<div>\n",
       "<style scoped>\n",
       "    .dataframe tbody tr th:only-of-type {\n",
       "        vertical-align: middle;\n",
       "    }\n",
       "\n",
       "    .dataframe tbody tr th {\n",
       "        vertical-align: top;\n",
       "    }\n",
       "\n",
       "    .dataframe thead th {\n",
       "        text-align: right;\n",
       "    }\n",
       "</style>\n",
       "<table border=\"1\" class=\"dataframe\">\n",
       "  <thead>\n",
       "    <tr style=\"text-align: right;\">\n",
       "      <th></th>\n",
       "      <th>date</th>\n",
       "      <th>group</th>\n",
       "      <th>visitors</th>\n",
       "    </tr>\n",
       "  </thead>\n",
       "  <tbody>\n",
       "    <tr>\n",
       "      <th>0</th>\n",
       "      <td>2019-08-01</td>\n",
       "      <td>A</td>\n",
       "      <td>719</td>\n",
       "    </tr>\n",
       "    <tr>\n",
       "      <th>1</th>\n",
       "      <td>2019-08-02</td>\n",
       "      <td>A</td>\n",
       "      <td>619</td>\n",
       "    </tr>\n",
       "    <tr>\n",
       "      <th>2</th>\n",
       "      <td>2019-08-03</td>\n",
       "      <td>A</td>\n",
       "      <td>507</td>\n",
       "    </tr>\n",
       "    <tr>\n",
       "      <th>3</th>\n",
       "      <td>2019-08-04</td>\n",
       "      <td>A</td>\n",
       "      <td>717</td>\n",
       "    </tr>\n",
       "    <tr>\n",
       "      <th>4</th>\n",
       "      <td>2019-08-05</td>\n",
       "      <td>A</td>\n",
       "      <td>756</td>\n",
       "    </tr>\n",
       "    <tr>\n",
       "      <th>...</th>\n",
       "      <td>...</td>\n",
       "      <td>...</td>\n",
       "      <td>...</td>\n",
       "    </tr>\n",
       "    <tr>\n",
       "      <th>57</th>\n",
       "      <td>2019-08-27</td>\n",
       "      <td>B</td>\n",
       "      <td>720</td>\n",
       "    </tr>\n",
       "    <tr>\n",
       "      <th>58</th>\n",
       "      <td>2019-08-28</td>\n",
       "      <td>B</td>\n",
       "      <td>654</td>\n",
       "    </tr>\n",
       "    <tr>\n",
       "      <th>59</th>\n",
       "      <td>2019-08-29</td>\n",
       "      <td>B</td>\n",
       "      <td>531</td>\n",
       "    </tr>\n",
       "    <tr>\n",
       "      <th>60</th>\n",
       "      <td>2019-08-30</td>\n",
       "      <td>B</td>\n",
       "      <td>490</td>\n",
       "    </tr>\n",
       "    <tr>\n",
       "      <th>61</th>\n",
       "      <td>2019-08-31</td>\n",
       "      <td>B</td>\n",
       "      <td>718</td>\n",
       "    </tr>\n",
       "  </tbody>\n",
       "</table>\n",
       "<p>62 rows × 3 columns</p>\n",
       "</div>"
      ],
      "text/plain": [
       "          date group  visitors\n",
       "0   2019-08-01     A       719\n",
       "1   2019-08-02     A       619\n",
       "2   2019-08-03     A       507\n",
       "3   2019-08-04     A       717\n",
       "4   2019-08-05     A       756\n",
       "..         ...   ...       ...\n",
       "57  2019-08-27     B       720\n",
       "58  2019-08-28     B       654\n",
       "59  2019-08-29     B       531\n",
       "60  2019-08-30     B       490\n",
       "61  2019-08-31     B       718\n",
       "\n",
       "[62 rows x 3 columns]"
      ]
     },
     "execution_count": 14,
     "metadata": {},
     "output_type": "execute_result"
    }
   ],
   "source": [
    "visitors"
   ]
  },
  {
   "cell_type": "code",
   "execution_count": 15,
   "id": "10c5d953",
   "metadata": {},
   "outputs": [
    {
     "name": "stdout",
     "output_type": "stream",
     "text": [
      "<class 'pandas.core.frame.DataFrame'>\n",
      "RangeIndex: 62 entries, 0 to 61\n",
      "Data columns (total 3 columns):\n",
      " #   Column    Non-Null Count  Dtype \n",
      "---  ------    --------------  ----- \n",
      " 0   date      62 non-null     object\n",
      " 1   group     62 non-null     object\n",
      " 2   visitors  62 non-null     int64 \n",
      "dtypes: int64(1), object(2)\n",
      "memory usage: 1.6+ KB\n"
     ]
    }
   ],
   "source": [
    "visitors.info()"
   ]
  },
  {
   "cell_type": "code",
   "execution_count": 16,
   "id": "e61b5770",
   "metadata": {},
   "outputs": [],
   "source": [
    "#приведём столбец date к типу datetime\n",
    "visitors['date'] = pd.to_datetime(visitors['date'])"
   ]
  },
  {
   "cell_type": "code",
   "execution_count": 17,
   "id": "ce05acf3",
   "metadata": {},
   "outputs": [
    {
     "data": {
      "text/plain": [
       "0"
      ]
     },
     "execution_count": 17,
     "metadata": {},
     "output_type": "execute_result"
    }
   ],
   "source": [
    "#проверим таблицу на наличие дубликатов\n",
    "visitors.duplicated().sum()"
   ]
  },
  {
   "cell_type": "code",
   "execution_count": 18,
   "id": "3d2916f0",
   "metadata": {},
   "outputs": [
    {
     "data": {
      "text/html": [
       "<div>\n",
       "<style scoped>\n",
       "    .dataframe tbody tr th:only-of-type {\n",
       "        vertical-align: middle;\n",
       "    }\n",
       "\n",
       "    .dataframe tbody tr th {\n",
       "        vertical-align: top;\n",
       "    }\n",
       "\n",
       "    .dataframe thead th {\n",
       "        text-align: right;\n",
       "    }\n",
       "</style>\n",
       "<table border=\"1\" class=\"dataframe\">\n",
       "  <thead>\n",
       "    <tr style=\"text-align: right;\">\n",
       "      <th></th>\n",
       "      <th>visitors</th>\n",
       "    </tr>\n",
       "  </thead>\n",
       "  <tbody>\n",
       "    <tr>\n",
       "      <th>count</th>\n",
       "      <td>62.000000</td>\n",
       "    </tr>\n",
       "    <tr>\n",
       "      <th>mean</th>\n",
       "      <td>607.290323</td>\n",
       "    </tr>\n",
       "    <tr>\n",
       "      <th>std</th>\n",
       "      <td>114.400560</td>\n",
       "    </tr>\n",
       "    <tr>\n",
       "      <th>min</th>\n",
       "      <td>361.000000</td>\n",
       "    </tr>\n",
       "    <tr>\n",
       "      <th>25%</th>\n",
       "      <td>534.000000</td>\n",
       "    </tr>\n",
       "    <tr>\n",
       "      <th>50%</th>\n",
       "      <td>624.500000</td>\n",
       "    </tr>\n",
       "    <tr>\n",
       "      <th>75%</th>\n",
       "      <td>710.500000</td>\n",
       "    </tr>\n",
       "    <tr>\n",
       "      <th>max</th>\n",
       "      <td>770.000000</td>\n",
       "    </tr>\n",
       "  </tbody>\n",
       "</table>\n",
       "</div>"
      ],
      "text/plain": [
       "         visitors\n",
       "count   62.000000\n",
       "mean   607.290323\n",
       "std    114.400560\n",
       "min    361.000000\n",
       "25%    534.000000\n",
       "50%    624.500000\n",
       "75%    710.500000\n",
       "max    770.000000"
      ]
     },
     "execution_count": 18,
     "metadata": {},
     "output_type": "execute_result"
    }
   ],
   "source": [
    "visitors.describe()"
   ]
  },
  {
   "cell_type": "code",
   "execution_count": 19,
   "id": "1709b96b",
   "metadata": {},
   "outputs": [
    {
     "name": "stdout",
     "output_type": "stream",
     "text": [
      "31\n",
      "2019-08-01 00:00:00\n",
      "2019-08-31 00:00:00\n",
      "31\n",
      "2019-08-01 00:00:00\n",
      "2019-08-31 00:00:00\n"
     ]
    }
   ],
   "source": [
    "#проверим совпадают ли даты между таблицами\n",
    "print(orders['date'].nunique())\n",
    "print(orders['date'].min())\n",
    "print(orders['date'].max())\n",
    "\n",
    "print(visitors['date'].nunique())\n",
    "print(visitors['date'].min())\n",
    "print(visitors['date'].max())"
   ]
  },
  {
   "cell_type": "code",
   "execution_count": 20,
   "id": "68408124",
   "metadata": {},
   "outputs": [
    {
     "name": "stdout",
     "output_type": "stream",
     "text": [
      "Пользователи A: 18736\n",
      "Пользователи В: 18916\n"
     ]
    }
   ],
   "source": [
    "#проверим распределение между группами А и В\n",
    "a_users = visitors[visitors['group']=='A']['visitors'].sum()\n",
    "b_users = visitors[visitors['group']=='B']['visitors'].sum()\n",
    "print('Пользователи A:',a_users)\n",
    "print('Пользователи В:', b_users)"
   ]
  },
  {
   "cell_type": "code",
   "execution_count": 21,
   "id": "faa7f52d",
   "metadata": {},
   "outputs": [
    {
     "name": "stdout",
     "output_type": "stream",
     "text": [
      "Пользователи A: 503\n",
      "Пользователи В: 586\n"
     ]
    }
   ],
   "source": [
    "a_users = orders[orders['group']=='A']['visitor_id'].nunique()\n",
    "b_users = orders[orders['group']=='B']['visitor_id'].nunique()\n",
    "print('Пользователи A:',a_users)\n",
    "print('Пользователи В:', b_users)"
   ]
  },
  {
   "cell_type": "code",
   "execution_count": 22,
   "id": "1c413061",
   "metadata": {},
   "outputs": [
    {
     "data": {
      "text/plain": [
       "58"
      ]
     },
     "execution_count": 22,
     "metadata": {},
     "output_type": "execute_result"
    }
   ],
   "source": [
    "#проверим если пользователи которые опали сразу в обе группы\n",
    "ab_users = orders.groupby('visitor_id').agg({'group':'nunique'})\n",
    "ab_users = ab_users.query('group > 1')\n",
    "ab_users['group'].count()"
   ]
  },
  {
   "cell_type": "code",
   "execution_count": 23,
   "id": "f4ea3546",
   "metadata": {},
   "outputs": [
    {
     "name": "stdout",
     "output_type": "stream",
     "text": [
      "      visitor_id  group\n",
      "0        5114589      1\n",
      "1        6958315      1\n",
      "3       11685486      1\n",
      "4       39475350      1\n",
      "5       47206413      1\n",
      "...          ...    ...\n",
      "1025  4259830713      1\n",
      "1027  4278982564      1\n",
      "1028  4279090005      1\n",
      "1029  4281247801      1\n",
      "1030  4283872382      1\n",
      "\n",
      "[973 rows x 2 columns]\n"
     ]
    }
   ],
   "source": [
    "#есть, но их количество не большое, по этому смело их удаляем\n",
    "# Находим покупателей которые находятся в обеих тестируемых группах\n",
    "ab_users = (\n",
    "    orders.groupby('visitor_id', as_index=False) # убираем индексы, а то поучается pd.Series\n",
    "    .agg({'group':'nunique'})                   # посчитали\n",
    "    .rename(columns={'nunique':'group'}))       # переименовали\n",
    "\n",
    "# здесь пользователи которые только в одной группе, убрали всех пользователей которые приносили нам погрешности\n",
    "ab_users_cl = ab_users.query('group == 1') \n",
    "print(ab_users_cl)"
   ]
  },
  {
   "cell_type": "code",
   "execution_count": 24,
   "id": "e5f6c6b8",
   "metadata": {},
   "outputs": [
    {
     "data": {
      "text/html": [
       "<div>\n",
       "<style scoped>\n",
       "    .dataframe tbody tr th:only-of-type {\n",
       "        vertical-align: middle;\n",
       "    }\n",
       "\n",
       "    .dataframe tbody tr th {\n",
       "        vertical-align: top;\n",
       "    }\n",
       "\n",
       "    .dataframe thead th {\n",
       "        text-align: right;\n",
       "    }\n",
       "</style>\n",
       "<table border=\"1\" class=\"dataframe\">\n",
       "  <thead>\n",
       "    <tr style=\"text-align: right;\">\n",
       "      <th></th>\n",
       "      <th>transaction_id</th>\n",
       "      <th>visitor_id</th>\n",
       "      <th>date</th>\n",
       "      <th>revenue</th>\n",
       "      <th>group_x</th>\n",
       "      <th>group_y</th>\n",
       "    </tr>\n",
       "  </thead>\n",
       "  <tbody>\n",
       "    <tr>\n",
       "      <th>0</th>\n",
       "      <td>900025958</td>\n",
       "      <td>5114589</td>\n",
       "      <td>2019-08-16</td>\n",
       "      <td>570</td>\n",
       "      <td>B</td>\n",
       "      <td>1</td>\n",
       "    </tr>\n",
       "    <tr>\n",
       "      <th>1</th>\n",
       "      <td>1887336629</td>\n",
       "      <td>6958315</td>\n",
       "      <td>2019-08-04</td>\n",
       "      <td>1490</td>\n",
       "      <td>B</td>\n",
       "      <td>1</td>\n",
       "    </tr>\n",
       "    <tr>\n",
       "      <th>2</th>\n",
       "      <td>3679129301</td>\n",
       "      <td>8300375</td>\n",
       "      <td>2019-08-01</td>\n",
       "      <td>10510</td>\n",
       "      <td>B</td>\n",
       "      <td>2</td>\n",
       "    </tr>\n",
       "    <tr>\n",
       "      <th>3</th>\n",
       "      <td>4293855558</td>\n",
       "      <td>8300375</td>\n",
       "      <td>2019-08-07</td>\n",
       "      <td>1790</td>\n",
       "      <td>A</td>\n",
       "      <td>2</td>\n",
       "    </tr>\n",
       "    <tr>\n",
       "      <th>4</th>\n",
       "      <td>797272237</td>\n",
       "      <td>11685486</td>\n",
       "      <td>2019-08-23</td>\n",
       "      <td>6201</td>\n",
       "      <td>A</td>\n",
       "      <td>1</td>\n",
       "    </tr>\n",
       "    <tr>\n",
       "      <th>...</th>\n",
       "      <td>...</td>\n",
       "      <td>...</td>\n",
       "      <td>...</td>\n",
       "      <td>...</td>\n",
       "      <td>...</td>\n",
       "      <td>...</td>\n",
       "    </tr>\n",
       "    <tr>\n",
       "      <th>1192</th>\n",
       "      <td>1216533772</td>\n",
       "      <td>4266935830</td>\n",
       "      <td>2019-08-29</td>\n",
       "      <td>78990</td>\n",
       "      <td>B</td>\n",
       "      <td>2</td>\n",
       "    </tr>\n",
       "    <tr>\n",
       "      <th>1193</th>\n",
       "      <td>51443164</td>\n",
       "      <td>4278982564</td>\n",
       "      <td>2019-08-05</td>\n",
       "      <td>24744</td>\n",
       "      <td>A</td>\n",
       "      <td>1</td>\n",
       "    </tr>\n",
       "    <tr>\n",
       "      <th>1194</th>\n",
       "      <td>2724331495</td>\n",
       "      <td>4279090005</td>\n",
       "      <td>2019-08-04</td>\n",
       "      <td>6716</td>\n",
       "      <td>B</td>\n",
       "      <td>1</td>\n",
       "    </tr>\n",
       "    <tr>\n",
       "      <th>1195</th>\n",
       "      <td>3796325351</td>\n",
       "      <td>4281247801</td>\n",
       "      <td>2019-08-25</td>\n",
       "      <td>2640</td>\n",
       "      <td>B</td>\n",
       "      <td>1</td>\n",
       "    </tr>\n",
       "    <tr>\n",
       "      <th>1196</th>\n",
       "      <td>836739159</td>\n",
       "      <td>4283872382</td>\n",
       "      <td>2019-08-22</td>\n",
       "      <td>3806</td>\n",
       "      <td>B</td>\n",
       "      <td>1</td>\n",
       "    </tr>\n",
       "  </tbody>\n",
       "</table>\n",
       "<p>1197 rows × 6 columns</p>\n",
       "</div>"
      ],
      "text/plain": [
       "      transaction_id  visitor_id       date  revenue group_x  group_y\n",
       "0          900025958     5114589 2019-08-16      570       B        1\n",
       "1         1887336629     6958315 2019-08-04     1490       B        1\n",
       "2         3679129301     8300375 2019-08-01    10510       B        2\n",
       "3         4293855558     8300375 2019-08-07     1790       A        2\n",
       "4          797272237    11685486 2019-08-23     6201       A        1\n",
       "...              ...         ...        ...      ...     ...      ...\n",
       "1192      1216533772  4266935830 2019-08-29    78990       B        2\n",
       "1193        51443164  4278982564 2019-08-05    24744       A        1\n",
       "1194      2724331495  4279090005 2019-08-04     6716       B        1\n",
       "1195      3796325351  4281247801 2019-08-25     2640       B        1\n",
       "1196       836739159  4283872382 2019-08-22     3806       B        1\n",
       "\n",
       "[1197 rows x 6 columns]"
      ]
     },
     "execution_count": 24,
     "metadata": {},
     "output_type": "execute_result"
    }
   ],
   "source": [
    "orders.merge(ab_users, how='right', left_on='visitor_id', right_on='visitor_id')"
   ]
  },
  {
   "cell_type": "markdown",
   "id": "7b863e20",
   "metadata": {},
   "source": [
    "В целом, в данных мало пропусков, группы разденный равнозначно (нет перекоса в кол-ве и дублей)."
   ]
  },
  {
   "cell_type": "markdown",
   "id": "0d95982f",
   "metadata": {},
   "source": [
    "### 2.1 Построение графика кумулятивной выручки по группам."
   ]
  },
  {
   "cell_type": "code",
   "execution_count": 25,
   "id": "d4bb3ae2",
   "metadata": {},
   "outputs": [
    {
     "name": "stdout",
     "output_type": "stream",
     "text": [
      "        date group  orders  buyers  revenue  visitors\n",
      "0 2019-08-01     A      24      20   148579       719\n",
      "1 2019-08-01     B      21      20   101217       713\n",
      "2 2019-08-02     A      44      38   242401      1338\n",
      "3 2019-08-02     B      45      43   266748      1294\n",
      "4 2019-08-03     A      68      62   354874      1845\n"
     ]
    }
   ],
   "source": [
    "datesGroups = orders[['date','group']].drop_duplicates()\n",
    "\n",
    "ordersAggregated = datesGroups.apply(\n",
    "    lambda x: orders[np.logical_and(orders['date'] <= x['date'], orders['group'] == x['group'])].agg({\n",
    "'date' : 'max',\n",
    "'group' : 'max',\n",
    "'transaction_id' : pd.Series.nunique,\n",
    "'visitor_id' : pd.Series.nunique,\n",
    "'revenue' : 'sum'}), axis=1).sort_values(by=['date','group']) \n",
    "\n",
    "\n",
    "visitorsAggregated = datesGroups.apply(lambda x: visitors[np.logical_and(visitors['date'] <= x['date'], visitors['group'] == x['group'])].agg({'date' : 'max', 'group' : 'max', 'visitors' : 'sum'}), axis=1).sort_values(by=['date','group'])\n",
    "\n",
    "cumulativeData = ordersAggregated.merge(visitorsAggregated, left_on=['date', 'group'], right_on=['date', 'group'])\n",
    "\n",
    "cumulativeData.columns = ['date', 'group', 'orders', 'buyers', 'revenue', 'visitors']\n",
    "\n",
    "print(cumulativeData.head(5))"
   ]
  },
  {
   "cell_type": "code",
   "execution_count": 26,
   "id": "640ec89d",
   "metadata": {},
   "outputs": [
    {
     "data": {
      "image/png": "[encoded data removed]",
      "text/plain": [
       "<Figure size 864x360 with 1 Axes>"
      ]
     },
     "metadata": {
      "needs_background": "light"
     },
     "output_type": "display_data"
    }
   ],
   "source": [
    "cumulativeRevenueA = cumulativeData[cumulativeData['group']=='A'][['date','revenue', 'orders']]\n",
    "cumulativeRevenueB = cumulativeData[cumulativeData['group']=='B'][['date','revenue', 'orders']]\n",
    "\n",
    "plt.figure(figsize=(12,5))\n",
    "plt.plot(cumulativeRevenueA['date'], cumulativeRevenueA['revenue'], label='A')\n",
    "plt.plot(cumulativeRevenueB['date'], cumulativeRevenueB['revenue'], label='B')\n",
    "plt.xlabel('Дата')\n",
    "plt.ylabel('Выручка')\n",
    "plt.title('График кумулятивной выручки по дням') \n",
    "plt.legend() \n",
    "plt.show()"
   ]
  },
  {
   "cell_type": "markdown",
   "id": "a0853d1f",
   "metadata": {},
   "source": [
    "Вывод:\n",
    "- Выручка в группе В, начала ледировать с 5-08\n",
    "- С 18-08 в группе  В резкий скачек выручки( на лицо аномально большой заказ)"
   ]
  },
  {
   "cell_type": "markdown",
   "id": "39d9de29",
   "metadata": {},
   "source": [
    "### 2.2 Построение графика кумулятивного среднего чека по группам."
   ]
  },
  {
   "cell_type": "code",
   "execution_count": 27,
   "id": "e0c0194f",
   "metadata": {},
   "outputs": [
    {
     "data": {
      "image/png": "[encoded data removed]",
      "text/plain": [
       "<Figure size 864x360 with 1 Axes>"
      ]
     },
     "metadata": {
      "needs_background": "light"
     },
     "output_type": "display_data"
    }
   ],
   "source": [
    "plt.figure(figsize=(12,5))\n",
    "plt.plot(cumulativeRevenueA['date'], cumulativeRevenueA['revenue']/cumulativeRevenueA['orders'], label='A')\n",
    "plt.plot(cumulativeRevenueB['date'], cumulativeRevenueB['revenue']/cumulativeRevenueB['orders'], label='B')\n",
    "\n",
    "plt.xlabel('Дата')\n",
    "plt.ylabel('Средний чек')\n",
    "plt.title('График кумулятивного среднего чека по дням') \n",
    "plt.legend() \n",
    "plt.show()"
   ]
  },
  {
   "cell_type": "markdown",
   "id": "10b3d45b",
   "metadata": {},
   "source": [
    "Вывод:\n",
    "- Видим схожее движение графиков, так же 18-08 аномально большой заказ в 10000.\n",
    "- График А, движеться стабильно без всплесков"
   ]
  },
  {
   "cell_type": "markdown",
   "id": "476cdbfe",
   "metadata": {},
   "source": [
    "### 2.3 Построение графика относительного изменения кумулятивного среднего чека группы B к группе A"
   ]
  },
  {
   "cell_type": "code",
   "execution_count": 28,
   "id": "d0f602cc",
   "metadata": {},
   "outputs": [
    {
     "data": {
      "image/png": "[encoded data removed]",
      "text/plain": [
       "<Figure size 864x360 with 1 Axes>"
      ]
     },
     "metadata": {
      "needs_background": "light"
     },
     "output_type": "display_data"
    }
   ],
   "source": [
    "mergedCumulativeRevenue = cumulativeRevenueA.merge(cumulativeRevenueB, left_on='date', right_on='date', how='left', suffixes=['A', 'B'])\n",
    "plt.figure(figsize=(12,5))\n",
    "plt.plot(mergedCumulativeRevenue['date'], (mergedCumulativeRevenue['revenueB']/mergedCumulativeRevenue['ordersB'])/(mergedCumulativeRevenue['revenueA']/mergedCumulativeRevenue['ordersA'])-1)\n",
    "plt.axhline(y=0, color='black', linestyle='--') \n",
    "plt.xlabel('Дата')\n",
    "plt.ylabel('Относительное изменение')\n",
    "plt.title('График относительного изменения кумулятивного среднего чека группы B к группе A') \n",
    "plt.show()"
   ]
  },
  {
   "cell_type": "markdown",
   "id": "8a22b214",
   "metadata": {},
   "source": [
    "Вывод :\n",
    "Здесь мы видим относительные различия кумулятивного среднего чека группы B к группе A. Средний чек В сначала рос, в районе 7 августа начал падать, после 13 августа стал расти, и снова виден скачок 18-19 августа. Резкие взлёты и падения могут быть связаны с выбросами - экстремально дорогими или дешевыми заказами"
   ]
  },
  {
   "cell_type": "markdown",
   "id": "27a564bc",
   "metadata": {},
   "source": [
    "### 2.4 Построение графика кумулятивной конверсии по группам"
   ]
  },
  {
   "cell_type": "code",
   "execution_count": 29,
   "id": "4f3c83e0",
   "metadata": {},
   "outputs": [
    {
     "data": {
      "image/png": "[encoded data removed]",
      "text/plain": [
       "<Figure size 864x360 with 1 Axes>"
      ]
     },
     "metadata": {
      "needs_background": "light"
     },
     "output_type": "display_data"
    }
   ],
   "source": [
    "cumulativeData['conversion'] = cumulativeData['orders']/cumulativeData['visitors']\n",
    "cumulativeDataA = cumulativeData[cumulativeData['group']=='A']\n",
    "cumulativeDataB = cumulativeData[cumulativeData['group']=='B']\n",
    "plt.figure(figsize=(12,5))\n",
    "plt.plot(cumulativeDataA['date'], cumulativeDataA['conversion'], label='A')\n",
    "plt.plot(cumulativeDataB['date'], cumulativeDataB['conversion'], label='B')\n",
    "plt.legend()\n",
    "plt.xlabel('Дата')\n",
    "plt.ylabel('Конверсия')\n",
    "plt.title('График кумулятивной конверсии по группам') \n",
    "# задаем масштаб осей\n",
    "plt.axis([datetime(2019, 8, 1), datetime(2019, 9, 1), 0.025, 0.04])\n",
    "plt.show()"
   ]
  },
  {
   "cell_type": "markdown",
   "id": "0a99167b",
   "metadata": {},
   "source": [
    "Вывод:\n",
    "Движение графиков стабилизируется после 13 августа, к этому времени данные набрали достаточное количество пользователей.\n",
    "\n",
    "В целом активность пользоватлей Группы В, высше и приростает с 6-7 августа"
   ]
  },
  {
   "cell_type": "markdown",
   "id": "3997c6b0",
   "metadata": {},
   "source": [
    "### 2.5 Построение графика относительного изменения кумулятивной конверсии группы B к группе A"
   ]
  },
  {
   "cell_type": "code",
   "execution_count": 30,
   "id": "1cb826fc",
   "metadata": {},
   "outputs": [
    {
     "data": {
      "image/png": "[encoded data removed]",
      "text/plain": [
       "<Figure size 864x360 with 1 Axes>"
      ]
     },
     "metadata": {
      "needs_background": "light"
     },
     "output_type": "display_data"
    }
   ],
   "source": [
    "cumulativeData['conversion'] = (\n",
    "    cumulativeData['orders'] / cumulativeData['visitors']\n",
    ")\n",
    "\n",
    "cumulativeDataA = cumulativeData[cumulativeData['group'] == 'A']\n",
    "cumulativeDataB = cumulativeData[cumulativeData['group'] == 'B']\n",
    "\n",
    "mergedCumulativeConversions = cumulativeDataA[['date','conversion']].merge(cumulativeDataB[['date','conversion']], left_on='date', right_on='date', how='left', suffixes=['A', 'B'])\n",
    "plt.figure(figsize=(12,5))\n",
    "plt.plot(mergedCumulativeConversions['date'], mergedCumulativeConversions['conversionB']/mergedCumulativeConversions['conversionA']-1, label=\"Относительный прирост конверсии группы B относительно группы A\")\n",
    "plt.legend()\n",
    "plt.xlabel('Дата')\n",
    "plt.ylabel('Относительное изменение')\n",
    "plt.title('График относительного изменения кумулятивной конверсии группы B к группе A')\n",
    "plt.axhline(y=0, color='black', linestyle='--')\n",
    "plt.axhline(y=0.2, color='grey', linestyle='--')\n",
    "plt.axis([datetime(2019, 8, 1), datetime(2019, 9, 1), -0.4, 0.4])\n",
    "plt.show()"
   ]
  },
  {
   "cell_type": "markdown",
   "id": "4bdd15f6",
   "metadata": {},
   "source": [
    "Вывод:\n",
    "В начале месяца конверсия группы В была ниже, чем А, после 6 августа стабильно была выше конверсии группы А максимум на 20%, в среднем на 10-15%."
   ]
  },
  {
   "cell_type": "markdown",
   "id": "a317e681",
   "metadata": {},
   "source": [
    "### 2.6 Постройте точечный график количества заказов по пользователям"
   ]
  },
  {
   "cell_type": "code",
   "execution_count": 31,
   "id": "2405be56",
   "metadata": {},
   "outputs": [
    {
     "name": "stdout",
     "output_type": "stream",
     "text": [
      "      visitor_id  orders\n",
      "1023  4256040402      11\n",
      "591   2458001652      11\n",
      "569   2378935119       9\n",
      "487   2038680547       8\n",
      "44     199603092       5\n",
      "744   3062433592       5\n",
      "55     237748145       5\n",
      "917   3803269165       5\n",
      "299   1230306981       5\n",
      "897   3717692402       5\n"
     ]
    },
    {
     "data": {
      "image/png": "[encoded data removed]",
      "text/plain": [
       "<Figure size 432x288 with 1 Axes>"
      ]
     },
     "metadata": {
      "needs_background": "light"
     },
     "output_type": "display_data"
    }
   ],
   "source": [
    "ordersByUsers = (\n",
    "    orders.groupby('visitor_id', as_index=False)\n",
    "    .agg({'transaction_id': 'nunique'})\n",
    ")\n",
    "ordersByUsers.columns = ['visitor_id', 'orders']\n",
    "\n",
    "print(ordersByUsers.sort_values(by='orders', ascending=False).head(10))\n",
    "plt.hist(ordersByUsers['orders']) \n",
    "plt.xlabel('Количество заказов')\n",
    "plt.ylabel('Количество пользователей')\n",
    "plt.title('Распределение заказов по пользователям')\n",
    "plt.show()"
   ]
  },
  {
   "cell_type": "code",
   "execution_count": 32,
   "id": "bab9aafe",
   "metadata": {},
   "outputs": [
    {
     "data": {
      "image/png": "[encoded data removed]",
      "text/plain": [
       "<Figure size 432x288 with 1 Axes>"
      ]
     },
     "metadata": {
      "needs_background": "light"
     },
     "output_type": "display_data"
    }
   ],
   "source": [
    "x_values = pd.Series(range(0, len(ordersByUsers)))\n",
    "plt.scatter(x_values, ordersByUsers['orders']) \n",
    "plt.ylabel('Количество заказов')\n",
    "plt.xlabel('Пользователи')\n",
    "plt.title('Распределение заказов по пользователям')\n",
    "plt.show()\n"
   ]
  },
  {
   "cell_type": "markdown",
   "id": "61dc1254",
   "metadata": {},
   "source": [
    "Вывод:\n",
    "Из граффиков видно, что стандартными являються до 2 заказов на пользователя. Аномальные всплески больше 8 заказов нарушают граффик"
   ]
  },
  {
   "cell_type": "markdown",
   "id": "fb018fd2",
   "metadata": {},
   "source": [
    "### 2.7 Посчитайте 95-й и 99-й перцентили количества заказов на пользователя. Выберите границу для определения аномальных пользователей."
   ]
  },
  {
   "cell_type": "code",
   "execution_count": 33,
   "id": "984d8953",
   "metadata": {},
   "outputs": [
    {
     "data": {
      "text/plain": [
       "array([1., 2., 4.])"
      ]
     },
     "execution_count": 33,
     "metadata": {},
     "output_type": "execute_result"
    }
   ],
   "source": [
    "np.percentile(ordersByUsers['orders'], [90, 95, 99])"
   ]
  },
  {
   "cell_type": "markdown",
   "id": "75582653",
   "metadata": {},
   "source": [
    "Вывод: Расчет пенцентиля подтверждает граффик, в норме до 5% отклонения пользователи освершают 2 заказа"
   ]
  },
  {
   "cell_type": "markdown",
   "id": "0241d0f9",
   "metadata": {},
   "source": [
    "### 2.8 Постройте точечный график стоимостей заказов"
   ]
  },
  {
   "cell_type": "code",
   "execution_count": 34,
   "id": "b8edff39",
   "metadata": {},
   "outputs": [
    {
     "data": {
      "image/png": "[encoded data removed]",
      "text/plain": [
       "<Figure size 1080x360 with 2 Axes>"
      ]
     },
     "metadata": {
      "needs_background": "light"
     },
     "output_type": "display_data"
    }
   ],
   "source": [
    "x_values = pd.Series(range(0,len(orders['revenue'])))\n",
    "plt.figure(figsize=(15,5)) \n",
    "plt.title('Точечный график стоимости заказов')\n",
    "plt.subplot(1,2,1)\n",
    "plt.scatter(x_values, orders['revenue'])\n",
    "\n",
    "plt.subplot(1,2,2)\n",
    "plt.scatter(x_values, orders['revenue'])\n",
    "axes = plt.gca()\n",
    "axes.set_ylim([0,100000])\n",
    "plt.suptitle('Точечный график стоимости заказов')\n",
    "plt.show()\n"
   ]
  },
  {
   "cell_type": "markdown",
   "id": "dccace23",
   "metadata": {},
   "source": [
    "Вывод: По графику видно что основные заказы находятся в диапозоне до 20000"
   ]
  },
  {
   "cell_type": "markdown",
   "id": "1d55b1fe",
   "metadata": {},
   "source": [
    "### 2.9 Расчитаем 95 и 99 перцентиль стоимости заказа"
   ]
  },
  {
   "cell_type": "code",
   "execution_count": 35,
   "id": "821daf87",
   "metadata": {},
   "outputs": [
    {
     "data": {
      "text/plain": [
       "array([18168. , 28000. , 58233.2])"
      ]
     },
     "execution_count": 35,
     "metadata": {},
     "output_type": "execute_result"
    }
   ],
   "source": [
    "np.percentile(orders['revenue'], [90, 95, 99])"
   ]
  },
  {
   "cell_type": "markdown",
   "id": "2b508325",
   "metadata": {},
   "source": [
    "Вывод: С погрешностью в 5% все заказы находся до 28000 (более точная цифра)"
   ]
  },
  {
   "cell_type": "markdown",
   "id": "744ada8c",
   "metadata": {},
   "source": [
    "### 2.10 Посчитайте статистическую значимость различий в среднем количестве заказов между группами по «сырым» данным"
   ]
  },
  {
   "cell_type": "code",
   "execution_count": 36,
   "id": "fd1f4e37",
   "metadata": {},
   "outputs": [],
   "source": [
    "import math\n",
    "import scipy.stats as stats"
   ]
  },
  {
   "cell_type": "code",
   "execution_count": 37,
   "id": "2b7b6390",
   "metadata": {},
   "outputs": [],
   "source": [
    "# Подготовим данные к статистическому анализу\n",
    "# Количество пользователей в дату в группе \"A\"\n",
    "visitors_a_daily = (\n",
    "    visitors[visitors['group'] == 'A'][['date', 'visitors']]\n",
    ")\n",
    "visitors_a_daily.columns = [\n",
    "    'date',\n",
    "    'visitors_per_date_a'\n",
    "]\n",
    "\n",
    "# Количество пользователей в дату в группе \"B\"\n",
    "visitors_b_daily = (\n",
    "    visitors[visitors['group'] == 'B'][['date', 'visitors']]\n",
    ")\n",
    "visitors_b_daily.columns = [\n",
    "    'date',\n",
    "    'visitors_per_date_b'\n",
    "]"
   ]
  },
  {
   "cell_type": "code",
   "execution_count": 38,
   "id": "330d5abf",
   "metadata": {},
   "outputs": [],
   "source": [
    "# Совершенные заказы пользователей в группе \"A\",\n",
    "# которые заказывали хотя бы раз\n",
    "orders_by_users_a = (\n",
    "    orders[orders['group'] == 'A']\n",
    "    .groupby('visitor_id', as_index=False)\n",
    "    .agg({'transaction_id': 'nunique'})\n",
    ")\n",
    "orders_by_users_a.columns = ['visitor_id', 'orders']\n",
    "\n",
    "# Совершенные заказы пользователей в группе \"B\",\n",
    "# которые заказывали хотя бы раз\n",
    "orders_by_users_b = (\n",
    "    orders[orders['group'] == 'B']\n",
    "    .groupby('visitor_id', as_index=False)\n",
    "    .agg({'transaction_id': 'nunique'})\n",
    ")\n",
    "orders_by_users_b.columns = ['visitor_id', 'orders']"
   ]
  },
  {
   "cell_type": "code",
   "execution_count": 39,
   "id": "979603c5",
   "metadata": {},
   "outputs": [],
   "source": [
    "# Число заказов пользователей в группе \"A\",\n",
    "# включая пользователей с нулевым числом заказов\n",
    "sampleA = pd.concat(\n",
    "    [orders_by_users_a['orders'],\n",
    "     pd.Series(0, index=np.arange(\n",
    "         visitors_a_daily['visitors_per_date_a'].sum()\n",
    "         - len(orders_by_users_a['orders'])\n",
    "     ), name='orders')], axis=0\n",
    ")\n",
    "\n",
    "# Число заказов пользователей в группе \"B\",\n",
    "# включая пользователей с нулевым числом заказов\n",
    "sampleB = pd.concat(\n",
    "    [orders_by_users_b['orders'],\n",
    "     pd.Series(0, index=np.arange(\n",
    "         visitors_b_daily['visitors_per_date_b'].sum()\n",
    "         - len(orders_by_users_b['orders'])\n",
    "     ), name='orders')], axis=0\n",
    ")"
   ]
  },
  {
   "cell_type": "markdown",
   "id": "824ca8b6",
   "metadata": {},
   "source": [
    "Создадим переменные sampleA и sampleB по количеству заказов в каждой группе. Посчитаем p-value и относительный прирост. Гипотезы: Н0 - Конверсии между группами равны Н1 - Конверсии между группами различаются"
   ]
  },
  {
   "cell_type": "code",
   "execution_count": 40,
   "id": "d263a129",
   "metadata": {},
   "outputs": [
    {
     "name": "stdout",
     "output_type": "stream",
     "text": [
      "P-value: 0.017\n",
      "Относительное различие: 0.138\n"
     ]
    }
   ],
   "source": [
    "# Считаем p-value статистического критерия Манна-Уитни\n",
    "print(\n",
    "    'P-value:',\n",
    "    '{0:.3f}'.format(stats.mannwhitneyu(\n",
    "        sampleA,\n",
    "        sampleB,\n",
    "        alternative='two-sided'\n",
    "    )[1])\n",
    ")\n",
    "\n",
    "# Считаем относительное различие в конверсии между группами\n",
    "print(\n",
    "    'Относительное различие:',\n",
    "    '{0:.3f}'.format(sampleB.mean() / sampleA.mean() - 1)\n",
    ")"
   ]
  },
  {
   "cell_type": "markdown",
   "id": "0c28355f",
   "metadata": {},
   "source": [
    "Вывод:\n",
    "\n",
    "Первое число — p-value = 0.017 меньше 0.03, можно отвергнуть Н0 гипотезу. Конверсия группы В больше на 13,8 %"
   ]
  },
  {
   "cell_type": "markdown",
   "id": "e92acd86",
   "metadata": {},
   "source": [
    "### 2.11 Посчитайте статистическую значимость различий в среднем чеке заказа между группами по «сырым» данным"
   ]
  },
  {
   "cell_type": "markdown",
   "id": "9d3af669",
   "metadata": {},
   "source": [
    "Гипотеза : Н0 - Средний чек между группами равен Н1 - Средний чек между группами различается"
   ]
  },
  {
   "cell_type": "code",
   "execution_count": 41,
   "id": "0817308d",
   "metadata": {},
   "outputs": [
    {
     "name": "stdout",
     "output_type": "stream",
     "text": [
      "p-value: 0.729\n",
      "Относительный прирост группы B к группе A: 0.259\n"
     ]
    }
   ],
   "source": [
    "print('p-value: {0:.3f}'.format(stats.mannwhitneyu(orders[orders['group']=='A']['revenue'], orders[orders['group']=='B']['revenue'])[1]))\n",
    "print('Относительный прирост группы B к группе A: {0:.3f}'.format(orders[orders['group']=='B']['revenue'].mean()/orders[orders['group']=='A']['revenue'].mean()-1)) \n"
   ]
  },
  {
   "cell_type": "markdown",
   "id": "3bc01c8e",
   "metadata": {},
   "source": [
    "Вывод:\n",
    "\n",
    "p-value > 0,05 Н0 гипотезу не можем отклонить, хоть и средний чек в группе В больше на 26%"
   ]
  },
  {
   "cell_type": "markdown",
   "id": "8a03e79e",
   "metadata": {},
   "source": [
    "### 2.12 Посчитайте статистическую значимость различий в среднем количестве заказов между группами по «очищенным» данным"
   ]
  },
  {
   "cell_type": "code",
   "execution_count": 42,
   "id": "09c277b0",
   "metadata": {},
   "outputs": [
    {
     "name": "stdout",
     "output_type": "stream",
     "text": [
      "1099    148427295\n",
      "18      199603092\n",
      "928     204675465\n",
      "23      237748145\n",
      "37      249864742\n",
      "Name: visitor_id, dtype: int64\n"
     ]
    }
   ],
   "source": [
    "# Выставляем границы аномальных заказов по кличеству и сумме по 95%\n",
    "usersWithManyOrders = pd.concat(\n",
    "    [\n",
    "        orders_by_users_a[orders_by_users_a['orders'] > 2]['visitor_id'],\n",
    "        orders_by_users_b[orders_by_users_b['orders'] > 2]['visitor_id'],\n",
    "    ],\n",
    "    axis=0,\n",
    ")\n",
    "usersWithExpensiveOrders = orders[orders['revenue'] > 28000]['visitor_id']\n",
    "abnormal_users = (\n",
    "    pd.concat([usersWithManyOrders, usersWithExpensiveOrders], axis=0)\n",
    "    .drop_duplicates()\n",
    "    .sort_values()\n",
    ")\n",
    "print(abnormal_users.head(5))"
   ]
  },
  {
   "cell_type": "code",
   "execution_count": 43,
   "id": "12b7be67",
   "metadata": {},
   "outputs": [
    {
     "name": "stdout",
     "output_type": "stream",
     "text": [
      "p-value: 0.01304\n",
      "Относительный прирост группы B к группе A: 0.173\n"
     ]
    }
   ],
   "source": [
    "# Н0 - Средний чек между группами равен, Н1 - Средний чек между группами различается\n",
    "sample_a_filtered = pd.concat(\n",
    "    [orders_by_users_a[\n",
    "        np.logical_not(\n",
    "            orders_by_users_a['visitor_id'].isin(abnormal_users)\n",
    "        )\n",
    "    ]['orders'],\n",
    "     pd.Series(0, index=np.arange(\n",
    "         visitors_a_daily['visitors_per_date_a'].sum()\n",
    "         - len(orders_by_users_a['orders'])\n",
    "     ), name='orders')], axis=0\n",
    ")\n",
    "\n",
    "# Число заказов пользователей в группе \"B\",\n",
    "# включая пользователей с нулевым числом заказов,\n",
    "# исключая аномальных пользователей\n",
    "sample_b_filtered = pd.concat(\n",
    "    [orders_by_users_b[\n",
    "        np.logical_not(\n",
    "            orders_by_users_b['visitor_id'].isin(abnormal_users)\n",
    "        )\n",
    "    ]['orders'],\n",
    "     pd.Series(0, index=np.arange(\n",
    "         visitors_b_daily['visitors_per_date_b'].sum()\n",
    "         - len(orders_by_users_b['orders'])\n",
    "     ), name='orders')], axis=0\n",
    ")\n",
    "\n",
    "print('p-value: {0:.5f}'.format(stats.mannwhitneyu(sample_a_filtered, sample_b_filtered)[1]))\n",
    "print('Относительный прирост группы B к группе A: {0:.3f}'.format(sample_b_filtered.mean()/sample_a_filtered.mean()-1)) "
   ]
  },
  {
   "cell_type": "markdown",
   "id": "2584642c",
   "metadata": {},
   "source": [
    "Вывод:После удаления выбросов, Н0 гипотезу не можем отклонить p-value < 0,05. Среднее количество заказов по группам одинаково, хоть и группа В показывает прирост на 17,3%"
   ]
  },
  {
   "cell_type": "markdown",
   "id": "bde0a8bc",
   "metadata": {},
   "source": [
    "### 2.13 Посчитайте статистическую значимость различий в среднем чеке заказа между группами по «очищенным» данным"
   ]
  },
  {
   "cell_type": "code",
   "execution_count": 45,
   "id": "0c4d91a4",
   "metadata": {},
   "outputs": [
    {
     "name": "stdout",
     "output_type": "stream",
     "text": [
      "p-value: 0.738\n",
      "Относительный прирост группы B к группе A: -0.020\n"
     ]
    }
   ],
   "source": [
    "# Н0 - разницы в цеках нет, Н1 - разница в среднем чеке есть\n",
    "print(\n",
    "    'p-value: {0:.3f}'.format(\n",
    "        stats.mannwhitneyu(\n",
    "            orders[\n",
    "                np.logical_and(\n",
    "                    orders['group'] == 'A',\n",
    "                    np.logical_not(orders['visitor_id'].isin(abnormal_users)),\n",
    "                )\n",
    "            ]['revenue'],\n",
    "            orders[\n",
    "                np.logical_and(\n",
    "                    orders['group'] == 'B',\n",
    "                    np.logical_not(orders['visitor_id'].isin(abnormal_users)),\n",
    "                )\n",
    "            ]['revenue'],\n",
    "        )[1]\n",
    "    )\n",
    ")\n",
    "\n",
    "print(\n",
    "    \"Относительный прирост группы B к группе A: {0:.3f}\".format(\n",
    "        orders[\n",
    "            np.logical_and(\n",
    "                orders['group'] == 'B',\n",
    "                np.logical_not(orders['visitor_id'].isin(abnormal_users)),\n",
    "            )\n",
    "        ]['revenue'].mean()\n",
    "        / orders[\n",
    "            np.logical_and(\n",
    "                orders['group'] == 'A',\n",
    "                np.logical_not(orders['visitor_id'].isin(abnormal_users)),\n",
    "            )\n",
    "        ]['revenue'].mean()\n",
    "        - 1\n",
    "    )\n",
    ") "
   ]
  },
  {
   "cell_type": "markdown",
   "id": "b9638490",
   "metadata": {},
   "source": [
    "Вывод:\n",
    "Разницы в средних чеках нет! Подтверждаем выводы по \"сырым\" данным, хоть и относительный прирост группы В сильно изменился, после удаления аномалий."
   ]
  },
  {
   "cell_type": "markdown",
   "id": "802a6a58",
   "metadata": {},
   "source": [
    "## Вывод\n"
   ]
  },
  {
   "cell_type": "markdown",
   "id": "2d60c39a",
   "metadata": {},
   "source": [
    "При проведении анализа A/B-теста установлены следующие факты:\n",
    "\n",
    "- Обнаружено статистически значимое различие по конверсии между группами по \"сырым\" и \"очищенным\" данным.\n",
    "- По \"очищенным\" данным относительный прирост конверсии группы \"B\" составил 17,3%.\n",
    "- Нет статистически значимого различия по среднему чеку между группами по \"сырым\" и \"очищенным\" данным.\n",
    "- По \"очищенным\" данным относительное различие в среднем чеке группы \"B\" составило -0,02%.\n",
    "- График различия конверсии между группами показывает установившуюся более высокую конверсию группы \"B\".\n",
    "- График различия среднего чека показывает находится под влиянием выбросов. Можно прогнозировать дальнейшее снижение показателя для группы \"B\". Это обусловлено постепенным снижением влиянием крупного выброса на показатель кумулятивного среднего чека."
   ]
  },
  {
   "cell_type": "markdown",
   "id": "cfb56176",
   "metadata": {},
   "source": [
    "Общий вывод:\n",
    "В результате исследования, можно сделать вывод что при проведение А/В теста, группа В дала значительный прирост по конверсии пользоватлей, что привело к росту количества заказов.\n",
    "\n",
    "Можно рекомендовать В фичу для внедрения. "
   ]
  }
 ],
 "metadata": {
  "ExecuteTimeLog": [
   {
    "duration": 579,
    "start_time": "2022-11-03T08:37:50.289Z"
   },
   {
    "duration": 22,
    "start_time": "2022-11-03T08:37:50.871Z"
   },
   {
    "duration": 12,
    "start_time": "2022-11-03T08:37:50.895Z"
   },
   {
    "duration": 8,
    "start_time": "2022-11-03T08:37:50.909Z"
   },
   {
    "duration": 1196,
    "start_time": "2022-11-03T08:37:50.919Z"
   },
   {
    "duration": 160,
    "start_time": "2022-11-03T08:37:52.117Z"
   },
   {
    "duration": 101,
    "start_time": "2022-11-03T08:37:52.279Z"
   },
   {
    "duration": 14,
    "start_time": "2022-11-03T08:37:52.382Z"
   },
   {
    "duration": 12,
    "start_time": "2022-11-03T08:37:52.399Z"
   },
   {
    "duration": 11,
    "start_time": "2022-11-03T08:37:52.414Z"
   },
   {
    "duration": 10,
    "start_time": "2022-11-03T08:37:52.426Z"
   },
   {
    "duration": 24,
    "start_time": "2022-11-03T08:37:52.439Z"
   },
   {
    "duration": 6,
    "start_time": "2022-11-03T08:37:52.465Z"
   },
   {
    "duration": 11,
    "start_time": "2022-11-03T08:37:52.473Z"
   },
   {
    "duration": 14,
    "start_time": "2022-11-03T08:37:52.487Z"
   },
   {
    "duration": 6,
    "start_time": "2022-11-03T08:37:52.503Z"
   },
   {
    "duration": 33,
    "start_time": "2022-11-03T08:37:52.511Z"
   },
   {
    "duration": 17,
    "start_time": "2022-11-03T08:37:52.546Z"
   },
   {
    "duration": 8,
    "start_time": "2022-11-03T08:37:52.565Z"
   },
   {
    "duration": 6,
    "start_time": "2022-11-03T08:37:52.575Z"
   },
   {
    "duration": 9,
    "start_time": "2022-11-03T08:37:52.583Z"
   },
   {
    "duration": 11,
    "start_time": "2022-11-03T08:37:52.593Z"
   },
   {
    "duration": 47,
    "start_time": "2022-11-03T08:37:52.606Z"
   },
   {
    "duration": 25,
    "start_time": "2022-11-03T08:37:52.656Z"
   },
   {
    "duration": 356,
    "start_time": "2022-11-03T08:37:52.684Z"
   },
   {
    "duration": 336,
    "start_time": "2022-11-03T08:37:53.042Z"
   },
   {
    "duration": 230,
    "start_time": "2022-11-03T08:37:53.380Z"
   },
   {
    "duration": 407,
    "start_time": "2022-11-03T08:37:53.615Z"
   },
   {
    "duration": 245,
    "start_time": "2022-11-03T08:37:54.023Z"
   },
   {
    "duration": 355,
    "start_time": "2022-11-03T08:37:54.270Z"
   },
   {
    "duration": 173,
    "start_time": "2022-11-03T08:37:54.627Z"
   },
   {
    "duration": 238,
    "start_time": "2022-11-03T08:37:54.802Z"
   },
   {
    "duration": 9,
    "start_time": "2022-11-03T08:37:55.042Z"
   },
   {
    "duration": 295,
    "start_time": "2022-11-03T08:37:55.053Z"
   },
   {
    "duration": 7,
    "start_time": "2022-11-03T08:37:55.351Z"
   },
   {
    "duration": 14,
    "start_time": "2022-11-03T08:37:55.360Z"
   },
   {
    "duration": 263,
    "start_time": "2022-11-03T08:37:55.375Z"
   },
   {
    "duration": 157,
    "start_time": "2022-11-03T08:37:55.642Z"
   },
   {
    "duration": 28,
    "start_time": "2022-11-03T08:37:55.801Z"
   },
   {
    "duration": 17,
    "start_time": "2022-11-03T08:37:55.840Z"
   },
   {
    "duration": 13,
    "start_time": "2022-11-03T08:37:55.859Z"
   },
   {
    "duration": 29,
    "start_time": "2022-11-03T08:37:55.874Z"
   },
   {
    "duration": 50,
    "start_time": "2022-11-03T08:37:55.905Z"
   },
   {
    "duration": 51,
    "start_time": "2022-11-03T12:37:30.841Z"
   },
   {
    "duration": 587,
    "start_time": "2022-11-03T12:37:42.611Z"
   },
   {
    "duration": 3,
    "start_time": "2022-11-03T12:37:43.200Z"
   },
   {
    "duration": 28,
    "start_time": "2022-11-03T12:37:43.205Z"
   },
   {
    "duration": 15,
    "start_time": "2022-11-03T12:37:43.236Z"
   },
   {
    "duration": 984,
    "start_time": "2022-11-03T12:37:43.252Z"
   },
   {
    "duration": 124,
    "start_time": "2022-11-03T12:37:44.238Z"
   },
   {
    "duration": 97,
    "start_time": "2022-11-03T12:37:44.364Z"
   },
   {
    "duration": 18,
    "start_time": "2022-11-03T12:37:44.463Z"
   },
   {
    "duration": 30,
    "start_time": "2022-11-03T12:37:44.483Z"
   },
   {
    "duration": 40,
    "start_time": "2022-11-03T12:37:44.517Z"
   },
   {
    "duration": 24,
    "start_time": "2022-11-03T12:37:44.559Z"
   },
   {
    "duration": 25,
    "start_time": "2022-11-03T12:37:44.585Z"
   },
   {
    "duration": 13,
    "start_time": "2022-11-03T12:37:44.612Z"
   },
   {
    "duration": 29,
    "start_time": "2022-11-03T12:37:44.627Z"
   },
   {
    "duration": 26,
    "start_time": "2022-11-03T12:37:44.658Z"
   },
   {
    "duration": 39,
    "start_time": "2022-11-03T12:37:44.686Z"
   },
   {
    "duration": 36,
    "start_time": "2022-11-03T12:37:44.728Z"
   },
   {
    "duration": 23,
    "start_time": "2022-11-03T12:37:44.766Z"
   },
   {
    "duration": 23,
    "start_time": "2022-11-03T12:37:44.791Z"
   },
   {
    "duration": 23,
    "start_time": "2022-11-03T12:37:44.816Z"
   },
   {
    "duration": 32,
    "start_time": "2022-11-03T12:37:44.841Z"
   },
   {
    "duration": 22,
    "start_time": "2022-11-03T12:37:44.875Z"
   },
   {
    "duration": 29,
    "start_time": "2022-11-03T12:37:44.899Z"
   },
   {
    "duration": 46,
    "start_time": "2022-11-03T12:37:44.930Z"
   },
   {
    "duration": 313,
    "start_time": "2022-11-03T12:37:44.978Z"
   },
   {
    "duration": 317,
    "start_time": "2022-11-03T12:37:45.293Z"
   },
   {
    "duration": 234,
    "start_time": "2022-11-03T12:37:45.612Z"
   },
   {
    "duration": 353,
    "start_time": "2022-11-03T12:37:45.850Z"
   },
   {
    "duration": 233,
    "start_time": "2022-11-03T12:37:46.204Z"
   },
   {
    "duration": 342,
    "start_time": "2022-11-03T12:37:46.439Z"
   },
   {
    "duration": 143,
    "start_time": "2022-11-03T12:37:46.783Z"
   },
   {
    "duration": 216,
    "start_time": "2022-11-03T12:37:46.927Z"
   },
   {
    "duration": 6,
    "start_time": "2022-11-03T12:37:47.145Z"
   },
   {
    "duration": 370,
    "start_time": "2022-11-03T12:37:47.153Z"
   },
   {
    "duration": 6,
    "start_time": "2022-11-03T12:37:47.525Z"
   },
   {
    "duration": 19,
    "start_time": "2022-11-03T12:37:47.533Z"
   },
   {
    "duration": 245,
    "start_time": "2022-11-03T12:37:47.554Z"
   },
   {
    "duration": 169,
    "start_time": "2022-11-03T12:37:47.801Z"
   },
   {
    "duration": 29,
    "start_time": "2022-11-03T12:37:47.972Z"
   },
   {
    "duration": 24,
    "start_time": "2022-11-03T12:37:48.003Z"
   },
   {
    "duration": 11,
    "start_time": "2022-11-03T12:37:48.029Z"
   },
   {
    "duration": 31,
    "start_time": "2022-11-03T12:37:48.041Z"
   },
   {
    "duration": 15,
    "start_time": "2022-11-03T12:37:48.074Z"
   },
   {
    "duration": 11,
    "start_time": "2022-11-03T12:40:50.906Z"
   },
   {
    "duration": 482,
    "start_time": "2022-11-04T10:12:11.220Z"
   },
   {
    "duration": 3,
    "start_time": "2022-11-04T10:12:11.703Z"
   },
   {
    "duration": 20,
    "start_time": "2022-11-04T10:12:11.707Z"
   },
   {
    "duration": 8,
    "start_time": "2022-11-04T10:12:11.728Z"
   },
   {
    "duration": 744,
    "start_time": "2022-11-04T10:12:11.738Z"
   },
   {
    "duration": 123,
    "start_time": "2022-11-04T10:12:12.483Z"
   },
   {
    "duration": 120,
    "start_time": "2022-11-04T10:12:12.607Z"
   },
   {
    "duration": 17,
    "start_time": "2022-11-04T10:12:12.729Z"
   },
   {
    "duration": 14,
    "start_time": "2022-11-04T10:12:12.748Z"
   },
   {
    "duration": 22,
    "start_time": "2022-11-04T10:12:12.764Z"
   },
   {
    "duration": 10,
    "start_time": "2022-11-04T10:12:12.793Z"
   },
   {
    "duration": 8,
    "start_time": "2022-11-04T10:12:12.805Z"
   },
   {
    "duration": 12,
    "start_time": "2022-11-04T10:12:12.814Z"
   },
   {
    "duration": 10,
    "start_time": "2022-11-04T10:12:12.827Z"
   },
   {
    "duration": 11,
    "start_time": "2022-11-04T10:12:12.839Z"
   },
   {
    "duration": 6,
    "start_time": "2022-11-04T10:12:12.851Z"
   },
   {
    "duration": 10,
    "start_time": "2022-11-04T10:12:12.858Z"
   },
   {
    "duration": 16,
    "start_time": "2022-11-04T10:12:12.869Z"
   },
   {
    "duration": 13,
    "start_time": "2022-11-04T10:12:12.887Z"
   },
   {
    "duration": 9,
    "start_time": "2022-11-04T10:12:12.902Z"
   },
   {
    "duration": 7,
    "start_time": "2022-11-04T10:12:12.913Z"
   },
   {
    "duration": 9,
    "start_time": "2022-11-04T10:12:12.922Z"
   },
   {
    "duration": 9,
    "start_time": "2022-11-04T10:12:12.933Z"
   },
   {
    "duration": 53,
    "start_time": "2022-11-04T10:12:12.944Z"
   },
   {
    "duration": 294,
    "start_time": "2022-11-04T10:12:12.998Z"
   },
   {
    "duration": 255,
    "start_time": "2022-11-04T10:12:13.294Z"
   },
   {
    "duration": 192,
    "start_time": "2022-11-04T10:12:13.550Z"
   },
   {
    "duration": 327,
    "start_time": "2022-11-04T10:12:13.745Z"
   },
   {
    "duration": 200,
    "start_time": "2022-11-04T10:12:14.076Z"
   },
   {
    "duration": 322,
    "start_time": "2022-11-04T10:12:14.278Z"
   },
   {
    "duration": 121,
    "start_time": "2022-11-04T10:12:14.601Z"
   },
   {
    "duration": 128,
    "start_time": "2022-11-04T10:12:14.724Z"
   },
   {
    "duration": 5,
    "start_time": "2022-11-04T10:12:14.854Z"
   },
   {
    "duration": 252,
    "start_time": "2022-11-04T10:12:14.860Z"
   },
   {
    "duration": 5,
    "start_time": "2022-11-04T10:12:15.114Z"
   },
   {
    "duration": 9,
    "start_time": "2022-11-04T10:12:15.121Z"
   },
   {
    "duration": 131,
    "start_time": "2022-11-04T10:12:15.132Z"
   },
   {
    "duration": 100,
    "start_time": "2022-11-04T10:12:15.265Z"
   },
   {
    "duration": 0,
    "start_time": "2022-11-04T10:12:15.367Z"
   },
   {
    "duration": 0,
    "start_time": "2022-11-04T10:12:15.368Z"
   },
   {
    "duration": 0,
    "start_time": "2022-11-04T10:12:15.378Z"
   },
   {
    "duration": 0,
    "start_time": "2022-11-04T10:12:15.379Z"
   },
   {
    "duration": 55,
    "start_time": "2022-11-04T19:28:56.990Z"
   },
   {
    "duration": 491,
    "start_time": "2022-11-04T19:29:37.450Z"
   },
   {
    "duration": 3,
    "start_time": "2022-11-04T19:29:37.943Z"
   },
   {
    "duration": 31,
    "start_time": "2022-11-04T19:29:37.948Z"
   },
   {
    "duration": 10,
    "start_time": "2022-11-04T19:29:37.982Z"
   },
   {
    "duration": 940,
    "start_time": "2022-11-04T19:29:37.993Z"
   },
   {
    "duration": 171,
    "start_time": "2022-11-04T19:29:38.935Z"
   },
   {
    "duration": 79,
    "start_time": "2022-11-04T19:29:39.107Z"
   },
   {
    "duration": 14,
    "start_time": "2022-11-04T19:29:39.187Z"
   },
   {
    "duration": 14,
    "start_time": "2022-11-04T19:29:39.202Z"
   },
   {
    "duration": 9,
    "start_time": "2022-11-04T19:29:39.219Z"
   },
   {
    "duration": 7,
    "start_time": "2022-11-04T19:29:39.230Z"
   },
   {
    "duration": 8,
    "start_time": "2022-11-04T19:29:39.239Z"
   },
   {
    "duration": 7,
    "start_time": "2022-11-04T19:29:39.249Z"
   },
   {
    "duration": 10,
    "start_time": "2022-11-04T19:29:39.258Z"
   },
   {
    "duration": 13,
    "start_time": "2022-11-04T19:29:39.269Z"
   },
   {
    "duration": 7,
    "start_time": "2022-11-04T19:29:39.284Z"
   },
   {
    "duration": 8,
    "start_time": "2022-11-04T19:29:39.292Z"
   },
   {
    "duration": 34,
    "start_time": "2022-11-04T19:29:39.301Z"
   },
   {
    "duration": 9,
    "start_time": "2022-11-04T19:29:39.337Z"
   },
   {
    "duration": 9,
    "start_time": "2022-11-04T19:29:39.347Z"
   },
   {
    "duration": 10,
    "start_time": "2022-11-04T19:29:39.357Z"
   },
   {
    "duration": 10,
    "start_time": "2022-11-04T19:29:39.369Z"
   },
   {
    "duration": 12,
    "start_time": "2022-11-04T19:29:39.381Z"
   },
   {
    "duration": 54,
    "start_time": "2022-11-04T19:29:39.394Z"
   },
   {
    "duration": 344,
    "start_time": "2022-11-04T19:29:39.450Z"
   },
   {
    "duration": 284,
    "start_time": "2022-11-04T19:29:39.797Z"
   },
   {
    "duration": 204,
    "start_time": "2022-11-04T19:29:40.083Z"
   },
   {
    "duration": 383,
    "start_time": "2022-11-04T19:29:40.291Z"
   },
   {
    "duration": 213,
    "start_time": "2022-11-04T19:29:40.676Z"
   },
   {
    "duration": 317,
    "start_time": "2022-11-04T19:29:40.891Z"
   },
   {
    "duration": 153,
    "start_time": "2022-11-04T19:29:41.210Z"
   },
   {
    "duration": 230,
    "start_time": "2022-11-04T19:29:41.365Z"
   },
   {
    "duration": 5,
    "start_time": "2022-11-04T19:29:41.597Z"
   },
   {
    "duration": 277,
    "start_time": "2022-11-04T19:29:41.604Z"
   },
   {
    "duration": 5,
    "start_time": "2022-11-04T19:29:41.883Z"
   },
   {
    "duration": 5,
    "start_time": "2022-11-04T19:29:41.890Z"
   },
   {
    "duration": 142,
    "start_time": "2022-11-04T19:29:41.896Z"
   },
   {
    "duration": 103,
    "start_time": "2022-11-04T19:29:42.039Z"
   },
   {
    "duration": 0,
    "start_time": "2022-11-04T19:29:42.143Z"
   },
   {
    "duration": 0,
    "start_time": "2022-11-04T19:29:42.145Z"
   },
   {
    "duration": 0,
    "start_time": "2022-11-04T19:29:42.146Z"
   },
   {
    "duration": 0,
    "start_time": "2022-11-04T19:29:42.147Z"
   },
   {
    "duration": 0,
    "start_time": "2022-11-04T19:29:42.148Z"
   },
   {
    "duration": 8,
    "start_time": "2022-11-04T19:29:49.549Z"
   },
   {
    "duration": 11,
    "start_time": "2022-11-04T19:33:19.488Z"
   },
   {
    "duration": 9,
    "start_time": "2022-11-04T19:37:33.349Z"
   },
   {
    "duration": 14,
    "start_time": "2022-11-04T19:37:34.771Z"
   },
   {
    "duration": 7,
    "start_time": "2022-11-04T19:47:12.940Z"
   },
   {
    "duration": 11,
    "start_time": "2022-11-04T19:47:29.295Z"
   },
   {
    "duration": 8,
    "start_time": "2022-11-04T19:47:44.462Z"
   },
   {
    "duration": 30,
    "start_time": "2022-11-04T19:48:02.252Z"
   },
   {
    "duration": 6,
    "start_time": "2022-11-04T19:52:05.474Z"
   },
   {
    "duration": 24,
    "start_time": "2022-11-04T19:52:07.671Z"
   },
   {
    "duration": 489,
    "start_time": "2022-11-04T19:52:32.754Z"
   },
   {
    "duration": 3,
    "start_time": "2022-11-04T19:52:33.244Z"
   },
   {
    "duration": 23,
    "start_time": "2022-11-04T19:52:33.249Z"
   },
   {
    "duration": 9,
    "start_time": "2022-11-04T19:52:33.274Z"
   },
   {
    "duration": 792,
    "start_time": "2022-11-04T19:52:33.284Z"
   },
   {
    "duration": 62,
    "start_time": "2022-11-04T19:52:34.077Z"
   },
   {
    "duration": 42,
    "start_time": "2022-11-04T19:52:34.140Z"
   },
   {
    "duration": 13,
    "start_time": "2022-11-04T19:52:34.183Z"
   },
   {
    "duration": 21,
    "start_time": "2022-11-04T19:52:34.198Z"
   },
   {
    "duration": 11,
    "start_time": "2022-11-04T19:52:34.221Z"
   },
   {
    "duration": 8,
    "start_time": "2022-11-04T19:52:34.233Z"
   },
   {
    "duration": 8,
    "start_time": "2022-11-04T19:52:34.242Z"
   },
   {
    "duration": 5,
    "start_time": "2022-11-04T19:52:34.252Z"
   },
   {
    "duration": 10,
    "start_time": "2022-11-04T19:52:34.259Z"
   },
   {
    "duration": 12,
    "start_time": "2022-11-04T19:52:34.270Z"
   },
   {
    "duration": 5,
    "start_time": "2022-11-04T19:52:34.284Z"
   },
   {
    "duration": 8,
    "start_time": "2022-11-04T19:52:34.290Z"
   },
   {
    "duration": 43,
    "start_time": "2022-11-04T19:52:34.299Z"
   },
   {
    "duration": 7,
    "start_time": "2022-11-04T19:52:34.344Z"
   },
   {
    "duration": 7,
    "start_time": "2022-11-04T19:52:34.353Z"
   },
   {
    "duration": 8,
    "start_time": "2022-11-04T19:52:34.361Z"
   },
   {
    "duration": 9,
    "start_time": "2022-11-04T19:52:34.370Z"
   },
   {
    "duration": 11,
    "start_time": "2022-11-04T19:52:34.380Z"
   },
   {
    "duration": 55,
    "start_time": "2022-11-04T19:52:34.392Z"
   },
   {
    "duration": 310,
    "start_time": "2022-11-04T19:52:34.449Z"
   },
   {
    "duration": 298,
    "start_time": "2022-11-04T19:52:34.760Z"
   },
   {
    "duration": 205,
    "start_time": "2022-11-04T19:52:35.059Z"
   },
   {
    "duration": 286,
    "start_time": "2022-11-04T19:52:35.267Z"
   },
   {
    "duration": 218,
    "start_time": "2022-11-04T19:52:35.555Z"
   },
   {
    "duration": 322,
    "start_time": "2022-11-04T19:52:35.775Z"
   },
   {
    "duration": 150,
    "start_time": "2022-11-04T19:52:36.098Z"
   },
   {
    "duration": 168,
    "start_time": "2022-11-04T19:52:36.251Z"
   },
   {
    "duration": 17,
    "start_time": "2022-11-04T19:52:36.421Z"
   },
   {
    "duration": 306,
    "start_time": "2022-11-04T19:52:36.441Z"
   },
   {
    "duration": 5,
    "start_time": "2022-11-04T19:52:36.749Z"
   },
   {
    "duration": 6,
    "start_time": "2022-11-04T19:52:36.755Z"
   },
   {
    "duration": 8,
    "start_time": "2022-11-04T19:52:36.763Z"
   },
   {
    "duration": 11,
    "start_time": "2022-11-04T19:52:36.773Z"
   },
   {
    "duration": 7,
    "start_time": "2022-11-04T19:52:36.786Z"
   },
   {
    "duration": 49,
    "start_time": "2022-11-04T19:52:36.794Z"
   },
   {
    "duration": 10,
    "start_time": "2022-11-04T19:52:36.846Z"
   },
   {
    "duration": 116,
    "start_time": "2022-11-04T19:52:36.858Z"
   },
   {
    "duration": 0,
    "start_time": "2022-11-04T19:52:36.976Z"
   },
   {
    "duration": 0,
    "start_time": "2022-11-04T19:52:36.977Z"
   },
   {
    "duration": 766,
    "start_time": "2022-11-04T19:53:40.821Z"
   },
   {
    "duration": 9,
    "start_time": "2022-11-04T19:55:10.982Z"
   },
   {
    "duration": 12,
    "start_time": "2022-11-04T19:55:14.953Z"
   },
   {
    "duration": 12,
    "start_time": "2022-11-04T19:56:30.569Z"
   },
   {
    "duration": 10,
    "start_time": "2022-11-04T19:58:50.100Z"
   },
   {
    "duration": 11,
    "start_time": "2022-11-04T19:59:36.592Z"
   },
   {
    "duration": 44,
    "start_time": "2022-11-04T19:59:39.569Z"
   },
   {
    "duration": 93,
    "start_time": "2022-11-04T19:59:51.304Z"
   },
   {
    "duration": 18,
    "start_time": "2022-11-04T20:00:43.301Z"
   },
   {
    "duration": 529,
    "start_time": "2022-11-05T18:15:33.747Z"
   },
   {
    "duration": 5,
    "start_time": "2022-11-05T18:15:34.279Z"
   },
   {
    "duration": 24,
    "start_time": "2022-11-05T18:15:34.285Z"
   },
   {
    "duration": 9,
    "start_time": "2022-11-05T18:15:34.311Z"
   },
   {
    "duration": 1041,
    "start_time": "2022-11-05T18:15:34.323Z"
   },
   {
    "duration": 124,
    "start_time": "2022-11-05T18:15:35.366Z"
   },
   {
    "duration": 98,
    "start_time": "2022-11-05T18:15:35.492Z"
   },
   {
    "duration": 13,
    "start_time": "2022-11-05T18:15:35.592Z"
   },
   {
    "duration": 15,
    "start_time": "2022-11-05T18:15:35.607Z"
   },
   {
    "duration": 13,
    "start_time": "2022-11-05T18:15:35.625Z"
   },
   {
    "duration": 23,
    "start_time": "2022-11-05T18:15:35.640Z"
   },
   {
    "duration": 10,
    "start_time": "2022-11-05T18:15:35.665Z"
   },
   {
    "duration": 6,
    "start_time": "2022-11-05T18:15:35.677Z"
   },
   {
    "duration": 13,
    "start_time": "2022-11-05T18:15:35.687Z"
   },
   {
    "duration": 15,
    "start_time": "2022-11-05T18:15:35.702Z"
   },
   {
    "duration": 18,
    "start_time": "2022-11-05T18:15:35.719Z"
   },
   {
    "duration": 26,
    "start_time": "2022-11-05T18:15:35.738Z"
   },
   {
    "duration": 17,
    "start_time": "2022-11-05T18:15:35.766Z"
   },
   {
    "duration": 12,
    "start_time": "2022-11-05T18:15:35.784Z"
   },
   {
    "duration": 11,
    "start_time": "2022-11-05T18:15:35.797Z"
   },
   {
    "duration": 13,
    "start_time": "2022-11-05T18:15:35.809Z"
   },
   {
    "duration": 19,
    "start_time": "2022-11-05T18:15:35.824Z"
   },
   {
    "duration": 22,
    "start_time": "2022-11-05T18:15:35.844Z"
   },
   {
    "duration": 23,
    "start_time": "2022-11-05T18:15:35.868Z"
   },
   {
    "duration": 362,
    "start_time": "2022-11-05T18:15:35.894Z"
   },
   {
    "duration": 392,
    "start_time": "2022-11-05T18:15:36.263Z"
   },
   {
    "duration": 234,
    "start_time": "2022-11-05T18:15:36.659Z"
   },
   {
    "duration": 392,
    "start_time": "2022-11-05T18:15:36.894Z"
   },
   {
    "duration": 235,
    "start_time": "2022-11-05T18:15:37.288Z"
   },
   {
    "duration": 359,
    "start_time": "2022-11-05T18:15:37.525Z"
   },
   {
    "duration": 159,
    "start_time": "2022-11-05T18:15:37.886Z"
   },
   {
    "duration": 253,
    "start_time": "2022-11-05T18:15:38.047Z"
   },
   {
    "duration": 4,
    "start_time": "2022-11-05T18:15:38.302Z"
   },
   {
    "duration": 295,
    "start_time": "2022-11-05T18:15:38.308Z"
   },
   {
    "duration": 6,
    "start_time": "2022-11-05T18:15:38.605Z"
   },
   {
    "duration": 7,
    "start_time": "2022-11-05T18:15:38.612Z"
   },
   {
    "duration": 22,
    "start_time": "2022-11-05T18:15:38.621Z"
   },
   {
    "duration": 28,
    "start_time": "2022-11-05T18:15:38.644Z"
   },
   {
    "duration": 7,
    "start_time": "2022-11-05T18:15:38.674Z"
   },
   {
    "duration": 32,
    "start_time": "2022-11-05T18:15:38.683Z"
   },
   {
    "duration": 15,
    "start_time": "2022-11-05T18:15:38.723Z"
   },
   {
    "duration": 25,
    "start_time": "2022-11-05T18:15:38.745Z"
   },
   {
    "duration": 42,
    "start_time": "2022-11-05T18:15:38.773Z"
   },
   {
    "duration": 147,
    "start_time": "2022-11-05T18:15:38.817Z"
   },
   {
    "duration": 18,
    "start_time": "2022-11-05T19:18:00.062Z"
   }
  ],
  "kernelspec": {
   "display_name": "Python 3 (ipykernel)",
   "language": "python",
   "name": "python3"
  },
  "language_info": {
   "codemirror_mode": {
    "name": "ipython",
    "version": 3
   },
   "file_extension": ".py",
   "mimetype": "text/x-python",
   "name": "python",
   "nbconvert_exporter": "python",
   "pygments_lexer": "ipython3",
   "version": "3.9.12"
  },
  "toc": {
   "base_numbering": 1,
   "nav_menu": {},
   "number_sections": true,
   "sideBar": true,
   "skip_h1_title": true,
   "title_cell": "Table of Contents",
   "title_sidebar": "Contents",
   "toc_cell": false,
   "toc_position": {},
   "toc_section_display": true,
   "toc_window_display": false
  }
 },
 "nbformat": 4,
 "nbformat_minor": 5
}
