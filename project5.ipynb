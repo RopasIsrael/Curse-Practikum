{
 "cells": [
  {
   "cell_type": "markdown",
   "id": "e33b2505",
   "metadata": {},
   "source": [
    "## Задачи проекта\n",
    "Перед вами данные до 2016 года. Представим, что сейчас декабрь 2016 г., и вы планируете кампанию на 2017-й. Нужно отработать принцип работы с данными.\n",
    "\n",
    "#### Описание данных\n",
    "- Name — название игры\n",
    "- Platform — платформа\n",
    "- Year_of_Release — год выпуска\n",
    "- Genre — жанр игры\n",
    "- NA_sales — продажи в Северной Америке (миллионы проданных копий)\n",
    "- EU_sales — продажи в Европе (миллионы проданных копий)\n",
    "- JP_sales — продажи в Японии (миллионы проданных копий)\n",
    "- Other_sales — продажи в других странах (миллионы проданных копий)\n",
    "- Critic_Score — оценка критиков (максимум 100)\n",
    "- User_Score — оценка пользователей (максимум 10)\n",
    "- Rating — рейтинг от организации ESRB (англ. Entertainment Software Rating Board). Эта ассоциация определяет рейтинг компьютерных игр и присваивает им подходящую возрастную категорию.\n",
    "\n",
    "- Изучем данные и сделаем первую очистку"
   ]
  },
  {
   "cell_type": "markdown",
   "id": "4c92f5d0",
   "metadata": {},
   "source": [
    "<div class=\"alert alert-success\">\n",
    "<h2> Комментарий ревьюера <a class=\"tocSkip\"> </h2>\n",
    "\n",
    "<b>Все супер!👍:</b> Введение есть, отлично)"
   ]
  },
  {
   "cell_type": "code",
   "execution_count": 1,
   "id": "b526119d",
   "metadata": {},
   "outputs": [],
   "source": [
    "import pandas as pd"
   ]
  },
  {
   "cell_type": "code",
   "execution_count": 2,
   "id": "a1cedea2",
   "metadata": {},
   "outputs": [],
   "source": [
    "dt = pd.read_csv('/datasets/games.csv')"
   ]
  },
  {
   "cell_type": "code",
   "execution_count": 3,
   "id": "ec1d0689",
   "metadata": {},
   "outputs": [
    {
     "name": "stdout",
     "output_type": "stream",
     "text": [
      "<class 'pandas.core.frame.DataFrame'>\n",
      "RangeIndex: 16715 entries, 0 to 16714\n",
      "Data columns (total 11 columns):\n",
      " #   Column           Non-Null Count  Dtype  \n",
      "---  ------           --------------  -----  \n",
      " 0   Name             16713 non-null  object \n",
      " 1   Platform         16715 non-null  object \n",
      " 2   Year_of_Release  16446 non-null  float64\n",
      " 3   Genre            16713 non-null  object \n",
      " 4   NA_sales         16715 non-null  float64\n",
      " 5   EU_sales         16715 non-null  float64\n",
      " 6   JP_sales         16715 non-null  float64\n",
      " 7   Other_sales      16715 non-null  float64\n",
      " 8   Critic_Score     8137 non-null   float64\n",
      " 9   User_Score       10014 non-null  object \n",
      " 10  Rating           9949 non-null   object \n",
      "dtypes: float64(6), object(5)\n",
      "memory usage: 1.4+ MB\n"
     ]
    }
   ],
   "source": [
    "dt.info()"
   ]
  },
  {
   "cell_type": "code",
   "execution_count": 4,
   "id": "e72ca4be",
   "metadata": {},
   "outputs": [
    {
     "data": {
      "text/html": [
       "<div>\n",
       "<style scoped>\n",
       "    .dataframe tbody tr th:only-of-type {\n",
       "        vertical-align: middle;\n",
       "    }\n",
       "\n",
       "    .dataframe tbody tr th {\n",
       "        vertical-align: top;\n",
       "    }\n",
       "\n",
       "    .dataframe thead th {\n",
       "        text-align: right;\n",
       "    }\n",
       "</style>\n",
       "<table border=\"1\" class=\"dataframe\">\n",
       "  <thead>\n",
       "    <tr style=\"text-align: right;\">\n",
       "      <th></th>\n",
       "      <th>Name</th>\n",
       "      <th>Platform</th>\n",
       "      <th>Year_of_Release</th>\n",
       "      <th>Genre</th>\n",
       "      <th>NA_sales</th>\n",
       "      <th>EU_sales</th>\n",
       "      <th>JP_sales</th>\n",
       "      <th>Other_sales</th>\n",
       "      <th>Critic_Score</th>\n",
       "      <th>User_Score</th>\n",
       "      <th>Rating</th>\n",
       "    </tr>\n",
       "  </thead>\n",
       "  <tbody>\n",
       "    <tr>\n",
       "      <th>0</th>\n",
       "      <td>Wii Sports</td>\n",
       "      <td>Wii</td>\n",
       "      <td>2006.0</td>\n",
       "      <td>Sports</td>\n",
       "      <td>41.36</td>\n",
       "      <td>28.96</td>\n",
       "      <td>3.77</td>\n",
       "      <td>8.45</td>\n",
       "      <td>76.0</td>\n",
       "      <td>8</td>\n",
       "      <td>E</td>\n",
       "    </tr>\n",
       "    <tr>\n",
       "      <th>1</th>\n",
       "      <td>Super Mario Bros.</td>\n",
       "      <td>NES</td>\n",
       "      <td>1985.0</td>\n",
       "      <td>Platform</td>\n",
       "      <td>29.08</td>\n",
       "      <td>3.58</td>\n",
       "      <td>6.81</td>\n",
       "      <td>0.77</td>\n",
       "      <td>NaN</td>\n",
       "      <td>NaN</td>\n",
       "      <td>NaN</td>\n",
       "    </tr>\n",
       "    <tr>\n",
       "      <th>2</th>\n",
       "      <td>Mario Kart Wii</td>\n",
       "      <td>Wii</td>\n",
       "      <td>2008.0</td>\n",
       "      <td>Racing</td>\n",
       "      <td>15.68</td>\n",
       "      <td>12.76</td>\n",
       "      <td>3.79</td>\n",
       "      <td>3.29</td>\n",
       "      <td>82.0</td>\n",
       "      <td>8.3</td>\n",
       "      <td>E</td>\n",
       "    </tr>\n",
       "    <tr>\n",
       "      <th>3</th>\n",
       "      <td>Wii Sports Resort</td>\n",
       "      <td>Wii</td>\n",
       "      <td>2009.0</td>\n",
       "      <td>Sports</td>\n",
       "      <td>15.61</td>\n",
       "      <td>10.93</td>\n",
       "      <td>3.28</td>\n",
       "      <td>2.95</td>\n",
       "      <td>80.0</td>\n",
       "      <td>8</td>\n",
       "      <td>E</td>\n",
       "    </tr>\n",
       "    <tr>\n",
       "      <th>4</th>\n",
       "      <td>Pokemon Red/Pokemon Blue</td>\n",
       "      <td>GB</td>\n",
       "      <td>1996.0</td>\n",
       "      <td>Role-Playing</td>\n",
       "      <td>11.27</td>\n",
       "      <td>8.89</td>\n",
       "      <td>10.22</td>\n",
       "      <td>1.00</td>\n",
       "      <td>NaN</td>\n",
       "      <td>NaN</td>\n",
       "      <td>NaN</td>\n",
       "    </tr>\n",
       "    <tr>\n",
       "      <th>5</th>\n",
       "      <td>Tetris</td>\n",
       "      <td>GB</td>\n",
       "      <td>1989.0</td>\n",
       "      <td>Puzzle</td>\n",
       "      <td>23.20</td>\n",
       "      <td>2.26</td>\n",
       "      <td>4.22</td>\n",
       "      <td>0.58</td>\n",
       "      <td>NaN</td>\n",
       "      <td>NaN</td>\n",
       "      <td>NaN</td>\n",
       "    </tr>\n",
       "    <tr>\n",
       "      <th>6</th>\n",
       "      <td>New Super Mario Bros.</td>\n",
       "      <td>DS</td>\n",
       "      <td>2006.0</td>\n",
       "      <td>Platform</td>\n",
       "      <td>11.28</td>\n",
       "      <td>9.14</td>\n",
       "      <td>6.50</td>\n",
       "      <td>2.88</td>\n",
       "      <td>89.0</td>\n",
       "      <td>8.5</td>\n",
       "      <td>E</td>\n",
       "    </tr>\n",
       "    <tr>\n",
       "      <th>7</th>\n",
       "      <td>Wii Play</td>\n",
       "      <td>Wii</td>\n",
       "      <td>2006.0</td>\n",
       "      <td>Misc</td>\n",
       "      <td>13.96</td>\n",
       "      <td>9.18</td>\n",
       "      <td>2.93</td>\n",
       "      <td>2.84</td>\n",
       "      <td>58.0</td>\n",
       "      <td>6.6</td>\n",
       "      <td>E</td>\n",
       "    </tr>\n",
       "    <tr>\n",
       "      <th>8</th>\n",
       "      <td>New Super Mario Bros. Wii</td>\n",
       "      <td>Wii</td>\n",
       "      <td>2009.0</td>\n",
       "      <td>Platform</td>\n",
       "      <td>14.44</td>\n",
       "      <td>6.94</td>\n",
       "      <td>4.70</td>\n",
       "      <td>2.24</td>\n",
       "      <td>87.0</td>\n",
       "      <td>8.4</td>\n",
       "      <td>E</td>\n",
       "    </tr>\n",
       "    <tr>\n",
       "      <th>9</th>\n",
       "      <td>Duck Hunt</td>\n",
       "      <td>NES</td>\n",
       "      <td>1984.0</td>\n",
       "      <td>Shooter</td>\n",
       "      <td>26.93</td>\n",
       "      <td>0.63</td>\n",
       "      <td>0.28</td>\n",
       "      <td>0.47</td>\n",
       "      <td>NaN</td>\n",
       "      <td>NaN</td>\n",
       "      <td>NaN</td>\n",
       "    </tr>\n",
       "    <tr>\n",
       "      <th>10</th>\n",
       "      <td>Nintendogs</td>\n",
       "      <td>DS</td>\n",
       "      <td>2005.0</td>\n",
       "      <td>Simulation</td>\n",
       "      <td>9.05</td>\n",
       "      <td>10.95</td>\n",
       "      <td>1.93</td>\n",
       "      <td>2.74</td>\n",
       "      <td>NaN</td>\n",
       "      <td>NaN</td>\n",
       "      <td>NaN</td>\n",
       "    </tr>\n",
       "    <tr>\n",
       "      <th>11</th>\n",
       "      <td>Mario Kart DS</td>\n",
       "      <td>DS</td>\n",
       "      <td>2005.0</td>\n",
       "      <td>Racing</td>\n",
       "      <td>9.71</td>\n",
       "      <td>7.47</td>\n",
       "      <td>4.13</td>\n",
       "      <td>1.90</td>\n",
       "      <td>91.0</td>\n",
       "      <td>8.6</td>\n",
       "      <td>E</td>\n",
       "    </tr>\n",
       "    <tr>\n",
       "      <th>12</th>\n",
       "      <td>Pokemon Gold/Pokemon Silver</td>\n",
       "      <td>GB</td>\n",
       "      <td>1999.0</td>\n",
       "      <td>Role-Playing</td>\n",
       "      <td>9.00</td>\n",
       "      <td>6.18</td>\n",
       "      <td>7.20</td>\n",
       "      <td>0.71</td>\n",
       "      <td>NaN</td>\n",
       "      <td>NaN</td>\n",
       "      <td>NaN</td>\n",
       "    </tr>\n",
       "    <tr>\n",
       "      <th>13</th>\n",
       "      <td>Wii Fit</td>\n",
       "      <td>Wii</td>\n",
       "      <td>2007.0</td>\n",
       "      <td>Sports</td>\n",
       "      <td>8.92</td>\n",
       "      <td>8.03</td>\n",
       "      <td>3.60</td>\n",
       "      <td>2.15</td>\n",
       "      <td>80.0</td>\n",
       "      <td>7.7</td>\n",
       "      <td>E</td>\n",
       "    </tr>\n",
       "    <tr>\n",
       "      <th>14</th>\n",
       "      <td>Kinect Adventures!</td>\n",
       "      <td>X360</td>\n",
       "      <td>2010.0</td>\n",
       "      <td>Misc</td>\n",
       "      <td>15.00</td>\n",
       "      <td>4.89</td>\n",
       "      <td>0.24</td>\n",
       "      <td>1.69</td>\n",
       "      <td>61.0</td>\n",
       "      <td>6.3</td>\n",
       "      <td>E</td>\n",
       "    </tr>\n",
       "    <tr>\n",
       "      <th>15</th>\n",
       "      <td>Wii Fit Plus</td>\n",
       "      <td>Wii</td>\n",
       "      <td>2009.0</td>\n",
       "      <td>Sports</td>\n",
       "      <td>9.01</td>\n",
       "      <td>8.49</td>\n",
       "      <td>2.53</td>\n",
       "      <td>1.77</td>\n",
       "      <td>80.0</td>\n",
       "      <td>7.4</td>\n",
       "      <td>E</td>\n",
       "    </tr>\n",
       "    <tr>\n",
       "      <th>16</th>\n",
       "      <td>Grand Theft Auto V</td>\n",
       "      <td>PS3</td>\n",
       "      <td>2013.0</td>\n",
       "      <td>Action</td>\n",
       "      <td>7.02</td>\n",
       "      <td>9.09</td>\n",
       "      <td>0.98</td>\n",
       "      <td>3.96</td>\n",
       "      <td>97.0</td>\n",
       "      <td>8.2</td>\n",
       "      <td>M</td>\n",
       "    </tr>\n",
       "    <tr>\n",
       "      <th>17</th>\n",
       "      <td>Grand Theft Auto: San Andreas</td>\n",
       "      <td>PS2</td>\n",
       "      <td>2004.0</td>\n",
       "      <td>Action</td>\n",
       "      <td>9.43</td>\n",
       "      <td>0.40</td>\n",
       "      <td>0.41</td>\n",
       "      <td>10.57</td>\n",
       "      <td>95.0</td>\n",
       "      <td>9</td>\n",
       "      <td>M</td>\n",
       "    </tr>\n",
       "    <tr>\n",
       "      <th>18</th>\n",
       "      <td>Super Mario World</td>\n",
       "      <td>SNES</td>\n",
       "      <td>1990.0</td>\n",
       "      <td>Platform</td>\n",
       "      <td>12.78</td>\n",
       "      <td>3.75</td>\n",
       "      <td>3.54</td>\n",
       "      <td>0.55</td>\n",
       "      <td>NaN</td>\n",
       "      <td>NaN</td>\n",
       "      <td>NaN</td>\n",
       "    </tr>\n",
       "    <tr>\n",
       "      <th>19</th>\n",
       "      <td>Brain Age: Train Your Brain in Minutes a Day</td>\n",
       "      <td>DS</td>\n",
       "      <td>2005.0</td>\n",
       "      <td>Misc</td>\n",
       "      <td>4.74</td>\n",
       "      <td>9.20</td>\n",
       "      <td>4.16</td>\n",
       "      <td>2.04</td>\n",
       "      <td>77.0</td>\n",
       "      <td>7.9</td>\n",
       "      <td>E</td>\n",
       "    </tr>\n",
       "  </tbody>\n",
       "</table>\n",
       "</div>"
      ],
      "text/plain": [
       "                                            Name Platform  Year_of_Release  \\\n",
       "0                                     Wii Sports      Wii           2006.0   \n",
       "1                              Super Mario Bros.      NES           1985.0   \n",
       "2                                 Mario Kart Wii      Wii           2008.0   \n",
       "3                              Wii Sports Resort      Wii           2009.0   \n",
       "4                       Pokemon Red/Pokemon Blue       GB           1996.0   \n",
       "5                                         Tetris       GB           1989.0   \n",
       "6                          New Super Mario Bros.       DS           2006.0   \n",
       "7                                       Wii Play      Wii           2006.0   \n",
       "8                      New Super Mario Bros. Wii      Wii           2009.0   \n",
       "9                                      Duck Hunt      NES           1984.0   \n",
       "10                                    Nintendogs       DS           2005.0   \n",
       "11                                 Mario Kart DS       DS           2005.0   \n",
       "12                   Pokemon Gold/Pokemon Silver       GB           1999.0   \n",
       "13                                       Wii Fit      Wii           2007.0   \n",
       "14                            Kinect Adventures!     X360           2010.0   \n",
       "15                                  Wii Fit Plus      Wii           2009.0   \n",
       "16                            Grand Theft Auto V      PS3           2013.0   \n",
       "17                 Grand Theft Auto: San Andreas      PS2           2004.0   \n",
       "18                             Super Mario World     SNES           1990.0   \n",
       "19  Brain Age: Train Your Brain in Minutes a Day       DS           2005.0   \n",
       "\n",
       "           Genre  NA_sales  EU_sales  JP_sales  Other_sales  Critic_Score  \\\n",
       "0         Sports     41.36     28.96      3.77         8.45          76.0   \n",
       "1       Platform     29.08      3.58      6.81         0.77           NaN   \n",
       "2         Racing     15.68     12.76      3.79         3.29          82.0   \n",
       "3         Sports     15.61     10.93      3.28         2.95          80.0   \n",
       "4   Role-Playing     11.27      8.89     10.22         1.00           NaN   \n",
       "5         Puzzle     23.20      2.26      4.22         0.58           NaN   \n",
       "6       Platform     11.28      9.14      6.50         2.88          89.0   \n",
       "7           Misc     13.96      9.18      2.93         2.84          58.0   \n",
       "8       Platform     14.44      6.94      4.70         2.24          87.0   \n",
       "9        Shooter     26.93      0.63      0.28         0.47           NaN   \n",
       "10    Simulation      9.05     10.95      1.93         2.74           NaN   \n",
       "11        Racing      9.71      7.47      4.13         1.90          91.0   \n",
       "12  Role-Playing      9.00      6.18      7.20         0.71           NaN   \n",
       "13        Sports      8.92      8.03      3.60         2.15          80.0   \n",
       "14          Misc     15.00      4.89      0.24         1.69          61.0   \n",
       "15        Sports      9.01      8.49      2.53         1.77          80.0   \n",
       "16        Action      7.02      9.09      0.98         3.96          97.0   \n",
       "17        Action      9.43      0.40      0.41        10.57          95.0   \n",
       "18      Platform     12.78      3.75      3.54         0.55           NaN   \n",
       "19          Misc      4.74      9.20      4.16         2.04          77.0   \n",
       "\n",
       "   User_Score Rating  \n",
       "0           8      E  \n",
       "1         NaN    NaN  \n",
       "2         8.3      E  \n",
       "3           8      E  \n",
       "4         NaN    NaN  \n",
       "5         NaN    NaN  \n",
       "6         8.5      E  \n",
       "7         6.6      E  \n",
       "8         8.4      E  \n",
       "9         NaN    NaN  \n",
       "10        NaN    NaN  \n",
       "11        8.6      E  \n",
       "12        NaN    NaN  \n",
       "13        7.7      E  \n",
       "14        6.3      E  \n",
       "15        7.4      E  \n",
       "16        8.2      M  \n",
       "17          9      M  \n",
       "18        NaN    NaN  \n",
       "19        7.9      E  "
      ]
     },
     "execution_count": 4,
     "metadata": {},
     "output_type": "execute_result"
    }
   ],
   "source": [
    "dt.head(20)"
   ]
  },
  {
   "cell_type": "code",
   "execution_count": 5,
   "id": "d90b5488",
   "metadata": {},
   "outputs": [
    {
     "data": {
      "text/plain": [
       "Name                  2\n",
       "Platform              0\n",
       "Year_of_Release     269\n",
       "Genre                 2\n",
       "NA_sales              0\n",
       "EU_sales              0\n",
       "JP_sales              0\n",
       "Other_sales           0\n",
       "Critic_Score       8578\n",
       "User_Score         6701\n",
       "Rating             6766\n",
       "dtype: int64"
      ]
     },
     "execution_count": 5,
     "metadata": {},
     "output_type": "execute_result"
    }
   ],
   "source": [
    "dt.isna().sum()\n",
    "# Пропуск в имени и жанре, слишком мал, его просто удалим\n",
    "# Оценки от критиков и юзеров заполним, проверим корреляцию, что сильнее влияет на высоту оценки жанр или платформа\n",
    "# Рейтинг пока заполнять не буду, каноны выставления рейтинга сильно менялись в зависимости от года,\n",
    "# посмотрим нужна ли нам будет эта информация"
   ]
  },
  {
   "cell_type": "code",
   "execution_count": 6,
   "id": "2bd38078",
   "metadata": {},
   "outputs": [],
   "source": [
    "dt.columns = dt.columns.str.lower()  #сменил название столбцов на нижний регистр "
   ]
  },
  {
   "cell_type": "code",
   "execution_count": 7,
   "id": "d40e5487",
   "metadata": {},
   "outputs": [
    {
     "data": {
      "text/html": [
       "<div>\n",
       "<style scoped>\n",
       "    .dataframe tbody tr th:only-of-type {\n",
       "        vertical-align: middle;\n",
       "    }\n",
       "\n",
       "    .dataframe tbody tr th {\n",
       "        vertical-align: top;\n",
       "    }\n",
       "\n",
       "    .dataframe thead th {\n",
       "        text-align: right;\n",
       "    }\n",
       "</style>\n",
       "<table border=\"1\" class=\"dataframe\">\n",
       "  <thead>\n",
       "    <tr style=\"text-align: right;\">\n",
       "      <th></th>\n",
       "      <th>name</th>\n",
       "      <th>platform</th>\n",
       "      <th>year_of_release</th>\n",
       "      <th>genre</th>\n",
       "      <th>na_sales</th>\n",
       "      <th>eu_sales</th>\n",
       "      <th>jp_sales</th>\n",
       "      <th>other_sales</th>\n",
       "      <th>critic_score</th>\n",
       "      <th>user_score</th>\n",
       "      <th>rating</th>\n",
       "    </tr>\n",
       "  </thead>\n",
       "  <tbody>\n",
       "    <tr>\n",
       "      <th>659</th>\n",
       "      <td>NaN</td>\n",
       "      <td>GEN</td>\n",
       "      <td>1993.0</td>\n",
       "      <td>NaN</td>\n",
       "      <td>1.78</td>\n",
       "      <td>0.53</td>\n",
       "      <td>0.00</td>\n",
       "      <td>0.08</td>\n",
       "      <td>NaN</td>\n",
       "      <td>NaN</td>\n",
       "      <td>NaN</td>\n",
       "    </tr>\n",
       "    <tr>\n",
       "      <th>14244</th>\n",
       "      <td>NaN</td>\n",
       "      <td>GEN</td>\n",
       "      <td>1993.0</td>\n",
       "      <td>NaN</td>\n",
       "      <td>0.00</td>\n",
       "      <td>0.00</td>\n",
       "      <td>0.03</td>\n",
       "      <td>0.00</td>\n",
       "      <td>NaN</td>\n",
       "      <td>NaN</td>\n",
       "      <td>NaN</td>\n",
       "    </tr>\n",
       "  </tbody>\n",
       "</table>\n",
       "</div>"
      ],
      "text/plain": [
       "      name platform  year_of_release genre  na_sales  eu_sales  jp_sales  \\\n",
       "659    NaN      GEN           1993.0   NaN      1.78      0.53      0.00   \n",
       "14244  NaN      GEN           1993.0   NaN      0.00      0.00      0.03   \n",
       "\n",
       "       other_sales  critic_score user_score rating  \n",
       "659           0.08           NaN        NaN    NaN  \n",
       "14244         0.00           NaN        NaN    NaN  "
      ]
     },
     "execution_count": 7,
     "metadata": {},
     "output_type": "execute_result"
    }
   ],
   "source": [
    "dt.loc[dt['name'].isna()]"
   ]
  },
  {
   "cell_type": "code",
   "execution_count": 8,
   "id": "7d431308",
   "metadata": {},
   "outputs": [],
   "source": [
    "dt = dt.dropna(subset = ['name'])\n",
    "dt = dt.dropna(subset = ['year_of_release'])"
   ]
  },
  {
   "cell_type": "code",
   "execution_count": 9,
   "id": "a474ac04",
   "metadata": {},
   "outputs": [],
   "source": [
    "# приведем \n",
    "dt['year_of_release'] = dt['year_of_release'].astype(int)"
   ]
  },
  {
   "cell_type": "markdown",
   "id": "03548dba",
   "metadata": {},
   "source": [
    "<div class=\"alert alert-info\">\n",
    "<b> \n",
    "TBD - аббревиатура от английского To Be Determined (будет определено) или To Be Decided (будет решено). Используется, если какая-то информация еще не определена или решение по вопросу не принято. Акроним служит для отметки неясностей или пропусков, которые надо заполнить, в информации требований.</b>\n",
    "</div>"
   ]
  },
  {
   "cell_type": "code",
   "execution_count": 10,
   "id": "9d91835a",
   "metadata": {},
   "outputs": [],
   "source": [
    "dt.loc[dt['user_score'] == 'tbd', 'user_score'] = float('nan')\n",
    "dt['user_score'] = dt['user_score'].astype(float)"
   ]
  },
  {
   "cell_type": "code",
   "execution_count": 11,
   "id": "e918ce56",
   "metadata": {},
   "outputs": [],
   "source": [
    "dt['sum_sale'] = dt['na_sales'] + dt['eu_sales'] + dt['jp_sales'] + dt['other_sales']"
   ]
  },
  {
   "cell_type": "code",
   "execution_count": 12,
   "id": "fe230fb8",
   "metadata": {},
   "outputs": [
    {
     "name": "stdout",
     "output_type": "stream",
     "text": [
      "<class 'pandas.core.frame.DataFrame'>\n",
      "Int64Index: 16444 entries, 0 to 16714\n",
      "Data columns (total 12 columns):\n",
      " #   Column           Non-Null Count  Dtype  \n",
      "---  ------           --------------  -----  \n",
      " 0   name             16444 non-null  object \n",
      " 1   platform         16444 non-null  object \n",
      " 2   year_of_release  16444 non-null  int64  \n",
      " 3   genre            16444 non-null  object \n",
      " 4   na_sales         16444 non-null  float64\n",
      " 5   eu_sales         16444 non-null  float64\n",
      " 6   jp_sales         16444 non-null  float64\n",
      " 7   other_sales      16444 non-null  float64\n",
      " 8   critic_score     7983 non-null   float64\n",
      " 9   user_score       7463 non-null   float64\n",
      " 10  rating           9768 non-null   object \n",
      " 11  sum_sale         16444 non-null  float64\n",
      "dtypes: float64(7), int64(1), object(4)\n",
      "memory usage: 1.6+ MB\n"
     ]
    },
    {
     "data": {
      "text/html": [
       "<div>\n",
       "<style scoped>\n",
       "    .dataframe tbody tr th:only-of-type {\n",
       "        vertical-align: middle;\n",
       "    }\n",
       "\n",
       "    .dataframe tbody tr th {\n",
       "        vertical-align: top;\n",
       "    }\n",
       "\n",
       "    .dataframe thead th {\n",
       "        text-align: right;\n",
       "    }\n",
       "</style>\n",
       "<table border=\"1\" class=\"dataframe\">\n",
       "  <thead>\n",
       "    <tr style=\"text-align: right;\">\n",
       "      <th></th>\n",
       "      <th>name</th>\n",
       "      <th>platform</th>\n",
       "      <th>year_of_release</th>\n",
       "      <th>genre</th>\n",
       "      <th>na_sales</th>\n",
       "      <th>eu_sales</th>\n",
       "      <th>jp_sales</th>\n",
       "      <th>other_sales</th>\n",
       "      <th>critic_score</th>\n",
       "      <th>user_score</th>\n",
       "      <th>rating</th>\n",
       "      <th>sum_sale</th>\n",
       "    </tr>\n",
       "  </thead>\n",
       "  <tbody>\n",
       "    <tr>\n",
       "      <th>0</th>\n",
       "      <td>Wii Sports</td>\n",
       "      <td>Wii</td>\n",
       "      <td>2006</td>\n",
       "      <td>Sports</td>\n",
       "      <td>41.36</td>\n",
       "      <td>28.96</td>\n",
       "      <td>3.77</td>\n",
       "      <td>8.45</td>\n",
       "      <td>76.0</td>\n",
       "      <td>8.0</td>\n",
       "      <td>E</td>\n",
       "      <td>82.54</td>\n",
       "    </tr>\n",
       "    <tr>\n",
       "      <th>1</th>\n",
       "      <td>Super Mario Bros.</td>\n",
       "      <td>NES</td>\n",
       "      <td>1985</td>\n",
       "      <td>Platform</td>\n",
       "      <td>29.08</td>\n",
       "      <td>3.58</td>\n",
       "      <td>6.81</td>\n",
       "      <td>0.77</td>\n",
       "      <td>NaN</td>\n",
       "      <td>NaN</td>\n",
       "      <td>NaN</td>\n",
       "      <td>40.24</td>\n",
       "    </tr>\n",
       "    <tr>\n",
       "      <th>2</th>\n",
       "      <td>Mario Kart Wii</td>\n",
       "      <td>Wii</td>\n",
       "      <td>2008</td>\n",
       "      <td>Racing</td>\n",
       "      <td>15.68</td>\n",
       "      <td>12.76</td>\n",
       "      <td>3.79</td>\n",
       "      <td>3.29</td>\n",
       "      <td>82.0</td>\n",
       "      <td>8.3</td>\n",
       "      <td>E</td>\n",
       "      <td>35.52</td>\n",
       "    </tr>\n",
       "    <tr>\n",
       "      <th>3</th>\n",
       "      <td>Wii Sports Resort</td>\n",
       "      <td>Wii</td>\n",
       "      <td>2009</td>\n",
       "      <td>Sports</td>\n",
       "      <td>15.61</td>\n",
       "      <td>10.93</td>\n",
       "      <td>3.28</td>\n",
       "      <td>2.95</td>\n",
       "      <td>80.0</td>\n",
       "      <td>8.0</td>\n",
       "      <td>E</td>\n",
       "      <td>32.77</td>\n",
       "    </tr>\n",
       "    <tr>\n",
       "      <th>4</th>\n",
       "      <td>Pokemon Red/Pokemon Blue</td>\n",
       "      <td>GB</td>\n",
       "      <td>1996</td>\n",
       "      <td>Role-Playing</td>\n",
       "      <td>11.27</td>\n",
       "      <td>8.89</td>\n",
       "      <td>10.22</td>\n",
       "      <td>1.00</td>\n",
       "      <td>NaN</td>\n",
       "      <td>NaN</td>\n",
       "      <td>NaN</td>\n",
       "      <td>31.38</td>\n",
       "    </tr>\n",
       "    <tr>\n",
       "      <th>5</th>\n",
       "      <td>Tetris</td>\n",
       "      <td>GB</td>\n",
       "      <td>1989</td>\n",
       "      <td>Puzzle</td>\n",
       "      <td>23.20</td>\n",
       "      <td>2.26</td>\n",
       "      <td>4.22</td>\n",
       "      <td>0.58</td>\n",
       "      <td>NaN</td>\n",
       "      <td>NaN</td>\n",
       "      <td>NaN</td>\n",
       "      <td>30.26</td>\n",
       "    </tr>\n",
       "    <tr>\n",
       "      <th>6</th>\n",
       "      <td>New Super Mario Bros.</td>\n",
       "      <td>DS</td>\n",
       "      <td>2006</td>\n",
       "      <td>Platform</td>\n",
       "      <td>11.28</td>\n",
       "      <td>9.14</td>\n",
       "      <td>6.50</td>\n",
       "      <td>2.88</td>\n",
       "      <td>89.0</td>\n",
       "      <td>8.5</td>\n",
       "      <td>E</td>\n",
       "      <td>29.80</td>\n",
       "    </tr>\n",
       "    <tr>\n",
       "      <th>7</th>\n",
       "      <td>Wii Play</td>\n",
       "      <td>Wii</td>\n",
       "      <td>2006</td>\n",
       "      <td>Misc</td>\n",
       "      <td>13.96</td>\n",
       "      <td>9.18</td>\n",
       "      <td>2.93</td>\n",
       "      <td>2.84</td>\n",
       "      <td>58.0</td>\n",
       "      <td>6.6</td>\n",
       "      <td>E</td>\n",
       "      <td>28.91</td>\n",
       "    </tr>\n",
       "    <tr>\n",
       "      <th>8</th>\n",
       "      <td>New Super Mario Bros. Wii</td>\n",
       "      <td>Wii</td>\n",
       "      <td>2009</td>\n",
       "      <td>Platform</td>\n",
       "      <td>14.44</td>\n",
       "      <td>6.94</td>\n",
       "      <td>4.70</td>\n",
       "      <td>2.24</td>\n",
       "      <td>87.0</td>\n",
       "      <td>8.4</td>\n",
       "      <td>E</td>\n",
       "      <td>28.32</td>\n",
       "    </tr>\n",
       "    <tr>\n",
       "      <th>9</th>\n",
       "      <td>Duck Hunt</td>\n",
       "      <td>NES</td>\n",
       "      <td>1984</td>\n",
       "      <td>Shooter</td>\n",
       "      <td>26.93</td>\n",
       "      <td>0.63</td>\n",
       "      <td>0.28</td>\n",
       "      <td>0.47</td>\n",
       "      <td>NaN</td>\n",
       "      <td>NaN</td>\n",
       "      <td>NaN</td>\n",
       "      <td>28.31</td>\n",
       "    </tr>\n",
       "  </tbody>\n",
       "</table>\n",
       "</div>"
      ],
      "text/plain": [
       "                        name platform  year_of_release         genre  \\\n",
       "0                 Wii Sports      Wii             2006        Sports   \n",
       "1          Super Mario Bros.      NES             1985      Platform   \n",
       "2             Mario Kart Wii      Wii             2008        Racing   \n",
       "3          Wii Sports Resort      Wii             2009        Sports   \n",
       "4   Pokemon Red/Pokemon Blue       GB             1996  Role-Playing   \n",
       "5                     Tetris       GB             1989        Puzzle   \n",
       "6      New Super Mario Bros.       DS             2006      Platform   \n",
       "7                   Wii Play      Wii             2006          Misc   \n",
       "8  New Super Mario Bros. Wii      Wii             2009      Platform   \n",
       "9                  Duck Hunt      NES             1984       Shooter   \n",
       "\n",
       "   na_sales  eu_sales  jp_sales  other_sales  critic_score  user_score rating  \\\n",
       "0     41.36     28.96      3.77         8.45          76.0         8.0      E   \n",
       "1     29.08      3.58      6.81         0.77           NaN         NaN    NaN   \n",
       "2     15.68     12.76      3.79         3.29          82.0         8.3      E   \n",
       "3     15.61     10.93      3.28         2.95          80.0         8.0      E   \n",
       "4     11.27      8.89     10.22         1.00           NaN         NaN    NaN   \n",
       "5     23.20      2.26      4.22         0.58           NaN         NaN    NaN   \n",
       "6     11.28      9.14      6.50         2.88          89.0         8.5      E   \n",
       "7     13.96      9.18      2.93         2.84          58.0         6.6      E   \n",
       "8     14.44      6.94      4.70         2.24          87.0         8.4      E   \n",
       "9     26.93      0.63      0.28         0.47           NaN         NaN    NaN   \n",
       "\n",
       "   sum_sale  \n",
       "0     82.54  \n",
       "1     40.24  \n",
       "2     35.52  \n",
       "3     32.77  \n",
       "4     31.38  \n",
       "5     30.26  \n",
       "6     29.80  \n",
       "7     28.91  \n",
       "8     28.32  \n",
       "9     28.31  "
      ]
     },
     "execution_count": 12,
     "metadata": {},
     "output_type": "execute_result"
    }
   ],
   "source": [
    "dt.info()\n",
    "dt.head(10)"
   ]
  },
  {
   "cell_type": "code",
   "execution_count": 54,
   "id": "b5c8b1a0",
   "metadata": {},
   "outputs": [
    {
     "data": {
      "text/plain": [
       "array(['E', 'Unknown', 'M', 'T', 'E10+', 'K-A', 'AO', 'EC', 'RP'],\n",
       "      dtype=object)"
      ]
     },
     "execution_count": 54,
     "metadata": {},
     "output_type": "execute_result"
    }
   ],
   "source": [
    "dt['rating'] = dt['rating'].fillna('Unknown')\n",
    "dt['rating'].unique()"
   ]
  },
  {
   "cell_type": "markdown",
   "id": "7095c729",
   "metadata": {},
   "source": [
    "## Проведем исследовательский анализ данных"
   ]
  },
  {
   "cell_type": "code",
   "execution_count": 14,
   "id": "97654afd",
   "metadata": {},
   "outputs": [],
   "source": [
    "%matplotlib inline\n",
    "import matplotlib.pyplot as plt"
   ]
  },
  {
   "cell_type": "code",
   "execution_count": 15,
   "id": "d37433a5",
   "metadata": {},
   "outputs": [
    {
     "data": {
      "image/png": "[encoded data removed]",
      "text/plain": [
       "<Figure size 936x576 with 1 Axes>"
      ]
     },
     "metadata": {
      "needs_background": "light"
     },
     "output_type": "display_data"
    }
   ],
   "source": [
    "# Построим график зависимости количества игр от года выпуска\n",
    "platform_sales = dt.pivot_table(index='year_of_release', values='sum_sale', aggfunc='count').plot(grid=True, figsize=(13, 8))"
   ]
  },
  {
   "cell_type": "markdown",
   "id": "865394eb",
   "metadata": {},
   "source": [
    "Судя по графику основной скачек начался с 2000 года, но тут не учитывается период производсва для АА класса нормой считается производство 2-4 года.\n",
    "Кризис 2008 года сильно подкосил индустрию, нет денег на производство = нет новых игр \n",
    "Для потроянемя прогноза на 2017 год, берез срез в 4 года, больше нет смысла. "
   ]
  },
  {
   "cell_type": "code",
   "execution_count": 16,
   "id": "c634dc33",
   "metadata": {},
   "outputs": [
    {
     "data": {
      "text/html": [
       "<div>\n",
       "<style scoped>\n",
       "    .dataframe tbody tr th:only-of-type {\n",
       "        vertical-align: middle;\n",
       "    }\n",
       "\n",
       "    .dataframe tbody tr th {\n",
       "        vertical-align: top;\n",
       "    }\n",
       "\n",
       "    .dataframe thead th {\n",
       "        text-align: right;\n",
       "    }\n",
       "</style>\n",
       "<table border=\"1\" class=\"dataframe\">\n",
       "  <thead>\n",
       "    <tr style=\"text-align: right;\">\n",
       "      <th></th>\n",
       "      <th>name</th>\n",
       "      <th>platform</th>\n",
       "      <th>year_of_release</th>\n",
       "      <th>genre</th>\n",
       "      <th>na_sales</th>\n",
       "      <th>eu_sales</th>\n",
       "      <th>jp_sales</th>\n",
       "      <th>other_sales</th>\n",
       "      <th>critic_score</th>\n",
       "      <th>user_score</th>\n",
       "      <th>rating</th>\n",
       "      <th>sum_sale</th>\n",
       "    </tr>\n",
       "  </thead>\n",
       "  <tbody>\n",
       "    <tr>\n",
       "      <th>0</th>\n",
       "      <td>Grand Theft Auto V</td>\n",
       "      <td>PS3</td>\n",
       "      <td>2013</td>\n",
       "      <td>Action</td>\n",
       "      <td>7.02</td>\n",
       "      <td>9.09</td>\n",
       "      <td>0.98</td>\n",
       "      <td>3.96</td>\n",
       "      <td>97.0</td>\n",
       "      <td>8.2</td>\n",
       "      <td>M</td>\n",
       "      <td>21.05</td>\n",
       "    </tr>\n",
       "    <tr>\n",
       "      <th>1</th>\n",
       "      <td>Grand Theft Auto V</td>\n",
       "      <td>X360</td>\n",
       "      <td>2013</td>\n",
       "      <td>Action</td>\n",
       "      <td>9.66</td>\n",
       "      <td>5.14</td>\n",
       "      <td>0.06</td>\n",
       "      <td>1.41</td>\n",
       "      <td>97.0</td>\n",
       "      <td>8.1</td>\n",
       "      <td>M</td>\n",
       "      <td>16.27</td>\n",
       "    </tr>\n",
       "    <tr>\n",
       "      <th>2</th>\n",
       "      <td>Call of Duty: Black Ops 3</td>\n",
       "      <td>PS4</td>\n",
       "      <td>2015</td>\n",
       "      <td>Shooter</td>\n",
       "      <td>6.03</td>\n",
       "      <td>5.86</td>\n",
       "      <td>0.36</td>\n",
       "      <td>2.38</td>\n",
       "      <td>NaN</td>\n",
       "      <td>NaN</td>\n",
       "      <td>Unknown</td>\n",
       "      <td>14.63</td>\n",
       "    </tr>\n",
       "    <tr>\n",
       "      <th>3</th>\n",
       "      <td>Pokemon X/Pokemon Y</td>\n",
       "      <td>3DS</td>\n",
       "      <td>2013</td>\n",
       "      <td>Role-Playing</td>\n",
       "      <td>5.28</td>\n",
       "      <td>4.19</td>\n",
       "      <td>4.35</td>\n",
       "      <td>0.78</td>\n",
       "      <td>NaN</td>\n",
       "      <td>NaN</td>\n",
       "      <td>Unknown</td>\n",
       "      <td>14.60</td>\n",
       "    </tr>\n",
       "    <tr>\n",
       "      <th>4</th>\n",
       "      <td>Grand Theft Auto V</td>\n",
       "      <td>PS4</td>\n",
       "      <td>2014</td>\n",
       "      <td>Action</td>\n",
       "      <td>3.96</td>\n",
       "      <td>6.31</td>\n",
       "      <td>0.38</td>\n",
       "      <td>1.97</td>\n",
       "      <td>97.0</td>\n",
       "      <td>8.3</td>\n",
       "      <td>M</td>\n",
       "      <td>12.62</td>\n",
       "    </tr>\n",
       "    <tr>\n",
       "      <th>5</th>\n",
       "      <td>Pokemon Omega Ruby/Pokemon Alpha Sapphire</td>\n",
       "      <td>3DS</td>\n",
       "      <td>2014</td>\n",
       "      <td>Role-Playing</td>\n",
       "      <td>4.35</td>\n",
       "      <td>3.49</td>\n",
       "      <td>3.10</td>\n",
       "      <td>0.74</td>\n",
       "      <td>NaN</td>\n",
       "      <td>NaN</td>\n",
       "      <td>Unknown</td>\n",
       "      <td>11.68</td>\n",
       "    </tr>\n",
       "    <tr>\n",
       "      <th>6</th>\n",
       "      <td>Call of Duty: Ghosts</td>\n",
       "      <td>X360</td>\n",
       "      <td>2013</td>\n",
       "      <td>Shooter</td>\n",
       "      <td>6.73</td>\n",
       "      <td>2.56</td>\n",
       "      <td>0.04</td>\n",
       "      <td>0.91</td>\n",
       "      <td>73.0</td>\n",
       "      <td>2.6</td>\n",
       "      <td>M</td>\n",
       "      <td>10.24</td>\n",
       "    </tr>\n",
       "    <tr>\n",
       "      <th>7</th>\n",
       "      <td>Call of Duty: Ghosts</td>\n",
       "      <td>PS3</td>\n",
       "      <td>2013</td>\n",
       "      <td>Shooter</td>\n",
       "      <td>4.10</td>\n",
       "      <td>3.63</td>\n",
       "      <td>0.38</td>\n",
       "      <td>1.25</td>\n",
       "      <td>71.0</td>\n",
       "      <td>2.6</td>\n",
       "      <td>M</td>\n",
       "      <td>9.36</td>\n",
       "    </tr>\n",
       "    <tr>\n",
       "      <th>8</th>\n",
       "      <td>Minecraft</td>\n",
       "      <td>X360</td>\n",
       "      <td>2013</td>\n",
       "      <td>Misc</td>\n",
       "      <td>5.70</td>\n",
       "      <td>2.65</td>\n",
       "      <td>0.02</td>\n",
       "      <td>0.81</td>\n",
       "      <td>NaN</td>\n",
       "      <td>NaN</td>\n",
       "      <td>Unknown</td>\n",
       "      <td>9.18</td>\n",
       "    </tr>\n",
       "    <tr>\n",
       "      <th>9</th>\n",
       "      <td>FIFA 16</td>\n",
       "      <td>PS4</td>\n",
       "      <td>2015</td>\n",
       "      <td>Sports</td>\n",
       "      <td>1.12</td>\n",
       "      <td>6.12</td>\n",
       "      <td>0.06</td>\n",
       "      <td>1.28</td>\n",
       "      <td>82.0</td>\n",
       "      <td>4.3</td>\n",
       "      <td>E</td>\n",
       "      <td>8.58</td>\n",
       "    </tr>\n",
       "  </tbody>\n",
       "</table>\n",
       "</div>"
      ],
      "text/plain": [
       "                                        name platform  year_of_release  \\\n",
       "0                         Grand Theft Auto V      PS3             2013   \n",
       "1                         Grand Theft Auto V     X360             2013   \n",
       "2                  Call of Duty: Black Ops 3      PS4             2015   \n",
       "3                        Pokemon X/Pokemon Y      3DS             2013   \n",
       "4                         Grand Theft Auto V      PS4             2014   \n",
       "5  Pokemon Omega Ruby/Pokemon Alpha Sapphire      3DS             2014   \n",
       "6                       Call of Duty: Ghosts     X360             2013   \n",
       "7                       Call of Duty: Ghosts      PS3             2013   \n",
       "8                                  Minecraft     X360             2013   \n",
       "9                                    FIFA 16      PS4             2015   \n",
       "\n",
       "          genre  na_sales  eu_sales  jp_sales  other_sales  critic_score  \\\n",
       "0        Action      7.02      9.09      0.98         3.96          97.0   \n",
       "1        Action      9.66      5.14      0.06         1.41          97.0   \n",
       "2       Shooter      6.03      5.86      0.36         2.38           NaN   \n",
       "3  Role-Playing      5.28      4.19      4.35         0.78           NaN   \n",
       "4        Action      3.96      6.31      0.38         1.97          97.0   \n",
       "5  Role-Playing      4.35      3.49      3.10         0.74           NaN   \n",
       "6       Shooter      6.73      2.56      0.04         0.91          73.0   \n",
       "7       Shooter      4.10      3.63      0.38         1.25          71.0   \n",
       "8          Misc      5.70      2.65      0.02         0.81           NaN   \n",
       "9        Sports      1.12      6.12      0.06         1.28          82.0   \n",
       "\n",
       "   user_score   rating  sum_sale  \n",
       "0         8.2        M     21.05  \n",
       "1         8.1        M     16.27  \n",
       "2         NaN  Unknown     14.63  \n",
       "3         NaN  Unknown     14.60  \n",
       "4         8.3        M     12.62  \n",
       "5         NaN  Unknown     11.68  \n",
       "6         2.6        M     10.24  \n",
       "7         2.6        M      9.36  \n",
       "8         NaN  Unknown      9.18  \n",
       "9         4.3        E      8.58  "
      ]
     },
     "execution_count": 16,
     "metadata": {},
     "output_type": "execute_result"
    }
   ],
   "source": [
    "new_dt = dt[dt['year_of_release'] > 2012].reset_index(drop=True)\n",
    "\n",
    "new_dt.head(10)\n",
    "#new_dt.info()"
   ]
  },
  {
   "cell_type": "code",
   "execution_count": 17,
   "id": "30b939b1",
   "metadata": {},
   "outputs": [
    {
     "data": {
      "image/png": "[encoded data removed]",
      "text/plain": [
       "<Figure size 432x288 with 1 Axes>"
      ]
     },
     "metadata": {
      "needs_background": "light"
     },
     "output_type": "display_data"
    }
   ],
   "source": [
    "# Построим график зависимости продаж по платформам за все время\n",
    "platform_sales_all = dt.pivot_table(index='platform', values='sum_sale', aggfunc='sum').sort_values('sum_sale', ascending=False).plot(kind='bar')"
   ]
  },
  {
   "cell_type": "markdown",
   "id": "ad53feaf",
   "metadata": {},
   "source": [
    "Оценним продажи по платформам и за одно высянить срок жизни разных платформ"
   ]
  },
  {
   "cell_type": "code",
   "execution_count": 18,
   "id": "04fe9aac",
   "metadata": {},
   "outputs": [
    {
     "data": {
      "image/png": "[encoded data removed]",
      "text/plain": [
       "<Figure size 432x288 with 1 Axes>"
      ]
     },
     "metadata": {
      "needs_background": "light"
     },
     "output_type": "display_data"
    }
   ],
   "source": [
    "# Продажи по платформe PS2, распределение по годам.\n",
    "dt.query('platform == \"PS2\"').pivot_table(index='year_of_release', values='sum_sale', aggfunc='sum').plot(kind='bar');"
   ]
  },
  {
   "cell_type": "code",
   "execution_count": 19,
   "id": "272fe1f9",
   "metadata": {},
   "outputs": [
    {
     "data": {
      "image/png": "[encoded data removed]",
      "text/plain": [
       "<Figure size 432x288 with 1 Axes>"
      ]
     },
     "metadata": {
      "needs_background": "light"
     },
     "output_type": "display_data"
    }
   ],
   "source": [
    "# Продажи по платформe PS3, распределение по годам.\n",
    "dt.query('platform == \"PS3\"').pivot_table(index='year_of_release', values='sum_sale', aggfunc='sum').plot(kind='bar');"
   ]
  },
  {
   "cell_type": "code",
   "execution_count": 20,
   "id": "d87cbdf3",
   "metadata": {},
   "outputs": [
    {
     "data": {
      "image/png": "[encoded data removed]",
      "text/plain": [
       "<Figure size 432x288 with 1 Axes>"
      ]
     },
     "metadata": {
      "needs_background": "light"
     },
     "output_type": "display_data"
    }
   ],
   "source": [
    "# Продажи по платформe PS4, распределение по годам.\n",
    "dt.query('platform == \"PS4\"').pivot_table(index='year_of_release', values='sum_sale', aggfunc='sum').plot(kind='bar');"
   ]
  },
  {
   "cell_type": "markdown",
   "id": "03110619",
   "metadata": {},
   "source": [
    "PS наиболее яркий пример смены покалений, 5-6 лет и новая консоль, при этом максимальный охват происходит на 3 год"
   ]
  },
  {
   "cell_type": "code",
   "execution_count": 21,
   "id": "8e5d0098",
   "metadata": {},
   "outputs": [
    {
     "data": {
      "image/png": "[encoded data removed]",
      "text/plain": [
       "<Figure size 432x288 with 1 Axes>"
      ]
     },
     "metadata": {
      "needs_background": "light"
     },
     "output_type": "display_data"
    }
   ],
   "source": [
    "# Продажи по платформe x360, распределение по годам.\n",
    "dt.query('platform == \"X360\"').pivot_table(index='year_of_release', values='sum_sale', aggfunc='sum').plot(kind='bar');"
   ]
  },
  {
   "cell_type": "code",
   "execution_count": 22,
   "id": "8843a893",
   "metadata": {},
   "outputs": [
    {
     "data": {
      "image/png": "[encoded data removed]",
      "text/plain": [
       "<Figure size 432x288 with 1 Axes>"
      ]
     },
     "metadata": {
      "needs_background": "light"
     },
     "output_type": "display_data"
    }
   ],
   "source": [
    "# Продажи по платформe Xone, распределение по годам.\n",
    "dt.query('platform == \"XOne\"').pivot_table(index='year_of_release', values='sum_sale', aggfunc='sum').plot(kind='bar');"
   ]
  },
  {
   "cell_type": "markdown",
   "id": "1edffb87",
   "metadata": {},
   "source": [
    "Xbox отстает но не сдается, более длинная жизнь в 2010 году почти догнал показатели ПС2 по каличеству игр,\n",
    "что явно улучшело показатели платформы"
   ]
  },
  {
   "cell_type": "code",
   "execution_count": 23,
   "id": "bad8859d",
   "metadata": {},
   "outputs": [
    {
     "data": {
      "image/png": "[encoded data removed]",
      "text/plain": [
       "<Figure size 432x288 with 1 Axes>"
      ]
     },
     "metadata": {
      "needs_background": "light"
     },
     "output_type": "display_data"
    }
   ],
   "source": [
    "# Продажи по платформe Wii, распределение по годам.\n",
    "dt.query('platform == \"Wii\"').pivot_table(index='year_of_release', values='sum_sale', aggfunc='sum').plot(kind='bar');"
   ]
  },
  {
   "cell_type": "markdown",
   "id": "b9bb2e8c",
   "metadata": {},
   "source": [
    "Родоначальник платфор, гордый самурай боролся как мог до 2010 года, следом полный уход производителей из системы"
   ]
  },
  {
   "cell_type": "code",
   "execution_count": 24,
   "id": "447395b0",
   "metadata": {},
   "outputs": [
    {
     "data": {
      "image/png": "[encoded data removed]",
      "text/plain": [
       "<Figure size 432x288 with 1 Axes>"
      ]
     },
     "metadata": {
      "needs_background": "light"
     },
     "output_type": "display_data"
    }
   ],
   "source": [
    "new_dt.pivot_table(index='platform', values='sum_sale', aggfunc='sum').sort_values('sum_sale', ascending=False).plot(kind='bar');"
   ]
  },
  {
   "cell_type": "markdown",
   "id": "bb40cfcf",
   "metadata": {},
   "source": [
    "Взглянем на более важный показатель, продаже в разрезе платформ.\n",
    " - PS безусловный лидер, если прибавить сюда еще все поколения на которые продаются игры\n",
    " - X360 как более долго живушая платформа показывает хороший результат, но 5 месте уже виден приемник серии XOne\n",
    " - Wii суммарно выглядит неплохо со всеми смежными поклениями (WiiU, 3DS, DS), но 2016 будет закрыты продажи 3DS и WiiU, следвательно ее можно не брать в анализ\n",
    " - И завершает нашу великую тройку PC"
   ]
  },
  {
   "cell_type": "markdown",
   "id": "39eada4c",
   "metadata": {},
   "source": [
    "Для анализа надо брать свежие платформы с оглядкой на прошлое поколение, так как их продажи и поддержка еще будет иметь значение.\n",
    "Посмотрим кто ростет и кто падает"
   ]
  },
  {
   "cell_type": "code",
   "execution_count": 25,
   "id": "a038952e",
   "metadata": {},
   "outputs": [
    {
     "data": {
      "text/plain": [
       "<AxesSubplot:xlabel='year_of_release'>"
      ]
     },
     "execution_count": 25,
     "metadata": {},
     "output_type": "execute_result"
    },
    {
     "data": {
      "image/png": "[encoded data removed]",
      "text/plain": [
       "<Figure size 432x288 with 1 Axes>"
      ]
     },
     "metadata": {
      "needs_background": "light"
     },
     "output_type": "display_data"
    }
   ],
   "source": [
    "# Продажи по платформe PS4, распределение по годам.\n",
    "new_dt.query('platform == \"PS4\"').pivot_table(index='year_of_release', values='sum_sale', aggfunc='sum').plot(kind='line')"
   ]
  },
  {
   "cell_type": "code",
   "execution_count": 26,
   "id": "554cc9f7",
   "metadata": {},
   "outputs": [
    {
     "data": {
      "text/plain": [
       "<AxesSubplot:xlabel='year_of_release'>"
      ]
     },
     "execution_count": 26,
     "metadata": {},
     "output_type": "execute_result"
    },
    {
     "data": {
      "image/png": "[encoded data removed]",
      "text/plain": [
       "<Figure size 432x288 with 1 Axes>"
      ]
     },
     "metadata": {
      "needs_background": "light"
     },
     "output_type": "display_data"
    }
   ],
   "source": [
    "# Продажи по платформe PS3, распределение по годам.\n",
    "new_dt.query('platform == \"PS3\"').pivot_table(index='year_of_release', values='sum_sale', aggfunc='sum').plot(kind='line')"
   ]
  },
  {
   "cell_type": "code",
   "execution_count": 27,
   "id": "ac022b42",
   "metadata": {},
   "outputs": [
    {
     "data": {
      "text/plain": [
       "<AxesSubplot:xlabel='year_of_release'>"
      ]
     },
     "execution_count": 27,
     "metadata": {},
     "output_type": "execute_result"
    },
    {
     "data": {
      "image/png": "[encoded data removed]",
      "text/plain": [
       "<Figure size 432x288 with 1 Axes>"
      ]
     },
     "metadata": {
      "needs_background": "light"
     },
     "output_type": "display_data"
    }
   ],
   "source": [
    "# Продажи по платформe XOne, распределение по годам.\n",
    "new_dt.query('platform == \"XOne\"').pivot_table(index='year_of_release', values='sum_sale', aggfunc='sum').plot(kind='line')"
   ]
  },
  {
   "cell_type": "code",
   "execution_count": 28,
   "id": "116abda4",
   "metadata": {},
   "outputs": [
    {
     "data": {
      "text/plain": [
       "<AxesSubplot:xlabel='year_of_release'>"
      ]
     },
     "execution_count": 28,
     "metadata": {},
     "output_type": "execute_result"
    },
    {
     "data": {
      "image/png": "[encoded data removed]",
      "text/plain": [
       "<Figure size 432x288 with 1 Axes>"
      ]
     },
     "metadata": {
      "needs_background": "light"
     },
     "output_type": "display_data"
    }
   ],
   "source": [
    "# Продажи по платформe x360, распределение по годам.\n",
    "new_dt.query('platform == \"X360\"').pivot_table(index='year_of_release', values='sum_sale', aggfunc='sum').plot(kind='line')"
   ]
  },
  {
   "cell_type": "code",
   "execution_count": 29,
   "id": "147d7950",
   "metadata": {},
   "outputs": [
    {
     "data": {
      "text/plain": [
       "<AxesSubplot:xlabel='year_of_release'>"
      ]
     },
     "execution_count": 29,
     "metadata": {},
     "output_type": "execute_result"
    },
    {
     "data": {
      "image/png": "[encoded data removed]",
      "text/plain": [
       "<Figure size 432x288 with 1 Axes>"
      ]
     },
     "metadata": {
      "needs_background": "light"
     },
     "output_type": "display_data"
    }
   ],
   "source": [
    "# Продажи по платформe PC, распределение по годам.\n",
    "new_dt.query('platform == \"PC\"').pivot_table(index='year_of_release', values='sum_sale', aggfunc='sum').plot(kind='line')"
   ]
  },
  {
   "cell_type": "markdown",
   "id": "a4055246",
   "metadata": {},
   "source": [
    "И так, что мы видим...\n",
    "- Все падают.. 2014 год подкосил всех\n",
    "- Преспективы есть только у PS4 и XOne\n",
    "- Значит именно на этиъ платформах и сделуют строить прогнозы\n",
    "\n",
    "Построим график «ящик с усами» по глобальным продажам игр в разбивке по платформам."
   ]
  },
  {
   "cell_type": "code",
   "execution_count": 30,
   "id": "8cee675d",
   "metadata": {},
   "outputs": [],
   "source": [
    "import seaborn as sns\n",
    "import matplotlib.pyplot as plt"
   ]
  },
  {
   "cell_type": "code",
   "execution_count": 64,
   "id": "ce2f02f0",
   "metadata": {},
   "outputs": [
    {
     "data": {
      "image/png": "[encoded data removed]",
      "text/plain": [
       "<Figure size 1080x720 with 1 Axes>"
      ]
     },
     "metadata": {
      "needs_background": "light"
     },
     "output_type": "display_data"
    }
   ],
   "source": [
    "plt.figure(figsize=(15,10))\n",
    "plt.ylim(0,1)\n",
    "sns.boxplot(x='platform',y='sum_sale',data=new_dt);"
   ]
  },
  {
   "cell_type": "code",
   "execution_count": 32,
   "id": "9efce3ad",
   "metadata": {},
   "outputs": [
    {
     "data": {
      "text/html": [
       "<div>\n",
       "<style scoped>\n",
       "    .dataframe tbody tr th:only-of-type {\n",
       "        vertical-align: middle;\n",
       "    }\n",
       "\n",
       "    .dataframe tbody tr th {\n",
       "        vertical-align: top;\n",
       "    }\n",
       "\n",
       "    .dataframe thead tr th {\n",
       "        text-align: left;\n",
       "    }\n",
       "\n",
       "    .dataframe thead tr:last-of-type th {\n",
       "        text-align: right;\n",
       "    }\n",
       "</style>\n",
       "<table border=\"1\" class=\"dataframe\">\n",
       "  <thead>\n",
       "    <tr>\n",
       "      <th></th>\n",
       "      <th>var</th>\n",
       "      <th>median</th>\n",
       "      <th>mean</th>\n",
       "    </tr>\n",
       "    <tr>\n",
       "      <th></th>\n",
       "      <th>sum_sale</th>\n",
       "      <th>sum_sale</th>\n",
       "      <th>sum_sale</th>\n",
       "    </tr>\n",
       "    <tr>\n",
       "      <th>platform</th>\n",
       "      <th></th>\n",
       "      <th></th>\n",
       "      <th></th>\n",
       "    </tr>\n",
       "  </thead>\n",
       "  <tbody>\n",
       "    <tr>\n",
       "      <th>3DS</th>\n",
       "      <td>1.908119</td>\n",
       "      <td>0.090</td>\n",
       "      <td>0.472772</td>\n",
       "    </tr>\n",
       "    <tr>\n",
       "      <th>DS</th>\n",
       "      <td>0.029593</td>\n",
       "      <td>0.150</td>\n",
       "      <td>0.192500</td>\n",
       "    </tr>\n",
       "    <tr>\n",
       "      <th>PC</th>\n",
       "      <td>0.124118</td>\n",
       "      <td>0.080</td>\n",
       "      <td>0.208624</td>\n",
       "    </tr>\n",
       "    <tr>\n",
       "      <th>PS3</th>\n",
       "      <td>2.108128</td>\n",
       "      <td>0.150</td>\n",
       "      <td>0.525884</td>\n",
       "    </tr>\n",
       "    <tr>\n",
       "      <th>PS4</th>\n",
       "      <td>2.590350</td>\n",
       "      <td>0.200</td>\n",
       "      <td>0.801378</td>\n",
       "    </tr>\n",
       "    <tr>\n",
       "      <th>PSP</th>\n",
       "      <td>0.003572</td>\n",
       "      <td>0.020</td>\n",
       "      <td>0.052239</td>\n",
       "    </tr>\n",
       "    <tr>\n",
       "      <th>PSV</th>\n",
       "      <td>0.023660</td>\n",
       "      <td>0.040</td>\n",
       "      <td>0.092151</td>\n",
       "    </tr>\n",
       "    <tr>\n",
       "      <th>Wii</th>\n",
       "      <td>0.838016</td>\n",
       "      <td>0.180</td>\n",
       "      <td>0.593913</td>\n",
       "    </tr>\n",
       "    <tr>\n",
       "      <th>WiiU</th>\n",
       "      <td>1.079060</td>\n",
       "      <td>0.200</td>\n",
       "      <td>0.562000</td>\n",
       "    </tr>\n",
       "    <tr>\n",
       "      <th>X360</th>\n",
       "      <td>2.766484</td>\n",
       "      <td>0.265</td>\n",
       "      <td>0.735484</td>\n",
       "    </tr>\n",
       "    <tr>\n",
       "      <th>XOne</th>\n",
       "      <td>1.073584</td>\n",
       "      <td>0.220</td>\n",
       "      <td>0.645020</td>\n",
       "    </tr>\n",
       "  </tbody>\n",
       "</table>\n",
       "</div>"
      ],
      "text/plain": [
       "               var   median      mean\n",
       "          sum_sale sum_sale  sum_sale\n",
       "platform                             \n",
       "3DS       1.908119    0.090  0.472772\n",
       "DS        0.029593    0.150  0.192500\n",
       "PC        0.124118    0.080  0.208624\n",
       "PS3       2.108128    0.150  0.525884\n",
       "PS4       2.590350    0.200  0.801378\n",
       "PSP       0.003572    0.020  0.052239\n",
       "PSV       0.023660    0.040  0.092151\n",
       "Wii       0.838016    0.180  0.593913\n",
       "WiiU      1.079060    0.200  0.562000\n",
       "X360      2.766484    0.265  0.735484\n",
       "XOne      1.073584    0.220  0.645020"
      ]
     },
     "execution_count": 32,
     "metadata": {},
     "output_type": "execute_result"
    }
   ],
   "source": [
    "new_dt.pivot_table(index = 'platform', values = ['sum_sale'],aggfunc = ['var', 'median', 'mean'])"
   ]
  },
  {
   "cell_type": "markdown",
   "id": "47e8b147",
   "metadata": {},
   "source": [
    "- Хороший показатель у медиан 0.3- 0.35 среди платформ Xbox, PS4 и WiiU\n",
    "- Высота выбросоп показывает что отдельный игры могут сильно поднимать показатели в целом платформы.\n",
    "- Размах у основных конкурентов очень похож, в диапазоне +1.5"
   ]
  },
  {
   "cell_type": "markdown",
   "id": "e0b44449",
   "metadata": {},
   "source": [
    "Увы стория убила WiiU в том же 2016 году... но потом в 2017 Wii неожиданно ожила, но мы то этого не знаем!"
   ]
  },
  {
   "cell_type": "markdown",
   "id": "c297e9af",
   "metadata": {},
   "source": [
    "Посмотрите, как влияют на продажи внутри одной популярной платформы отзывы пользователей и критиков. Постройте диаграмму рассеяния и посчитайте корреляцию между отзывами и продажами. Сформулируйте выводы."
   ]
  },
  {
   "cell_type": "code",
   "execution_count": 69,
   "id": "7f6d1865",
   "metadata": {},
   "outputs": [
    {
     "data": {
      "image/png": "[encoded data removed]",
      "text/plain": [
       "<Figure size 432x288 with 1 Axes>"
      ]
     },
     "metadata": {
      "needs_background": "light"
     },
     "output_type": "display_data"
    }
   ],
   "source": [
    "new_dt.query('platform==\"PS4\"').sort_values(by='critic_score',ascending=True).plot(kind='scatter',x='critic_score',y='sum_sale');"
   ]
  },
  {
   "cell_type": "code",
   "execution_count": 70,
   "id": "bc895c0e",
   "metadata": {},
   "outputs": [
    {
     "data": {
      "image/png": "[encoded data removed]",
      "text/plain": [
       "<Figure size 432x288 with 1 Axes>"
      ]
     },
     "metadata": {
      "needs_background": "light"
     },
     "output_type": "display_data"
    }
   ],
   "source": [
    "new_dt.query('platform==\"PS4\"').sort_values(by='critic_score',ascending=True).plot(kind='scatter',x='user_score',y='sum_sale');"
   ]
  },
  {
   "cell_type": "code",
   "execution_count": 66,
   "id": "9c7309ad",
   "metadata": {},
   "outputs": [
    {
     "data": {
      "text/plain": [
       "0.406567902061781"
      ]
     },
     "execution_count": 66,
     "metadata": {},
     "output_type": "execute_result"
    }
   ],
   "source": [
    "ps4_compare['sum_sale'].corr(ps4_compare['critic_score'])"
   ]
  },
  {
   "cell_type": "code",
   "execution_count": 36,
   "id": "6e1622fa",
   "metadata": {},
   "outputs": [
    {
     "data": {
      "text/plain": [
       "-0.031957110204556376"
      ]
     },
     "execution_count": 36,
     "metadata": {},
     "output_type": "execute_result"
    }
   ],
   "source": [
    "ps4_compare['sum_sale'].corr(ps4_compare['user_score'])"
   ]
  },
  {
   "cell_type": "code",
   "execution_count": 68,
   "id": "ec071ce0",
   "metadata": {},
   "outputs": [
    {
     "data": {
      "image/png": "[encoded data removed]",
      "text/plain": [
       "<Figure size 432x288 with 1 Axes>"
      ]
     },
     "metadata": {
      "needs_background": "light"
     },
     "output_type": "display_data"
    }
   ],
   "source": [
    "new_dt.query('platform==\"XOne\"').sort_values(by='critic_score',ascending=True).plot(kind='scatter',x='critic_score',y='sum_sale');"
   ]
  },
  {
   "cell_type": "code",
   "execution_count": 67,
   "id": "7c8c528f",
   "metadata": {},
   "outputs": [
    {
     "data": {
      "image/png": "[encoded data removed]",
      "text/plain": [
       "<Figure size 432x288 with 1 Axes>"
      ]
     },
     "metadata": {
      "needs_background": "light"
     },
     "output_type": "display_data"
    }
   ],
   "source": [
    "new_dt.query('platform==\"XOne\"').sort_values(by='critic_score',ascending=True).plot(kind='scatter',x='user_score',y='sum_sale');"
   ]
  },
  {
   "cell_type": "code",
   "execution_count": 39,
   "id": "cf2d6fc3",
   "metadata": {},
   "outputs": [
    {
     "data": {
      "text/plain": [
       "0.41699832800840175"
      ]
     },
     "execution_count": 39,
     "metadata": {},
     "output_type": "execute_result"
    }
   ],
   "source": [
    "xone_compare = new_dt.query('platform==\"XOne\"')\n",
    "xone_compare['sum_sale'].corr(xone_compare['critic_score'])"
   ]
  },
  {
   "cell_type": "code",
   "execution_count": 40,
   "id": "5a136e74",
   "metadata": {},
   "outputs": [
    {
     "data": {
      "text/plain": [
       "-0.06892505328279412"
      ]
     },
     "execution_count": 40,
     "metadata": {},
     "output_type": "execute_result"
    }
   ],
   "source": [
    "xone_compare['sum_sale'].corr(xone_compare['user_score'])"
   ]
  },
  {
   "cell_type": "markdown",
   "id": "03b8d01b",
   "metadata": {},
   "source": [
    "Вывод:\n",
    "- Судя по графиками пользователи более склонные ставить низкие оценки в отличие от критиков, ОСОБЕННО на тайлы которые имеют высокие продажи\n",
    "- Кореляция связи продажи и отзывов ниже проговых значений у ПС(0.406 и -0.031), у ХБох (0.416 и -0.068)\n",
    "- я бы еще сказал что у ПС в целом более высокие оценки по играм, чем у ХБокс"
   ]
  },
  {
   "cell_type": "code",
   "execution_count": 41,
   "id": "78a322d6",
   "metadata": {},
   "outputs": [
    {
     "data": {
      "image/png": "[encoded data removed]",
      "text/plain": [
       "<Figure size 936x576 with 1 Axes>"
      ]
     },
     "metadata": {
      "needs_background": "light"
     },
     "output_type": "display_data"
    }
   ],
   "source": [
    "# Построим график распределения продаж по жанрам игр\n",
    "plt.figure(figsize=(13, 8))\n",
    "platform_sales_fresh = new_dt.pivot_table(index='genre', values='sum_sale', aggfunc='sum').sort_values('sum_sale', ascending=False)\n",
    "(sns.barplot(data = platform_sales_fresh, x = platform_sales_fresh.index, y = 'sum_sale', color = 'green')\n",
    "    .set(title = 'Продажи по жанрам c 2012 года', xlabel = 'Платформы', ylabel = 'Общие продажи'))\n",
    "plt.show()"
   ]
  },
  {
   "cell_type": "markdown",
   "id": "6afd9cc9",
   "metadata": {},
   "source": [
    "<div class=\"alert alert-warning\">\n",
    "    <h2> Комментарий ревьюера <a class=\"tocSkip\"> </h2>\n",
    "    \n",
    "<b>Небольшие замечания и рекомендации💡:</b> Было бы не лишним взглянуть на медиану"
   ]
  },
  {
   "cell_type": "markdown",
   "id": "1fc9381c",
   "metadata": {},
   "source": [
    "### Составьте портрет пользователя каждого региона"
   ]
  },
  {
   "cell_type": "markdown",
   "id": "e39d1f40",
   "metadata": {},
   "source": [
    "Определите для пользователя каждого региона (NA, EU, JP):\n",
    " - Самые популярные платформы (топ-5). Опишите различия в долях продаж.\n",
    " - Самые популярные жанры (топ-5). Поясните разницу.\n",
    " - Влияет ли рейтинг ESRB на продажи в отдельном регионе?\n"
   ]
  },
  {
   "cell_type": "code",
   "execution_count": 42,
   "id": "8bf5b831",
   "metadata": {},
   "outputs": [
    {
     "data": {
      "image/png": "[encoded data removed]",
      "text/plain": [
       "<Figure size 864x576 with 1 Axes>"
      ]
     },
     "metadata": {
      "needs_background": "light"
     },
     "output_type": "display_data"
    }
   ],
   "source": [
    "# \n",
    "na_platf = new_dt.groupby(['platform'])['na_sales'].agg(['sum'])\n",
    "# сумма проданных копий для Европы по платформам\n",
    "eu_platf = new_dt.groupby(['platform'])['eu_sales'].agg(['sum'])\n",
    "# сумма проданных копий для Японии по платформам\n",
    "jp_platf = new_dt.groupby(['platform'])['jp_sales'].agg(['sum'])\n",
    "# объединяем Series\n",
    "users_platf = pd.concat([na_platf, eu_platf, jp_platf], axis=1).reset_index()\n",
    "users_platf.columns = ['platform', 'american_user', 'europe_user', 'japan_user']\n",
    "users_platf = users_platf.sort_values(by='american_user', ascending=False)\n",
    "# строим bar plot\n",
    "users_platf.plot.bar(x=\"platform\", rot=0, figsize =(12, 8))\n",
    "plt.title('Сравнение популярности платформ в разных странах', fontsize=14)\n",
    "plt.xlabel('Платформы', fontsize=10)\n",
    "plt.ylabel('Продажи, млн шт',fontsize=12)\n",
    "plt.show()"
   ]
  },
  {
   "cell_type": "markdown",
   "id": "272d107a",
   "metadata": {},
   "source": [
    "Выводы:\n",
    "- Видно серьезное разделение рынков по платформам (PS- это рынки европы и азии)и (Xbox - это рынок Северной Америки и Европы)\n",
    "- Так же видно что Азиатский рынок сильно отличается от Европы и Америки (большое наличие 3DS, WiiU, PSV, PSP)"
   ]
  },
  {
   "cell_type": "code",
   "execution_count": 43,
   "id": "d6d6a057",
   "metadata": {},
   "outputs": [
    {
     "data": {
      "image/png": "[encoded data removed]",
      "text/plain": [
       "<Figure size 1080x576 with 1 Axes>"
      ]
     },
     "metadata": {
      "needs_background": "light"
     },
     "output_type": "display_data"
    }
   ],
   "source": [
    "na_genre = new_dt.groupby(['genre'])['na_sales'].agg(['sum'])\n",
    "# сумма проданных копий для Европы по жанрам\n",
    "eu_genre = new_dt.groupby(['genre'])['eu_sales'].agg(['sum'])\n",
    "# сумма проданных копий для Японии по жанрам\n",
    "jp_genre = new_dt.groupby(['genre'])['jp_sales'].agg(['sum'])\n",
    "# объединяем Series\n",
    "users_genre = pd.concat([na_genre, eu_genre, jp_genre], axis=1).reset_index()\n",
    "users_genre.columns = ['genre', 'american_user', 'europe_user', 'japan_user']\n",
    "users_genre = users_genre.sort_values(by='american_user', ascending=False)\n",
    "# строим bar plot\n",
    "users_genre.plot.bar(x=\"genre\", rot=0, figsize =(15, 8))\n",
    "plt.title('Сравнение популярности жанров в разных странах', fontsize=14)\n",
    "plt.xlabel('Жанры', fontsize=10)\n",
    "plt.ylabel('Продажи, млн шт',fontsize=12)\n",
    "plt.show()"
   ]
  },
  {
   "cell_type": "markdown",
   "id": "2cc9e18a",
   "metadata": {},
   "source": [
    "Выводы:\n",
    "- Action & Shooter доминуреут на рынках Европы и Америки ( 1 и 2 ТОП)\n",
    "- На 3 месте у жанра Sport , и опять рынки Европы и Америки\n",
    "- Неожиданно ТОП 1 Азии и ТОП 4, это Role-playing \n",
    "- Замыкает ТОП 5, Музыкальные с присутствием на всех рынках"
   ]
  },
  {
   "cell_type": "code",
   "execution_count": 44,
   "id": "ac62f1ea",
   "metadata": {},
   "outputs": [
    {
     "data": {
      "image/png": "[encoded data removed]",
      "text/plain": [
       "<Figure size 1080x576 with 1 Axes>"
      ]
     },
     "metadata": {
      "needs_background": "light"
     },
     "output_type": "display_data"
    }
   ],
   "source": [
    "na_rating = new_dt.groupby(['rating'])['na_sales'].agg(['sum'])\n",
    "# сумма проданных копий для Европы по рейтингу\n",
    "eu_rating = new_dt.groupby(['rating'])['eu_sales'].agg(['sum'])\n",
    "# сумма проданных копий для Японии по рейтингу\n",
    "jp_rating = new_dt.groupby(['rating'])['jp_sales'].agg(['sum'])\n",
    "# объединяем Series \n",
    "users_rat = pd.concat([na_rating, eu_rating, jp_rating], axis=1).reset_index()\n",
    "users_rat.columns = ['rating', 'american_user', 'europe_user', 'japan_user']\n",
    "users_rat = users_rat.sort_values(by='american_user', ascending=False)\n",
    "users_rat \n",
    "# строим bar plot\n",
    "users_rat.plot.bar(x=\"rating\", rot=0, figsize =(15, 8))\n",
    "plt.title('Сравнение популярности рейтингов игр в разных странах', fontsize=14)\n",
    "plt.xlabel('Рейтинг', fontsize=10)\n",
    "plt.ylabel('Продажи, млн шт',fontsize=12)\n",
    "plt.show()"
   ]
  },
  {
   "cell_type": "markdown",
   "id": "76386b21",
   "metadata": {},
   "source": [
    "Легенда:\n",
    " - «E10+» («Everyone 10 and older») — «Для всех от 10 лет и старше»\n",
    " - «T» («Teen») — «Подросткам» от 13 лет\n",
    " - «M» («Mature») — «Для взрослых» от 17 лет\n",
    " - «E» («Everyone») — «Для всех» от 6 лет"
   ]
  },
  {
   "cell_type": "markdown",
   "id": "718b257b",
   "metadata": {},
   "source": [
    "Рейтнг игр показывает нам основных потребителей контента:\n",
    "  - ТОП это игроки 17+ в Европе и Америке\n",
    "  - \"Е\" 2 наиболее популярный рейтинг\n",
    "  - Интересно что \"Т\" этот рейтинг наиболее распростанен в Азиатском регионе\n",
    "  \n",
    "  - Заглушка показала очень интересную однородность в рынках ( интересно это какая то ошибка в данных или у этого жнра просто нет рейтинга) Я бы даже предположил что это возможно Роле_Плей жанр )))"
   ]
  },
  {
   "cell_type": "markdown",
   "id": "5df40f31",
   "metadata": {},
   "source": [
    "### Проверьте гипотезы\n",
    "- Средние пользовательские рейтинги платформ Xbox One и PC одинаковые;\n",
    "- Средние пользовательские рейтинги жанров Action (англ. «действие», экшен-игры) и Sports (англ. «спортивные соревнования») разные."
   ]
  },
  {
   "cell_type": "markdown",
   "id": "0b1b3395",
   "metadata": {},
   "source": [
    "Нулевая гипотеза: Средние пользовательские рейтинги платформ Xbox One и PC одинаковые.\n",
    "\n",
    "Альтернативная гипотеза: Средние пользовательские рейтинги платформ Xbox One и PC различаются."
   ]
  },
  {
   "cell_type": "code",
   "execution_count": 45,
   "id": "d1ad3fcb",
   "metadata": {},
   "outputs": [],
   "source": [
    "import numpy as np\n",
    "from scipy import stats as st"
   ]
  },
  {
   "cell_type": "code",
   "execution_count": 46,
   "id": "9c7f94c4",
   "metadata": {},
   "outputs": [],
   "source": [
    "clean_dt = new_dt.dropna(subset = ['user_score'])"
   ]
  },
  {
   "cell_type": "code",
   "execution_count": 47,
   "id": "c0743466",
   "metadata": {},
   "outputs": [
    {
     "name": "stdout",
     "output_type": "stream",
     "text": [
      "p-значение: 0.14012658403611647\n",
      "Не получилось отвергнуть нулевую гипотезу\n"
     ]
    }
   ],
   "source": [
    "results = st.ttest_ind(clean_dt.query('platform == \"XOne\"')['user_score'], clean_dt.query('platform == \"PC\"')['user_score'])\n",
    "\n",
    "alpha = .03\n",
    "print('p-значение:', results.pvalue)\n",
    "\n",
    "if results.pvalue < alpha:\n",
    "    print(\"Отвергаем нулевую гипотезу\")\n",
    "else:\n",
    "    print(\"Не получилось отвергнуть нулевую гипотезу\")"
   ]
  },
  {
   "cell_type": "markdown",
   "id": "2ffcd472",
   "metadata": {},
   "source": [
    "Кореляция не показала зависимости что рейтинг разниться между пользователями Xbox One и PC. В целом если знать что это по суди идыная платформа и единая компания, было бы странно найти здесь серьзное отличие.\n",
    "\n",
    "НО как и до этого показала зависимость продаж от рейтинга, рейтинг нужен только как повод упоминания ))"
   ]
  },
  {
   "cell_type": "markdown",
   "id": "abc71dd9",
   "metadata": {},
   "source": [
    "#### Средние пользовательские рейтинги жанров Action и Sports разные\n",
    "Нулевая гипотеза: Средние пользовательские рейтинги жанров Action и Sports одинаковые.\n",
    "\n",
    "Альтернативная гипотеза: Средние пользовательские рейтинги жанров Action и Sports различаются."
   ]
  },
  {
   "cell_type": "code",
   "execution_count": 48,
   "id": "443a188e",
   "metadata": {},
   "outputs": [
    {
     "name": "stdout",
     "output_type": "stream",
     "text": [
      "p-значение: 1.0517832389140023e-27\n",
      "Отвергаем нулевую гипотезу\n"
     ]
    }
   ],
   "source": [
    "results = st.ttest_ind(clean_dt.query('genre == \"Action\"')['user_score'], clean_dt.query('genre == \"Sports\"')['user_score'])\n",
    "\n",
    "alpha = .03 # критический уровень статистической значимости\n",
    "# если p-value окажется меньше него - отвегнем гипотезу\n",
    "\n",
    "print('p-значение:', results.pvalue)\n",
    "\n",
    "if results.pvalue < alpha:\n",
    "    print(\"Отвергаем нулевую гипотезу\")\n",
    "else:\n",
    "    print(\"Не получилось отвергнуть нулевую гипотезу\")"
   ]
  },
  {
   "cell_type": "code",
   "execution_count": 49,
   "id": "3bd72f41",
   "metadata": {},
   "outputs": [
    {
     "data": {
      "text/plain": [
       "160"
      ]
     },
     "execution_count": 49,
     "metadata": {},
     "output_type": "execute_result"
    }
   ],
   "source": [
    "clean_dt.query('genre == \"Sports\"')['name'].count()"
   ]
  },
  {
   "cell_type": "code",
   "execution_count": 50,
   "id": "6e452c22",
   "metadata": {},
   "outputs": [
    {
     "data": {
      "text/plain": [
       "389"
      ]
     },
     "execution_count": 50,
     "metadata": {},
     "output_type": "execute_result"
    }
   ],
   "source": [
    "clean_dt.query('genre == \"Action\"')['name'].count()"
   ]
  },
  {
   "cell_type": "markdown",
   "id": "af23ae0d",
   "metadata": {},
   "source": [
    "Средние пользовательские рейтинги жанров Action и Sports различаются.\n",
    "НО есть 2 но...\n",
    "- Выборка по Action в 2 раза больше(а по закону больших числе, чем больше выборка тем более точнее среднее)\n",
    "- Остаеться только радоваться те тем пользователей которыее более удовлетворены продуктом"
   ]
  },
  {
   "cell_type": "markdown",
   "id": "350d9e74",
   "metadata": {},
   "source": [
    "## Вывод:"
   ]
  },
  {
   "cell_type": "markdown",
   "id": "4ad8124a",
   "metadata": {},
   "source": [
    "<div style=\"alert alert-success\">\n",
    "<br /> \n",
    "<font size=\"3\", color = \"black\">\n",
    "<br /> \n",
    "Строя прогноз на продажи на 2017 год, мои рекомендации такие:\n",
    "- Тенденция на синжения продаж сохранится (Но основные платформы сохранять или даже приумножат свою прибыль XBox & PS)\n",
    "- В целом отзывы критиков и пользователей, не сильно влияют на продажи\n",
    "- Определенная платформа сильно разделяет рынки сбыта\n",
    "- Самые популярные жанры имеют почти равный интерес у пользователей (Action, Shooter, Sports), кроме Азиатского рынка (Role-Playing)\n",
    "- И выбирая игру для разработки, нужно учитывать ее рейтинг \"Mature\" имеет большее число продаж, а \"Teen\" лучший аланс среди регионов\n",
    "    \n",
    "- В целом выводы остались такими же, но Unknown рейтинг немного подлил вопросов.\n",
    "- Если не знать что Wii во всю разрабатывает новую консоль, мои выводы остаются прежними ХБох + ПС4 и жанр Action будет в топе) "
   ]
  }
 ],
 "metadata": {
  "ExecuteTimeLog": [
   {
    "duration": 382,
    "start_time": "2022-09-15T14:38:30.579Z"
   },
   {
    "duration": 106,
    "start_time": "2022-09-15T14:38:30.967Z"
   },
   {
    "duration": 17,
    "start_time": "2022-09-15T14:38:31.076Z"
   },
   {
    "duration": 55,
    "start_time": "2022-09-15T14:38:31.094Z"
   },
   {
    "duration": 10,
    "start_time": "2022-09-15T14:38:31.151Z"
   },
   {
    "duration": 12,
    "start_time": "2022-09-15T14:38:31.163Z"
   },
   {
    "duration": 27,
    "start_time": "2022-09-15T14:38:31.176Z"
   },
   {
    "duration": 18,
    "start_time": "2022-09-15T14:38:31.206Z"
   },
   {
    "duration": 4,
    "start_time": "2022-09-15T14:38:31.226Z"
   },
   {
    "duration": 14,
    "start_time": "2022-09-15T14:38:31.232Z"
   },
   {
    "duration": 17,
    "start_time": "2022-09-15T14:38:31.248Z"
   },
   {
    "duration": 31,
    "start_time": "2022-09-15T14:38:31.266Z"
   },
   {
    "duration": 376,
    "start_time": "2022-09-15T14:38:31.299Z"
   },
   {
    "duration": 211,
    "start_time": "2022-09-15T14:38:31.678Z"
   },
   {
    "duration": 18,
    "start_time": "2022-09-15T14:38:31.890Z"
   },
   {
    "duration": 395,
    "start_time": "2022-09-15T14:38:31.910Z"
   },
   {
    "duration": 207,
    "start_time": "2022-09-15T14:38:32.307Z"
   },
   {
    "duration": 188,
    "start_time": "2022-09-15T14:38:32.515Z"
   },
   {
    "duration": 143,
    "start_time": "2022-09-15T14:38:32.705Z"
   },
   {
    "duration": 198,
    "start_time": "2022-09-15T14:38:32.850Z"
   },
   {
    "duration": 169,
    "start_time": "2022-09-15T14:38:33.050Z"
   },
   {
    "duration": 200,
    "start_time": "2022-09-15T14:38:33.221Z"
   },
   {
    "duration": 207,
    "start_time": "2022-09-15T14:38:33.423Z"
   },
   {
    "duration": 175,
    "start_time": "2022-09-15T14:38:33.632Z"
   },
   {
    "duration": 160,
    "start_time": "2022-09-15T14:38:33.809Z"
   },
   {
    "duration": 170,
    "start_time": "2022-09-15T14:38:33.971Z"
   },
   {
    "duration": 219,
    "start_time": "2022-09-15T14:38:34.142Z"
   },
   {
    "duration": 167,
    "start_time": "2022-09-15T14:38:34.363Z"
   },
   {
    "duration": 466,
    "start_time": "2022-09-15T14:38:34.531Z"
   },
   {
    "duration": 296,
    "start_time": "2022-09-15T14:38:34.998Z"
   },
   {
    "duration": 25,
    "start_time": "2022-09-15T14:38:35.295Z"
   },
   {
    "duration": 241,
    "start_time": "2022-09-15T14:38:35.322Z"
   },
   {
    "duration": 102,
    "start_time": "2022-09-15T14:38:35.564Z"
   },
   {
    "duration": 0,
    "start_time": "2022-09-15T14:38:35.668Z"
   },
   {
    "duration": 0,
    "start_time": "2022-09-15T14:38:35.669Z"
   },
   {
    "duration": 0,
    "start_time": "2022-09-15T14:38:35.670Z"
   },
   {
    "duration": 0,
    "start_time": "2022-09-15T14:38:35.671Z"
   },
   {
    "duration": 0,
    "start_time": "2022-09-15T14:38:35.672Z"
   },
   {
    "duration": 0,
    "start_time": "2022-09-15T14:38:35.673Z"
   },
   {
    "duration": 0,
    "start_time": "2022-09-15T14:38:35.674Z"
   },
   {
    "duration": 0,
    "start_time": "2022-09-15T14:38:35.675Z"
   },
   {
    "duration": 0,
    "start_time": "2022-09-15T14:38:35.676Z"
   },
   {
    "duration": 0,
    "start_time": "2022-09-15T14:38:35.677Z"
   },
   {
    "duration": 0,
    "start_time": "2022-09-15T14:38:35.678Z"
   },
   {
    "duration": 0,
    "start_time": "2022-09-15T14:38:35.679Z"
   },
   {
    "duration": 0,
    "start_time": "2022-09-15T14:38:35.680Z"
   },
   {
    "duration": 0,
    "start_time": "2022-09-15T14:38:35.681Z"
   },
   {
    "duration": 0,
    "start_time": "2022-09-15T14:38:35.682Z"
   },
   {
    "duration": 0,
    "start_time": "2022-09-15T14:38:35.683Z"
   },
   {
    "duration": 7,
    "start_time": "2022-09-15T14:51:20.541Z"
   },
   {
    "duration": 5,
    "start_time": "2022-09-15T14:51:20.865Z"
   },
   {
    "duration": 159,
    "start_time": "2022-09-15T14:51:21.140Z"
   },
   {
    "duration": 162,
    "start_time": "2022-09-15T14:51:21.340Z"
   },
   {
    "duration": 8,
    "start_time": "2022-09-15T14:51:21.506Z"
   },
   {
    "duration": 4,
    "start_time": "2022-09-15T14:51:21.687Z"
   },
   {
    "duration": 201,
    "start_time": "2022-09-15T14:51:22.040Z"
   },
   {
    "duration": 246,
    "start_time": "2022-09-15T14:51:22.637Z"
   },
   {
    "duration": 245,
    "start_time": "2022-09-15T14:51:23.005Z"
   },
   {
    "duration": 205,
    "start_time": "2022-09-15T14:51:23.387Z"
   },
   {
    "duration": 2,
    "start_time": "2022-09-15T14:51:24.354Z"
   },
   {
    "duration": 5,
    "start_time": "2022-09-15T14:51:24.542Z"
   },
   {
    "duration": 9,
    "start_time": "2022-09-15T14:51:24.709Z"
   },
   {
    "duration": 10,
    "start_time": "2022-09-15T14:51:25.365Z"
   },
   {
    "duration": 7,
    "start_time": "2022-09-15T14:51:25.534Z"
   },
   {
    "duration": 6,
    "start_time": "2022-09-15T14:51:25.700Z"
   },
   {
    "duration": 389,
    "start_time": "2022-09-16T13:01:19.098Z"
   },
   {
    "duration": 96,
    "start_time": "2022-09-16T13:01:19.489Z"
   },
   {
    "duration": 14,
    "start_time": "2022-09-16T13:01:19.587Z"
   },
   {
    "duration": 30,
    "start_time": "2022-09-16T13:01:19.603Z"
   },
   {
    "duration": 9,
    "start_time": "2022-09-16T13:01:19.634Z"
   },
   {
    "duration": 8,
    "start_time": "2022-09-16T13:01:19.644Z"
   },
   {
    "duration": 16,
    "start_time": "2022-09-16T13:01:19.654Z"
   },
   {
    "duration": 14,
    "start_time": "2022-09-16T13:01:19.671Z"
   },
   {
    "duration": 10,
    "start_time": "2022-09-16T13:01:19.687Z"
   },
   {
    "duration": 17,
    "start_time": "2022-09-16T13:01:19.700Z"
   },
   {
    "duration": 8,
    "start_time": "2022-09-16T13:01:19.719Z"
   },
   {
    "duration": 33,
    "start_time": "2022-09-16T13:01:19.728Z"
   },
   {
    "duration": 4,
    "start_time": "2022-09-16T13:01:19.763Z"
   },
   {
    "duration": 384,
    "start_time": "2022-09-16T13:01:19.769Z"
   },
   {
    "duration": 228,
    "start_time": "2022-09-16T13:01:20.155Z"
   },
   {
    "duration": 20,
    "start_time": "2022-09-16T13:01:20.385Z"
   },
   {
    "duration": 378,
    "start_time": "2022-09-16T13:01:20.407Z"
   },
   {
    "duration": 203,
    "start_time": "2022-09-16T13:01:20.787Z"
   },
   {
    "duration": 202,
    "start_time": "2022-09-16T13:01:20.991Z"
   },
   {
    "duration": 148,
    "start_time": "2022-09-16T13:01:21.194Z"
   },
   {
    "duration": 229,
    "start_time": "2022-09-16T13:01:21.344Z"
   },
   {
    "duration": 192,
    "start_time": "2022-09-16T13:01:21.574Z"
   },
   {
    "duration": 211,
    "start_time": "2022-09-16T13:01:21.768Z"
   },
   {
    "duration": 195,
    "start_time": "2022-09-16T13:01:21.980Z"
   },
   {
    "duration": 167,
    "start_time": "2022-09-16T13:01:22.177Z"
   },
   {
    "duration": 172,
    "start_time": "2022-09-16T13:01:22.347Z"
   },
   {
    "duration": 167,
    "start_time": "2022-09-16T13:01:22.521Z"
   },
   {
    "duration": 235,
    "start_time": "2022-09-16T13:01:22.692Z"
   },
   {
    "duration": 189,
    "start_time": "2022-09-16T13:01:22.928Z"
   },
   {
    "duration": 497,
    "start_time": "2022-09-16T13:01:23.119Z"
   },
   {
    "duration": 318,
    "start_time": "2022-09-16T13:01:23.618Z"
   },
   {
    "duration": 36,
    "start_time": "2022-09-16T13:01:23.938Z"
   },
   {
    "duration": 263,
    "start_time": "2022-09-16T13:01:23.978Z"
   },
   {
    "duration": 3,
    "start_time": "2022-09-16T13:01:24.246Z"
   },
   {
    "duration": 23,
    "start_time": "2022-09-16T13:01:24.252Z"
   },
   {
    "duration": 8,
    "start_time": "2022-09-16T13:01:24.278Z"
   },
   {
    "duration": 162,
    "start_time": "2022-09-16T13:01:24.288Z"
   },
   {
    "duration": 164,
    "start_time": "2022-09-16T13:01:24.451Z"
   },
   {
    "duration": 9,
    "start_time": "2022-09-16T13:01:24.617Z"
   },
   {
    "duration": 19,
    "start_time": "2022-09-16T13:01:24.628Z"
   },
   {
    "duration": 217,
    "start_time": "2022-09-16T13:01:24.648Z"
   },
   {
    "duration": 267,
    "start_time": "2022-09-16T13:01:24.867Z"
   },
   {
    "duration": 293,
    "start_time": "2022-09-16T13:01:25.136Z"
   },
   {
    "duration": 239,
    "start_time": "2022-09-16T13:01:25.431Z"
   },
   {
    "duration": 3,
    "start_time": "2022-09-16T13:01:25.672Z"
   },
   {
    "duration": 13,
    "start_time": "2022-09-16T13:01:25.678Z"
   },
   {
    "duration": 13,
    "start_time": "2022-09-16T13:01:25.693Z"
   },
   {
    "duration": 24,
    "start_time": "2022-09-16T13:01:25.708Z"
   },
   {
    "duration": 14,
    "start_time": "2022-09-16T13:01:25.733Z"
   },
   {
    "duration": 8,
    "start_time": "2022-09-16T13:01:25.749Z"
   },
   {
    "duration": 9,
    "start_time": "2022-09-16T13:01:58.228Z"
   },
   {
    "duration": 115,
    "start_time": "2022-09-16T13:02:07.670Z"
   },
   {
    "duration": 14,
    "start_time": "2022-09-16T13:02:22.965Z"
   },
   {
    "duration": 7,
    "start_time": "2022-09-16T13:02:27.618Z"
   },
   {
    "duration": 179,
    "start_time": "2022-09-16T13:16:41.022Z"
   },
   {
    "duration": 334,
    "start_time": "2022-09-16T14:22:27.628Z"
   },
   {
    "duration": 359,
    "start_time": "2022-09-16T14:26:36.707Z"
   },
   {
    "duration": 279,
    "start_time": "2022-09-16T14:26:45.520Z"
   },
   {
    "duration": 292,
    "start_time": "2022-09-16T14:28:27.749Z"
   },
   {
    "duration": 295,
    "start_time": "2022-09-16T14:29:09.414Z"
   },
   {
    "duration": 294,
    "start_time": "2022-09-16T14:29:16.941Z"
   },
   {
    "duration": 60,
    "start_time": "2022-09-16T14:29:26.370Z"
   },
   {
    "duration": 314,
    "start_time": "2022-09-16T14:29:32.640Z"
   },
   {
    "duration": 368,
    "start_time": "2022-09-16T14:29:39.014Z"
   },
   {
    "duration": 8,
    "start_time": "2022-09-16T14:30:37.612Z"
   },
   {
    "duration": 4,
    "start_time": "2022-09-16T14:30:40.890Z"
   },
   {
    "duration": 140,
    "start_time": "2022-09-16T14:31:32.507Z"
   },
   {
    "duration": 174,
    "start_time": "2022-09-16T14:31:41.583Z"
   },
   {
    "duration": 165,
    "start_time": "2022-09-16T14:32:08.037Z"
   },
   {
    "duration": 179,
    "start_time": "2022-09-16T14:36:07.882Z"
   }
  ],
  "kernelspec": {
   "display_name": "Python 3 (ipykernel)",
   "language": "python",
   "name": "python3"
  },
  "language_info": {
   "codemirror_mode": {
    "name": "ipython",
    "version": 3
   },
   "file_extension": ".py",
   "mimetype": "text/x-python",
   "name": "python",
   "nbconvert_exporter": "python",
   "pygments_lexer": "ipython3",
   "version": "3.9.12"
  },
  "toc": {
   "base_numbering": 1,
   "nav_menu": {},
   "number_sections": true,
   "sideBar": true,
   "skip_h1_title": true,
   "title_cell": "Table of Contents",
   "title_sidebar": "Contents",
   "toc_cell": false,
   "toc_position": {},
   "toc_section_display": true,
   "toc_window_display": false
  }
 },
 "nbformat": 4,
 "nbformat_minor": 5
}
