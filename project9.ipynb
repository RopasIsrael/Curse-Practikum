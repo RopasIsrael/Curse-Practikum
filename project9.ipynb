{
 "cells": [
  {
   "cell_type": "markdown",
   "id": "154b3298",
   "metadata": {},
   "source": [
    "Инвесторы из фонда «Shut Up and Take My Money» решили попробовать себя в новой области и открыть заведение общественного питания в Москве. Заказчики ещё не знают, что это будет за место: кафе, ресторан, пиццерия, паб или бар, — и какими будут расположение, меню и цены.\n",
    "\n",
    "Для начала они просят вас — аналитика — подготовить исследование рынка Москвы, найти интересные особенности и презентовать полученные результаты, которые в будущем помогут в выборе подходящего инвесторам места.\n",
    "\n",
    "Нам доступен датасет с заведениями общественного питания Москвы, составленный на основе данных сервисов Яндекс Карты и Яндекс Бизнес на лето 2022 года. Информация, размещённая в сервисе Яндекс Бизнес, могла быть добавлена пользователями или найдена в общедоступных источниках. Она носит исключительно справочный характер."
   ]
  },
  {
   "cell_type": "markdown",
   "id": "ed611181",
   "metadata": {},
   "source": [
    "Описание данных\n",
    "\n",
    "Файл moscow_places.csv:\n",
    "- name — название заведения;\n",
    "- address — адрес заведения;\n",
    "- category — категория заведения, например «кафе», «пиццерия» или «кофейня»;\n",
    "- hours — информация о днях и часах работы;\n",
    "- lat — широта географической точки, в которой находится заведение;\n",
    "- lng — долгота географической точки, в которой находится заведение;\n",
    "- rating — рейтинг заведения по оценкам пользователей в Яндекс Картах (высшая оценка — 5.0);\n",
    "- price — категория цен в заведении, например «средние», «ниже среднего», «выше среднего» и так далее;\n",
    "- avg_bill — строка, которая хранит среднюю стоимость заказа в виде диапазона, например:\n",
    "\n",
    "«Средний счёт: 1000–1500 ₽»;\n",
    "\n",
    "«Цена чашки капучино: 130–220 ₽»;\n",
    "\n",
    "«Цена бокала пива: 400–600 ₽».\n",
    "и так далее;\n",
    "- middle_avg_bill — число с оценкой среднего чека, которое указано только для значений из столбца avg_bill, начинающихся с подстроки «Средний счёт»\n",
    "   - Если в строке указан ценовой диапазон из двух значений, в столбец войдёт медиана этих двух значений.\n",
    "   - Если в строке указано одно число — цена без диапазона, то в столбец войдёт это число.\n",
    "   - Если значения нет или оно не начинается с подстроки «Средний счёт», то в столбец ничего не войдёт.\n",
    "- district — административный район, в котором находится заведение, например Центральный административный округ;\n",
    "- seats — количество посадочных мест."
   ]
  },
  {
   "cell_type": "markdown",
   "id": "43622d00",
   "metadata": {},
   "source": [
    "Ссылка на презентацию: https://drive.google.com/file/d/1zmjwJGHm8Rbo5sntg5HM1RaTM0yUv3sl/view?usp=sharing"
   ]
  },
  {
   "cell_type": "markdown",
   "id": "bb0c0ede",
   "metadata": {},
   "source": [
    "### 1. Откроем данные и выполним предобработку"
   ]
  },
  {
   "cell_type": "code",
   "execution_count": 1,
   "id": "088fa875",
   "metadata": {},
   "outputs": [],
   "source": [
    "import pandas as pd\n",
    "import seaborn as sns\n",
    "import plotly.express as px \n",
    "from plotly import graph_objects as go\n",
    "import matplotlib.pyplot as plt"
   ]
  },
  {
   "cell_type": "code",
   "execution_count": 2,
   "id": "e3330516",
   "metadata": {},
   "outputs": [],
   "source": [
    "try:\n",
    "    df = pd.read_csv(r\"C:\\Users\\rpash\\Desktop\\шпаргалки\\moscow_places.csv\")\n",
    "except:\n",
    "    df = pd.read_csv('/datasets/moscow_places.csv')"
   ]
  },
  {
   "cell_type": "code",
   "execution_count": 3,
   "id": "2629ad04",
   "metadata": {},
   "outputs": [
    {
     "data": {},
     "execution_count": 3,
     "metadata": {},
     "output_type": "execute_result"
    }
   ],
   "source": [
    "df"
   ]
  },
  {
   "cell_type": "code",
   "execution_count": 4,
   "id": "6a23d766",
   "metadata": {},
   "outputs": [],
   "source": [
    "df.info()"
   ]
  },
  {
   "cell_type": "code",
   "execution_count": 5,
   "id": "0a4249c3",
   "metadata": {},
   "outputs": [
    {
     "data": {},
     "execution_count": 5,
     "metadata": {},
     "output_type": "execute_result"
    }
   ],
   "source": [
    "#проверим дс на дубликаты\n",
    "df.duplicated().sum()"
   ]
  },
  {
   "cell_type": "code",
   "execution_count": 6,
   "id": "65d3e88f",
   "metadata": {},
   "outputs": [
    {
     "data": {},
     "execution_count": 6,
     "metadata": {},
     "output_type": "execute_result"
    }
   ],
   "source": [
    "# Проверим значения в столбце category\n",
    "df['category'].value_counts()"
   ]
  },
  {
   "cell_type": "markdown",
   "id": "83bbface",
   "metadata": {},
   "source": [
    "Наиболее частый тип заведений это кафе - 2378, ресторан - 2043, кофейня - 1413"
   ]
  },
  {
   "cell_type": "code",
   "execution_count": 7,
   "id": "8903b10c",
   "metadata": {},
   "outputs": [
    {
     "data": {},
     "execution_count": 7,
     "metadata": {},
     "output_type": "execute_result"
    }
   ],
   "source": [
    "# Обзор данных датафрейма, получаем статистику\n",
    "df.describe(include='all')"
   ]
  },
  {
   "cell_type": "markdown",
   "id": "c8b646c1",
   "metadata": {},
   "source": [
    "Всего в дс 8406 заведений, уникальных из них 5614 ( возможны сети и мелкий точкий без названия).\n",
    "Интеренсный показатели средний чек среди всех зведений 958, средния стоимость кружки кофе 174, среднее количество посадочных мест 108 ( при этом максимум 1288 мест, не ошибка ли это?)"
   ]
  },
  {
   "cell_type": "code",
   "execution_count": 8,
   "id": "589a8e48",
   "metadata": {},
   "outputs": [
    {
     "data": {},
     "execution_count": 8,
     "metadata": {},
     "output_type": "execute_result"
    }
   ],
   "source": [
    "#а есть ли адреса, на которых расположено несколько ресторанов?\n",
    "print(df['address'].unique())\n",
    "df['address'].nunique()"
   ]
  },
  {
   "cell_type": "markdown",
   "id": "4cc21eb9",
   "metadata": {},
   "source": [
    "Всего у нас 8406 объектов, из них уникальные 5614. Скорее всего это сетевые заведения и заведения без названий."
   ]
  },
  {
   "cell_type": "code",
   "execution_count": 9,
   "id": "ae3420b6",
   "metadata": {},
   "outputs": [
    {
     "data": {},
     "execution_count": 9,
     "metadata": {},
     "output_type": "execute_result"
    }
   ],
   "source": [
    "# проведем поиск дубликатов\n",
    "df['name'].duplicated().sum()"
   ]
  },
  {
   "cell_type": "code",
   "execution_count": 10,
   "id": "61d06467",
   "metadata": {},
   "outputs": [
    {
     "data": {},
     "execution_count": 10,
     "metadata": {},
     "output_type": "execute_result"
    }
   ],
   "source": [
    "# приведем названия к единому регистру\n",
    "df['name'] = df['name'].str.lower()\n",
    "df['name'].duplicated().sum()"
   ]
  },
  {
   "cell_type": "markdown",
   "id": "8e64634a",
   "metadata": {},
   "source": [
    " Мы избавились от разных регистров, и кол-во зведений со схожим названием. Надо проверить так же на не явные дубликаты."
   ]
  },
  {
   "cell_type": "code",
   "execution_count": 11,
   "id": "c2a395aa",
   "metadata": {},
   "outputs": [
    {
     "data": {},
     "execution_count": 11,
     "metadata": {},
     "output_type": "execute_result"
    }
   ],
   "source": [
    "# Возьмем выборку по основным данным\n",
    "df[['name','category', 'address']].duplicated().sum()"
   ]
  },
  {
   "cell_type": "code",
   "execution_count": 12,
   "id": "d12e277f",
   "metadata": {},
   "outputs": [
    {
     "data": {},
     "execution_count": 12,
     "metadata": {},
     "output_type": "execute_result"
    }
   ],
   "source": [
    "# всего 1 невяный дубликат, уделаим его\n",
    "df[['name','category', 'address', 'lat', 'lng']].drop_duplicates()"
   ]
  },
  {
   "cell_type": "code",
   "execution_count": 13,
   "id": "11661445",
   "metadata": {},
   "outputs": [
    {
     "data": {},
     "execution_count": 13,
     "metadata": {},
     "output_type": "execute_result"
    }
   ],
   "source": [
    "#вынесем наназвание улиц в отдельный столбец\n",
    "df['street'] = df['address'].apply(lambda x: x.split(', ')[1])\n",
    "df['street']"
   ]
  },
  {
   "cell_type": "code",
   "execution_count": 14,
   "id": "065d6c83",
   "metadata": {},
   "outputs": [
    {
     "data": {},
     "execution_count": 14,
     "metadata": {},
     "output_type": "execute_result"
    }
   ],
   "source": [
    "# выводим круглосоуточный заведения\n",
    "df['hours'] = df['hours'].astype('str')\n",
    "df['is_24/7'] = df['hours'].apply(lambda x: x.endswith('круглосуточно'))\n",
    "df"
   ]
  },
  {
   "cell_type": "markdown",
   "id": "bb651551",
   "metadata": {},
   "source": [
    "Выводы:\n",
    "\n",
    "При первом просмотре данных не вявленно явных икажений данных, дубликатов нет, есть много пропусков, но они не помешают нам сделать анализ"
   ]
  },
  {
   "cell_type": "markdown",
   "id": "0d93afd1",
   "metadata": {},
   "source": [
    "### Анализ данных"
   ]
  },
  {
   "cell_type": "markdown",
   "id": "1a9f13f5",
   "metadata": {},
   "source": [
    "- Какие категории заведений представлены в данных? Исследуйте количество объектов общественного питания по категориям: рестораны, кофейни, пиццерии, бары и так далее."
   ]
  },
  {
   "cell_type": "code",
   "execution_count": 15,
   "id": "bc52affc",
   "metadata": {},
   "outputs": [
    {
     "data": {},
     "metadata": {},
     "output_type": "display_data"
    },
    {
     "data": {
      "application/vnd.plotly.v1+json": {
       "config": {
        "plotlyServerURL": "https://plot.ly"
       },
       "data": [
        {
         "alignmentgroup": "True",
         "hovertemplate": "counts=%{x}<br>category=%{y}<br>text=%{text}<extra></extra>",
         "legendgroup": "",
         "marker": {
          "color": "rgb(102,194,165)",
          "pattern": {
           "shape": ""
          }
         },
         "name": "",
         "offsetgroup": "",
         "orientation": "h",
         "showlegend": false,
         "text": [
          "3.05%",
          "3.75%",
          "7.17%",
          "7.53%",
          "9.1%",
          "16.81%",
          "24.3%",
          "28.29%"
         ],
         "textposition": "auto",
         "type": "bar",
         "x": [
          256,
          315,
          603,
          633,
          765,
          1413,
          2043,
          2378
         ],
         "xaxis": "x",
         "y": [
          "булочная",
          "столовая",
          "быстрое питание",
          "пиццерия",
          "бар,паб",
          "кофейня",
          "ресторан",
          "кафе"
         ],
         "yaxis": "y"
        }
       ],
       "layout": {
        "barmode": "relative",
        "legend": {
         "tracegroupgap": 0
        },
        "template": {
         "data": {
          "bar": [
           {
            "error_x": {
             "color": "#2a3f5f"
            },
            "error_y": {
             "color": "#2a3f5f"
            },
            "marker": {
             "line": {
              "color": "white",
              "width": 0.5
             },
             "pattern": {
              "fillmode": "overlay",
              "size": 10,
              "solidity": 0.2
             }
            },
            "type": "bar"
           }
          ],
          "barpolar": [
           {
            "marker": {
             "line": {
              "color": "white",
              "width": 0.5
             },
             "pattern": {
              "fillmode": "overlay",
              "size": 10,
              "solidity": 0.2
             }
            },
            "type": "barpolar"
           }
          ],
          "carpet": [
           {
            "aaxis": {
             "endlinecolor": "#2a3f5f",
             "gridcolor": "#C8D4E3",
             "linecolor": "#C8D4E3",
             "minorgridcolor": "#C8D4E3",
             "startlinecolor": "#2a3f5f"
            },
            "baxis": {
             "endlinecolor": "#2a3f5f",
             "gridcolor": "#C8D4E3",
             "linecolor": "#C8D4E3",
             "minorgridcolor": "#C8D4E3",
             "startlinecolor": "#2a3f5f"
            },
            "type": "carpet"
           }
          ],
          "choropleth": [
           {
            "colorbar": {
             "outlinewidth": 0,
             "ticks": ""
            },
            "type": "choropleth"
           }
          ],
          "contour": [
           {
            "colorbar": {
             "outlinewidth": 0,
             "ticks": ""
            },
            "colorscale": [
             [
              0,
              "#0d0887"
             ],
             [
              0.1111111111111111,
              "#46039f"
             ],
             [
              0.2222222222222222,
              "#7201a8"
             ],
             [
              0.3333333333333333,
              "#9c179e"
             ],
             [
              0.4444444444444444,
              "#bd3786"
             ],
             [
              0.5555555555555556,
              "#d8576b"
             ],
             [
              0.6666666666666666,
              "#ed7953"
             ],
             [
              0.7777777777777778,
              "#fb9f3a"
             ],
             [
              0.8888888888888888,
              "#fdca26"
             ],
             [
              1,
              "#f0f921"
             ]
            ],
            "type": "contour"
           }
          ],
          "contourcarpet": [
           {
            "colorbar": {
             "outlinewidth": 0,
             "ticks": ""
            },
            "type": "contourcarpet"
           }
          ],
          "heatmap": [
           {
            "colorbar": {
             "outlinewidth": 0,
             "ticks": ""
            },
            "colorscale": [
             [
              0,
              "#0d0887"
             ],
             [
              0.1111111111111111,
              "#46039f"
             ],
             [
              0.2222222222222222,
              "#7201a8"
             ],
             [
              0.3333333333333333,
              "#9c179e"
             ],
             [
              0.4444444444444444,
              "#bd3786"
             ],
             [
              0.5555555555555556,
              "#d8576b"
             ],
             [
              0.6666666666666666,
              "#ed7953"
             ],
             [
              0.7777777777777778,
              "#fb9f3a"
             ],
             [
              0.8888888888888888,
              "#fdca26"
             ],
             [
              1,
              "#f0f921"
             ]
            ],
            "type": "heatmap"
           }
          ],
          "heatmapgl": [
           {
            "colorbar": {
             "outlinewidth": 0,
             "ticks": ""
            },
            "colorscale": [
             [
              0,
              "#0d0887"
             ],
             [
              0.1111111111111111,
              "#46039f"
             ],
             [
              0.2222222222222222,
              "#7201a8"
             ],
             [
              0.3333333333333333,
              "#9c179e"
             ],
             [
              0.4444444444444444,
              "#bd3786"
             ],
             [
              0.5555555555555556,
              "#d8576b"
             ],
             [
              0.6666666666666666,
              "#ed7953"
             ],
             [
              0.7777777777777778,
              "#fb9f3a"
             ],
             [
              0.8888888888888888,
              "#fdca26"
             ],
             [
              1,
              "#f0f921"
             ]
            ],
            "type": "heatmapgl"
           }
          ],
          "histogram": [
           {
            "marker": {
             "pattern": {
              "fillmode": "overlay",
              "size": 10,
              "solidity": 0.2
             }
            },
            "type": "histogram"
           }
          ],
          "histogram2d": [
           {
            "colorbar": {
             "outlinewidth": 0,
             "ticks": ""
            },
            "colorscale": [
             [
              0,
              "#0d0887"
             ],
             [
              0.1111111111111111,
              "#46039f"
             ],
             [
              0.2222222222222222,
              "#7201a8"
             ],
             [
              0.3333333333333333,
              "#9c179e"
             ],
             [
              0.4444444444444444,
              "#bd3786"
             ],
             [
              0.5555555555555556,
              "#d8576b"
             ],
             [
              0.6666666666666666,
              "#ed7953"
             ],
             [
              0.7777777777777778,
              "#fb9f3a"
             ],
             [
              0.8888888888888888,
              "#fdca26"
             ],
             [
              1,
              "#f0f921"
             ]
            ],
            "type": "histogram2d"
           }
          ],
          "histogram2dcontour": [
           {
            "colorbar": {
             "outlinewidth": 0,
             "ticks": ""
            },
            "colorscale": [
             [
              0,
              "#0d0887"
             ],
             [
              0.1111111111111111,
              "#46039f"
             ],
             [
              0.2222222222222222,
              "#7201a8"
             ],
             [
              0.3333333333333333,
              "#9c179e"
             ],
             [
              0.4444444444444444,
              "#bd3786"
             ],
             [
              0.5555555555555556,
              "#d8576b"
             ],
             [
              0.6666666666666666,
              "#ed7953"
             ],
             [
              0.7777777777777778,
              "#fb9f3a"
             ],
             [
              0.8888888888888888,
              "#fdca26"
             ],
             [
              1,
              "#f0f921"
             ]
            ],
            "type": "histogram2dcontour"
           }
          ],
          "mesh3d": [
           {
            "colorbar": {
             "outlinewidth": 0,
             "ticks": ""
            },
            "type": "mesh3d"
           }
          ],
          "parcoords": [
           {
            "line": {
             "colorbar": {
              "outlinewidth": 0,
              "ticks": ""
             }
            },
            "type": "parcoords"
           }
          ],
          "pie": [
           {
            "automargin": true,
            "type": "pie"
           }
          ],
          "scatter": [
           {
            "marker": {
             "colorbar": {
              "outlinewidth": 0,
              "ticks": ""
             }
            },
            "type": "scatter"
           }
          ],
          "scatter3d": [
           {
            "line": {
             "colorbar": {
              "outlinewidth": 0,
              "ticks": ""
             }
            },
            "marker": {
             "colorbar": {
              "outlinewidth": 0,
              "ticks": ""
             }
            },
            "type": "scatter3d"
           }
          ],
          "scattercarpet": [
           {
            "marker": {
             "colorbar": {
              "outlinewidth": 0,
              "ticks": ""
             }
            },
            "type": "scattercarpet"
           }
          ],
          "scattergeo": [
           {
            "marker": {
             "colorbar": {
              "outlinewidth": 0,
              "ticks": ""
             }
            },
            "type": "scattergeo"
           }
          ],
          "scattergl": [
           {
            "marker": {
             "colorbar": {
              "outlinewidth": 0,
              "ticks": ""
             }
            },
            "type": "scattergl"
           }
          ],
          "scattermapbox": [
           {
            "marker": {
             "colorbar": {
              "outlinewidth": 0,
              "ticks": ""
             }
            },
            "type": "scattermapbox"
           }
          ],
          "scatterpolar": [
           {
            "marker": {
             "colorbar": {
              "outlinewidth": 0,
              "ticks": ""
             }
            },
            "type": "scatterpolar"
           }
          ],
          "scatterpolargl": [
           {
            "marker": {
             "colorbar": {
              "outlinewidth": 0,
              "ticks": ""
             }
            },
            "type": "scatterpolargl"
           }
          ],
          "scatterternary": [
           {
            "marker": {
             "colorbar": {
              "outlinewidth": 0,
              "ticks": ""
             }
            },
            "type": "scatterternary"
           }
          ],
          "surface": [
           {
            "colorbar": {
             "outlinewidth": 0,
             "ticks": ""
            },
            "colorscale": [
             [
              0,
              "#0d0887"
             ],
             [
              0.1111111111111111,
              "#46039f"
             ],
             [
              0.2222222222222222,
              "#7201a8"
             ],
             [
              0.3333333333333333,
              "#9c179e"
             ],
             [
              0.4444444444444444,
              "#bd3786"
             ],
             [
              0.5555555555555556,
              "#d8576b"
             ],
             [
              0.6666666666666666,
              "#ed7953"
             ],
             [
              0.7777777777777778,
              "#fb9f3a"
             ],
             [
              0.8888888888888888,
              "#fdca26"
             ],
             [
              1,
              "#f0f921"
             ]
            ],
            "type": "surface"
           }
          ],
          "table": [
           {
            "cells": {
             "fill": {
              "color": "#EBF0F8"
             },
             "line": {
              "color": "white"
             }
            },
            "header": {
             "fill": {
              "color": "#C8D4E3"
             },
             "line": {
              "color": "white"
             }
            },
            "type": "table"
           }
          ]
         },
         "layout": {
          "annotationdefaults": {
           "arrowcolor": "#2a3f5f",
           "arrowhead": 0,
           "arrowwidth": 1
          },
          "autotypenumbers": "strict",
          "coloraxis": {
           "colorbar": {
            "outlinewidth": 0,
            "ticks": ""
           }
          },
          "colorscale": {
           "diverging": [
            [
             0,
             "#8e0152"
            ],
            [
             0.1,
             "#c51b7d"
            ],
            [
             0.2,
             "#de77ae"
            ],
            [
             0.3,
             "#f1b6da"
            ],
            [
             0.4,
             "#fde0ef"
            ],
            [
             0.5,
             "#f7f7f7"
            ],
            [
             0.6,
             "#e6f5d0"
            ],
            [
             0.7,
             "#b8e186"
            ],
            [
             0.8,
             "#7fbc41"
            ],
            [
             0.9,
             "#4d9221"
            ],
            [
             1,
             "#276419"
            ]
           ],
           "sequential": [
            [
             0,
             "#0d0887"
            ],
            [
             0.1111111111111111,
             "#46039f"
            ],
            [
             0.2222222222222222,
             "#7201a8"
            ],
            [
             0.3333333333333333,
             "#9c179e"
            ],
            [
             0.4444444444444444,
             "#bd3786"
            ],
            [
             0.5555555555555556,
             "#d8576b"
            ],
            [
             0.6666666666666666,
             "#ed7953"
            ],
            [
             0.7777777777777778,
             "#fb9f3a"
            ],
            [
             0.8888888888888888,
             "#fdca26"
            ],
            [
             1,
             "#f0f921"
            ]
           ],
           "sequentialminus": [
            [
             0,
             "#0d0887"
            ],
            [
             0.1111111111111111,
             "#46039f"
            ],
            [
             0.2222222222222222,
             "#7201a8"
            ],
            [
             0.3333333333333333,
             "#9c179e"
            ],
            [
             0.4444444444444444,
             "#bd3786"
            ],
            [
             0.5555555555555556,
             "#d8576b"
            ],
            [
             0.6666666666666666,
             "#ed7953"
            ],
            [
             0.7777777777777778,
             "#fb9f3a"
            ],
            [
             0.8888888888888888,
             "#fdca26"
            ],
            [
             1,
             "#f0f921"
            ]
           ]
          },
          "colorway": [
           "#636efa",
           "#EF553B",
           "#00cc96",
           "#ab63fa",
           "#FFA15A",
           "#19d3f3",
           "#FF6692",
           "#B6E880",
           "#FF97FF",
           "#FECB52"
          ],
          "font": {
           "color": "#2a3f5f"
          },
          "geo": {
           "bgcolor": "white",
           "lakecolor": "white",
           "landcolor": "white",
           "showlakes": true,
           "showland": true,
           "subunitcolor": "#C8D4E3"
          },
          "hoverlabel": {
           "align": "left"
          },
          "hovermode": "closest",
          "mapbox": {
           "style": "light"
          },
          "paper_bgcolor": "white",
          "plot_bgcolor": "white",
          "polar": {
           "angularaxis": {
            "gridcolor": "#EBF0F8",
            "linecolor": "#EBF0F8",
            "ticks": ""
           },
           "bgcolor": "white",
           "radialaxis": {
            "gridcolor": "#EBF0F8",
            "linecolor": "#EBF0F8",
            "ticks": ""
           }
          },
          "scene": {
           "xaxis": {
            "backgroundcolor": "white",
            "gridcolor": "#DFE8F3",
            "gridwidth": 2,
            "linecolor": "#EBF0F8",
            "showbackground": true,
            "ticks": "",
            "zerolinecolor": "#EBF0F8"
           },
           "yaxis": {
            "backgroundcolor": "white",
            "gridcolor": "#DFE8F3",
            "gridwidth": 2,
            "linecolor": "#EBF0F8",
            "showbackground": true,
            "ticks": "",
            "zerolinecolor": "#EBF0F8"
           },
           "zaxis": {
            "backgroundcolor": "white",
            "gridcolor": "#DFE8F3",
            "gridwidth": 2,
            "linecolor": "#EBF0F8",
            "showbackground": true,
            "ticks": "",
            "zerolinecolor": "#EBF0F8"
           }
          },
          "shapedefaults": {
           "line": {
            "color": "#2a3f5f"
           }
          },
          "ternary": {
           "aaxis": {
            "gridcolor": "#DFE8F3",
            "linecolor": "#A2B1C6",
            "ticks": ""
           },
           "baxis": {
            "gridcolor": "#DFE8F3",
            "linecolor": "#A2B1C6",
            "ticks": ""
           },
           "bgcolor": "white",
           "caxis": {
            "gridcolor": "#DFE8F3",
            "linecolor": "#A2B1C6",
            "ticks": ""
           }
          },
          "title": {
           "x": 0.05
          },
          "xaxis": {
           "automargin": true,
           "gridcolor": "#EBF0F8",
           "linecolor": "#EBF0F8",
           "ticks": "",
           "title": {
            "standoff": 15
           },
           "zerolinecolor": "#EBF0F8",
           "zerolinewidth": 2
          },
          "yaxis": {
           "automargin": true,
           "gridcolor": "#EBF0F8",
           "linecolor": "#EBF0F8",
           "ticks": "",
           "title": {
            "standoff": 15
           },
           "zerolinecolor": "#EBF0F8",
           "zerolinewidth": 2
          }
         }
        },
        "title": {
         "text": "Распределение по видам объектов общественного питания"
        },
        "xaxis": {
         "anchor": "y",
         "domain": [
          0,
          1
         ],
         "tickangle": 45,
         "title": {
          "text": "Количество объектов"
         }
        },
        "yaxis": {
         "anchor": "x",
         "domain": [
          0,
          1
         ],
         "title": {
          "text": "Тип объекта"
         }
        }
       }
      }
     },
     "metadata": {},
     "output_type": "display_data"
    },
    {
     "data": {},
     "execution_count": 15,
     "metadata": {},
     "output_type": "execute_result"
    }
   ],
   "source": [
    "types = (df.groupby('category')\n",
    "         .agg({'name':'count'})\n",
    "         .reset_index().rename(columns={'name':'counts'})\n",
    "         .sort_values(by='counts'))\n",
    "total = types.counts.sum()\n",
    "types['ratio_%'] = round((types['counts'] / total*100), 2)\n",
    "\n",
    "fig = px.bar(\n",
    "    types, \n",
    "    x='counts', \n",
    "    y='category', color_discrete_sequence=px.colors.qualitative.Set2,\n",
    "    text = types['ratio_%'].astype(str) + '%',\n",
    "    template='plotly_white',\n",
    "    orientation = 'h',\n",
    "    title='Распределение по видам объектов общественного питания'\n",
    ")\n",
    "fig.update_xaxes(title='Количество объектов')\n",
    "fig.update_yaxes(title='Тип объекта')\n",
    "fig.update_xaxes(tickangle=45)\n",
    "fig.show() \n",
    "\n",
    "types.sort_values(by='counts', ascending=False)"
   ]
  },
  {
   "cell_type": "markdown",
   "id": "cec0cb0b",
   "metadata": {},
   "source": [
    "Наиболее распростанные объекты питания это кафе 28%, ресторан 24% и кафейня 16%"
   ]
  },
  {
   "cell_type": "markdown",
   "id": "12a4bd78",
   "metadata": {},
   "source": [
    "- Исследуйте количество посадочных мест в местах по категориям: рестораны, кофейни, пиццерии, бары и так далее"
   ]
  },
  {
   "cell_type": "code",
   "execution_count": 16,
   "id": "d22a5369",
   "metadata": {},
   "outputs": [
    {
     "data": {
      "application/vnd.plotly.v1+json": {
       "config": {
        "plotlyServerURL": "https://plot.ly"
       },
       "data": [
        {
         "alignmentgroup": "True",
         "hovertemplate": "counts=%{x}<br>category=%{y}<br>text=%{text}<extra></extra>",
         "legendgroup": "",
         "marker": {
          "color": "rgb(102,194,165)",
          "pattern": {
           "shape": ""
          }
         },
         "name": "",
         "offsetgroup": "",
         "orientation": "h",
         "showlegend": false,
         "text": [
          "3.05%",
          "7.53%",
          "28.29%",
          "7.17%",
          "3.75%",
          "16.81%",
          "9.1%",
          "24.3%"
         ],
         "textposition": "auto",
         "type": "bar",
         "x": [
          256,
          315,
          603,
          633,
          765,
          1413,
          2043,
          2378
         ],
         "xaxis": "x",
         "y": [
          "булочная",
          "столовая",
          "быстрое питание",
          "пиццерия",
          "бар,паб",
          "кофейня",
          "ресторан",
          "кафе"
         ],
         "yaxis": "y"
        }
       ],
       "layout": {
        "barmode": "relative",
        "legend": {
         "tracegroupgap": 0
        },
        "template": {
         "data": {
          "bar": [
           {
            "error_x": {
             "color": "#2a3f5f"
            },
            "error_y": {
             "color": "#2a3f5f"
            },
            "marker": {
             "line": {
              "color": "white",
              "width": 0.5
             },
             "pattern": {
              "fillmode": "overlay",
              "size": 10,
              "solidity": 0.2
             }
            },
            "type": "bar"
           }
          ],
          "barpolar": [
           {
            "marker": {
             "line": {
              "color": "white",
              "width": 0.5
             },
             "pattern": {
              "fillmode": "overlay",
              "size": 10,
              "solidity": 0.2
             }
            },
            "type": "barpolar"
           }
          ],
          "carpet": [
           {
            "aaxis": {
             "endlinecolor": "#2a3f5f",
             "gridcolor": "#C8D4E3",
             "linecolor": "#C8D4E3",
             "minorgridcolor": "#C8D4E3",
             "startlinecolor": "#2a3f5f"
            },
            "baxis": {
             "endlinecolor": "#2a3f5f",
             "gridcolor": "#C8D4E3",
             "linecolor": "#C8D4E3",
             "minorgridcolor": "#C8D4E3",
             "startlinecolor": "#2a3f5f"
            },
            "type": "carpet"
           }
          ],
          "choropleth": [
           {
            "colorbar": {
             "outlinewidth": 0,
             "ticks": ""
            },
            "type": "choropleth"
           }
          ],
          "contour": [
           {
            "colorbar": {
             "outlinewidth": 0,
             "ticks": ""
            },
            "colorscale": [
             [
              0,
              "#0d0887"
             ],
             [
              0.1111111111111111,
              "#46039f"
             ],
             [
              0.2222222222222222,
              "#7201a8"
             ],
             [
              0.3333333333333333,
              "#9c179e"
             ],
             [
              0.4444444444444444,
              "#bd3786"
             ],
             [
              0.5555555555555556,
              "#d8576b"
             ],
             [
              0.6666666666666666,
              "#ed7953"
             ],
             [
              0.7777777777777778,
              "#fb9f3a"
             ],
             [
              0.8888888888888888,
              "#fdca26"
             ],
             [
              1,
              "#f0f921"
             ]
            ],
            "type": "contour"
           }
          ],
          "contourcarpet": [
           {
            "colorbar": {
             "outlinewidth": 0,
             "ticks": ""
            },
            "type": "contourcarpet"
           }
          ],
          "heatmap": [
           {
            "colorbar": {
             "outlinewidth": 0,
             "ticks": ""
            },
            "colorscale": [
             [
              0,
              "#0d0887"
             ],
             [
              0.1111111111111111,
              "#46039f"
             ],
             [
              0.2222222222222222,
              "#7201a8"
             ],
             [
              0.3333333333333333,
              "#9c179e"
             ],
             [
              0.4444444444444444,
              "#bd3786"
             ],
             [
              0.5555555555555556,
              "#d8576b"
             ],
             [
              0.6666666666666666,
              "#ed7953"
             ],
             [
              0.7777777777777778,
              "#fb9f3a"
             ],
             [
              0.8888888888888888,
              "#fdca26"
             ],
             [
              1,
              "#f0f921"
             ]
            ],
            "type": "heatmap"
           }
          ],
          "heatmapgl": [
           {
            "colorbar": {
             "outlinewidth": 0,
             "ticks": ""
            },
            "colorscale": [
             [
              0,
              "#0d0887"
             ],
             [
              0.1111111111111111,
              "#46039f"
             ],
             [
              0.2222222222222222,
              "#7201a8"
             ],
             [
              0.3333333333333333,
              "#9c179e"
             ],
             [
              0.4444444444444444,
              "#bd3786"
             ],
             [
              0.5555555555555556,
              "#d8576b"
             ],
             [
              0.6666666666666666,
              "#ed7953"
             ],
             [
              0.7777777777777778,
              "#fb9f3a"
             ],
             [
              0.8888888888888888,
              "#fdca26"
             ],
             [
              1,
              "#f0f921"
             ]
            ],
            "type": "heatmapgl"
           }
          ],
          "histogram": [
           {
            "marker": {
             "pattern": {
              "fillmode": "overlay",
              "size": 10,
              "solidity": 0.2
             }
            },
            "type": "histogram"
           }
          ],
          "histogram2d": [
           {
            "colorbar": {
             "outlinewidth": 0,
             "ticks": ""
            },
            "colorscale": [
             [
              0,
              "#0d0887"
             ],
             [
              0.1111111111111111,
              "#46039f"
             ],
             [
              0.2222222222222222,
              "#7201a8"
             ],
             [
              0.3333333333333333,
              "#9c179e"
             ],
             [
              0.4444444444444444,
              "#bd3786"
             ],
             [
              0.5555555555555556,
              "#d8576b"
             ],
             [
              0.6666666666666666,
              "#ed7953"
             ],
             [
              0.7777777777777778,
              "#fb9f3a"
             ],
             [
              0.8888888888888888,
              "#fdca26"
             ],
             [
              1,
              "#f0f921"
             ]
            ],
            "type": "histogram2d"
           }
          ],
          "histogram2dcontour": [
           {
            "colorbar": {
             "outlinewidth": 0,
             "ticks": ""
            },
            "colorscale": [
             [
              0,
              "#0d0887"
             ],
             [
              0.1111111111111111,
              "#46039f"
             ],
             [
              0.2222222222222222,
              "#7201a8"
             ],
             [
              0.3333333333333333,
              "#9c179e"
             ],
             [
              0.4444444444444444,
              "#bd3786"
             ],
             [
              0.5555555555555556,
              "#d8576b"
             ],
             [
              0.6666666666666666,
              "#ed7953"
             ],
             [
              0.7777777777777778,
              "#fb9f3a"
             ],
             [
              0.8888888888888888,
              "#fdca26"
             ],
             [
              1,
              "#f0f921"
             ]
            ],
            "type": "histogram2dcontour"
           }
          ],
          "mesh3d": [
           {
            "colorbar": {
             "outlinewidth": 0,
             "ticks": ""
            },
            "type": "mesh3d"
           }
          ],
          "parcoords": [
           {
            "line": {
             "colorbar": {
              "outlinewidth": 0,
              "ticks": ""
             }
            },
            "type": "parcoords"
           }
          ],
          "pie": [
           {
            "automargin": true,
            "type": "pie"
           }
          ],
          "scatter": [
           {
            "marker": {
             "colorbar": {
              "outlinewidth": 0,
              "ticks": ""
             }
            },
            "type": "scatter"
           }
          ],
          "scatter3d": [
           {
            "line": {
             "colorbar": {
              "outlinewidth": 0,
              "ticks": ""
             }
            },
            "marker": {
             "colorbar": {
              "outlinewidth": 0,
              "ticks": ""
             }
            },
            "type": "scatter3d"
           }
          ],
          "scattercarpet": [
           {
            "marker": {
             "colorbar": {
              "outlinewidth": 0,
              "ticks": ""
             }
            },
            "type": "scattercarpet"
           }
          ],
          "scattergeo": [
           {
            "marker": {
             "colorbar": {
              "outlinewidth": 0,
              "ticks": ""
             }
            },
            "type": "scattergeo"
           }
          ],
          "scattergl": [
           {
            "marker": {
             "colorbar": {
              "outlinewidth": 0,
              "ticks": ""
             }
            },
            "type": "scattergl"
           }
          ],
          "scattermapbox": [
           {
            "marker": {
             "colorbar": {
              "outlinewidth": 0,
              "ticks": ""
             }
            },
            "type": "scattermapbox"
           }
          ],
          "scatterpolar": [
           {
            "marker": {
             "colorbar": {
              "outlinewidth": 0,
              "ticks": ""
             }
            },
            "type": "scatterpolar"
           }
          ],
          "scatterpolargl": [
           {
            "marker": {
             "colorbar": {
              "outlinewidth": 0,
              "ticks": ""
             }
            },
            "type": "scatterpolargl"
           }
          ],
          "scatterternary": [
           {
            "marker": {
             "colorbar": {
              "outlinewidth": 0,
              "ticks": ""
             }
            },
            "type": "scatterternary"
           }
          ],
          "surface": [
           {
            "colorbar": {
             "outlinewidth": 0,
             "ticks": ""
            },
            "colorscale": [
             [
              0,
              "#0d0887"
             ],
             [
              0.1111111111111111,
              "#46039f"
             ],
             [
              0.2222222222222222,
              "#7201a8"
             ],
             [
              0.3333333333333333,
              "#9c179e"
             ],
             [
              0.4444444444444444,
              "#bd3786"
             ],
             [
              0.5555555555555556,
              "#d8576b"
             ],
             [
              0.6666666666666666,
              "#ed7953"
             ],
             [
              0.7777777777777778,
              "#fb9f3a"
             ],
             [
              0.8888888888888888,
              "#fdca26"
             ],
             [
              1,
              "#f0f921"
             ]
            ],
            "type": "surface"
           }
          ],
          "table": [
           {
            "cells": {
             "fill": {
              "color": "#EBF0F8"
             },
             "line": {
              "color": "white"
             }
            },
            "header": {
             "fill": {
              "color": "#C8D4E3"
             },
             "line": {
              "color": "white"
             }
            },
            "type": "table"
           }
          ]
         },
         "layout": {
          "annotationdefaults": {
           "arrowcolor": "#2a3f5f",
           "arrowhead": 0,
           "arrowwidth": 1
          },
          "autotypenumbers": "strict",
          "coloraxis": {
           "colorbar": {
            "outlinewidth": 0,
            "ticks": ""
           }
          },
          "colorscale": {
           "diverging": [
            [
             0,
             "#8e0152"
            ],
            [
             0.1,
             "#c51b7d"
            ],
            [
             0.2,
             "#de77ae"
            ],
            [
             0.3,
             "#f1b6da"
            ],
            [
             0.4,
             "#fde0ef"
            ],
            [
             0.5,
             "#f7f7f7"
            ],
            [
             0.6,
             "#e6f5d0"
            ],
            [
             0.7,
             "#b8e186"
            ],
            [
             0.8,
             "#7fbc41"
            ],
            [
             0.9,
             "#4d9221"
            ],
            [
             1,
             "#276419"
            ]
           ],
           "sequential": [
            [
             0,
             "#0d0887"
            ],
            [
             0.1111111111111111,
             "#46039f"
            ],
            [
             0.2222222222222222,
             "#7201a8"
            ],
            [
             0.3333333333333333,
             "#9c179e"
            ],
            [
             0.4444444444444444,
             "#bd3786"
            ],
            [
             0.5555555555555556,
             "#d8576b"
            ],
            [
             0.6666666666666666,
             "#ed7953"
            ],
            [
             0.7777777777777778,
             "#fb9f3a"
            ],
            [
             0.8888888888888888,
             "#fdca26"
            ],
            [
             1,
             "#f0f921"
            ]
           ],
           "sequentialminus": [
            [
             0,
             "#0d0887"
            ],
            [
             0.1111111111111111,
             "#46039f"
            ],
            [
             0.2222222222222222,
             "#7201a8"
            ],
            [
             0.3333333333333333,
             "#9c179e"
            ],
            [
             0.4444444444444444,
             "#bd3786"
            ],
            [
             0.5555555555555556,
             "#d8576b"
            ],
            [
             0.6666666666666666,
             "#ed7953"
            ],
            [
             0.7777777777777778,
             "#fb9f3a"
            ],
            [
             0.8888888888888888,
             "#fdca26"
            ],
            [
             1,
             "#f0f921"
            ]
           ]
          },
          "colorway": [
           "#636efa",
           "#EF553B",
           "#00cc96",
           "#ab63fa",
           "#FFA15A",
           "#19d3f3",
           "#FF6692",
           "#B6E880",
           "#FF97FF",
           "#FECB52"
          ],
          "font": {
           "color": "#2a3f5f"
          },
          "geo": {
           "bgcolor": "white",
           "lakecolor": "white",
           "landcolor": "white",
           "showlakes": true,
           "showland": true,
           "subunitcolor": "#C8D4E3"
          },
          "hoverlabel": {
           "align": "left"
          },
          "hovermode": "closest",
          "mapbox": {
           "style": "light"
          },
          "paper_bgcolor": "white",
          "plot_bgcolor": "white",
          "polar": {
           "angularaxis": {
            "gridcolor": "#EBF0F8",
            "linecolor": "#EBF0F8",
            "ticks": ""
           },
           "bgcolor": "white",
           "radialaxis": {
            "gridcolor": "#EBF0F8",
            "linecolor": "#EBF0F8",
            "ticks": ""
           }
          },
          "scene": {
           "xaxis": {
            "backgroundcolor": "white",
            "gridcolor": "#DFE8F3",
            "gridwidth": 2,
            "linecolor": "#EBF0F8",
            "showbackground": true,
            "ticks": "",
            "zerolinecolor": "#EBF0F8"
           },
           "yaxis": {
            "backgroundcolor": "white",
            "gridcolor": "#DFE8F3",
            "gridwidth": 2,
            "linecolor": "#EBF0F8",
            "showbackground": true,
            "ticks": "",
            "zerolinecolor": "#EBF0F8"
           },
           "zaxis": {
            "backgroundcolor": "white",
            "gridcolor": "#DFE8F3",
            "gridwidth": 2,
            "linecolor": "#EBF0F8",
            "showbackground": true,
            "ticks": "",
            "zerolinecolor": "#EBF0F8"
           }
          },
          "shapedefaults": {
           "line": {
            "color": "#2a3f5f"
           }
          },
          "ternary": {
           "aaxis": {
            "gridcolor": "#DFE8F3",
            "linecolor": "#A2B1C6",
            "ticks": ""
           },
           "baxis": {
            "gridcolor": "#DFE8F3",
            "linecolor": "#A2B1C6",
            "ticks": ""
           },
           "bgcolor": "white",
           "caxis": {
            "gridcolor": "#DFE8F3",
            "linecolor": "#A2B1C6",
            "ticks": ""
           }
          },
          "title": {
           "x": 0.05
          },
          "xaxis": {
           "automargin": true,
           "gridcolor": "#EBF0F8",
           "linecolor": "#EBF0F8",
           "ticks": "",
           "title": {
            "standoff": 15
           },
           "zerolinecolor": "#EBF0F8",
           "zerolinewidth": 2
          },
          "yaxis": {
           "automargin": true,
           "gridcolor": "#EBF0F8",
           "linecolor": "#EBF0F8",
           "ticks": "",
           "title": {
            "standoff": 15
           },
           "zerolinecolor": "#EBF0F8",
           "zerolinewidth": 2
          }
         }
        },
        "title": {
         "text": "Распределение по видам объектов общественного питания"
        },
        "xaxis": {
         "anchor": "y",
         "domain": [
          0,
          1
         ],
         "tickangle": 45,
         "title": {
          "text": "Количество мест"
         }
        },
        "yaxis": {
         "anchor": "x",
         "domain": [
          0,
          1
         ],
         "title": {
          "text": "Тип объекта"
         }
        }
       }
      }
     },
     "metadata": {},
     "output_type": "display_data"
    },
    {
     "data": {},
     "execution_count": 16,
     "metadata": {},
     "output_type": "execute_result"
    }
   ],
   "source": [
    "# расчитаем кол-во посад мест по медиане, что б избавиться от выбросов\n",
    "seats_q = (df.groupby('category')\n",
    "         .agg({'seats':'median'})\n",
    "         .reset_index().rename(columns={'seats':'counts'})\n",
    "         .sort_values(by='counts'))\n",
    "total = types.counts.sum()\n",
    "seats_q['ratio_%'] = round((types['counts'] / total*100), 2)\n",
    "\n",
    "fig = px.bar(\n",
    "    types, \n",
    "    x='counts', \n",
    "    y='category', color_discrete_sequence=px.colors.qualitative.Set2,\n",
    "    text = seats_q['ratio_%'].astype(str) + '%',\n",
    "    template='plotly_white',\n",
    "    orientation = 'h',\n",
    "    title='Распределение по видам объектов общественного питания'\n",
    ")\n",
    "fig.update_xaxes(title='Количество мест')\n",
    "fig.update_yaxes(title='Тип объекта')\n",
    "fig.update_xaxes(tickangle=45)\n",
    "fig.show() \n",
    "\n",
    "seats_q.sort_values(by='counts', ascending=False)"
   ]
  },
  {
   "cell_type": "markdown",
   "id": "1ffbb4ea",
   "metadata": {},
   "source": [
    "Наибольшей количество мест в типах зведений бар (82), ресторан (86), кофейня (80)"
   ]
  },
  {
   "cell_type": "markdown",
   "id": "cfe92385",
   "metadata": {},
   "source": [
    "- Рассмотрим и изобразим соотношение сетевых и несетевых заведений в датасете. Каких заведений больше?"
   ]
  },
  {
   "cell_type": "code",
   "execution_count": 17,
   "id": "a324a9a0",
   "metadata": {},
   "outputs": [
    {
     "data": {},
     "execution_count": 17,
     "metadata": {},
     "output_type": "execute_result"
    }
   ],
   "source": [
    "chain = (df.groupby('chain')\n",
    "             .agg({'name':'count'})\n",
    "             .reset_index()\n",
    "             .rename(columns={'name':'count'})\n",
    "             .sort_values(by='count', ascending=False))\n",
    "chain['chain'].replace({0:'не сетевые', 1:'сетевые'}, inplace=True)\n",
    "total_c = chain['count'].sum()\n",
    "chain['ratio_%'] = round((chain['count'] / total_c*100), 2)\n",
    "chain"
   ]
  },
  {
   "cell_type": "code",
   "execution_count": 18,
   "id": "16f04931",
   "metadata": {},
   "outputs": [
    {
     "data": {
      "application/vnd.plotly.v1+json": {
       "config": {
        "plotlyServerURL": "https://plot.ly"
       },
       "data": [
        {
         "domain": {
          "x": [
           0,
           1
          ],
          "y": [
           0,
           1
          ]
         },
         "hovertemplate": "chain=%{label}<br>count=%{value}<extra></extra>",
         "labels": [
          "не сетевые",
          "сетевые"
         ],
         "legendgroup": "",
         "name": "",
         "showlegend": true,
         "type": "pie",
         "values": [
          5201,
          3205
         ]
        }
       ],
       "layout": {
        "legend": {
         "tracegroupgap": 0
        },
        "piecolorway": [
         "rgb(102,194,165)",
         "rgb(252,141,98)",
         "rgb(141,160,203)",
         "rgb(231,138,195)",
         "rgb(166,216,84)",
         "rgb(255,217,47)",
         "rgb(229,196,148)",
         "rgb(179,179,179)"
        ],
        "template": {
         "data": {
          "bar": [
           {
            "error_x": {
             "color": "#2a3f5f"
            },
            "error_y": {
             "color": "#2a3f5f"
            },
            "marker": {
             "line": {
              "color": "#E5ECF6",
              "width": 0.5
             },
             "pattern": {
              "fillmode": "overlay",
              "size": 10,
              "solidity": 0.2
             }
            },
            "type": "bar"
           }
          ],
          "barpolar": [
           {
            "marker": {
             "line": {
              "color": "#E5ECF6",
              "width": 0.5
             },
             "pattern": {
              "fillmode": "overlay",
              "size": 10,
              "solidity": 0.2
             }
            },
            "type": "barpolar"
           }
          ],
          "carpet": [
           {
            "aaxis": {
             "endlinecolor": "#2a3f5f",
             "gridcolor": "white",
             "linecolor": "white",
             "minorgridcolor": "white",
             "startlinecolor": "#2a3f5f"
            },
            "baxis": {
             "endlinecolor": "#2a3f5f",
             "gridcolor": "white",
             "linecolor": "white",
             "minorgridcolor": "white",
             "startlinecolor": "#2a3f5f"
            },
            "type": "carpet"
           }
          ],
          "choropleth": [
           {
            "colorbar": {
             "outlinewidth": 0,
             "ticks": ""
            },
            "type": "choropleth"
           }
          ],
          "contour": [
           {
            "colorbar": {
             "outlinewidth": 0,
             "ticks": ""
            },
            "colorscale": [
             [
              0,
              "#0d0887"
             ],
             [
              0.1111111111111111,
              "#46039f"
             ],
             [
              0.2222222222222222,
              "#7201a8"
             ],
             [
              0.3333333333333333,
              "#9c179e"
             ],
             [
              0.4444444444444444,
              "#bd3786"
             ],
             [
              0.5555555555555556,
              "#d8576b"
             ],
             [
              0.6666666666666666,
              "#ed7953"
             ],
             [
              0.7777777777777778,
              "#fb9f3a"
             ],
             [
              0.8888888888888888,
              "#fdca26"
             ],
             [
              1,
              "#f0f921"
             ]
            ],
            "type": "contour"
           }
          ],
          "contourcarpet": [
           {
            "colorbar": {
             "outlinewidth": 0,
             "ticks": ""
            },
            "type": "contourcarpet"
           }
          ],
          "heatmap": [
           {
            "colorbar": {
             "outlinewidth": 0,
             "ticks": ""
            },
            "colorscale": [
             [
              0,
              "#0d0887"
             ],
             [
              0.1111111111111111,
              "#46039f"
             ],
             [
              0.2222222222222222,
              "#7201a8"
             ],
             [
              0.3333333333333333,
              "#9c179e"
             ],
             [
              0.4444444444444444,
              "#bd3786"
             ],
             [
              0.5555555555555556,
              "#d8576b"
             ],
             [
              0.6666666666666666,
              "#ed7953"
             ],
             [
              0.7777777777777778,
              "#fb9f3a"
             ],
             [
              0.8888888888888888,
              "#fdca26"
             ],
             [
              1,
              "#f0f921"
             ]
            ],
            "type": "heatmap"
           }
          ],
          "heatmapgl": [
           {
            "colorbar": {
             "outlinewidth": 0,
             "ticks": ""
            },
            "colorscale": [
             [
              0,
              "#0d0887"
             ],
             [
              0.1111111111111111,
              "#46039f"
             ],
             [
              0.2222222222222222,
              "#7201a8"
             ],
             [
              0.3333333333333333,
              "#9c179e"
             ],
             [
              0.4444444444444444,
              "#bd3786"
             ],
             [
              0.5555555555555556,
              "#d8576b"
             ],
             [
              0.6666666666666666,
              "#ed7953"
             ],
             [
              0.7777777777777778,
              "#fb9f3a"
             ],
             [
              0.8888888888888888,
              "#fdca26"
             ],
             [
              1,
              "#f0f921"
             ]
            ],
            "type": "heatmapgl"
           }
          ],
          "histogram": [
           {
            "marker": {
             "pattern": {
              "fillmode": "overlay",
              "size": 10,
              "solidity": 0.2
             }
            },
            "type": "histogram"
           }
          ],
          "histogram2d": [
           {
            "colorbar": {
             "outlinewidth": 0,
             "ticks": ""
            },
            "colorscale": [
             [
              0,
              "#0d0887"
             ],
             [
              0.1111111111111111,
              "#46039f"
             ],
             [
              0.2222222222222222,
              "#7201a8"
             ],
             [
              0.3333333333333333,
              "#9c179e"
             ],
             [
              0.4444444444444444,
              "#bd3786"
             ],
             [
              0.5555555555555556,
              "#d8576b"
             ],
             [
              0.6666666666666666,
              "#ed7953"
             ],
             [
              0.7777777777777778,
              "#fb9f3a"
             ],
             [
              0.8888888888888888,
              "#fdca26"
             ],
             [
              1,
              "#f0f921"
             ]
            ],
            "type": "histogram2d"
           }
          ],
          "histogram2dcontour": [
           {
            "colorbar": {
             "outlinewidth": 0,
             "ticks": ""
            },
            "colorscale": [
             [
              0,
              "#0d0887"
             ],
             [
              0.1111111111111111,
              "#46039f"
             ],
             [
              0.2222222222222222,
              "#7201a8"
             ],
             [
              0.3333333333333333,
              "#9c179e"
             ],
             [
              0.4444444444444444,
              "#bd3786"
             ],
             [
              0.5555555555555556,
              "#d8576b"
             ],
             [
              0.6666666666666666,
              "#ed7953"
             ],
             [
              0.7777777777777778,
              "#fb9f3a"
             ],
             [
              0.8888888888888888,
              "#fdca26"
             ],
             [
              1,
              "#f0f921"
             ]
            ],
            "type": "histogram2dcontour"
           }
          ],
          "mesh3d": [
           {
            "colorbar": {
             "outlinewidth": 0,
             "ticks": ""
            },
            "type": "mesh3d"
           }
          ],
          "parcoords": [
           {
            "line": {
             "colorbar": {
              "outlinewidth": 0,
              "ticks": ""
             }
            },
            "type": "parcoords"
           }
          ],
          "pie": [
           {
            "automargin": true,
            "type": "pie"
           }
          ],
          "scatter": [
           {
            "marker": {
             "colorbar": {
              "outlinewidth": 0,
              "ticks": ""
             }
            },
            "type": "scatter"
           }
          ],
          "scatter3d": [
           {
            "line": {
             "colorbar": {
              "outlinewidth": 0,
              "ticks": ""
             }
            },
            "marker": {
             "colorbar": {
              "outlinewidth": 0,
              "ticks": ""
             }
            },
            "type": "scatter3d"
           }
          ],
          "scattercarpet": [
           {
            "marker": {
             "colorbar": {
              "outlinewidth": 0,
              "ticks": ""
             }
            },
            "type": "scattercarpet"
           }
          ],
          "scattergeo": [
           {
            "marker": {
             "colorbar": {
              "outlinewidth": 0,
              "ticks": ""
             }
            },
            "type": "scattergeo"
           }
          ],
          "scattergl": [
           {
            "marker": {
             "colorbar": {
              "outlinewidth": 0,
              "ticks": ""
             }
            },
            "type": "scattergl"
           }
          ],
          "scattermapbox": [
           {
            "marker": {
             "colorbar": {
              "outlinewidth": 0,
              "ticks": ""
             }
            },
            "type": "scattermapbox"
           }
          ],
          "scatterpolar": [
           {
            "marker": {
             "colorbar": {
              "outlinewidth": 0,
              "ticks": ""
             }
            },
            "type": "scatterpolar"
           }
          ],
          "scatterpolargl": [
           {
            "marker": {
             "colorbar": {
              "outlinewidth": 0,
              "ticks": ""
             }
            },
            "type": "scatterpolargl"
           }
          ],
          "scatterternary": [
           {
            "marker": {
             "colorbar": {
              "outlinewidth": 0,
              "ticks": ""
             }
            },
            "type": "scatterternary"
           }
          ],
          "surface": [
           {
            "colorbar": {
             "outlinewidth": 0,
             "ticks": ""
            },
            "colorscale": [
             [
              0,
              "#0d0887"
             ],
             [
              0.1111111111111111,
              "#46039f"
             ],
             [
              0.2222222222222222,
              "#7201a8"
             ],
             [
              0.3333333333333333,
              "#9c179e"
             ],
             [
              0.4444444444444444,
              "#bd3786"
             ],
             [
              0.5555555555555556,
              "#d8576b"
             ],
             [
              0.6666666666666666,
              "#ed7953"
             ],
             [
              0.7777777777777778,
              "#fb9f3a"
             ],
             [
              0.8888888888888888,
              "#fdca26"
             ],
             [
              1,
              "#f0f921"
             ]
            ],
            "type": "surface"
           }
          ],
          "table": [
           {
            "cells": {
             "fill": {
              "color": "#EBF0F8"
             },
             "line": {
              "color": "white"
             }
            },
            "header": {
             "fill": {
              "color": "#C8D4E3"
             },
             "line": {
              "color": "white"
             }
            },
            "type": "table"
           }
          ]
         },
         "layout": {
          "annotationdefaults": {
           "arrowcolor": "#2a3f5f",
           "arrowhead": 0,
           "arrowwidth": 1
          },
          "autotypenumbers": "strict",
          "coloraxis": {
           "colorbar": {
            "outlinewidth": 0,
            "ticks": ""
           }
          },
          "colorscale": {
           "diverging": [
            [
             0,
             "#8e0152"
            ],
            [
             0.1,
             "#c51b7d"
            ],
            [
             0.2,
             "#de77ae"
            ],
            [
             0.3,
             "#f1b6da"
            ],
            [
             0.4,
             "#fde0ef"
            ],
            [
             0.5,
             "#f7f7f7"
            ],
            [
             0.6,
             "#e6f5d0"
            ],
            [
             0.7,
             "#b8e186"
            ],
            [
             0.8,
             "#7fbc41"
            ],
            [
             0.9,
             "#4d9221"
            ],
            [
             1,
             "#276419"
            ]
           ],
           "sequential": [
            [
             0,
             "#0d0887"
            ],
            [
             0.1111111111111111,
             "#46039f"
            ],
            [
             0.2222222222222222,
             "#7201a8"
            ],
            [
             0.3333333333333333,
             "#9c179e"
            ],
            [
             0.4444444444444444,
             "#bd3786"
            ],
            [
             0.5555555555555556,
             "#d8576b"
            ],
            [
             0.6666666666666666,
             "#ed7953"
            ],
            [
             0.7777777777777778,
             "#fb9f3a"
            ],
            [
             0.8888888888888888,
             "#fdca26"
            ],
            [
             1,
             "#f0f921"
            ]
           ],
           "sequentialminus": [
            [
             0,
             "#0d0887"
            ],
            [
             0.1111111111111111,
             "#46039f"
            ],
            [
             0.2222222222222222,
             "#7201a8"
            ],
            [
             0.3333333333333333,
             "#9c179e"
            ],
            [
             0.4444444444444444,
             "#bd3786"
            ],
            [
             0.5555555555555556,
             "#d8576b"
            ],
            [
             0.6666666666666666,
             "#ed7953"
            ],
            [
             0.7777777777777778,
             "#fb9f3a"
            ],
            [
             0.8888888888888888,
             "#fdca26"
            ],
            [
             1,
             "#f0f921"
            ]
           ]
          },
          "colorway": [
           "#636efa",
           "#EF553B",
           "#00cc96",
           "#ab63fa",
           "#FFA15A",
           "#19d3f3",
           "#FF6692",
           "#B6E880",
           "#FF97FF",
           "#FECB52"
          ],
          "font": {
           "color": "#2a3f5f"
          },
          "geo": {
           "bgcolor": "white",
           "lakecolor": "white",
           "landcolor": "#E5ECF6",
           "showlakes": true,
           "showland": true,
           "subunitcolor": "white"
          },
          "hoverlabel": {
           "align": "left"
          },
          "hovermode": "closest",
          "mapbox": {
           "style": "light"
          },
          "paper_bgcolor": "white",
          "plot_bgcolor": "#E5ECF6",
          "polar": {
           "angularaxis": {
            "gridcolor": "white",
            "linecolor": "white",
            "ticks": ""
           },
           "bgcolor": "#E5ECF6",
           "radialaxis": {
            "gridcolor": "white",
            "linecolor": "white",
            "ticks": ""
           }
          },
          "scene": {
           "xaxis": {
            "backgroundcolor": "#E5ECF6",
            "gridcolor": "white",
            "gridwidth": 2,
            "linecolor": "white",
            "showbackground": true,
            "ticks": "",
            "zerolinecolor": "white"
           },
           "yaxis": {
            "backgroundcolor": "#E5ECF6",
            "gridcolor": "white",
            "gridwidth": 2,
            "linecolor": "white",
            "showbackground": true,
            "ticks": "",
            "zerolinecolor": "white"
           },
           "zaxis": {
            "backgroundcolor": "#E5ECF6",
            "gridcolor": "white",
            "gridwidth": 2,
            "linecolor": "white",
            "showbackground": true,
            "ticks": "",
            "zerolinecolor": "white"
           }
          },
          "shapedefaults": {
           "line": {
            "color": "#2a3f5f"
           }
          },
          "ternary": {
           "aaxis": {
            "gridcolor": "white",
            "linecolor": "white",
            "ticks": ""
           },
           "baxis": {
            "gridcolor": "white",
            "linecolor": "white",
            "ticks": ""
           },
           "bgcolor": "#E5ECF6",
           "caxis": {
            "gridcolor": "white",
            "linecolor": "white",
            "ticks": ""
           }
          },
          "title": {
           "x": 0.05
          },
          "xaxis": {
           "automargin": true,
           "gridcolor": "white",
           "linecolor": "white",
           "ticks": "",
           "title": {
            "standoff": 15
           },
           "zerolinecolor": "white",
           "zerolinewidth": 2
          },
          "yaxis": {
           "automargin": true,
           "gridcolor": "white",
           "linecolor": "white",
           "ticks": "",
           "title": {
            "standoff": 15
           },
           "zerolinecolor": "white",
           "zerolinewidth": 2
          }
         }
        },
        "title": {
         "text": "Соотношение сетевых и несетевых заведений по количеству"
        }
       }
      }
     },
     "metadata": {},
     "output_type": "display_data"
    }
   ],
   "source": [
    "fig = px.pie(chain, values='count', names='chain', \n",
    "             color_discrete_sequence=px.colors.qualitative.Set2, \n",
    "             title='Соотношение сетевых и несетевых заведений по количеству')\n",
    "fig.show()"
   ]
  },
  {
   "cell_type": "markdown",
   "id": "56c0e85f",
   "metadata": {},
   "source": [
    "Большая часть заведений не сетевые почти 62%, итересно было бы взглянуть на их фин. результат.\n",
    "Хотя в целом вход в такой бизнес не сильно высок, по этому он очень привлекателен для малых предпринимателей."
   ]
  },
  {
   "cell_type": "code",
   "execution_count": 19,
   "id": "ce54fe6c",
   "metadata": {},
   "outputs": [
    {
     "data": {},
     "execution_count": 19,
     "metadata": {},
     "output_type": "execute_result"
    }
   ],
   "source": [
    "chain_true = (df[df['chain']== 1]\n",
    "                   .groupby('category')\n",
    "                   .agg({'name':'count'})\n",
    "                   .reset_index()\n",
    "                   .rename(columns={'name':'count'})\n",
    "                   .sort_values(by='count', ascending=False))\n",
    "total = chain_true['count'].sum()\n",
    "chain_true['ratio_%'] = round((chain_true['count'] / total*100), 2)\n",
    "chain_true"
   ]
  },
  {
   "cell_type": "code",
   "execution_count": 20,
   "id": "80ab305a",
   "metadata": {},
   "outputs": [
    {
     "data": {
      "application/vnd.plotly.v1+json": {
       "config": {
        "plotlyServerURL": "https://plot.ly"
       },
       "data": [
        {
         "alignmentgroup": "True",
         "hovertemplate": "count=%{x}<br>category=%{y}<br>text=%{text}<extra></extra>",
         "legendgroup": "",
         "marker": {
          "color": "rgb(102,194,165)",
          "pattern": {
           "shape": ""
          }
         },
         "name": "",
         "offsetgroup": "",
         "orientation": "h",
         "showlegend": false,
         "text": [
          "3.05%",
          "3.75%",
          "7.17%",
          "7.53%",
          "9.1%",
          "16.81%",
          "24.3%",
          "28.29%"
         ],
         "textposition": "auto",
         "type": "bar",
         "x": [
          88,
          157,
          169,
          232,
          330,
          720,
          730,
          779
         ],
         "xaxis": "x",
         "y": [
          "столовая",
          "булочная",
          "бар,паб",
          "быстрое питание",
          "пиццерия",
          "кофейня",
          "ресторан",
          "кафе"
         ],
         "yaxis": "y"
        }
       ],
       "layout": {
        "barmode": "relative",
        "legend": {
         "tracegroupgap": 0
        },
        "template": {
         "data": {
          "bar": [
           {
            "error_x": {
             "color": "#2a3f5f"
            },
            "error_y": {
             "color": "#2a3f5f"
            },
            "marker": {
             "line": {
              "color": "white",
              "width": 0.5
             },
             "pattern": {
              "fillmode": "overlay",
              "size": 10,
              "solidity": 0.2
             }
            },
            "type": "bar"
           }
          ],
          "barpolar": [
           {
            "marker": {
             "line": {
              "color": "white",
              "width": 0.5
             },
             "pattern": {
              "fillmode": "overlay",
              "size": 10,
              "solidity": 0.2
             }
            },
            "type": "barpolar"
           }
          ],
          "carpet": [
           {
            "aaxis": {
             "endlinecolor": "#2a3f5f",
             "gridcolor": "#C8D4E3",
             "linecolor": "#C8D4E3",
             "minorgridcolor": "#C8D4E3",
             "startlinecolor": "#2a3f5f"
            },
            "baxis": {
             "endlinecolor": "#2a3f5f",
             "gridcolor": "#C8D4E3",
             "linecolor": "#C8D4E3",
             "minorgridcolor": "#C8D4E3",
             "startlinecolor": "#2a3f5f"
            },
            "type": "carpet"
           }
          ],
          "choropleth": [
           {
            "colorbar": {
             "outlinewidth": 0,
             "ticks": ""
            },
            "type": "choropleth"
           }
          ],
          "contour": [
           {
            "colorbar": {
             "outlinewidth": 0,
             "ticks": ""
            },
            "colorscale": [
             [
              0,
              "#0d0887"
             ],
             [
              0.1111111111111111,
              "#46039f"
             ],
             [
              0.2222222222222222,
              "#7201a8"
             ],
             [
              0.3333333333333333,
              "#9c179e"
             ],
             [
              0.4444444444444444,
              "#bd3786"
             ],
             [
              0.5555555555555556,
              "#d8576b"
             ],
             [
              0.6666666666666666,
              "#ed7953"
             ],
             [
              0.7777777777777778,
              "#fb9f3a"
             ],
             [
              0.8888888888888888,
              "#fdca26"
             ],
             [
              1,
              "#f0f921"
             ]
            ],
            "type": "contour"
           }
          ],
          "contourcarpet": [
           {
            "colorbar": {
             "outlinewidth": 0,
             "ticks": ""
            },
            "type": "contourcarpet"
           }
          ],
          "heatmap": [
           {
            "colorbar": {
             "outlinewidth": 0,
             "ticks": ""
            },
            "colorscale": [
             [
              0,
              "#0d0887"
             ],
             [
              0.1111111111111111,
              "#46039f"
             ],
             [
              0.2222222222222222,
              "#7201a8"
             ],
             [
              0.3333333333333333,
              "#9c179e"
             ],
             [
              0.4444444444444444,
              "#bd3786"
             ],
             [
              0.5555555555555556,
              "#d8576b"
             ],
             [
              0.6666666666666666,
              "#ed7953"
             ],
             [
              0.7777777777777778,
              "#fb9f3a"
             ],
             [
              0.8888888888888888,
              "#fdca26"
             ],
             [
              1,
              "#f0f921"
             ]
            ],
            "type": "heatmap"
           }
          ],
          "heatmapgl": [
           {
            "colorbar": {
             "outlinewidth": 0,
             "ticks": ""
            },
            "colorscale": [
             [
              0,
              "#0d0887"
             ],
             [
              0.1111111111111111,
              "#46039f"
             ],
             [
              0.2222222222222222,
              "#7201a8"
             ],
             [
              0.3333333333333333,
              "#9c179e"
             ],
             [
              0.4444444444444444,
              "#bd3786"
             ],
             [
              0.5555555555555556,
              "#d8576b"
             ],
             [
              0.6666666666666666,
              "#ed7953"
             ],
             [
              0.7777777777777778,
              "#fb9f3a"
             ],
             [
              0.8888888888888888,
              "#fdca26"
             ],
             [
              1,
              "#f0f921"
             ]
            ],
            "type": "heatmapgl"
           }
          ],
          "histogram": [
           {
            "marker": {
             "pattern": {
              "fillmode": "overlay",
              "size": 10,
              "solidity": 0.2
             }
            },
            "type": "histogram"
           }
          ],
          "histogram2d": [
           {
            "colorbar": {
             "outlinewidth": 0,
             "ticks": ""
            },
            "colorscale": [
             [
              0,
              "#0d0887"
             ],
             [
              0.1111111111111111,
              "#46039f"
             ],
             [
              0.2222222222222222,
              "#7201a8"
             ],
             [
              0.3333333333333333,
              "#9c179e"
             ],
             [
              0.4444444444444444,
              "#bd3786"
             ],
             [
              0.5555555555555556,
              "#d8576b"
             ],
             [
              0.6666666666666666,
              "#ed7953"
             ],
             [
              0.7777777777777778,
              "#fb9f3a"
             ],
             [
              0.8888888888888888,
              "#fdca26"
             ],
             [
              1,
              "#f0f921"
             ]
            ],
            "type": "histogram2d"
           }
          ],
          "histogram2dcontour": [
           {
            "colorbar": {
             "outlinewidth": 0,
             "ticks": ""
            },
            "colorscale": [
             [
              0,
              "#0d0887"
             ],
             [
              0.1111111111111111,
              "#46039f"
             ],
             [
              0.2222222222222222,
              "#7201a8"
             ],
             [
              0.3333333333333333,
              "#9c179e"
             ],
             [
              0.4444444444444444,
              "#bd3786"
             ],
             [
              0.5555555555555556,
              "#d8576b"
             ],
             [
              0.6666666666666666,
              "#ed7953"
             ],
             [
              0.7777777777777778,
              "#fb9f3a"
             ],
             [
              0.8888888888888888,
              "#fdca26"
             ],
             [
              1,
              "#f0f921"
             ]
            ],
            "type": "histogram2dcontour"
           }
          ],
          "mesh3d": [
           {
            "colorbar": {
             "outlinewidth": 0,
             "ticks": ""
            },
            "type": "mesh3d"
           }
          ],
          "parcoords": [
           {
            "line": {
             "colorbar": {
              "outlinewidth": 0,
              "ticks": ""
             }
            },
            "type": "parcoords"
           }
          ],
          "pie": [
           {
            "automargin": true,
            "type": "pie"
           }
          ],
          "scatter": [
           {
            "marker": {
             "colorbar": {
              "outlinewidth": 0,
              "ticks": ""
             }
            },
            "type": "scatter"
           }
          ],
          "scatter3d": [
           {
            "line": {
             "colorbar": {
              "outlinewidth": 0,
              "ticks": ""
             }
            },
            "marker": {
             "colorbar": {
              "outlinewidth": 0,
              "ticks": ""
             }
            },
            "type": "scatter3d"
           }
          ],
          "scattercarpet": [
           {
            "marker": {
             "colorbar": {
              "outlinewidth": 0,
              "ticks": ""
             }
            },
            "type": "scattercarpet"
           }
          ],
          "scattergeo": [
           {
            "marker": {
             "colorbar": {
              "outlinewidth": 0,
              "ticks": ""
             }
            },
            "type": "scattergeo"
           }
          ],
          "scattergl": [
           {
            "marker": {
             "colorbar": {
              "outlinewidth": 0,
              "ticks": ""
             }
            },
            "type": "scattergl"
           }
          ],
          "scattermapbox": [
           {
            "marker": {
             "colorbar": {
              "outlinewidth": 0,
              "ticks": ""
             }
            },
            "type": "scattermapbox"
           }
          ],
          "scatterpolar": [
           {
            "marker": {
             "colorbar": {
              "outlinewidth": 0,
              "ticks": ""
             }
            },
            "type": "scatterpolar"
           }
          ],
          "scatterpolargl": [
           {
            "marker": {
             "colorbar": {
              "outlinewidth": 0,
              "ticks": ""
             }
            },
            "type": "scatterpolargl"
           }
          ],
          "scatterternary": [
           {
            "marker": {
             "colorbar": {
              "outlinewidth": 0,
              "ticks": ""
             }
            },
            "type": "scatterternary"
           }
          ],
          "surface": [
           {
            "colorbar": {
             "outlinewidth": 0,
             "ticks": ""
            },
            "colorscale": [
             [
              0,
              "#0d0887"
             ],
             [
              0.1111111111111111,
              "#46039f"
             ],
             [
              0.2222222222222222,
              "#7201a8"
             ],
             [
              0.3333333333333333,
              "#9c179e"
             ],
             [
              0.4444444444444444,
              "#bd3786"
             ],
             [
              0.5555555555555556,
              "#d8576b"
             ],
             [
              0.6666666666666666,
              "#ed7953"
             ],
             [
              0.7777777777777778,
              "#fb9f3a"
             ],
             [
              0.8888888888888888,
              "#fdca26"
             ],
             [
              1,
              "#f0f921"
             ]
            ],
            "type": "surface"
           }
          ],
          "table": [
           {
            "cells": {
             "fill": {
              "color": "#EBF0F8"
             },
             "line": {
              "color": "white"
             }
            },
            "header": {
             "fill": {
              "color": "#C8D4E3"
             },
             "line": {
              "color": "white"
             }
            },
            "type": "table"
           }
          ]
         },
         "layout": {
          "annotationdefaults": {
           "arrowcolor": "#2a3f5f",
           "arrowhead": 0,
           "arrowwidth": 1
          },
          "autotypenumbers": "strict",
          "coloraxis": {
           "colorbar": {
            "outlinewidth": 0,
            "ticks": ""
           }
          },
          "colorscale": {
           "diverging": [
            [
             0,
             "#8e0152"
            ],
            [
             0.1,
             "#c51b7d"
            ],
            [
             0.2,
             "#de77ae"
            ],
            [
             0.3,
             "#f1b6da"
            ],
            [
             0.4,
             "#fde0ef"
            ],
            [
             0.5,
             "#f7f7f7"
            ],
            [
             0.6,
             "#e6f5d0"
            ],
            [
             0.7,
             "#b8e186"
            ],
            [
             0.8,
             "#7fbc41"
            ],
            [
             0.9,
             "#4d9221"
            ],
            [
             1,
             "#276419"
            ]
           ],
           "sequential": [
            [
             0,
             "#0d0887"
            ],
            [
             0.1111111111111111,
             "#46039f"
            ],
            [
             0.2222222222222222,
             "#7201a8"
            ],
            [
             0.3333333333333333,
             "#9c179e"
            ],
            [
             0.4444444444444444,
             "#bd3786"
            ],
            [
             0.5555555555555556,
             "#d8576b"
            ],
            [
             0.6666666666666666,
             "#ed7953"
            ],
            [
             0.7777777777777778,
             "#fb9f3a"
            ],
            [
             0.8888888888888888,
             "#fdca26"
            ],
            [
             1,
             "#f0f921"
            ]
           ],
           "sequentialminus": [
            [
             0,
             "#0d0887"
            ],
            [
             0.1111111111111111,
             "#46039f"
            ],
            [
             0.2222222222222222,
             "#7201a8"
            ],
            [
             0.3333333333333333,
             "#9c179e"
            ],
            [
             0.4444444444444444,
             "#bd3786"
            ],
            [
             0.5555555555555556,
             "#d8576b"
            ],
            [
             0.6666666666666666,
             "#ed7953"
            ],
            [
             0.7777777777777778,
             "#fb9f3a"
            ],
            [
             0.8888888888888888,
             "#fdca26"
            ],
            [
             1,
             "#f0f921"
            ]
           ]
          },
          "colorway": [
           "#636efa",
           "#EF553B",
           "#00cc96",
           "#ab63fa",
           "#FFA15A",
           "#19d3f3",
           "#FF6692",
           "#B6E880",
           "#FF97FF",
           "#FECB52"
          ],
          "font": {
           "color": "#2a3f5f"
          },
          "geo": {
           "bgcolor": "white",
           "lakecolor": "white",
           "landcolor": "white",
           "showlakes": true,
           "showland": true,
           "subunitcolor": "#C8D4E3"
          },
          "hoverlabel": {
           "align": "left"
          },
          "hovermode": "closest",
          "mapbox": {
           "style": "light"
          },
          "paper_bgcolor": "white",
          "plot_bgcolor": "white",
          "polar": {
           "angularaxis": {
            "gridcolor": "#EBF0F8",
            "linecolor": "#EBF0F8",
            "ticks": ""
           },
           "bgcolor": "white",
           "radialaxis": {
            "gridcolor": "#EBF0F8",
            "linecolor": "#EBF0F8",
            "ticks": ""
           }
          },
          "scene": {
           "xaxis": {
            "backgroundcolor": "white",
            "gridcolor": "#DFE8F3",
            "gridwidth": 2,
            "linecolor": "#EBF0F8",
            "showbackground": true,
            "ticks": "",
            "zerolinecolor": "#EBF0F8"
           },
           "yaxis": {
            "backgroundcolor": "white",
            "gridcolor": "#DFE8F3",
            "gridwidth": 2,
            "linecolor": "#EBF0F8",
            "showbackground": true,
            "ticks": "",
            "zerolinecolor": "#EBF0F8"
           },
           "zaxis": {
            "backgroundcolor": "white",
            "gridcolor": "#DFE8F3",
            "gridwidth": 2,
            "linecolor": "#EBF0F8",
            "showbackground": true,
            "ticks": "",
            "zerolinecolor": "#EBF0F8"
           }
          },
          "shapedefaults": {
           "line": {
            "color": "#2a3f5f"
           }
          },
          "ternary": {
           "aaxis": {
            "gridcolor": "#DFE8F3",
            "linecolor": "#A2B1C6",
            "ticks": ""
           },
           "baxis": {
            "gridcolor": "#DFE8F3",
            "linecolor": "#A2B1C6",
            "ticks": ""
           },
           "bgcolor": "white",
           "caxis": {
            "gridcolor": "#DFE8F3",
            "linecolor": "#A2B1C6",
            "ticks": ""
           }
          },
          "title": {
           "x": 0.05
          },
          "xaxis": {
           "automargin": true,
           "gridcolor": "#EBF0F8",
           "linecolor": "#EBF0F8",
           "ticks": "",
           "title": {
            "standoff": 15
           },
           "zerolinecolor": "#EBF0F8",
           "zerolinewidth": 2
          },
          "yaxis": {
           "automargin": true,
           "gridcolor": "#EBF0F8",
           "linecolor": "#EBF0F8",
           "ticks": "",
           "title": {
            "standoff": 15
           },
           "zerolinecolor": "#EBF0F8",
           "zerolinewidth": 2
          }
         }
        },
        "title": {
         "text": "Распределение по видам объектов общественного питания"
        },
        "xaxis": {
         "anchor": "y",
         "domain": [
          0,
          1
         ],
         "tickangle": 45,
         "title": {
          "text": "Количество объектов"
         }
        },
        "yaxis": {
         "anchor": "x",
         "domain": [
          0,
          1
         ],
         "title": {
          "text": "Тип объекта"
         }
        }
       }
      }
     },
     "metadata": {},
     "output_type": "display_data"
    }
   ],
   "source": [
    "fig = px.bar(\n",
    "    chain_true.sort_values(by='count'), x='count', y='category', \n",
    "    color_discrete_sequence=px.colors.qualitative.Set2, \n",
    "    text = types['ratio_%'].astype(str) + '%',\n",
    "    template='plotly_white',\n",
    "    title='Распределение по видам объектов общественного питания'\n",
    ")\n",
    "fig.update_xaxes(title='Количество объектов')\n",
    "fig.update_yaxes(title='Тип объекта')\n",
    "fig.update_xaxes(tickangle=45)\n",
    "fig.show() "
   ]
  },
  {
   "cell_type": "markdown",
   "id": "0b94d7af",
   "metadata": {},
   "source": [
    "по типам заведений, ничего нового, лидеры сохраняются."
   ]
  },
  {
   "cell_type": "code",
   "execution_count": 21,
   "id": "2fe43128",
   "metadata": {},
   "outputs": [
    {
     "data": {},
     "execution_count": 21,
     "metadata": {},
     "output_type": "execute_result"
    }
   ],
   "source": [
    "chain_share = pd.crosstab(df.category, df.chain)\n",
    "chain_share.columns = [1, 0]\n",
    "chain_share['total'] = chain_share[1] + chain_share[0]\n",
    "chain_share['ratio'] = (chain_share[1] / chain_share['total'])*100\n",
    "chain_share['ratio'] = round(chain_share['ratio'], 2)\n",
    "chain_share = chain_share.sort_values(by='ratio', ascending=False)\n",
    "chain_share = pd.DataFrame(chain_share)\n",
    "chain_share"
   ]
  },
  {
   "cell_type": "code",
   "execution_count": 22,
   "id": "1fee815e",
   "metadata": {},
   "outputs": [
    {
     "data": {
      "image/png": "[encoded data removed]"
     },
     "metadata": {
      "needs_background": "light"
     },
     "output_type": "display_data"
    }
   ],
   "source": [
    "sns.heatmap(pd.crosstab(index=df.category,\n",
    "                        columns=df.chain,\n",
    "                        values=df.name,\n",
    "                        normalize='index',\n",
    "                        aggfunc='count'),\n",
    "                        annot=True, fmt='.1%', cmap=\"YlGnBu\")\n",
    "plt.title('Соотношение несетевых и сетевых заведений')\n",
    "plt.xlabel('Доля в общем количестве')\n",
    "plt.ylabel('Тип объекта')\n",
    "plt.show()\n",
    "plt.show()"
   ]
  },
  {
   "cell_type": "markdown",
   "id": "6668527c",
   "metadata": {},
   "source": [
    "Доля сетевых баров и столовых, значительно выше (78% и 72%), чем не сетевых (22% и 27%) соответсвенно. (уверенн это связанно с операционным затратами по этим направлениям )\n",
    "Не сетевые булучные ледируют в 61% (в сегменте ценят индивидуальный подход)\n",
    "Почти паритет в 50% у кофейн и пиццерий"
   ]
  },
  {
   "cell_type": "markdown",
   "id": "3ce2a275",
   "metadata": {},
   "source": [
    "- найдем топ-15 популярных сетей в Москве."
   ]
  },
  {
   "cell_type": "code",
   "execution_count": 23,
   "id": "00a7c0d1",
   "metadata": {},
   "outputs": [
    {
     "data": {},
     "metadata": {},
     "output_type": "display_data"
    },
    {
     "data": {
      "image/png": "[encoded data removed]"
     },
     "metadata": {
      "needs_background": "light"
     },
     "output_type": "display_data"
    }
   ],
   "source": [
    "top_chain = (df\n",
    "    .query('chain == 1')\n",
    "    .groupby(['name', 'category'])\n",
    "    .agg({'name': 'count'})\n",
    "    .rename(columns={'name':'Кол-во заведений'})\n",
    ")\n",
    "top_chain = (\n",
    "    top_chain\n",
    "    .sort_values(by='Кол-во заведений', ascending=False)\n",
    "    .reset_index()\n",
    "    .rename(columns={\n",
    "        'name': 'Название сети'\n",
    "    })\n",
    "        )\n",
    "display(top_chain.head(15))\n",
    "# График топ-15 заведений\n",
    "fig, ax = plt.subplots(figsize=(12, 6))\n",
    "\n",
    "sns.set_color_codes('muted')\n",
    "sns.barplot(\n",
    "    x='Кол-во заведений',\n",
    "    y='Название сети',\n",
    "    data=top_chain.head(15),\n",
    "    color='b',\n",
    "    palette=\"Set3\"\n",
    "    \n",
    ")\n",
    "\n",
    "ax.set(title='Топ-15 заведений')\n",
    "\n",
    "sns.despine(left=True, bottom=True)"
   ]
  },
  {
   "cell_type": "markdown",
   "id": "9c912178",
   "metadata": {},
   "source": [
    "Обсалютный лидер направления это кафейни, и соотвественно сетевые заведения"
   ]
  },
  {
   "cell_type": "markdown",
   "id": "26cb5c1f",
   "metadata": {},
   "source": [
    "- Отобразите общее количество заведений и количество заведений каждой категории по районам."
   ]
  },
  {
   "cell_type": "code",
   "execution_count": 24,
   "id": "3a7b51d3",
   "metadata": {},
   "outputs": [
    {
     "data": {},
     "execution_count": 24,
     "metadata": {},
     "output_type": "execute_result"
    }
   ],
   "source": [
    "# Какие административные районы Москвы присутствуют в датасете\n",
    "df['district'].unique()"
   ]
  },
  {
   "cell_type": "code",
   "execution_count": 25,
   "id": "31534631",
   "metadata": {},
   "outputs": [
    {
     "data": {
      "image/png": "[encoded data removed]"
     },
     "metadata": {
      "needs_background": "light"
     },
     "output_type": "display_data"
    }
   ],
   "source": [
    "zone = (df.groupby(['district','category'])\n",
    "         .agg({'name':'count'})\n",
    "         .reset_index().rename(columns={'name':'counts'})\n",
    "         .sort_values(by='counts'))\n",
    "\n",
    "\n",
    "fig, ax = plt.subplots(figsize=(16, 6))\n",
    "\n",
    "sns.lineplot(\n",
    "    data=zone,\n",
    "    x='category',\n",
    "    y='counts',\n",
    "    hue='district'\n",
    ")\n",
    "\n",
    "ax.legend(loc='upper left', frameon=False)\n",
    "ax.set(\n",
    "    title='Группы сетевых заведений по числу объектов и количеству посадочных мест',\n",
    "    xlabel='Количество заведений',\n",
    "    ylabel='Среднее число посадочных мест'\n",
    ")\n",
    "\n",
    "sns.despine()"
   ]
  },
  {
   "cell_type": "markdown",
   "id": "2b6ccf37",
   "metadata": {},
   "source": [
    "Лидер ЦАО, наличие больших офисов и туристических объектов создает наибольшую привлекательность."
   ]
  },
  {
   "cell_type": "markdown",
   "id": "8e0af65a",
   "metadata": {},
   "source": [
    "- Визуализируйте распределение средних рейтингов по категориям заведений. Сильно ли различаются усреднённые рейтинги в разных типах общепита?"
   ]
  },
  {
   "cell_type": "code",
   "execution_count": 26,
   "id": "30d2d9aa",
   "metadata": {},
   "outputs": [
    {
     "data": {},
     "execution_count": 26,
     "metadata": {},
     "output_type": "execute_result"
    }
   ],
   "source": [
    "avg_rating = (df.groupby(['category','rating'])\n",
    "             .agg({'name':'count'})\n",
    "             .reset_index()\n",
    "             .rename(columns={'name':'counts'})\n",
    "             .sort_values(by='category'))\n",
    "avg_rating"
   ]
  },
  {
   "cell_type": "code",
   "execution_count": 27,
   "id": "ed70240e",
   "metadata": {},
   "outputs": [
    {
     "data": {
      "application/vnd.plotly.v1+json": {
       "config": {
        "plotlyServerURL": "https://plot.ly"
       },
       "data": [
        {
         "alignmentgroup": "True",
         "hovertemplate": "category=%{x}<br>rating=%{y}<extra></extra>",
         "legendgroup": "",
         "marker": {
          "color": "#636efa"
         },
         "name": "",
         "notched": false,
         "offsetgroup": "",
         "orientation": "v",
         "showlegend": false,
         "type": "box",
         "x": [
          "бар,паб",
          "бар,паб",
          "бар,паб",
          "бар,паб",
          "бар,паб",
          "бар,паб",
          "бар,паб",
          "бар,паб",
          "бар,паб",
          "бар,паб",
          "бар,паб",
          "бар,паб",
          "бар,паб",
          "бар,паб",
          "бар,паб",
          "бар,паб",
          "бар,паб",
          "бар,паб",
          "бар,паб",
          "бар,паб",
          "бар,паб",
          "бар,паб",
          "бар,паб",
          "бар,паб",
          "бар,паб",
          "булочная",
          "булочная",
          "булочная",
          "булочная",
          "булочная",
          "булочная",
          "булочная",
          "булочная",
          "булочная",
          "булочная",
          "булочная",
          "булочная",
          "булочная",
          "булочная",
          "булочная",
          "булочная",
          "булочная",
          "булочная",
          "булочная",
          "булочная",
          "булочная",
          "булочная",
          "быстрое питание",
          "быстрое питание",
          "быстрое питание",
          "быстрое питание",
          "быстрое питание",
          "быстрое питание",
          "быстрое питание",
          "быстрое питание",
          "быстрое питание",
          "быстрое питание",
          "быстрое питание",
          "быстрое питание",
          "быстрое питание",
          "быстрое питание",
          "быстрое питание",
          "быстрое питание",
          "быстрое питание",
          "быстрое питание",
          "быстрое питание",
          "быстрое питание",
          "быстрое питание",
          "быстрое питание",
          "быстрое питание",
          "быстрое питание",
          "быстрое питание",
          "быстрое питание",
          "быстрое питание",
          "быстрое питание",
          "быстрое питание",
          "быстрое питание",
          "быстрое питание",
          "быстрое питание",
          "быстрое питание",
          "быстрое питание",
          "быстрое питание",
          "быстрое питание",
          "кафе",
          "кафе",
          "кафе",
          "кафе",
          "кафе",
          "кафе",
          "кафе",
          "кафе",
          "кафе",
          "кафе",
          "кафе",
          "кафе",
          "кафе",
          "кафе",
          "кафе",
          "кафе",
          "кафе",
          "кафе",
          "кафе",
          "кафе",
          "кафе",
          "кафе",
          "кафе",
          "кафе",
          "кафе",
          "кафе",
          "кафе",
          "кафе",
          "кафе",
          "кафе",
          "кафе",
          "кафе",
          "кафе",
          "кафе",
          "кафе",
          "кафе",
          "кафе",
          "кафе",
          "кафе",
          "кафе",
          "кофейня",
          "кофейня",
          "кофейня",
          "кофейня",
          "кофейня",
          "кофейня",
          "кофейня",
          "кофейня",
          "кофейня",
          "кофейня",
          "кофейня",
          "кофейня",
          "кофейня",
          "кофейня",
          "кофейня",
          "кофейня",
          "кофейня",
          "кофейня",
          "кофейня",
          "кофейня",
          "кофейня",
          "кофейня",
          "кофейня",
          "кофейня",
          "кофейня",
          "кофейня",
          "кофейня",
          "кофейня",
          "пиццерия",
          "пиццерия",
          "пиццерия",
          "пиццерия",
          "пиццерия",
          "пиццерия",
          "пиццерия",
          "пиццерия",
          "пиццерия",
          "пиццерия",
          "пиццерия",
          "пиццерия",
          "пиццерия",
          "пиццерия",
          "пиццерия",
          "пиццерия",
          "пиццерия",
          "пиццерия",
          "пиццерия",
          "пиццерия",
          "пиццерия",
          "пиццерия",
          "пиццерия",
          "пиццерия",
          "ресторан",
          "ресторан",
          "ресторан",
          "ресторан",
          "ресторан",
          "ресторан",
          "ресторан",
          "ресторан",
          "ресторан",
          "ресторан",
          "ресторан",
          "ресторан",
          "ресторан",
          "ресторан",
          "ресторан",
          "ресторан",
          "ресторан",
          "ресторан",
          "ресторан",
          "ресторан",
          "ресторан",
          "ресторан",
          "ресторан",
          "ресторан",
          "ресторан",
          "ресторан",
          "ресторан",
          "ресторан",
          "ресторан",
          "ресторан",
          "ресторан",
          "ресторан",
          "ресторан",
          "ресторан",
          "ресторан",
          "ресторан",
          "столовая",
          "столовая",
          "столовая",
          "столовая",
          "столовая",
          "столовая",
          "столовая",
          "столовая",
          "столовая",
          "столовая",
          "столовая",
          "столовая",
          "столовая",
          "столовая",
          "столовая",
          "столовая",
          "столовая",
          "столовая",
          "столовая",
          "столовая",
          "столовая",
          "столовая",
          "столовая",
          "столовая",
          "столовая"
         ],
         "x0": " ",
         "xaxis": "x",
         "y": [
          1.1,
          5,
          4.9,
          4.8,
          4.7,
          4.6,
          4.5,
          4.4,
          4.2,
          4.1,
          4,
          3.9,
          4.3,
          3.7,
          3.8,
          1.4,
          2.8,
          2.9,
          3.1,
          1.3,
          3.3,
          3.4,
          3.5,
          3.6,
          3.2,
          4.1,
          5,
          4.9,
          4.8,
          4.7,
          4.6,
          4.5,
          4.4,
          4.3,
          4.2,
          4,
          3.6,
          3.8,
          3.9,
          1.3,
          3.1,
          3.2,
          2.2,
          3.4,
          3.5,
          3.7,
          3.3,
          4.1,
          3.5,
          3.6,
          3.7,
          3.8,
          3.9,
          4,
          4.2,
          4.7,
          4.4,
          4.5,
          4.6,
          4.8,
          4.9,
          5,
          3.4,
          4.3,
          3.3,
          1.5,
          3.1,
          3.2,
          1.1,
          1.3,
          1.4,
          1.9,
          2,
          2.1,
          1.6,
          2.3,
          2.4,
          2.5,
          2.6,
          2.8,
          2.9,
          3,
          2.2,
          3.9,
          3.3,
          3.4,
          3.5,
          3.6,
          3.7,
          3.8,
          4,
          5,
          4.2,
          4.3,
          4.4,
          4.6,
          4.7,
          4.8,
          4.9,
          3.2,
          4.1,
          3.1,
          4.5,
          2.9,
          1,
          1.1,
          1.2,
          1.4,
          3,
          1.5,
          1.6,
          1.7,
          1.8,
          1.3,
          2.1,
          2.2,
          2.3,
          2.4,
          2.5,
          2.6,
          2.7,
          2.8,
          1.9,
          3.9,
          4,
          4.1,
          4.2,
          4.3,
          4.4,
          4.8,
          4.6,
          4.7,
          4.9,
          5,
          3.8,
          4.5,
          3.7,
          3.2,
          3.5,
          1.4,
          3.6,
          2.2,
          2.3,
          2.6,
          2.8,
          2,
          3,
          3.1,
          3.3,
          3.4,
          2.9,
          4,
          4.9,
          4.8,
          4.7,
          4.6,
          5,
          4.4,
          4.3,
          4.2,
          4.1,
          3.9,
          4.5,
          3.7,
          3.8,
          1,
          2.5,
          2.6,
          2.7,
          2.1,
          3,
          3.4,
          3.5,
          3.6,
          2.9,
          4.1,
          3.5,
          3.6,
          3.7,
          3.8,
          4,
          4.2,
          4.7,
          4.4,
          4.5,
          4.6,
          3.4,
          4.8,
          4.9,
          5,
          4.3,
          3.3,
          3.9,
          3.1,
          3.2,
          1,
          1.1,
          1.4,
          1.7,
          1.8,
          1.9,
          2.1,
          1.3,
          2.3,
          2.4,
          2.5,
          2.7,
          2.8,
          2.9,
          2.2,
          3,
          4,
          4.1,
          4.2,
          4.3,
          4.6,
          4.5,
          4.7,
          4.8,
          3.9,
          4.4,
          3.8,
          2.5,
          3.6,
          3.5,
          3.4,
          3.2,
          3,
          2.9,
          2.8,
          1.4,
          1.3,
          1,
          4.9,
          3.7,
          5
         ],
         "y0": " ",
         "yaxis": "y"
        }
       ],
       "layout": {
        "boxmode": "group",
        "legend": {
         "tracegroupgap": 0
        },
        "template": {
         "data": {
          "bar": [
           {
            "error_x": {
             "color": "#2a3f5f"
            },
            "error_y": {
             "color": "#2a3f5f"
            },
            "marker": {
             "line": {
              "color": "#E5ECF6",
              "width": 0.5
             },
             "pattern": {
              "fillmode": "overlay",
              "size": 10,
              "solidity": 0.2
             }
            },
            "type": "bar"
           }
          ],
          "barpolar": [
           {
            "marker": {
             "line": {
              "color": "#E5ECF6",
              "width": 0.5
             },
             "pattern": {
              "fillmode": "overlay",
              "size": 10,
              "solidity": 0.2
             }
            },
            "type": "barpolar"
           }
          ],
          "carpet": [
           {
            "aaxis": {
             "endlinecolor": "#2a3f5f",
             "gridcolor": "white",
             "linecolor": "white",
             "minorgridcolor": "white",
             "startlinecolor": "#2a3f5f"
            },
            "baxis": {
             "endlinecolor": "#2a3f5f",
             "gridcolor": "white",
             "linecolor": "white",
             "minorgridcolor": "white",
             "startlinecolor": "#2a3f5f"
            },
            "type": "carpet"
           }
          ],
          "choropleth": [
           {
            "colorbar": {
             "outlinewidth": 0,
             "ticks": ""
            },
            "type": "choropleth"
           }
          ],
          "contour": [
           {
            "colorbar": {
             "outlinewidth": 0,
             "ticks": ""
            },
            "colorscale": [
             [
              0,
              "#0d0887"
             ],
             [
              0.1111111111111111,
              "#46039f"
             ],
             [
              0.2222222222222222,
              "#7201a8"
             ],
             [
              0.3333333333333333,
              "#9c179e"
             ],
             [
              0.4444444444444444,
              "#bd3786"
             ],
             [
              0.5555555555555556,
              "#d8576b"
             ],
             [
              0.6666666666666666,
              "#ed7953"
             ],
             [
              0.7777777777777778,
              "#fb9f3a"
             ],
             [
              0.8888888888888888,
              "#fdca26"
             ],
             [
              1,
              "#f0f921"
             ]
            ],
            "type": "contour"
           }
          ],
          "contourcarpet": [
           {
            "colorbar": {
             "outlinewidth": 0,
             "ticks": ""
            },
            "type": "contourcarpet"
           }
          ],
          "heatmap": [
           {
            "colorbar": {
             "outlinewidth": 0,
             "ticks": ""
            },
            "colorscale": [
             [
              0,
              "#0d0887"
             ],
             [
              0.1111111111111111,
              "#46039f"
             ],
             [
              0.2222222222222222,
              "#7201a8"
             ],
             [
              0.3333333333333333,
              "#9c179e"
             ],
             [
              0.4444444444444444,
              "#bd3786"
             ],
             [
              0.5555555555555556,
              "#d8576b"
             ],
             [
              0.6666666666666666,
              "#ed7953"
             ],
             [
              0.7777777777777778,
              "#fb9f3a"
             ],
             [
              0.8888888888888888,
              "#fdca26"
             ],
             [
              1,
              "#f0f921"
             ]
            ],
            "type": "heatmap"
           }
          ],
          "heatmapgl": [
           {
            "colorbar": {
             "outlinewidth": 0,
             "ticks": ""
            },
            "colorscale": [
             [
              0,
              "#0d0887"
             ],
             [
              0.1111111111111111,
              "#46039f"
             ],
             [
              0.2222222222222222,
              "#7201a8"
             ],
             [
              0.3333333333333333,
              "#9c179e"
             ],
             [
              0.4444444444444444,
              "#bd3786"
             ],
             [
              0.5555555555555556,
              "#d8576b"
             ],
             [
              0.6666666666666666,
              "#ed7953"
             ],
             [
              0.7777777777777778,
              "#fb9f3a"
             ],
             [
              0.8888888888888888,
              "#fdca26"
             ],
             [
              1,
              "#f0f921"
             ]
            ],
            "type": "heatmapgl"
           }
          ],
          "histogram": [
           {
            "marker": {
             "pattern": {
              "fillmode": "overlay",
              "size": 10,
              "solidity": 0.2
             }
            },
            "type": "histogram"
           }
          ],
          "histogram2d": [
           {
            "colorbar": {
             "outlinewidth": 0,
             "ticks": ""
            },
            "colorscale": [
             [
              0,
              "#0d0887"
             ],
             [
              0.1111111111111111,
              "#46039f"
             ],
             [
              0.2222222222222222,
              "#7201a8"
             ],
             [
              0.3333333333333333,
              "#9c179e"
             ],
             [
              0.4444444444444444,
              "#bd3786"
             ],
             [
              0.5555555555555556,
              "#d8576b"
             ],
             [
              0.6666666666666666,
              "#ed7953"
             ],
             [
              0.7777777777777778,
              "#fb9f3a"
             ],
             [
              0.8888888888888888,
              "#fdca26"
             ],
             [
              1,
              "#f0f921"
             ]
            ],
            "type": "histogram2d"
           }
          ],
          "histogram2dcontour": [
           {
            "colorbar": {
             "outlinewidth": 0,
             "ticks": ""
            },
            "colorscale": [
             [
              0,
              "#0d0887"
             ],
             [
              0.1111111111111111,
              "#46039f"
             ],
             [
              0.2222222222222222,
              "#7201a8"
             ],
             [
              0.3333333333333333,
              "#9c179e"
             ],
             [
              0.4444444444444444,
              "#bd3786"
             ],
             [
              0.5555555555555556,
              "#d8576b"
             ],
             [
              0.6666666666666666,
              "#ed7953"
             ],
             [
              0.7777777777777778,
              "#fb9f3a"
             ],
             [
              0.8888888888888888,
              "#fdca26"
             ],
             [
              1,
              "#f0f921"
             ]
            ],
            "type": "histogram2dcontour"
           }
          ],
          "mesh3d": [
           {
            "colorbar": {
             "outlinewidth": 0,
             "ticks": ""
            },
            "type": "mesh3d"
           }
          ],
          "parcoords": [
           {
            "line": {
             "colorbar": {
              "outlinewidth": 0,
              "ticks": ""
             }
            },
            "type": "parcoords"
           }
          ],
          "pie": [
           {
            "automargin": true,
            "type": "pie"
           }
          ],
          "scatter": [
           {
            "marker": {
             "colorbar": {
              "outlinewidth": 0,
              "ticks": ""
             }
            },
            "type": "scatter"
           }
          ],
          "scatter3d": [
           {
            "line": {
             "colorbar": {
              "outlinewidth": 0,
              "ticks": ""
             }
            },
            "marker": {
             "colorbar": {
              "outlinewidth": 0,
              "ticks": ""
             }
            },
            "type": "scatter3d"
           }
          ],
          "scattercarpet": [
           {
            "marker": {
             "colorbar": {
              "outlinewidth": 0,
              "ticks": ""
             }
            },
            "type": "scattercarpet"
           }
          ],
          "scattergeo": [
           {
            "marker": {
             "colorbar": {
              "outlinewidth": 0,
              "ticks": ""
             }
            },
            "type": "scattergeo"
           }
          ],
          "scattergl": [
           {
            "marker": {
             "colorbar": {
              "outlinewidth": 0,
              "ticks": ""
             }
            },
            "type": "scattergl"
           }
          ],
          "scattermapbox": [
           {
            "marker": {
             "colorbar": {
              "outlinewidth": 0,
              "ticks": ""
             }
            },
            "type": "scattermapbox"
           }
          ],
          "scatterpolar": [
           {
            "marker": {
             "colorbar": {
              "outlinewidth": 0,
              "ticks": ""
             }
            },
            "type": "scatterpolar"
           }
          ],
          "scatterpolargl": [
           {
            "marker": {
             "colorbar": {
              "outlinewidth": 0,
              "ticks": ""
             }
            },
            "type": "scatterpolargl"
           }
          ],
          "scatterternary": [
           {
            "marker": {
             "colorbar": {
              "outlinewidth": 0,
              "ticks": ""
             }
            },
            "type": "scatterternary"
           }
          ],
          "surface": [
           {
            "colorbar": {
             "outlinewidth": 0,
             "ticks": ""
            },
            "colorscale": [
             [
              0,
              "#0d0887"
             ],
             [
              0.1111111111111111,
              "#46039f"
             ],
             [
              0.2222222222222222,
              "#7201a8"
             ],
             [
              0.3333333333333333,
              "#9c179e"
             ],
             [
              0.4444444444444444,
              "#bd3786"
             ],
             [
              0.5555555555555556,
              "#d8576b"
             ],
             [
              0.6666666666666666,
              "#ed7953"
             ],
             [
              0.7777777777777778,
              "#fb9f3a"
             ],
             [
              0.8888888888888888,
              "#fdca26"
             ],
             [
              1,
              "#f0f921"
             ]
            ],
            "type": "surface"
           }
          ],
          "table": [
           {
            "cells": {
             "fill": {
              "color": "#EBF0F8"
             },
             "line": {
              "color": "white"
             }
            },
            "header": {
             "fill": {
              "color": "#C8D4E3"
             },
             "line": {
              "color": "white"
             }
            },
            "type": "table"
           }
          ]
         },
         "layout": {
          "annotationdefaults": {
           "arrowcolor": "#2a3f5f",
           "arrowhead": 0,
           "arrowwidth": 1
          },
          "autotypenumbers": "strict",
          "coloraxis": {
           "colorbar": {
            "outlinewidth": 0,
            "ticks": ""
           }
          },
          "colorscale": {
           "diverging": [
            [
             0,
             "#8e0152"
            ],
            [
             0.1,
             "#c51b7d"
            ],
            [
             0.2,
             "#de77ae"
            ],
            [
             0.3,
             "#f1b6da"
            ],
            [
             0.4,
             "#fde0ef"
            ],
            [
             0.5,
             "#f7f7f7"
            ],
            [
             0.6,
             "#e6f5d0"
            ],
            [
             0.7,
             "#b8e186"
            ],
            [
             0.8,
             "#7fbc41"
            ],
            [
             0.9,
             "#4d9221"
            ],
            [
             1,
             "#276419"
            ]
           ],
           "sequential": [
            [
             0,
             "#0d0887"
            ],
            [
             0.1111111111111111,
             "#46039f"
            ],
            [
             0.2222222222222222,
             "#7201a8"
            ],
            [
             0.3333333333333333,
             "#9c179e"
            ],
            [
             0.4444444444444444,
             "#bd3786"
            ],
            [
             0.5555555555555556,
             "#d8576b"
            ],
            [
             0.6666666666666666,
             "#ed7953"
            ],
            [
             0.7777777777777778,
             "#fb9f3a"
            ],
            [
             0.8888888888888888,
             "#fdca26"
            ],
            [
             1,
             "#f0f921"
            ]
           ],
           "sequentialminus": [
            [
             0,
             "#0d0887"
            ],
            [
             0.1111111111111111,
             "#46039f"
            ],
            [
             0.2222222222222222,
             "#7201a8"
            ],
            [
             0.3333333333333333,
             "#9c179e"
            ],
            [
             0.4444444444444444,
             "#bd3786"
            ],
            [
             0.5555555555555556,
             "#d8576b"
            ],
            [
             0.6666666666666666,
             "#ed7953"
            ],
            [
             0.7777777777777778,
             "#fb9f3a"
            ],
            [
             0.8888888888888888,
             "#fdca26"
            ],
            [
             1,
             "#f0f921"
            ]
           ]
          },
          "colorway": [
           "#636efa",
           "#EF553B",
           "#00cc96",
           "#ab63fa",
           "#FFA15A",
           "#19d3f3",
           "#FF6692",
           "#B6E880",
           "#FF97FF",
           "#FECB52"
          ],
          "font": {
           "color": "#2a3f5f"
          },
          "geo": {
           "bgcolor": "white",
           "lakecolor": "white",
           "landcolor": "#E5ECF6",
           "showlakes": true,
           "showland": true,
           "subunitcolor": "white"
          },
          "hoverlabel": {
           "align": "left"
          },
          "hovermode": "closest",
          "mapbox": {
           "style": "light"
          },
          "paper_bgcolor": "white",
          "plot_bgcolor": "#E5ECF6",
          "polar": {
           "angularaxis": {
            "gridcolor": "white",
            "linecolor": "white",
            "ticks": ""
           },
           "bgcolor": "#E5ECF6",
           "radialaxis": {
            "gridcolor": "white",
            "linecolor": "white",
            "ticks": ""
           }
          },
          "scene": {
           "xaxis": {
            "backgroundcolor": "#E5ECF6",
            "gridcolor": "white",
            "gridwidth": 2,
            "linecolor": "white",
            "showbackground": true,
            "ticks": "",
            "zerolinecolor": "white"
           },
           "yaxis": {
            "backgroundcolor": "#E5ECF6",
            "gridcolor": "white",
            "gridwidth": 2,
            "linecolor": "white",
            "showbackground": true,
            "ticks": "",
            "zerolinecolor": "white"
           },
           "zaxis": {
            "backgroundcolor": "#E5ECF6",
            "gridcolor": "white",
            "gridwidth": 2,
            "linecolor": "white",
            "showbackground": true,
            "ticks": "",
            "zerolinecolor": "white"
           }
          },
          "shapedefaults": {
           "line": {
            "color": "#2a3f5f"
           }
          },
          "ternary": {
           "aaxis": {
            "gridcolor": "white",
            "linecolor": "white",
            "ticks": ""
           },
           "baxis": {
            "gridcolor": "white",
            "linecolor": "white",
            "ticks": ""
           },
           "bgcolor": "#E5ECF6",
           "caxis": {
            "gridcolor": "white",
            "linecolor": "white",
            "ticks": ""
           }
          },
          "title": {
           "x": 0.05
          },
          "xaxis": {
           "automargin": true,
           "gridcolor": "white",
           "linecolor": "white",
           "ticks": "",
           "title": {
            "standoff": 15
           },
           "zerolinecolor": "white",
           "zerolinewidth": 2
          },
          "yaxis": {
           "automargin": true,
           "gridcolor": "white",
           "linecolor": "white",
           "ticks": "",
           "title": {
            "standoff": 15
           },
           "zerolinecolor": "white",
           "zerolinewidth": 2
          }
         }
        },
        "title": {
         "text": "Соотношение среднего рейтинга рейтинга к типу заведения"
        },
        "xaxis": {
         "anchor": "y",
         "domain": [
          0,
          1
         ],
         "title": {
          "text": "category"
         }
        },
        "yaxis": {
         "anchor": "x",
         "domain": [
          0,
          1
         ],
         "title": {
          "text": "rating"
         }
        }
       }
      }
     },
     "metadata": {},
     "output_type": "display_data"
    }
   ],
   "source": [
    "fig = px.box(avg_rating, x='category', y='rating', \n",
    "             title='Соотношение среднего рейтинга рейтинга к типу заведения')\n",
    "fig.show()"
   ]
  },
  {
   "cell_type": "markdown",
   "id": "cf7b47cd",
   "metadata": {},
   "source": [
    "Вот теперь мы можем оценить рейтинги по медианным значениям, более низкий рейтинг выставляют бысрое питание, кафе и ресторан ( от 3 до 3.5)\n",
    "Наивысший рейтинг у булочная, бар, пиццерия и столовая ( в целом по группам от 3.8< )"
   ]
  },
  {
   "cell_type": "markdown",
   "id": "d26e17e1",
   "metadata": {},
   "source": [
    "- Постройте фоновую картограмму (хороплет) со средним рейтингом заведений каждого района. Границы районов Москвы, которые встречаются в датасете, хранятся в файле admin_level_geomap.geojson"
   ]
  },
  {
   "cell_type": "code",
   "execution_count": 28,
   "id": "545822f1",
   "metadata": {},
   "outputs": [],
   "source": [
    "# подключаем модуль для работы с JSON-форматом\n",
    "import json\n",
    "\n",
    "# читаем файл и сохраняем в переменной\n",
    "try:\n",
    "    with open('admin_level_geomap.geojson', 'r') as f:\n",
    "        geo_json = json.load(f)\n",
    "except:\n",
    "    with open(r\"C:\\Users\\rpash\\Desktop\\шпаргалки\\admin_level_geomap.geojson\") as f:\n",
    "        geo_json = json.load(f)\n",
    "#print(json.dumps(geo_json, indent=2, ensure_ascii=False, sort_keys=True))"
   ]
  },
  {
   "cell_type": "code",
   "execution_count": 29,
   "id": "3eb4dca9",
   "metadata": {},
   "outputs": [
    {
     "data": {},
     "execution_count": 29,
     "metadata": {},
     "output_type": "execute_result"
    }
   ],
   "source": [
    "rating_df = df.groupby('district', as_index=False)['rating'].agg('median')\n",
    "rating_df"
   ]
  },
  {
   "cell_type": "code",
   "execution_count": 30,
   "id": "a92e4abb",
   "metadata": {},
   "outputs": [
    {
     "data": {},
     "execution_count": 30,
     "metadata": {},
     "output_type": "execute_result"
    }
   ],
   "source": [
    "# импортируем карту и хороплет\n",
    "from folium import Map, Choropleth\n",
    "\n",
    "# moscow_lat - широта центра Москвы, moscow_lng - долгота центра Москвы\n",
    "moscow_lat, moscow_lng = 55.751244, 37.618423\n",
    "\n",
    "# загружаем JSON-файл с границами округов Москвы\n",
    "state_geo = geo_json\n",
    "\n",
    "# создаём карту Москвы\n",
    "m = Map(location=[moscow_lat, moscow_lng], zoom_start=10)\n",
    "\n",
    "# создаём хороплет с помощью конструктора Choropleth и добавляем его на карту\n",
    "Choropleth(\n",
    "    geo_data=state_geo,\n",
    "    data=rating_df,\n",
    "    columns=['district', 'rating'],\n",
    "    key_on='feature.name',\n",
    "    fill_color='YlGn',\n",
    "    fill_opacity=0.8,\n",
    "    legend_name='Медианный рейтинг заведений по районам',\n",
    ").add_to(m)\n",
    "\n",
    "# выводим карту\n",
    "m"
   ]
  },
  {
   "cell_type": "markdown",
   "id": "612c392c",
   "metadata": {},
   "source": [
    "Вот тут я накосячил, не знаю почему не работает )\n",
    "Но из табличных данных видим похожую историю, что рейтинги черезчур однородны"
   ]
  },
  {
   "cell_type": "markdown",
   "id": "98d400d9",
   "metadata": {},
   "source": [
    "- Отобразите все заведения датасета на карте с помощью кластеров"
   ]
  },
  {
   "cell_type": "code",
   "execution_count": 31,
   "id": "e794b907",
   "metadata": {},
   "outputs": [
    {
     "data": {},
     "execution_count": 31,
     "metadata": {},
     "output_type": "execute_result"
    }
   ],
   "source": [
    "# импортируем карту и маркер\n",
    "from folium import Map, Marker\n",
    "# импортируем кластер\n",
    "from folium.plugins import MarkerCluster\n",
    "\n",
    "# moscow_lat - широта центра Москвы, moscow_lng - долгота центра Москвы\n",
    "moscow_lat, moscow_lng = 55.751244, 37.618423\n",
    "\n",
    "# создаём карту Москвы\n",
    "m = Map(location=[moscow_lat, moscow_lng], zoom_start=10)\n",
    "# создаём пустой кластер, добавляем его на карту\n",
    "marker_cluster = MarkerCluster().add_to(m)\n",
    "\n",
    "# пишем функцию, которая принимает строку датафрейма,\n",
    "# создаёт маркер в текущей точке и добавляет его в кластер marker_cluster\n",
    "def create_clusters(row):\n",
    "    Marker(\n",
    "        [row['lat'], row['lng']],\n",
    "        popup=f\"{row['name']} {row['rating']}\",\n",
    "    ).add_to(marker_cluster)\n",
    "\n",
    "# применяем функцию create_clusters() к каждой строке датафрейма\n",
    "df.apply(create_clusters, axis=1)\n",
    "\n",
    "# выводим карту\n",
    "m\n"
   ]
  },
  {
   "cell_type": "markdown",
   "id": "e81846ee",
   "metadata": {},
   "source": [
    "При нанесение кластеров видно, что нибольшее кол-во заведений находятся в центре и на севере и юго-восток"
   ]
  },
  {
   "cell_type": "markdown",
   "id": "924ed2d4",
   "metadata": {},
   "source": [
    "- Найдите топ-15 улиц по количеству заведений."
   ]
  },
  {
   "cell_type": "code",
   "execution_count": 57,
   "id": "19896fbf",
   "metadata": {},
   "outputs": [
    {
     "data": {},
     "execution_count": 57,
     "metadata": {},
     "output_type": "execute_result"
    }
   ],
   "source": [
    "top_streets = (df\n",
    "                 .groupby(['street', 'category'])\n",
    "                 .agg({'name':'count'})\n",
    "                 .reset_index()\n",
    "                 .rename(columns={'name':'counts'})\n",
    "                 .sort_values(by='counts', ascending=False))\n",
    "top_streets_1 = top_streets.head(15)\n",
    "top_streets"
   ]
  },
  {
   "cell_type": "code",
   "execution_count": 58,
   "id": "fddbc731",
   "metadata": {},
   "outputs": [
    {
     "data": {},
     "execution_count": 58,
     "metadata": {},
     "output_type": "execute_result"
    }
   ],
   "source": [
    "top_15 = df.groupby('street').count().sort_values(by='category', ascending=False).head(15).reset_index()\n",
    "top_15"
   ]
  },
  {
   "cell_type": "code",
   "execution_count": 61,
   "id": "9b0810b2",
   "metadata": {},
   "outputs": [
    {
     "data": {
      "image/png": "[encoded data removed]"
     },
     "metadata": {
      "needs_background": "light"
     },
     "output_type": "display_data"
    }
   ],
   "source": [
    "fig, ax = plt.subplots(figsize=(16, 6))\n",
    "\n",
    "sns.barplot(\n",
    "    data=top_15,\n",
    "    x='name',\n",
    "    y='street'\n",
    "    #hue='category'\n",
    ")\n",
    "\n",
    "#ax.legend(loc='lower right', frameon=False)\n",
    "ax.set(\n",
    "    title='Размещение заведений по улицам и типу',\n",
    "    xlabel='Кол-во заведений',\n",
    "    ylabel='Улицы размещения'\n",
    ")\n",
    "\n",
    "sns.despine()"
   ]
  },
  {
   "cell_type": "markdown",
   "id": "854fea4a",
   "metadata": {},
   "source": [
    "Лидер \"проспект Мира\" во всех типах заведений. \n",
    "НЕплохие результаты показывает \"Профсоюзная улица\", \"Ленинский проспект\" и \"Ленинградский проспект\""
   ]
  },
  {
   "cell_type": "markdown",
   "id": "f7ff0ecb",
   "metadata": {},
   "source": [
    "- Найдите улицы, на которых находится только один объект общепита"
   ]
  },
  {
   "cell_type": "code",
   "execution_count": 34,
   "id": "1f0c0b1c",
   "metadata": {},
   "outputs": [
    {
     "data": {},
     "execution_count": 34,
     "metadata": {},
     "output_type": "execute_result"
    }
   ],
   "source": [
    "street_1 = (df\n",
    "                 .groupby('street')\n",
    "                 .agg({'name':'count'})\n",
    "                 .reset_index()\n",
    "                 .rename(columns={'name':'counts'})\n",
    "                 .sort_values(by='counts'))\n",
    "street_1 = street_1.query('counts == 1')\n",
    "street_1.count()"
   ]
  },
  {
   "cell_type": "code",
   "execution_count": 35,
   "id": "8891dcd7",
   "metadata": {},
   "outputs": [
    {
     "data": {},
     "execution_count": 35,
     "metadata": {},
     "output_type": "execute_result"
    }
   ],
   "source": [
    "street_1"
   ]
  },
  {
   "cell_type": "markdown",
   "id": "f8a9b54c",
   "metadata": {},
   "source": [
    "Всего 458 заведения, единолично присутвуют на улице, но возможно за углом у них всегда находится конкурент )"
   ]
  },
  {
   "cell_type": "code",
   "execution_count": 36,
   "id": "fc344a3e",
   "metadata": {},
   "outputs": [
    {
     "data": {},
     "execution_count": 36,
     "metadata": {},
     "output_type": "execute_result"
    }
   ],
   "source": [
    "bill_df = df.groupby('district', as_index=False)['middle_avg_bill'].agg('median')\n",
    "bill_df"
   ]
  },
  {
   "cell_type": "code",
   "execution_count": 37,
   "id": "7480ada5",
   "metadata": {},
   "outputs": [
    {
     "data": {},
     "execution_count": 37,
     "metadata": {},
     "output_type": "execute_result"
    }
   ],
   "source": [
    "# moscow_lat - широта центра Москвы, moscow_lng - долгота центра Москвы\n",
    "moscow_lat, moscow_lng = 55.751244, 37.618423\n",
    "\n",
    "# загружаем JSON-файл с границами округов Москвы\n",
    "state_geo = geo_json\n",
    "\n",
    "# создаём карту Москвы\n",
    "m = Map(location=[moscow_lat, moscow_lng], zoom_start=10)\n",
    "\n",
    "# создаём хороплет с помощью конструктора Choropleth и добавляем его на карту\n",
    "Choropleth(\n",
    "    geo_data=state_geo,\n",
    "    data=bill_df,\n",
    "    columns=['district', 'middle_avg_bill'],\n",
    "    key_on='feature.name',\n",
    "    fill_color='YlGn',\n",
    "    fill_opacity=0.6,\n",
    "    legend_name='Средний ценник заведений по районам',\n",
    ").add_to(m)\n",
    "\n",
    "# выводим карту\n",
    "m"
   ]
  },
  {
   "cell_type": "markdown",
   "id": "b7c1f538",
   "metadata": {},
   "source": [
    "Максимальный средний чек, в Западном и Центральном округе в 1000 р, так же хороший результат в северный и северо-западный округ в 700 и 650 р"
   ]
  },
  {
   "cell_type": "code",
   "execution_count": 38,
   "id": "1bb83a61",
   "metadata": {},
   "outputs": [
    {
     "data": {},
     "execution_count": 38,
     "metadata": {},
     "output_type": "execute_result"
    }
   ],
   "source": [
    "coffe_df = df.groupby('district', as_index=False)['middle_coffee_cup'].agg('median')\n",
    "coffe_df"
   ]
  },
  {
   "cell_type": "markdown",
   "id": "71c0882f",
   "metadata": {},
   "source": [
    "### Общий вывод:\n",
    "\n",
    "- Наибольшее количество заведений с типом кафе, ресторан и кафейня суммарно 69% от всех заведений\n",
    "- Среднее кол-во посадочный мест кафе (60), ресторан (86), кофейня (80)\n",
    "- Большая часть заведений не сетевые 62%\n",
    "- При этом сетевый заведения показывают лучшую преставленность по районам и по улицам\n",
    "- Максимальный средний чек, в Западном и Центральном округе в 1000 р, так же хороший результат в северный и северо-западный округ в 700 и 650 р\n",
    "- Максимальная средня стоимость кофе Юго-Западный округ 197 р, Центральный 190 р, Западный 187 р."
   ]
  },
  {
   "cell_type": "markdown",
   "id": "86885d2a",
   "metadata": {},
   "source": [
    "###  Детализируем исследование: открытие кофейни"
   ]
  },
  {
   "cell_type": "markdown",
   "id": "0b48cd4e",
   "metadata": {},
   "source": [
    "Основателям фонда «Shut Up and Take My Money» не даёт покоя успех сериала «Друзья». Их мечта — открыть такую же крутую и доступную, как «Central Perk», кофейню в Москве. Будем считать, что заказчики не боятся конкуренции в этой сфере, ведь кофеен в больших городах уже достаточно. Попробуйте определить, осуществима ли мечта клиентов.\n",
    "\n",
    "Ответьте на следующие вопросы:\n",
    " - Сколько всего кофеен в датасете? В каких районах их больше всего, каковы особенности их расположения?\n",
    " - Есть ли круглосуточные кофейни?\n",
    " - Какие у кофеен рейтинги? Как они распределяются по районам?\n",
    " - На какую стоимость чашки капучино стоит ориентироваться при открытии и почему?"
   ]
  },
  {
   "cell_type": "code",
   "execution_count": 39,
   "id": "e12993c5",
   "metadata": {},
   "outputs": [
    {
     "data": {},
     "execution_count": 39,
     "metadata": {},
     "output_type": "execute_result"
    }
   ],
   "source": [
    "df = df.query(\"category == 'кофейня'\")\n",
    "df.head(10)"
   ]
  },
  {
   "cell_type": "code",
   "execution_count": 40,
   "id": "097a01c7",
   "metadata": {},
   "outputs": [
    {
     "data": {},
     "execution_count": 40,
     "metadata": {},
     "output_type": "execute_result"
    }
   ],
   "source": [
    "central_perc = (df\n",
    "    .groupby('district')\n",
    "    .agg({'name': 'count'})\n",
    "    .rename(columns={'name':'counts'}))\n",
    "central_perc"
   ]
  },
  {
   "cell_type": "markdown",
   "id": "d658e5e1",
   "metadata": {},
   "source": [
    "Всего кофейн - 1413, наибольшее число в центральном округе - 428"
   ]
  },
  {
   "cell_type": "code",
   "execution_count": 41,
   "id": "54d46623",
   "metadata": {},
   "outputs": [
    {
     "data": {},
     "execution_count": 41,
     "metadata": {},
     "output_type": "execute_result"
    }
   ],
   "source": [
    "unloc = df[df['is_24/7']== True]\n",
    "unloc['name'].count()"
   ]
  },
  {
   "cell_type": "code",
   "execution_count": 42,
   "id": "adf41264",
   "metadata": {},
   "outputs": [
    {
     "data": {},
     "execution_count": 42,
     "metadata": {},
     "output_type": "execute_result"
    }
   ],
   "source": [
    "unloc.head(10)"
   ]
  },
  {
   "cell_type": "markdown",
   "id": "055fa81e",
   "metadata": {},
   "source": [
    "Как говориться, Москва никогда не спит и целых 60 кафейн работают круглосуточно, дополнительно можно отметить что большество из них сетевые"
   ]
  },
  {
   "cell_type": "code",
   "execution_count": 43,
   "id": "4f11d482",
   "metadata": {},
   "outputs": [
    {
     "data": {
      "image/png": "[encoded data removed]"
     },
     "metadata": {
      "needs_background": "light"
     },
     "output_type": "display_data"
    }
   ],
   "source": [
    "cafe_rating = (df\n",
    "    .groupby(['district', 'rating'])\n",
    "    .agg({'name': 'count'})\n",
    "    .reset_index()\n",
    "    .rename(columns={'name':'counts'})\n",
    "    .sort_values(by='district')         \n",
    "    )\n",
    "\n",
    "\n",
    "fig, ax = plt.subplots(figsize=(12, 6))\n",
    "\n",
    "sns.boxplot(\n",
    "    data=cafe_rating,\n",
    "    x='rating',\n",
    "    y='district'\n",
    "    #hue='district'\n",
    ")\n",
    "\n",
    "ax.set(\n",
    "    title='Рейтинг заведений по районам',\n",
    "    xlabel='Кол-во заведений',\n",
    "    ylabel='Рейтинг'\n",
    ")\n",
    "\n",
    "sns.despine()"
   ]
  },
  {
   "cell_type": "markdown",
   "id": "e7d511ed",
   "metadata": {},
   "source": [
    "Самые высокие рейтинги в северо-западном округе, так же среди лидеров восточный и юго-западный округ"
   ]
  },
  {
   "cell_type": "markdown",
   "id": "c9c02fc4",
   "metadata": {},
   "source": [
    "Наивысшая стоимость чашки кофе в западном, центральном и юго-западном районах"
   ]
  },
  {
   "cell_type": "code",
   "execution_count": 51,
   "id": "b40b6267",
   "metadata": {},
   "outputs": [],
   "source": [
    "coffe_cup = df.groupby('district', as_index=False)['middle_coffee_cup'].agg('median')\n",
    "coffe_cup = coffe_cup.sort_values(by='middle_coffee_cup', ascending=False)"
   ]
  },
  {
   "cell_type": "code",
   "execution_count": 54,
   "id": "84665a58",
   "metadata": {},
   "outputs": [
    {
     "data": {
      "image/png": "[encoded data removed]"
     },
     "metadata": {
      "needs_background": "light"
     },
     "output_type": "display_data"
    }
   ],
   "source": [
    "fig, ax = plt.subplots(figsize=(14, 6))\n",
    "\n",
    "sns.barplot(\n",
    "    x='middle_coffee_cup',\n",
    "    y='district',\n",
    "    data=coffe_cup,\n",
    "    color='g'\n",
    "    \n",
    ")\n",
    "\n",
    "ax.set(title='Средняя стоимость чашки кофе')\n",
    "\n",
    "sns.despine(left=True, bottom=True)"
   ]
  },
  {
   "cell_type": "markdown",
   "id": "2cfcdcb1",
   "metadata": {},
   "source": [
    "### Выводы:\n",
    "\n",
    "При данных условия постановки задачи, есть следующие рекомендации\n",
    "\n",
    " - Для открытия кафе лучше выбирать центральный или северо-западный район\n",
    "    \n",
    "    В центальном районе и так собранны набольшее число заведений, следовательно там уже есть готовая коньюктура для потребителей.\n",
    "    \n",
    "    Северо-западный район на оборот показывает небольшое кол-во заведений (62) и при этом высокую стоимость чашки (165 руб)\n",
    "    \n",
    "    Так же из рекомендаций, нет смсыла открывать крглосуточное завдение, пока не будет развита сеть\n",
    "    \n",
    "    Кол-во посадочных мест лучше закладывать около 80\n",
    "\n"
   ]
  }
 ],
 "metadata": {
  "ExecuteTimeLog": [
   {
    "duration": 1567,
    "start_time": "2022-11-15T15:44:43.656Z"
   },
   {
    "duration": 147,
    "start_time": "2022-11-15T15:44:45.225Z"
   },
   {
    "duration": 29,
    "start_time": "2022-11-15T15:44:45.374Z"
   },
   {
    "duration": 17,
    "start_time": "2022-11-15T15:44:45.405Z"
   },
   {
    "duration": 20,
    "start_time": "2022-11-15T15:44:45.424Z"
   },
   {
    "duration": 6,
    "start_time": "2022-11-15T15:44:45.446Z"
   },
   {
    "duration": 77,
    "start_time": "2022-11-15T15:44:45.478Z"
   },
   {
    "duration": 30,
    "start_time": "2022-11-15T15:44:45.556Z"
   },
   {
    "duration": 8,
    "start_time": "2022-11-15T15:44:45.588Z"
   },
   {
    "duration": 11,
    "start_time": "2022-11-15T15:44:45.600Z"
   },
   {
    "duration": 14,
    "start_time": "2022-11-15T15:44:45.612Z"
   },
   {
    "duration": 52,
    "start_time": "2022-11-15T15:44:45.628Z"
   },
   {
    "duration": 13,
    "start_time": "2022-11-15T15:44:45.681Z"
   },
   {
    "duration": 35,
    "start_time": "2022-11-15T15:44:45.696Z"
   },
   {
    "duration": 674,
    "start_time": "2022-11-15T15:44:45.733Z"
   },
   {
    "duration": 102,
    "start_time": "2022-11-15T15:44:46.409Z"
   },
   {
    "duration": 71,
    "start_time": "2022-11-15T15:44:46.513Z"
   },
   {
    "duration": 94,
    "start_time": "2022-11-15T15:44:46.586Z"
   },
   {
    "duration": 19,
    "start_time": "2022-11-15T15:44:46.682Z"
   },
   {
    "duration": 78,
    "start_time": "2022-11-15T15:44:46.703Z"
   },
   {
    "duration": 26,
    "start_time": "2022-11-15T15:44:46.783Z"
   },
   {
    "duration": 547,
    "start_time": "2022-11-15T15:44:46.811Z"
   },
   {
    "duration": 299,
    "start_time": "2022-11-15T15:44:47.359Z"
   },
   {
    "duration": 20,
    "start_time": "2022-11-15T15:44:47.660Z"
   },
   {
    "duration": 414,
    "start_time": "2022-11-15T15:44:47.682Z"
   },
   {
    "duration": 15,
    "start_time": "2022-11-15T15:44:48.097Z"
   },
   {
    "duration": 51,
    "start_time": "2022-11-15T15:44:48.113Z"
   },
   {
    "duration": 432,
    "start_time": "2022-11-15T15:44:48.177Z"
   },
   {
    "duration": 0,
    "start_time": "2022-11-15T15:44:48.611Z"
   },
   {
    "duration": 0,
    "start_time": "2022-11-15T15:44:48.613Z"
   },
   {
    "duration": 0,
    "start_time": "2022-11-15T15:44:48.615Z"
   },
   {
    "duration": 0,
    "start_time": "2022-11-15T15:44:48.617Z"
   },
   {
    "duration": 0,
    "start_time": "2022-11-15T15:44:48.618Z"
   },
   {
    "duration": 0,
    "start_time": "2022-11-15T15:44:48.620Z"
   },
   {
    "duration": 0,
    "start_time": "2022-11-15T15:44:48.621Z"
   },
   {
    "duration": 0,
    "start_time": "2022-11-15T15:44:48.623Z"
   },
   {
    "duration": 0,
    "start_time": "2022-11-15T15:44:48.624Z"
   },
   {
    "duration": 0,
    "start_time": "2022-11-15T15:44:48.627Z"
   },
   {
    "duration": 0,
    "start_time": "2022-11-15T15:44:48.629Z"
   },
   {
    "duration": 0,
    "start_time": "2022-11-15T15:44:48.630Z"
   },
   {
    "duration": 0,
    "start_time": "2022-11-15T15:44:48.632Z"
   },
   {
    "duration": 1,
    "start_time": "2022-11-15T15:44:48.633Z"
   },
   {
    "duration": 0,
    "start_time": "2022-11-15T15:44:48.636Z"
   },
   {
    "duration": 0,
    "start_time": "2022-11-15T15:44:48.637Z"
   },
   {
    "duration": 0,
    "start_time": "2022-11-15T15:44:48.639Z"
   },
   {
    "duration": 98,
    "start_time": "2022-11-15T15:45:07.767Z"
   },
   {
    "duration": 5,
    "start_time": "2022-11-15T15:46:44.099Z"
   },
   {
    "duration": 18,
    "start_time": "2022-11-15T15:46:45.603Z"
   },
   {
    "duration": 309,
    "start_time": "2022-11-15T15:46:46.356Z"
   },
   {
    "duration": 3,
    "start_time": "2022-11-15T15:48:01.911Z"
   },
   {
    "duration": 4,
    "start_time": "2022-11-15T15:48:12.779Z"
   },
   {
    "duration": 14,
    "start_time": "2022-11-15T15:48:13.595Z"
   },
   {
    "duration": 65,
    "start_time": "2022-11-15T15:48:14.160Z"
   },
   {
    "duration": 3,
    "start_time": "2022-11-15T15:48:55.900Z"
   },
   {
    "duration": 13,
    "start_time": "2022-11-15T15:48:56.555Z"
   },
   {
    "duration": 63,
    "start_time": "2022-11-15T15:48:57.040Z"
   },
   {
    "duration": 3,
    "start_time": "2022-11-15T15:49:06.219Z"
   },
   {
    "duration": 15,
    "start_time": "2022-11-15T15:49:06.834Z"
   },
   {
    "duration": 29,
    "start_time": "2022-11-15T15:49:07.322Z"
   },
   {
    "duration": 87,
    "start_time": "2022-11-15T15:49:52.143Z"
   },
   {
    "duration": 30,
    "start_time": "2022-11-15T15:52:03.153Z"
   },
   {
    "duration": 69,
    "start_time": "2022-11-15T15:53:08.523Z"
   },
   {
    "duration": 65,
    "start_time": "2022-11-15T15:54:41.269Z"
   },
   {
    "duration": 16,
    "start_time": "2022-11-15T15:54:43.304Z"
   },
   {
    "duration": 136,
    "start_time": "2022-11-15T15:54:46.019Z"
   },
   {
    "duration": 12150,
    "start_time": "2022-11-15T15:54:50.970Z"
   },
   {
    "duration": 21,
    "start_time": "2022-11-15T15:55:08.859Z"
   },
   {
    "duration": 378,
    "start_time": "2022-11-15T15:55:09.020Z"
   },
   {
    "duration": 17,
    "start_time": "2022-11-15T15:55:09.649Z"
   },
   {
    "duration": 10,
    "start_time": "2022-11-15T15:55:09.812Z"
   },
   {
    "duration": 17,
    "start_time": "2022-11-15T15:55:10.142Z"
   },
   {
    "duration": 134,
    "start_time": "2022-11-15T15:55:10.294Z"
   },
   {
    "duration": 15,
    "start_time": "2022-11-15T15:55:10.647Z"
   },
   {
    "duration": 25,
    "start_time": "2022-11-15T15:55:11.297Z"
   },
   {
    "duration": 11,
    "start_time": "2022-11-15T15:55:11.447Z"
   },
   {
    "duration": 8,
    "start_time": "2022-11-15T15:55:11.795Z"
   },
   {
    "duration": 22,
    "start_time": "2022-11-15T15:55:11.948Z"
   },
   {
    "duration": 409,
    "start_time": "2022-11-15T15:55:12.456Z"
   },
   {
    "duration": 18,
    "start_time": "2022-11-15T15:55:13.994Z"
   },
   {
    "duration": 326,
    "start_time": "2022-11-15T15:55:14.134Z"
   },
   {
    "duration": 1473,
    "start_time": "2022-11-17T15:09:23.858Z"
   },
   {
    "duration": 282,
    "start_time": "2022-11-17T15:09:25.333Z"
   },
   {
    "duration": 29,
    "start_time": "2022-11-17T15:09:26.920Z"
   },
   {
    "duration": 15,
    "start_time": "2022-11-17T15:09:27.646Z"
   },
   {
    "duration": 17,
    "start_time": "2022-11-17T15:09:27.819Z"
   },
   {
    "duration": 6,
    "start_time": "2022-11-17T15:09:28.013Z"
   },
   {
    "duration": 66,
    "start_time": "2022-11-17T15:09:28.577Z"
   },
   {
    "duration": 9,
    "start_time": "2022-11-17T15:09:29.136Z"
   },
   {
    "duration": 5,
    "start_time": "2022-11-17T15:09:29.526Z"
   },
   {
    "duration": 11,
    "start_time": "2022-11-17T15:09:29.719Z"
   },
   {
    "duration": 15,
    "start_time": "2022-11-17T15:09:30.292Z"
   },
   {
    "duration": 22,
    "start_time": "2022-11-17T15:09:30.713Z"
   },
   {
    "duration": 12,
    "start_time": "2022-11-17T15:09:31.121Z"
   },
   {
    "duration": 33,
    "start_time": "2022-11-17T15:09:31.324Z"
   },
   {
    "duration": 586,
    "start_time": "2022-11-17T15:09:32.348Z"
   },
   {
    "duration": 84,
    "start_time": "2022-11-17T15:09:33.156Z"
   },
   {
    "duration": 16,
    "start_time": "2022-11-17T15:09:34.144Z"
   },
   {
    "duration": 43,
    "start_time": "2022-11-17T15:09:35.116Z"
   },
   {
    "duration": 23,
    "start_time": "2022-11-17T15:09:35.741Z"
   },
   {
    "duration": 52,
    "start_time": "2022-11-17T15:09:35.952Z"
   },
   {
    "duration": 27,
    "start_time": "2022-11-17T15:09:36.381Z"
   },
   {
    "duration": 443,
    "start_time": "2022-11-17T15:09:37.079Z"
   },
   {
    "duration": 358,
    "start_time": "2022-11-17T15:09:38.408Z"
   },
   {
    "duration": 6,
    "start_time": "2022-11-17T15:09:40.721Z"
   },
   {
    "duration": 396,
    "start_time": "2022-11-17T15:09:41.468Z"
   },
   {
    "duration": 14,
    "start_time": "2022-11-17T15:09:43.452Z"
   },
   {
    "duration": 54,
    "start_time": "2022-11-17T15:09:44.088Z"
   },
   {
    "duration": 27,
    "start_time": "2022-11-17T15:11:28.923Z"
   },
   {
    "duration": 161,
    "start_time": "2022-11-17T15:11:50.459Z"
   },
   {
    "duration": 49,
    "start_time": "2022-11-18T08:33:35.215Z"
   },
   {
    "duration": 1336,
    "start_time": "2022-11-18T08:33:41.814Z"
   },
   {
    "duration": 270,
    "start_time": "2022-11-18T08:33:43.152Z"
   },
   {
    "duration": 23,
    "start_time": "2022-11-18T08:33:43.423Z"
   },
   {
    "duration": 12,
    "start_time": "2022-11-18T08:33:43.448Z"
   },
   {
    "duration": 17,
    "start_time": "2022-11-18T08:33:43.462Z"
   },
   {
    "duration": 5,
    "start_time": "2022-11-18T08:33:43.481Z"
   },
   {
    "duration": 58,
    "start_time": "2022-11-18T08:33:43.487Z"
   },
   {
    "duration": 7,
    "start_time": "2022-11-18T08:33:43.546Z"
   },
   {
    "duration": 5,
    "start_time": "2022-11-18T08:33:43.555Z"
   },
   {
    "duration": 17,
    "start_time": "2022-11-18T08:33:43.562Z"
   },
   {
    "duration": 24,
    "start_time": "2022-11-18T08:33:43.581Z"
   },
   {
    "duration": 18,
    "start_time": "2022-11-18T08:33:43.606Z"
   },
   {
    "duration": 9,
    "start_time": "2022-11-18T08:33:43.626Z"
   },
   {
    "duration": 27,
    "start_time": "2022-11-18T08:33:43.636Z"
   },
   {
    "duration": 367,
    "start_time": "2022-11-18T08:33:43.665Z"
   },
   {
    "duration": 96,
    "start_time": "2022-11-18T08:33:44.034Z"
   },
   {
    "duration": 13,
    "start_time": "2022-11-18T08:33:44.132Z"
   },
   {
    "duration": 80,
    "start_time": "2022-11-18T08:33:44.146Z"
   },
   {
    "duration": 16,
    "start_time": "2022-11-18T08:33:44.228Z"
   },
   {
    "duration": 60,
    "start_time": "2022-11-18T08:33:44.246Z"
   },
   {
    "duration": 23,
    "start_time": "2022-11-18T08:33:44.307Z"
   },
   {
    "duration": 518,
    "start_time": "2022-11-18T08:33:44.331Z"
   },
   {
    "duration": 262,
    "start_time": "2022-11-18T08:33:44.850Z"
   },
   {
    "duration": 5,
    "start_time": "2022-11-18T08:33:45.114Z"
   },
   {
    "duration": 375,
    "start_time": "2022-11-18T08:33:45.120Z"
   },
   {
    "duration": 14,
    "start_time": "2022-11-18T08:33:45.496Z"
   },
   {
    "duration": 59,
    "start_time": "2022-11-18T08:33:45.512Z"
   },
   {
    "duration": 223,
    "start_time": "2022-11-18T08:33:45.574Z"
   },
   {
    "duration": 0,
    "start_time": "2022-11-18T08:33:45.798Z"
   },
   {
    "duration": 0,
    "start_time": "2022-11-18T08:33:45.800Z"
   },
   {
    "duration": 0,
    "start_time": "2022-11-18T08:33:45.801Z"
   },
   {
    "duration": 0,
    "start_time": "2022-11-18T08:33:45.803Z"
   },
   {
    "duration": 0,
    "start_time": "2022-11-18T08:33:45.804Z"
   },
   {
    "duration": 0,
    "start_time": "2022-11-18T08:33:45.805Z"
   },
   {
    "duration": 0,
    "start_time": "2022-11-18T08:33:45.806Z"
   },
   {
    "duration": 0,
    "start_time": "2022-11-18T08:33:45.807Z"
   },
   {
    "duration": 0,
    "start_time": "2022-11-18T08:33:45.807Z"
   },
   {
    "duration": 0,
    "start_time": "2022-11-18T08:33:45.808Z"
   },
   {
    "duration": 0,
    "start_time": "2022-11-18T08:33:45.810Z"
   },
   {
    "duration": 0,
    "start_time": "2022-11-18T08:33:45.811Z"
   },
   {
    "duration": 0,
    "start_time": "2022-11-18T08:33:45.812Z"
   },
   {
    "duration": 0,
    "start_time": "2022-11-18T08:33:45.813Z"
   },
   {
    "duration": 0,
    "start_time": "2022-11-18T08:33:45.814Z"
   },
   {
    "duration": 0,
    "start_time": "2022-11-18T08:33:45.815Z"
   },
   {
    "duration": 0,
    "start_time": "2022-11-18T08:33:45.816Z"
   },
   {
    "duration": 0,
    "start_time": "2022-11-18T08:33:45.817Z"
   },
   {
    "duration": 1626,
    "start_time": "2022-11-18T18:29:06.195Z"
   },
   {
    "duration": 190,
    "start_time": "2022-11-18T18:29:07.823Z"
   },
   {
    "duration": 48,
    "start_time": "2022-11-18T18:29:08.019Z"
   },
   {
    "duration": 17,
    "start_time": "2022-11-18T18:29:08.070Z"
   },
   {
    "duration": 34,
    "start_time": "2022-11-18T18:29:08.089Z"
   },
   {
    "duration": 9,
    "start_time": "2022-11-18T18:29:08.125Z"
   },
   {
    "duration": 71,
    "start_time": "2022-11-18T18:29:08.206Z"
   },
   {
    "duration": 10,
    "start_time": "2022-11-18T18:29:08.279Z"
   },
   {
    "duration": 4,
    "start_time": "2022-11-18T18:29:10.268Z"
   },
   {
    "duration": 24,
    "start_time": "2022-11-18T18:29:10.274Z"
   },
   {
    "duration": 23,
    "start_time": "2022-11-18T18:29:10.299Z"
   },
   {
    "duration": 41,
    "start_time": "2022-11-18T18:29:10.325Z"
   },
   {
    "duration": 18,
    "start_time": "2022-11-18T18:29:11.806Z"
   },
   {
    "duration": 54,
    "start_time": "2022-11-18T18:29:11.827Z"
   },
   {
    "duration": 687,
    "start_time": "2022-11-18T18:29:12.233Z"
   },
   {
    "duration": 76,
    "start_time": "2022-11-18T18:29:13.615Z"
   },
   {
    "duration": 24,
    "start_time": "2022-11-18T18:29:13.693Z"
   },
   {
    "duration": 62,
    "start_time": "2022-11-18T18:29:13.720Z"
   },
   {
    "duration": 18,
    "start_time": "2022-11-18T18:29:14.969Z"
   },
   {
    "duration": 69,
    "start_time": "2022-11-18T18:29:14.990Z"
   },
   {
    "duration": 27,
    "start_time": "2022-11-18T18:29:15.061Z"
   },
   {
    "duration": 440,
    "start_time": "2022-11-18T18:29:15.104Z"
   },
   {
    "duration": 423,
    "start_time": "2022-11-18T18:29:16.501Z"
   },
   {
    "duration": 5,
    "start_time": "2022-11-18T18:29:17.350Z"
   },
   {
    "duration": 432,
    "start_time": "2022-11-18T18:29:20.996Z"
   },
   {
    "duration": 22,
    "start_time": "2022-11-18T18:29:21.431Z"
   },
   {
    "duration": 67,
    "start_time": "2022-11-18T18:29:21.455Z"
   },
   {
    "duration": 130,
    "start_time": "2022-11-18T18:29:21.525Z"
   },
   {
    "duration": 178,
    "start_time": "2022-11-18T18:32:02.667Z"
   },
   {
    "duration": 18,
    "start_time": "2022-11-18T18:32:10.380Z"
   }
  ],
  "kernelspec": {
   "display_name": "Python 3 (ipykernel)",
   "language": "python",
   "name": "python3"
  },
  "language_info": {
   "codemirror_mode": {
    "name": "ipython",
    "version": 3
   },
   "file_extension": ".py",
   "mimetype": "text/x-python",
   "name": "python",
   "nbconvert_exporter": "python",
   "pygments_lexer": "ipython3",
   "version": "3.9.12"
  },
  "toc": {
   "base_numbering": 1,
   "nav_menu": {},
   "number_sections": true,
   "sideBar": true,
   "skip_h1_title": true,
   "title_cell": "Table of Contents",
   "title_sidebar": "Contents",
   "toc_cell": false,
   "toc_position": {},
   "toc_section_display": true,
   "toc_window_display": false
  }
 },
 "nbformat": 4,
 "nbformat_minor": 5
}
