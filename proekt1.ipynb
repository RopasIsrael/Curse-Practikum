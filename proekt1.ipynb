{
 "cells": [
  {
   "cell_type": "markdown",
   "metadata": {
    "deletable": false,
    "editable": false,
    "id": "E0vqbgi9ay0H"
   },
   "source": [
    "# Яндекс Музыка"
   ]
  },
  {
   "cell_type": "markdown",
   "metadata": {
    "deletable": false,
    "editable": false,
    "id": "VUC88oWjTJw2"
   },
   "source": [
    "Сравнение Москвы и Петербурга окружено мифами. Например:\n",
    " * Москва — мегаполис, подчинённый жёсткому ритму рабочей недели;\n",
    " * Петербург — культурная столица, со своими вкусами.\n",
    "\n",
    "На данных Яндекс Музыки вы сравните поведение пользователей двух столиц.\n",
    "\n",
    "**Цель исследования** — проверьте три гипотезы:\n",
    "1. Активность пользователей зависит от дня недели. Причём в Москве и Петербурге это проявляется по-разному.\n",
    "2. В понедельник утром в Москве преобладают одни жанры, а в Петербурге — другие. Так же и вечером пятницы преобладают разные жанры — в зависимости от города. \n",
    "3. Москва и Петербург предпочитают разные жанры музыки. В Москве чаще слушают поп-музыку, в Петербурге — русский рэп.\n",
    "\n",
    "**Ход исследования**\n",
    "\n",
    "Данные о поведении пользователей вы получите из файла `yandex_music_project.csv`. О качестве данных ничего не известно. Поэтому перед проверкой гипотез понадобится обзор данных. \n",
    "\n",
    "Вы проверите данные на ошибки и оцените их влияние на исследование. Затем, на этапе предобработки вы поищете возможность исправить самые критичные ошибки данных.\n",
    " \n",
    "Таким образом, исследование пройдёт в три этапа:\n",
    " 1. Обзор данных.\n",
    " 2. Предобработка данных.\n",
    " 3. Проверка гипотез.\n",
    "\n"
   ]
  },
  {
   "cell_type": "markdown",
   "metadata": {
    "deletable": false,
    "editable": false,
    "id": "Ml1hmfXC_Zcs"
   },
   "source": [
    "## Обзор данных\n",
    "\n",
    "Составьте первое представление о данных Яндекс Музыки.\n",
    "\n",
    "\n"
   ]
  },
  {
   "cell_type": "markdown",
   "metadata": {
    "deletable": false,
    "editable": false,
    "id": "57eAOGIz_Zcs",
    "tags": [
     "start_task"
    ]
   },
   "source": [
    "**Задание 1**\n",
    "\n",
    "Основной инструмент аналитика — `pandas`. Импортируйте эту библиотеку."
   ]
  },
  {
   "cell_type": "code",
   "execution_count": 1,
   "metadata": {
    "deletable": false,
    "id": "AXN7PHPN_Zcs"
   },
   "outputs": [],
   "source": [
    "# импорт библиотеки pandas\n",
    "import pandas as pd"
   ]
  },
  {
   "cell_type": "markdown",
   "metadata": {
    "deletable": false,
    "editable": false,
    "id": "SG23P8tt_Zcs",
    "tags": [
     "start_task"
    ]
   },
   "source": [
    "**Задание 2**\n",
    "\n",
    "Прочитайте файл `yandex_music_project.csv` из папки `/datasets` и сохраните его в переменной `df`:"
   ]
  },
  {
   "cell_type": "code",
   "execution_count": 2,
   "metadata": {
    "deletable": false,
    "id": "fFVu7vqh_Zct"
   },
   "outputs": [],
   "source": [
    "# чтение файла с данными и сохранение в df\n",
    "df = pd.read_csv('/datasets/yandex_music_project.csv')"
   ]
  },
  {
   "cell_type": "markdown",
   "metadata": {
    "deletable": false,
    "editable": false,
    "id": "rDoOMd3uTqnZ",
    "tags": [
     "start_task"
    ]
   },
   "source": [
    "**Задание 3**\n",
    "\n",
    "\n",
    "Выведите на экран первые десять строк таблицы:"
   ]
  },
  {
   "cell_type": "code",
   "execution_count": 3,
   "metadata": {
    "deletable": false,
    "id": "oWTVX3gW_Zct"
   },
   "outputs": [
    {
     "data": {
      "text/html": [
       "<div>\n",
       "<style scoped>\n",
       "    .dataframe tbody tr th:only-of-type {\n",
       "        vertical-align: middle;\n",
       "    }\n",
       "\n",
       "    .dataframe tbody tr th {\n",
       "        vertical-align: top;\n",
       "    }\n",
       "\n",
       "    .dataframe thead th {\n",
       "        text-align: right;\n",
       "    }\n",
       "</style>\n",
       "<table border=\"1\" class=\"dataframe\">\n",
       "  <thead>\n",
       "    <tr style=\"text-align: right;\">\n",
       "      <th></th>\n",
       "      <th>userID</th>\n",
       "      <th>Track</th>\n",
       "      <th>artist</th>\n",
       "      <th>genre</th>\n",
       "      <th>City</th>\n",
       "      <th>time</th>\n",
       "      <th>Day</th>\n",
       "    </tr>\n",
       "  </thead>\n",
       "  <tbody>\n",
       "    <tr>\n",
       "      <th>0</th>\n",
       "      <td>FFB692EC</td>\n",
       "      <td>Kamigata To Boots</td>\n",
       "      <td>The Mass Missile</td>\n",
       "      <td>rock</td>\n",
       "      <td>Saint-Petersburg</td>\n",
       "      <td>20:28:33</td>\n",
       "      <td>Wednesday</td>\n",
       "    </tr>\n",
       "    <tr>\n",
       "      <th>1</th>\n",
       "      <td>55204538</td>\n",
       "      <td>Delayed Because of Accident</td>\n",
       "      <td>Andreas Rönnberg</td>\n",
       "      <td>rock</td>\n",
       "      <td>Moscow</td>\n",
       "      <td>14:07:09</td>\n",
       "      <td>Friday</td>\n",
       "    </tr>\n",
       "    <tr>\n",
       "      <th>2</th>\n",
       "      <td>20EC38</td>\n",
       "      <td>Funiculì funiculà</td>\n",
       "      <td>Mario Lanza</td>\n",
       "      <td>pop</td>\n",
       "      <td>Saint-Petersburg</td>\n",
       "      <td>20:58:07</td>\n",
       "      <td>Wednesday</td>\n",
       "    </tr>\n",
       "    <tr>\n",
       "      <th>3</th>\n",
       "      <td>A3DD03C9</td>\n",
       "      <td>Dragons in the Sunset</td>\n",
       "      <td>Fire + Ice</td>\n",
       "      <td>folk</td>\n",
       "      <td>Saint-Petersburg</td>\n",
       "      <td>08:37:09</td>\n",
       "      <td>Monday</td>\n",
       "    </tr>\n",
       "    <tr>\n",
       "      <th>4</th>\n",
       "      <td>E2DC1FAE</td>\n",
       "      <td>Soul People</td>\n",
       "      <td>Space Echo</td>\n",
       "      <td>dance</td>\n",
       "      <td>Moscow</td>\n",
       "      <td>08:34:34</td>\n",
       "      <td>Monday</td>\n",
       "    </tr>\n",
       "    <tr>\n",
       "      <th>5</th>\n",
       "      <td>842029A1</td>\n",
       "      <td>Преданная</td>\n",
       "      <td>IMPERVTOR</td>\n",
       "      <td>rusrap</td>\n",
       "      <td>Saint-Petersburg</td>\n",
       "      <td>13:09:41</td>\n",
       "      <td>Friday</td>\n",
       "    </tr>\n",
       "    <tr>\n",
       "      <th>6</th>\n",
       "      <td>4CB90AA5</td>\n",
       "      <td>True</td>\n",
       "      <td>Roman Messer</td>\n",
       "      <td>dance</td>\n",
       "      <td>Moscow</td>\n",
       "      <td>13:00:07</td>\n",
       "      <td>Wednesday</td>\n",
       "    </tr>\n",
       "    <tr>\n",
       "      <th>7</th>\n",
       "      <td>F03E1C1F</td>\n",
       "      <td>Feeling This Way</td>\n",
       "      <td>Polina Griffith</td>\n",
       "      <td>dance</td>\n",
       "      <td>Moscow</td>\n",
       "      <td>20:47:49</td>\n",
       "      <td>Wednesday</td>\n",
       "    </tr>\n",
       "    <tr>\n",
       "      <th>8</th>\n",
       "      <td>8FA1D3BE</td>\n",
       "      <td>И вновь продолжается бой</td>\n",
       "      <td>NaN</td>\n",
       "      <td>ruspop</td>\n",
       "      <td>Moscow</td>\n",
       "      <td>09:17:40</td>\n",
       "      <td>Friday</td>\n",
       "    </tr>\n",
       "    <tr>\n",
       "      <th>9</th>\n",
       "      <td>E772D5C0</td>\n",
       "      <td>Pessimist</td>\n",
       "      <td>NaN</td>\n",
       "      <td>dance</td>\n",
       "      <td>Saint-Petersburg</td>\n",
       "      <td>21:20:49</td>\n",
       "      <td>Wednesday</td>\n",
       "    </tr>\n",
       "  </tbody>\n",
       "</table>\n",
       "</div>"
      ],
      "text/plain": [
       "     userID                        Track            artist   genre  \\\n",
       "0  FFB692EC            Kamigata To Boots  The Mass Missile    rock   \n",
       "1  55204538  Delayed Because of Accident  Andreas Rönnberg    rock   \n",
       "2    20EC38            Funiculì funiculà       Mario Lanza     pop   \n",
       "3  A3DD03C9        Dragons in the Sunset        Fire + Ice    folk   \n",
       "4  E2DC1FAE                  Soul People        Space Echo   dance   \n",
       "5  842029A1                    Преданная         IMPERVTOR  rusrap   \n",
       "6  4CB90AA5                         True      Roman Messer   dance   \n",
       "7  F03E1C1F             Feeling This Way   Polina Griffith   dance   \n",
       "8  8FA1D3BE     И вновь продолжается бой               NaN  ruspop   \n",
       "9  E772D5C0                    Pessimist               NaN   dance   \n",
       "\n",
       "             City        time        Day  \n",
       "0  Saint-Petersburg  20:28:33  Wednesday  \n",
       "1            Moscow  14:07:09     Friday  \n",
       "2  Saint-Petersburg  20:58:07  Wednesday  \n",
       "3  Saint-Petersburg  08:37:09     Monday  \n",
       "4            Moscow  08:34:34     Monday  \n",
       "5  Saint-Petersburg  13:09:41     Friday  \n",
       "6            Moscow  13:00:07  Wednesday  \n",
       "7            Moscow  20:47:49  Wednesday  \n",
       "8            Moscow  09:17:40     Friday  \n",
       "9  Saint-Petersburg  21:20:49  Wednesday  "
      ]
     },
     "execution_count": 3,
     "metadata": {},
     "output_type": "execute_result"
    }
   ],
   "source": [
    "# получение первых 10 строк таблицы df\n",
    "df.head(10)"
   ]
  },
  {
   "cell_type": "markdown",
   "metadata": {
    "deletable": false,
    "editable": false,
    "id": "EO73Kwic_Zct",
    "tags": [
     "start_task"
    ]
   },
   "source": [
    "**Задание 4**\n",
    "\n",
    "\n",
    "Одной командой получить общую информацию о таблице c помощью метода `info()`:"
   ]
  },
  {
   "cell_type": "code",
   "execution_count": 4,
   "metadata": {
    "deletable": false,
    "id": "DSf2kIb-_Zct"
   },
   "outputs": [
    {
     "name": "stdout",
     "output_type": "stream",
     "text": [
      "<class 'pandas.core.frame.DataFrame'>\n",
      "RangeIndex: 65079 entries, 0 to 65078\n",
      "Data columns (total 7 columns):\n",
      " #   Column    Non-Null Count  Dtype \n",
      "---  ------    --------------  ----- \n",
      " 0     userID  65079 non-null  object\n",
      " 1   Track     63848 non-null  object\n",
      " 2   artist    57876 non-null  object\n",
      " 3   genre     63881 non-null  object\n",
      " 4     City    65079 non-null  object\n",
      " 5   time      65079 non-null  object\n",
      " 6   Day       65079 non-null  object\n",
      "dtypes: object(7)\n",
      "memory usage: 3.5+ MB\n"
     ]
    }
   ],
   "source": [
    "# получение общей информации о данных в таблице df\n",
    "df.info()"
   ]
  },
  {
   "cell_type": "markdown",
   "metadata": {
    "deletable": false,
    "editable": false,
    "id": "TaQ2Iwbr_Zct"
   },
   "source": [
    "Итак, в таблице семь столбцов. Тип данных во всех столбцах — `object`.\n",
    "\n",
    "Согласно документации к данным:\n",
    "* `userID` — идентификатор пользователя;\n",
    "* `Track` — название трека;  \n",
    "* `artist` — имя исполнителя;\n",
    "* `genre` — название жанра;\n",
    "* `City` — город пользователя;\n",
    "* `time` — время начала прослушивания;\n",
    "* `Day` — день недели.\n",
    "\n",
    "Количество значений в столбцах различается. Значит, в данных есть пропущенные значения."
   ]
  },
  {
   "cell_type": "markdown",
   "metadata": {
    "deletable": false,
    "editable": false,
    "id": "rAfziTBDmf2h",
    "tags": [
     "start_task"
    ]
   },
   "source": [
    "**Задание 5**\n",
    "\n",
    "**Вопрос со свободной формой ответа**\n",
    "\n",
    "В названиях колонок видны нарушения стиля:\n",
    "* Строчные буквы сочетаются с прописными.\n",
    "* Встречаются пробелы.\n",
    "\n",
    "Какое третье нарушение?"
   ]
  },
  {
   "cell_type": "code",
   "execution_count": 5,
   "metadata": {
    "id": "jD8EXEIvmf2h"
   },
   "outputs": [],
   "source": [
    "# Напишите ваш ответ здесь комментарием. Не удаляйте символ #. Не меняйте тип этой ячейки на Markdown.\n",
    "#не используется змеиный_стиль"
   ]
  },
  {
   "cell_type": "markdown",
   "metadata": {
    "deletable": false,
    "editable": false,
    "id": "MCB6-dXG_Zct"
   },
   "source": [
    "**Выводы**\n",
    "\n",
    "В каждой строке таблицы — данные о прослушанном треке. Часть колонок описывает саму композицию: название, исполнителя и жанр. Остальные данные рассказывают о пользователе: из какого он города, когда он слушал музыку. \n",
    "\n",
    "Предварительно можно утверждать, что данных достаточно для проверки гипотез. Но встречаются пропуски в данных, а в названиях колонок — расхождения с хорошим стилем.\n",
    "\n",
    "Чтобы двигаться дальше, нужно устранить проблемы в данных."
   ]
  },
  {
   "cell_type": "markdown",
   "metadata": {
    "deletable": false,
    "editable": false,
    "id": "SjYF6Ub9_Zct"
   },
   "source": [
    "## Предобработка данных\n",
    "Исправьте стиль в заголовках столбцов, исключите пропуски. Затем проверьте данные на дубликаты."
   ]
  },
  {
   "cell_type": "markdown",
   "metadata": {
    "deletable": false,
    "editable": false,
    "id": "dIaKXr29_Zct",
    "tags": [
     "start_task"
    ]
   },
   "source": [
    "### Стиль заголовков\n",
    "\n",
    "**Задание 6**\n",
    "\n",
    "Выведите на экран названия столбцов:"
   ]
  },
  {
   "cell_type": "code",
   "execution_count": 6,
   "metadata": {
    "deletable": false,
    "id": "oKOTdF_Q_Zct"
   },
   "outputs": [
    {
     "name": "stdout",
     "output_type": "stream",
     "text": [
      "Index(['  userID', 'Track', 'artist', 'genre', '  City  ', 'time', 'Day'], dtype='object')\n"
     ]
    }
   ],
   "source": [
    "# перечень названий столбцов таблицы df\n",
    "print(df.columns)"
   ]
  },
  {
   "cell_type": "markdown",
   "metadata": {
    "deletable": false,
    "editable": false,
    "id": "zj5534cv_Zct",
    "tags": [
     "start_task"
    ]
   },
   "source": [
    "**Задание 7**\n",
    "\n",
    "\n",
    "Приведите названия в соответствие с хорошим стилем:\n",
    "* несколько слов в названии запишите в «змеином_регистре»,\n",
    "* все символы сделайте строчными,\n",
    "* устраните пробелы.\n",
    "\n",
    "Для этого переименуйте колонки так:\n",
    "* `'  userID'` → `'user_id'`;\n",
    "* `'Track'` → `'track'`;\n",
    "* `'  City  '` → `'city'`;\n",
    "* `'Day'` → `'day'`."
   ]
  },
  {
   "cell_type": "code",
   "execution_count": 7,
   "metadata": {
    "deletable": false,
    "id": "ISlFqs5y_Zct"
   },
   "outputs": [],
   "source": [
    "# переименование столбцов\n",
    "df = df.rename(columns={'  userID':'user_id','Track':'track','  City  ':'city', 'Day':'day'})"
   ]
  },
  {
   "cell_type": "markdown",
   "metadata": {
    "deletable": false,
    "editable": false,
    "id": "1dqbh00J_Zct",
    "tags": [
     "start_task"
    ]
   },
   "source": [
    "**Задание 8**\n",
    "\n",
    "\n",
    "Проверьте результат. Для этого ещё раз выведите на экран названия столбцов:"
   ]
  },
  {
   "cell_type": "code",
   "execution_count": 8,
   "metadata": {
    "deletable": false,
    "id": "d4NOAmTW_Zct"
   },
   "outputs": [
    {
     "name": "stdout",
     "output_type": "stream",
     "text": [
      "Index(['user_id', 'track', 'artist', 'genre', 'city', 'time', 'day'], dtype='object')\n"
     ]
    }
   ],
   "source": [
    "# проверка результатов - перечень названий столбцов\n",
    "print(df.columns)"
   ]
  },
  {
   "cell_type": "markdown",
   "metadata": {
    "deletable": false,
    "editable": false,
    "id": "5ISfbcfY_Zct",
    "tags": [
     "start_task"
    ]
   },
   "source": [
    "### Пропуски значений\n",
    "\n",
    "**Задание 9**\n",
    "\n",
    "Сначала посчитайте, сколько в таблице пропущенных значений. Для этого достаточно двух методов `pandas`:"
   ]
  },
  {
   "cell_type": "code",
   "execution_count": 9,
   "metadata": {
    "deletable": false,
    "id": "RskX29qr_Zct"
   },
   "outputs": [
    {
     "name": "stdout",
     "output_type": "stream",
     "text": [
      "user_id       0\n",
      "track      1231\n",
      "artist     7203\n",
      "genre      1198\n",
      "city          0\n",
      "time          0\n",
      "day           0\n",
      "dtype: int64\n"
     ]
    }
   ],
   "source": [
    "# подсчёт пропусков\n",
    "print(df.isna().sum())"
   ]
  },
  {
   "cell_type": "markdown",
   "metadata": {
    "deletable": false,
    "editable": false,
    "id": "qubhgnlO_Zct"
   },
   "source": [
    "Не все пропущенные значения влияют на исследование. Так в `track` и `artist` пропуски не важны для вашей работы. Достаточно заменить их явными обозначениями.\n",
    "\n",
    "Но пропуски в `genre` могут помешать сравнению музыкальных вкусов в Москве и Санкт-Петербурге. На практике было бы правильно установить причину пропусков и восстановить данные. Такой возможности нет в учебном проекте. Придётся:\n",
    "* заполнить и эти пропуски явными обозначениями;\n",
    "* оценить, насколько они повредят расчётам. "
   ]
  },
  {
   "cell_type": "markdown",
   "metadata": {
    "deletable": false,
    "editable": false,
    "id": "fSv2laPA_Zct",
    "tags": [
     "start_task"
    ]
   },
   "source": [
    "**Задание 10**\n",
    "\n",
    "Замените пропущенные значения в столбцах `track`, `artist` и `genre` на строку `'unknown'`. Для этого создайте список `columns_to_replace`, переберите его элементы циклом `for` и для каждого столбца выполните замену пропущенных значений:"
   ]
  },
  {
   "cell_type": "code",
   "execution_count": 10,
   "metadata": {
    "deletable": false,
    "id": "KplB5qWs_Zct"
   },
   "outputs": [],
   "source": [
    "# перебор названий столбцов в цикле и замена пропущенных значений на 'unknown'\n",
    "columns_to_replace = ['track','artist','genre']\n",
    "for column in columns_to_replace:\n",
    "    df[column] = df[column].fillna('unknown')\n",
    "    "
   ]
  },
  {
   "cell_type": "markdown",
   "metadata": {
    "deletable": false,
    "editable": false,
    "id": "Ilsm-MZo_Zct",
    "tags": [
     "start_task"
    ]
   },
   "source": [
    "**Задание 11**\n",
    "\n",
    "Убедитесь, что в таблице не осталось пропусков. Для этого ещё раз посчитайте пропущенные значения."
   ]
  },
  {
   "cell_type": "code",
   "execution_count": 11,
   "metadata": {
    "deletable": false,
    "id": "Tq4nYRX4_Zct"
   },
   "outputs": [
    {
     "name": "stdout",
     "output_type": "stream",
     "text": [
      "user_id    0\n",
      "track      0\n",
      "artist     0\n",
      "genre      0\n",
      "city       0\n",
      "time       0\n",
      "day        0\n",
      "dtype: int64\n"
     ]
    }
   ],
   "source": [
    "# подсчёт пропусков\n",
    "print(df.isna().sum())"
   ]
  },
  {
   "cell_type": "markdown",
   "metadata": {
    "deletable": false,
    "editable": false,
    "id": "BWKRtBJ3_Zct",
    "tags": [
     "start_task"
    ]
   },
   "source": [
    "### Дубликаты\n",
    "\n",
    "**Задание 12**\n",
    "\n",
    "Посчитайте явные дубликаты в таблице одной командой:"
   ]
  },
  {
   "cell_type": "code",
   "execution_count": 12,
   "metadata": {
    "deletable": false,
    "id": "36eES_S0_Zct"
   },
   "outputs": [
    {
     "name": "stdout",
     "output_type": "stream",
     "text": [
      "3826\n"
     ]
    }
   ],
   "source": [
    "# подсчёт явных дубликатов\n",
    "print(df.duplicated().sum())"
   ]
  },
  {
   "cell_type": "markdown",
   "metadata": {
    "deletable": false,
    "editable": false,
    "id": "Ot25h6XR_Zct",
    "tags": [
     "start_task"
    ]
   },
   "source": [
    "**Задание 13**\n",
    "\n",
    "Вызовите специальный метод `pandas`, чтобы удалить явные дубликаты:"
   ]
  },
  {
   "cell_type": "code",
   "execution_count": 13,
   "metadata": {
    "deletable": false,
    "id": "exFHq6tt_Zct"
   },
   "outputs": [],
   "source": [
    "# удаление явных дубликатов\n",
    "duplicated_df = df[df.duplicated()]\n",
    "df = df.drop_duplicates()"
   ]
  },
  {
   "cell_type": "markdown",
   "metadata": {
    "deletable": false,
    "editable": false,
    "id": "Im2YwBEG_Zct",
    "tags": [
     "start_task"
    ]
   },
   "source": [
    "**Задание 14**\n",
    "\n",
    "Ещё раз посчитайте явные дубликаты в таблице — убедитесь, что полностью от них избавились:"
   ]
  },
  {
   "cell_type": "code",
   "execution_count": 14,
   "metadata": {
    "deletable": false,
    "id": "-8PuNWQ0_Zct"
   },
   "outputs": [
    {
     "name": "stdout",
     "output_type": "stream",
     "text": [
      "0\n"
     ]
    }
   ],
   "source": [
    "# проверка на отсутствие дубликатов\n",
    "print(df.duplicated().sum())"
   ]
  },
  {
   "cell_type": "markdown",
   "metadata": {
    "deletable": false,
    "editable": false,
    "id": "QlFBsxAr_Zct"
   },
   "source": [
    "Теперь избавьтесь от неявных дубликатов в колонке `genre`. Например, название одного и того же жанра может быть записано немного по-разному. Такие ошибки тоже повлияют на результат исследования."
   ]
  },
  {
   "cell_type": "markdown",
   "metadata": {
    "deletable": false,
    "editable": false,
    "id": "eSjWwsOh_Zct",
    "tags": [
     "start_task"
    ]
   },
   "source": [
    "**Задание 15**\n",
    "\n",
    "Выведите на экран список уникальных названий жанров, отсортированный в алфавитном порядке. Для этого:\n",
    "1. извлеките нужный столбец датафрейма; \n",
    "2. примените к нему метод сортировки;\n",
    "3. для отсортированного столбца вызовите метод, который вернёт уникальные значения из столбца."
   ]
  },
  {
   "cell_type": "code",
   "execution_count": 15,
   "metadata": {
    "deletable": false,
    "id": "JIUcqzZN_Zct"
   },
   "outputs": [
    {
     "name": "stdout",
     "output_type": "stream",
     "text": [
      "['acid' 'acoustic' 'action' 'adult' 'africa' 'afrikaans' 'alternative'\n",
      " 'alternativepunk' 'ambient' 'americana' 'animated' 'anime' 'arabesk'\n",
      " 'arabic' 'arena' 'argentinetango' 'art' 'audiobook' 'author' 'avantgarde'\n",
      " 'axé' 'baile' 'balkan' 'beats' 'bigroom' 'black' 'bluegrass' 'blues'\n",
      " 'bollywood' 'bossa' 'brazilian' 'breakbeat' 'breaks' 'broadway'\n",
      " 'cantautori' 'cantopop' 'canzone' 'caribbean' 'caucasian' 'celtic'\n",
      " 'chamber' 'chanson' 'children' 'chill' 'chinese' 'choral' 'christian'\n",
      " 'christmas' 'classical' 'classicmetal' 'club' 'colombian' 'comedy'\n",
      " 'conjazz' 'contemporary' 'country' 'cuban' 'dance' 'dancehall' 'dancepop'\n",
      " 'dark' 'death' 'deep' 'deutschrock' 'deutschspr' 'dirty' 'disco' 'dnb'\n",
      " 'documentary' 'downbeat' 'downtempo' 'drum' 'dub' 'dubstep' 'eastern'\n",
      " 'easy' 'electronic' 'electropop' 'emo' 'entehno' 'epicmetal' 'estrada'\n",
      " 'ethnic' 'eurofolk' 'european' 'experimental' 'extrememetal' 'fado'\n",
      " 'fairytail' 'film' 'fitness' 'flamenco' 'folk' 'folklore' 'folkmetal'\n",
      " 'folkrock' 'folktronica' 'forró' 'frankreich' 'französisch' 'french'\n",
      " 'funk' 'future' 'gangsta' 'garage' 'german' 'ghazal' 'gitarre' 'glitch'\n",
      " 'gospel' 'gothic' 'grime' 'grunge' 'gypsy' 'handsup' \"hard'n'heavy\"\n",
      " 'hardcore' 'hardstyle' 'hardtechno' 'hip' 'hip-hop' 'hiphop' 'historisch'\n",
      " 'holiday' 'hop' 'horror' 'house' 'hymn' 'idm' 'independent' 'indian'\n",
      " 'indie' 'indipop' 'industrial' 'inspirational' 'instrumental'\n",
      " 'international' 'irish' 'jam' 'japanese' 'jazz' 'jewish' 'jpop' 'jungle'\n",
      " 'k-pop' 'karadeniz' 'karaoke' 'kayokyoku' 'korean' 'laiko' 'latin'\n",
      " 'latino' 'leftfield' 'local' 'lounge' 'loungeelectronic' 'lovers'\n",
      " 'malaysian' 'mandopop' 'marschmusik' 'meditative' 'mediterranean'\n",
      " 'melodic' 'metal' 'metalcore' 'mexican' 'middle' 'minimal'\n",
      " 'miscellaneous' 'modern' 'mood' 'mpb' 'muslim' 'native' 'neoklassik'\n",
      " 'neue' 'new' 'newage' 'newwave' 'nu' 'nujazz' 'numetal' 'oceania' 'old'\n",
      " 'opera' 'orchestral' 'other' 'piano' 'podcasts' 'pop' 'popdance'\n",
      " 'popelectronic' 'popeurodance' 'poprussian' 'post' 'posthardcore'\n",
      " 'postrock' 'power' 'progmetal' 'progressive' 'psychedelic' 'punjabi'\n",
      " 'punk' 'quebecois' 'ragga' 'ram' 'rancheras' 'rap' 'rave' 'reggae'\n",
      " 'reggaeton' 'regional' 'relax' 'religious' 'retro' 'rhythm' 'rnb' 'rnr'\n",
      " 'rock' 'rockabilly' 'rockalternative' 'rockindie' 'rockother' 'romance'\n",
      " 'roots' 'ruspop' 'rusrap' 'rusrock' 'russian' 'salsa' 'samba' 'scenic'\n",
      " 'schlager' 'self' 'sertanejo' 'shanson' 'shoegazing' 'showtunes' 'singer'\n",
      " 'ska' 'skarock' 'slow' 'smooth' 'soft' 'soul' 'soulful' 'sound'\n",
      " 'soundtrack' 'southern' 'specialty' 'speech' 'spiritual' 'sport'\n",
      " 'stonerrock' 'surf' 'swing' 'synthpop' 'synthrock' 'sängerportrait'\n",
      " 'tango' 'tanzorchester' 'taraftar' 'tatar' 'tech' 'techno' 'teen'\n",
      " 'thrash' 'top' 'traditional' 'tradjazz' 'trance' 'tribal' 'trip'\n",
      " 'triphop' 'tropical' 'türk' 'türkçe' 'ukrrock' 'unknown' 'urban' 'uzbek'\n",
      " 'variété' 'vi' 'videogame' 'vocal' 'western' 'world' 'worldbeat' 'ïîï'\n",
      " 'электроника']\n"
     ]
    }
   ],
   "source": [
    "# Просмотр уникальных названий жанров\n",
    "sort_genre = df['genre'].sort_values(ascending=True).unique()\n",
    "#cout_sort = df.groupby('genre')['genre'].count()\n",
    "#print(cout_sort)\n",
    "#sort_final = sort_genre.sort_values(ascending=False)\n",
    "print(sort_genre)\n"
   ]
  },
  {
   "cell_type": "markdown",
   "metadata": {
    "deletable": false,
    "editable": false,
    "id": "qej-Qmuo_Zct",
    "tags": [
     "start_task"
    ]
   },
   "source": [
    "**Задание 16**\n",
    "\n",
    "Просмотрите список и найдите неявные дубликаты названия `hiphop`. Это могут быть названия с ошибками или альтернативные названия того же жанра.\n",
    "\n",
    "Вы увидите следующие неявные дубликаты:\n",
    "* *hip*,\n",
    "* *hop*,\n",
    "* *hip-hop*.\n",
    "\n",
    "Чтобы очистить от них таблицу используйте метод `replace()` с двумя аргументами: списком строк-дубликатов (включащий *hip*, *hop* и *hip-hop*) и строкой с правильным значением. Вам нужно исправить колонку `genre` в таблице `df`: заменить каждое значение из списка дубликатов на верное. Вместо `hip`, `hop` и `hip-hop` в таблице должно быть значение `hiphop`:"
   ]
  },
  {
   "cell_type": "code",
   "execution_count": 16,
   "metadata": {
    "deletable": false,
    "id": "ErNDkmns_Zct"
   },
   "outputs": [],
   "source": [
    "# Устранение неявных дубликатов\n",
    "duplicates = ['hip','hop','hip-hop']\n",
    "uniq_ganre = 'hiphop'\n",
    "df['genre'] = df['genre'].replace(duplicates, uniq_ganre)"
   ]
  },
  {
   "cell_type": "markdown",
   "metadata": {
    "deletable": false,
    "editable": false,
    "id": "zQKF16_RG15m",
    "tags": [
     "start_task"
    ]
   },
   "source": [
    "**Задание 17**\n",
    "\n",
    "Проверьте, что заменили неправильные названия:\n",
    "\n",
    "*   hip,\n",
    "*   hop,\n",
    "*   hip-hop.\n",
    "\n",
    "Выведите отсортированный список уникальных значений столбца `genre`:"
   ]
  },
  {
   "cell_type": "code",
   "execution_count": 17,
   "metadata": {
    "deletable": false,
    "id": "wvixALnFG15m"
   },
   "outputs": [
    {
     "name": "stdout",
     "output_type": "stream",
     "text": [
      "['acid' 'acoustic' 'action' 'adult' 'africa' 'afrikaans' 'alternative'\n",
      " 'alternativepunk' 'ambient' 'americana' 'animated' 'anime' 'arabesk'\n",
      " 'arabic' 'arena' 'argentinetango' 'art' 'audiobook' 'author' 'avantgarde'\n",
      " 'axé' 'baile' 'balkan' 'beats' 'bigroom' 'black' 'bluegrass' 'blues'\n",
      " 'bollywood' 'bossa' 'brazilian' 'breakbeat' 'breaks' 'broadway'\n",
      " 'cantautori' 'cantopop' 'canzone' 'caribbean' 'caucasian' 'celtic'\n",
      " 'chamber' 'chanson' 'children' 'chill' 'chinese' 'choral' 'christian'\n",
      " 'christmas' 'classical' 'classicmetal' 'club' 'colombian' 'comedy'\n",
      " 'conjazz' 'contemporary' 'country' 'cuban' 'dance' 'dancehall' 'dancepop'\n",
      " 'dark' 'death' 'deep' 'deutschrock' 'deutschspr' 'dirty' 'disco' 'dnb'\n",
      " 'documentary' 'downbeat' 'downtempo' 'drum' 'dub' 'dubstep' 'eastern'\n",
      " 'easy' 'electronic' 'electropop' 'emo' 'entehno' 'epicmetal' 'estrada'\n",
      " 'ethnic' 'eurofolk' 'european' 'experimental' 'extrememetal' 'fado'\n",
      " 'fairytail' 'film' 'fitness' 'flamenco' 'folk' 'folklore' 'folkmetal'\n",
      " 'folkrock' 'folktronica' 'forró' 'frankreich' 'französisch' 'french'\n",
      " 'funk' 'future' 'gangsta' 'garage' 'german' 'ghazal' 'gitarre' 'glitch'\n",
      " 'gospel' 'gothic' 'grime' 'grunge' 'gypsy' 'handsup' \"hard'n'heavy\"\n",
      " 'hardcore' 'hardstyle' 'hardtechno' 'hiphop' 'historisch' 'holiday'\n",
      " 'horror' 'house' 'hymn' 'idm' 'independent' 'indian' 'indie' 'indipop'\n",
      " 'industrial' 'inspirational' 'instrumental' 'international' 'irish' 'jam'\n",
      " 'japanese' 'jazz' 'jewish' 'jpop' 'jungle' 'k-pop' 'karadeniz' 'karaoke'\n",
      " 'kayokyoku' 'korean' 'laiko' 'latin' 'latino' 'leftfield' 'local'\n",
      " 'lounge' 'loungeelectronic' 'lovers' 'malaysian' 'mandopop' 'marschmusik'\n",
      " 'meditative' 'mediterranean' 'melodic' 'metal' 'metalcore' 'mexican'\n",
      " 'middle' 'minimal' 'miscellaneous' 'modern' 'mood' 'mpb' 'muslim'\n",
      " 'native' 'neoklassik' 'neue' 'new' 'newage' 'newwave' 'nu' 'nujazz'\n",
      " 'numetal' 'oceania' 'old' 'opera' 'orchestral' 'other' 'piano' 'podcasts'\n",
      " 'pop' 'popdance' 'popelectronic' 'popeurodance' 'poprussian' 'post'\n",
      " 'posthardcore' 'postrock' 'power' 'progmetal' 'progressive' 'psychedelic'\n",
      " 'punjabi' 'punk' 'quebecois' 'ragga' 'ram' 'rancheras' 'rap' 'rave'\n",
      " 'reggae' 'reggaeton' 'regional' 'relax' 'religious' 'retro' 'rhythm'\n",
      " 'rnb' 'rnr' 'rock' 'rockabilly' 'rockalternative' 'rockindie' 'rockother'\n",
      " 'romance' 'roots' 'ruspop' 'rusrap' 'rusrock' 'russian' 'salsa' 'samba'\n",
      " 'scenic' 'schlager' 'self' 'sertanejo' 'shanson' 'shoegazing' 'showtunes'\n",
      " 'singer' 'ska' 'skarock' 'slow' 'smooth' 'soft' 'soul' 'soulful' 'sound'\n",
      " 'soundtrack' 'southern' 'specialty' 'speech' 'spiritual' 'sport'\n",
      " 'stonerrock' 'surf' 'swing' 'synthpop' 'synthrock' 'sängerportrait'\n",
      " 'tango' 'tanzorchester' 'taraftar' 'tatar' 'tech' 'techno' 'teen'\n",
      " 'thrash' 'top' 'traditional' 'tradjazz' 'trance' 'tribal' 'trip'\n",
      " 'triphop' 'tropical' 'türk' 'türkçe' 'ukrrock' 'unknown' 'urban' 'uzbek'\n",
      " 'variété' 'vi' 'videogame' 'vocal' 'western' 'world' 'worldbeat' 'ïîï'\n",
      " 'электроника']\n"
     ]
    }
   ],
   "source": [
    "# Проверка на неявные дубликаты\n",
    "sort_genre = df['genre'].sort_values(ascending=True).unique()\n",
    "print(sort_genre)"
   ]
  },
  {
   "cell_type": "markdown",
   "metadata": {
    "deletable": false,
    "editable": false,
    "id": "jz6a9-7HQUDd"
   },
   "source": [
    "**Выводы**\n",
    "\n",
    "Предобработка обнаружила три проблемы в данных:\n",
    "\n",
    "- нарушения в стиле заголовков,\n",
    "- пропущенные значения,\n",
    "- дубликаты — явные и неявные.\n",
    "\n",
    "Вы исправили заголовки, чтобы упростить работу с таблицей. Без дубликатов исследование станет более точным.\n",
    "\n",
    "Пропущенные значения вы заменили на `'unknown'`. Ещё предстоит увидеть, не повредят ли исследованию пропуски в колонке `genre`.\n",
    "\n",
    "Теперь можно перейти к проверке гипотез. "
   ]
  },
  {
   "cell_type": "markdown",
   "metadata": {
    "deletable": false,
    "editable": false,
    "id": "WttZHXH0SqKk"
   },
   "source": [
    "## Проверка гипотез"
   ]
  },
  {
   "cell_type": "markdown",
   "metadata": {
    "deletable": false,
    "editable": false,
    "id": "Im936VVi_Zcu"
   },
   "source": [
    "### Сравнение поведения пользователей двух столиц"
   ]
  },
  {
   "cell_type": "markdown",
   "metadata": {
    "deletable": false,
    "editable": false,
    "id": "nwt_MuaL_Zcu"
   },
   "source": [
    "Первая гипотеза утверждает, что пользователи по-разному слушают музыку в Москве и Санкт-Петербурге. Проверьте это предположение по данным о трёх днях недели — понедельнике, среде и пятнице. Для этого:\n",
    "\n",
    "* Разделите пользователей Москвы и Санкт-Петербурга.\n",
    "* Сравните, сколько треков послушала каждая группа пользователей в понедельник, среду и пятницу.\n"
   ]
  },
  {
   "cell_type": "markdown",
   "metadata": {
    "deletable": false,
    "editable": false,
    "id": "8Dw_YMmT_Zcu",
    "tags": [
     "start_task"
    ]
   },
   "source": [
    "**Задание 18**\n",
    "\n",
    "Для тренировки сначала выполните каждый из расчётов по отдельности. \n",
    "\n",
    "Оцените активность пользователей в каждом городе. Сгруппируйте данные по городу и посчитайте прослушивания в каждой группе.\n",
    "\n"
   ]
  },
  {
   "cell_type": "code",
   "execution_count": 18,
   "metadata": {
    "deletable": false,
    "id": "0_Qs96oh_Zcu"
   },
   "outputs": [
    {
     "name": "stdout",
     "output_type": "stream",
     "text": [
      "city\n",
      "Moscow              42741\n",
      "Saint-Petersburg    18512\n",
      "Name: time, dtype: int64\n"
     ]
    }
   ],
   "source": [
    "# Подсчёт прослушиваний в каждом городе\n",
    "\n",
    "city_counting = df.groupby('city')['time'].count()\n",
    "print(city_counting)\n",
    "\n"
   ]
  },
  {
   "cell_type": "markdown",
   "metadata": {
    "deletable": false,
    "editable": false,
    "id": "dzli3w8o_Zcu",
    "tags": [
     "start_task"
    ]
   },
   "source": [
    "В Москве прослушиваний больше, чем в Петербурге. Из этого не следует, что московские пользователи чаще слушают музыку. Просто самих пользователей в Москве больше.\n",
    "\n",
    "**Задание 19**\n",
    "\n",
    "Теперь сгруппируйте данные по дню недели и посчитайте прослушивания в понедельник, среду и пятницу. Учтите, что в данных есть информация о прослушиваниях только за эти дни.\n"
   ]
  },
  {
   "cell_type": "code",
   "execution_count": 19,
   "metadata": {
    "deletable": false,
    "id": "uZMKjiJz_Zcu"
   },
   "outputs": [
    {
     "name": "stdout",
     "output_type": "stream",
     "text": [
      "day\n",
      "Friday       21840\n",
      "Monday       21354\n",
      "Wednesday    18059\n",
      "Name: time, dtype: int64\n"
     ]
    }
   ],
   "source": [
    "# Подсчёт прослушиваний в каждый из трёх дней\n",
    "\n",
    "city_counting = df.groupby('day')['time'].count()\n",
    "print(city_counting)"
   ]
  },
  {
   "cell_type": "markdown",
   "metadata": {
    "deletable": false,
    "editable": false,
    "id": "cC2tNrlL_Zcu"
   },
   "source": [
    "В среднем пользователи из двух городов менее активны по средам. Но картина может измениться, если рассмотреть каждый город в отдельности."
   ]
  },
  {
   "cell_type": "markdown",
   "metadata": {
    "deletable": false,
    "editable": false,
    "id": "POzs8bGa_Zcu",
    "tags": [
     "start_task"
    ]
   },
   "source": [
    "**Задание 20**\n",
    "\n",
    "\n",
    "Вы видели, как работает группировка по городу и по дням недели. Теперь напишите функцию, которая объединит два эти расчёта.\n",
    "\n",
    "Создайте функцию `number_tracks()`, которая посчитает прослушивания для заданного дня и города. Ей понадобятся два параметра:\n",
    "* день недели,\n",
    "* название города.\n",
    "\n",
    "В функции сохраните в переменную строки исходной таблицы, у которых значение:\n",
    "  * в колонке `day` равно параметру `day`,\n",
    "  * в колонке `city` равно параметру `city`.\n",
    "\n",
    "Для этого примените последовательную фильтрацию с логической индексацией (или сложные логические выражения в одну строку, если вы уже знакомы с ними).\n",
    "\n",
    "Затем посчитайте значения в столбце `user_id` получившейся таблицы. Результат сохраните в новую переменную. Верните эту переменную из функции."
   ]
  },
  {
   "cell_type": "code",
   "execution_count": 20,
   "metadata": {
    "deletable": false,
    "id": "Nz3GdQB1_Zcu"
   },
   "outputs": [],
   "source": [
    "# <создание функции number_tracks()>\n",
    "# Объявляется функция с двумя параметрами: day, city.\n",
    "# В переменной track_list сохраняются те строки таблицы df, для которых \n",
    "# значение в столбце 'day' равно параметру day и одновременно значение\n",
    "# в столбце 'city' равно параметру city (используйте последовательную фильтрацию\n",
    "# с помощью логической индексации или сложные логические выражения в одну строку, если вы уже знакомы с ними).\n",
    "# В переменной track_list_count сохраняется число значений столбца 'user_id',\n",
    "# рассчитанное методом count() для таблицы track_list.\n",
    "# Функция возвращает число - значение track_list_count.\n",
    "def number_tracks(day,city):\n",
    "    track_list = df[(df['day']==day) & (df['city']==city)]\n",
    "    track_list_count = track_list['user_id'].count()\n",
    "    return track_list_count\n"
   ]
  },
  {
   "cell_type": "markdown",
   "metadata": {
    "deletable": false,
    "editable": false,
    "id": "ytf7xFrFJQ2r",
    "tags": [
     "start_task"
    ]
   },
   "source": [
    "**Задание 21**\n",
    "\n",
    "Вызовите `number_tracks()` шесть раз, меняя значение параметров — так, чтобы получить данные для каждого города в каждый из трёх дней."
   ]
  },
  {
   "cell_type": "code",
   "execution_count": 21,
   "metadata": {
    "deletable": false,
    "id": "rJcRATNQ_Zcu"
   },
   "outputs": [
    {
     "data": {
      "text/plain": [
       "15740"
      ]
     },
     "execution_count": 21,
     "metadata": {},
     "output_type": "execute_result"
    }
   ],
   "source": [
    "# количество прослушиваний в Москве по понедельникам\n",
    "number_tracks('Monday', 'Moscow')"
   ]
  },
  {
   "cell_type": "code",
   "execution_count": 22,
   "metadata": {
    "deletable": false,
    "id": "hq_ncZ5T_Zcu"
   },
   "outputs": [
    {
     "data": {
      "text/plain": [
       "5614"
      ]
     },
     "execution_count": 22,
     "metadata": {},
     "output_type": "execute_result"
    }
   ],
   "source": [
    "# количество прослушиваний в Санкт-Петербурге по понедельникам\n",
    "number_tracks('Monday', 'Saint-Petersburg')"
   ]
  },
  {
   "cell_type": "code",
   "execution_count": 23,
   "metadata": {
    "deletable": false,
    "id": "_NTy2VPU_Zcu"
   },
   "outputs": [
    {
     "data": {
      "text/plain": [
       "11056"
      ]
     },
     "execution_count": 23,
     "metadata": {},
     "output_type": "execute_result"
    }
   ],
   "source": [
    "# количество прослушиваний в Москве по средам\n",
    "number_tracks('Wednesday', 'Moscow')"
   ]
  },
  {
   "cell_type": "code",
   "execution_count": 24,
   "metadata": {
    "deletable": false,
    "id": "j2y3TAwo_Zcu"
   },
   "outputs": [
    {
     "data": {
      "text/plain": [
       "7003"
      ]
     },
     "execution_count": 24,
     "metadata": {},
     "output_type": "execute_result"
    }
   ],
   "source": [
    "# количество прослушиваний в Санкт-Петербурге по средам\n",
    "number_tracks('Wednesday', 'Saint-Petersburg')"
   ]
  },
  {
   "cell_type": "code",
   "execution_count": 25,
   "metadata": {
    "deletable": false,
    "id": "vYDw5u_K_Zcu"
   },
   "outputs": [
    {
     "data": {
      "text/plain": [
       "15945"
      ]
     },
     "execution_count": 25,
     "metadata": {},
     "output_type": "execute_result"
    }
   ],
   "source": [
    "# количество прослушиваний в Москве по пятницам\n",
    "number_tracks('Friday', 'Moscow')"
   ]
  },
  {
   "cell_type": "code",
   "execution_count": 26,
   "metadata": {
    "deletable": false,
    "id": "8_yzFtW3_Zcu"
   },
   "outputs": [
    {
     "data": {
      "text/plain": [
       "5895"
      ]
     },
     "execution_count": 26,
     "metadata": {},
     "output_type": "execute_result"
    }
   ],
   "source": [
    "# количество прослушиваний в Санкт-Петербурге по пятницам\n",
    "number_tracks('Friday', 'Saint-Petersburg')"
   ]
  },
  {
   "cell_type": "markdown",
   "metadata": {
    "deletable": false,
    "editable": false,
    "id": "7QXffbO-_Zcu",
    "tags": [
     "start_task"
    ]
   },
   "source": [
    "**Задание 22**\n",
    "\n",
    "Создайте c помощью конструктора `pd.DataFrame` таблицу, где\n",
    "* названия колонок — `['city', 'monday', 'wednesday', 'friday']`;\n",
    "* данные — результаты, которые вы получили с помощью `number_tracks`."
   ]
  },
  {
   "cell_type": "code",
   "execution_count": 27,
   "metadata": {
    "deletable": false,
    "id": "APAcLpOr_Zcu"
   },
   "outputs": [
    {
     "data": {
      "text/html": [
       "<div>\n",
       "<style scoped>\n",
       "    .dataframe tbody tr th:only-of-type {\n",
       "        vertical-align: middle;\n",
       "    }\n",
       "\n",
       "    .dataframe tbody tr th {\n",
       "        vertical-align: top;\n",
       "    }\n",
       "\n",
       "    .dataframe thead th {\n",
       "        text-align: right;\n",
       "    }\n",
       "</style>\n",
       "<table border=\"1\" class=\"dataframe\">\n",
       "  <thead>\n",
       "    <tr style=\"text-align: right;\">\n",
       "      <th></th>\n",
       "      <th>city</th>\n",
       "      <th>monday</th>\n",
       "      <th>wednesday</th>\n",
       "      <th>friday</th>\n",
       "    </tr>\n",
       "  </thead>\n",
       "  <tbody>\n",
       "    <tr>\n",
       "      <th>0</th>\n",
       "      <td>Moscow</td>\n",
       "      <td>15740</td>\n",
       "      <td>11056</td>\n",
       "      <td>15945</td>\n",
       "    </tr>\n",
       "    <tr>\n",
       "      <th>1</th>\n",
       "      <td>Saint-Petersburg</td>\n",
       "      <td>5614</td>\n",
       "      <td>7003</td>\n",
       "      <td>5895</td>\n",
       "    </tr>\n",
       "  </tbody>\n",
       "</table>\n",
       "</div>"
      ],
      "text/plain": [
       "               city  monday  wednesday  friday\n",
       "0            Moscow   15740      11056   15945\n",
       "1  Saint-Petersburg    5614       7003    5895"
      ]
     },
     "execution_count": 27,
     "metadata": {},
     "output_type": "execute_result"
    }
   ],
   "source": [
    "# Таблица с результатами\n",
    "data = [['Moscow', 15740, 11056, 15945],\n",
    "       ['Saint-Petersburg', 5614, 7003, 5895]]\n",
    "\n",
    "columns = ['city','monday','wednesday','friday']\n",
    "\n",
    "number_tracks = pd.DataFrame(data = data, columns = columns)\n",
    "\n",
    "number_tracks"
   ]
  },
  {
   "cell_type": "markdown",
   "metadata": {
    "deletable": false,
    "editable": false,
    "id": "-EgPIHYu_Zcu"
   },
   "source": [
    "**Выводы**\n",
    "\n",
    "Данные показывают разницу поведения пользователей:\n",
    "\n",
    "- В Москве пик прослушиваний приходится на понедельник и пятницу, а в среду заметен спад.\n",
    "- В Петербурге, наоборот, больше слушают музыку по средам. Активность в понедельник и пятницу здесь почти в равной мере уступает среде.\n",
    "\n",
    "Значит, данные говорят в пользу первой гипотезы."
   ]
  },
  {
   "cell_type": "markdown",
   "metadata": {
    "deletable": false,
    "editable": false,
    "id": "atZAxtq4_Zcu"
   },
   "source": [
    "### Музыка в начале и в конце недели"
   ]
  },
  {
   "cell_type": "markdown",
   "metadata": {
    "deletable": false,
    "editable": false,
    "id": "eXrQqXFH_Zcu"
   },
   "source": [
    "Согласно второй гипотезе, утром в понедельник в Москве преобладают одни жанры, а в Петербурге — другие. Так же и вечером пятницы преобладают разные жанры — в зависимости от города."
   ]
  },
  {
   "cell_type": "markdown",
   "metadata": {
    "deletable": false,
    "editable": false,
    "id": "S8UcW6Hw_Zcu",
    "tags": [
     "start_task"
    ]
   },
   "source": [
    "**Задание 23**\n",
    "\n",
    "Сохраните таблицы с данными в две переменные:\n",
    "* по Москве — в `moscow_general`;\n",
    "* по Санкт-Петербургу — в `spb_general`."
   ]
  },
  {
   "cell_type": "code",
   "execution_count": 28,
   "metadata": {
    "deletable": false,
    "id": "qeaFfM_P_Zcu"
   },
   "outputs": [],
   "source": [
    "# получение таблицы moscow_general из тех строк таблицы df, \n",
    "# для которых значение в столбце 'city' равно 'Moscow'\n",
    "moscow_general = df[df['city']=='Moscow']\n"
   ]
  },
  {
   "cell_type": "code",
   "execution_count": 54,
   "metadata": {
    "deletable": false,
    "id": "ORaVRKto_Zcu"
   },
   "outputs": [
    {
     "name": "stdout",
     "output_type": "stream",
     "text": [
      "<class 'pandas.core.frame.DataFrame'>\n",
      "Int64Index: 18512 entries, 0 to 65075\n",
      "Data columns (total 7 columns):\n",
      " #   Column   Non-Null Count  Dtype \n",
      "---  ------   --------------  ----- \n",
      " 0   user_id  18512 non-null  object\n",
      " 1   track    18512 non-null  object\n",
      " 2   artist   18512 non-null  object\n",
      " 3   genre    18512 non-null  object\n",
      " 4   city     18512 non-null  object\n",
      " 5   time     18512 non-null  object\n",
      " 6   day      18512 non-null  object\n",
      "dtypes: object(7)\n",
      "memory usage: 1.1+ MB\n"
     ]
    }
   ],
   "source": [
    "# получение таблицы spb_general из тех строк таблицы df,\n",
    "# для которых значение в столбце 'city' равно 'Saint-Petersburg'\n",
    "spb_general = df[df['city']=='Saint-Petersburg']\n",
    "spb_general.info()\n"
   ]
  },
  {
   "cell_type": "markdown",
   "metadata": {
    "deletable": false,
    "editable": false,
    "id": "MEJV-CX2_Zcu",
    "tags": [
     "start_task"
    ]
   },
   "source": [
    "**Задание 24**\n",
    "\n",
    "Создайте функцию `genre_weekday()` с четырьмя параметрами:\n",
    "* таблица (датафрейм) с данными,\n",
    "* день недели,\n",
    "* начальная временная метка в формате 'hh:mm', \n",
    "* последняя временная метка в формате 'hh:mm'.\n",
    "\n",
    "Функция должна вернуть информацию о топ-10 жанров тех треков, которые прослушивали в указанный день, в промежутке между двумя отметками времени."
   ]
  },
  {
   "cell_type": "code",
   "execution_count": 40,
   "metadata": {
    "deletable": false,
    "id": "laJT9BYl_Zcu"
   },
   "outputs": [],
   "source": [
    "# Объявление функции genre_weekday() с параметрами table, day, time1, time2,\n",
    "# которая возвращает информацию о самых популярных жанрах в указанный день в\n",
    "# заданное время:\n",
    "# 1) в переменную genre_df сохраняются те строки переданного датафрейма table, для\n",
    "#    которых одновременно:\n",
    "#    - значение в столбце day равно значению аргумента day\n",
    "#    - значение в столбце time больше значения аргумента time1\n",
    "#    - значение в столбце time меньше значения аргумента time2\n",
    "#    Используйте последовательную фильтрацию с помощью логической индексации.\n",
    "# 2) сгруппировать датафрейм genre_df по столбцу genre, взять один из его\n",
    "#    столбцов и посчитать методом count() количество записей для каждого из\n",
    "#    присутствующих жанров, получившийся Series записать в переменную\n",
    "#    genre_df_count\n",
    "# 3) отсортировать genre_df_count по убыванию встречаемости и сохранить\n",
    "#    в переменную genre_df_sorted\n",
    "# 4) вернуть Series из 10 первых значений genre_df_sorted, это будут топ-10\n",
    "#    популярных жанров (в указанный день, в заданное время)\n",
    "\n",
    "def genre_weekday(df, day, time1, time2):   # последовательная фильтрация\n",
    "    # оставляем в genre_df только те строки df, у которых день равен day\n",
    "    genre_df = df[df['day'] == day]\n",
    "    # оставляем в genre_df только те строки genre_df, у которых время меньше time2\n",
    "    genre_df = genre_df[genre_df['time'] < time2]\n",
    "    # оставляем в genre_df только те строки genre_df, у которых время больше time1\n",
    "    genre_df = genre_df[genre_df['time'] > time1]\n",
    "    # сгруппируем отфильтрованный датафрейм по столбцу с названиями жанров, возьмём столбец genre и посчитаем кол-во строк для каждого жанра методом count()\n",
    "    genre_df_count = genre_df.groupby('genre')['genre'].count()\n",
    "    # отсортируем результат по убыванию (чтобы в начале Series оказались самые популярные жанры)\n",
    "    genre_df_sorted = genre_df_count.sort_values(ascending=False)\n",
    "    # вернём Series с 10 самыми популярными жанрами в указанный отрезок времени заданного дня\n",
    "    return genre_df_sorted[:10]"
   ]
  },
  {
   "cell_type": "markdown",
   "metadata": {
    "deletable": false,
    "editable": false,
    "id": "la2s2_PF_Zcu",
    "tags": [
     "start_task"
    ]
   },
   "source": [
    "**Задание 25**\n",
    "\n",
    "\n",
    "Cравните результаты функции `genre_weekday()` для Москвы и Санкт-Петербурга в понедельник утром (с 7:00 до 11:00) и в пятницу вечером (с 17:00 до 23:00):"
   ]
  },
  {
   "cell_type": "code",
   "execution_count": 41,
   "metadata": {
    "deletable": false,
    "id": "yz7itPUQ_Zcu"
   },
   "outputs": [
    {
     "data": {
      "text/plain": [
       "genre\n",
       "pop            781\n",
       "dance          549\n",
       "electronic     480\n",
       "rock           474\n",
       "hiphop         286\n",
       "ruspop         186\n",
       "world          181\n",
       "rusrap         175\n",
       "alternative    164\n",
       "unknown        161\n",
       "Name: genre, dtype: int64"
      ]
     },
     "execution_count": 41,
     "metadata": {},
     "output_type": "execute_result"
    }
   ],
   "source": [
    "# вызов функции для утра понедельника в Москве (вместо df — таблица moscow_general)\n",
    "# объекты, хранящие время, являются строками и сравниваются как строки\n",
    "# пример вызова: genre_weekday(moscow_general, 'Monday', '07:00', '11:00')\n",
    "genre_weekday(moscow_general, 'Monday', '07:00', '11:00')"
   ]
  },
  {
   "cell_type": "code",
   "execution_count": 42,
   "metadata": {
    "deletable": false,
    "id": "kwUcHPdy_Zcu"
   },
   "outputs": [
    {
     "data": {
      "text/plain": [
       "genre\n",
       "pop            218\n",
       "dance          182\n",
       "rock           162\n",
       "electronic     147\n",
       "hiphop          80\n",
       "ruspop          64\n",
       "alternative     58\n",
       "rusrap          55\n",
       "jazz            44\n",
       "classical       40\n",
       "Name: genre, dtype: int64"
      ]
     },
     "execution_count": 42,
     "metadata": {},
     "output_type": "execute_result"
    }
   ],
   "source": [
    "# вызов функции для утра понедельника в Петербурге (вместо df — таблица spb_general)\n",
    "genre_weekday(spb_general, 'Monday', '07:00', '11:00')"
   ]
  },
  {
   "cell_type": "code",
   "execution_count": 47,
   "metadata": {
    "deletable": false,
    "id": "EzXVRE1o_Zcu"
   },
   "outputs": [
    {
     "data": {
      "text/plain": [
       "genre\n",
       "pop            713\n",
       "rock           517\n",
       "dance          495\n",
       "electronic     482\n",
       "hiphop         273\n",
       "world          208\n",
       "ruspop         170\n",
       "alternative    163\n",
       "classical      163\n",
       "rusrap         142\n",
       "Name: genre, dtype: int64"
      ]
     },
     "execution_count": 47,
     "metadata": {},
     "output_type": "execute_result"
    }
   ],
   "source": [
    "# вызов функции для вечера пятницы в Москве\n",
    "genre_weekday(moscow_general, 'Friday', '17:00', '23:00')"
   ]
  },
  {
   "cell_type": "code",
   "execution_count": 48,
   "metadata": {
    "deletable": false,
    "id": "JZaEKu5v_Zcu"
   },
   "outputs": [
    {
     "data": {
      "text/plain": [
       "genre\n",
       "pop            256\n",
       "electronic     216\n",
       "rock           216\n",
       "dance          210\n",
       "hiphop          97\n",
       "alternative     63\n",
       "jazz            61\n",
       "classical       60\n",
       "rusrap          59\n",
       "world           54\n",
       "Name: genre, dtype: int64"
      ]
     },
     "execution_count": 48,
     "metadata": {},
     "output_type": "execute_result"
    }
   ],
   "source": [
    "# вызов функции для вечера пятницы в Петербурге\n",
    "genre_weekday(spb_general, 'Friday', '17:00', '23:00')"
   ]
  },
  {
   "cell_type": "markdown",
   "metadata": {
    "deletable": false,
    "editable": false,
    "id": "wrCe4MNX_Zcu"
   },
   "source": [
    "**Выводы**\n",
    "\n",
    "Если сравнить топ-10 жанров в понедельник утром, можно сделать такие выводы:\n",
    "\n",
    "1. В Москве и Петербурге слушают похожую музыку. Единственное отличие — в московский рейтинг вошёл жанр “world”, а в петербургский — джаз и классика.\n",
    "\n",
    "2. В Москве пропущенных значений оказалось так много, что значение `'unknown'` заняло десятое место среди самых популярных жанров. Значит, пропущенные значения занимают существенную долю в данных и угрожают достоверности исследования.\n",
    "\n",
    "Вечер пятницы не меняет эту картину. Некоторые жанры поднимаются немного выше, другие спускаются, но в целом топ-10 остаётся тем же самым.\n",
    "\n",
    "Таким образом, вторая гипотеза подтвердилась лишь частично:\n",
    "* Пользователи слушают похожую музыку в начале недели и в конце.\n",
    "* Разница между Москвой и Петербургом не слишком выражена. В Москве чаще слушают русскую популярную музыку, в Петербурге — джаз.\n",
    "\n",
    "Однако пропуски в данных ставят под сомнение этот результат. В Москве их так много, что рейтинг топ-10 мог бы выглядеть иначе, если бы не утерянные  данные о жанрах."
   ]
  },
  {
   "cell_type": "markdown",
   "metadata": {
    "deletable": false,
    "editable": false,
    "id": "JolODAqr_Zcu"
   },
   "source": [
    "### Жанровые предпочтения в Москве и Петербурге\n",
    "\n",
    "Гипотеза: Петербург — столица рэпа, музыку этого жанра там слушают чаще, чем в Москве.  А Москва — город контрастов, в котором, тем не менее, преобладает поп-музыка."
   ]
  },
  {
   "cell_type": "markdown",
   "metadata": {
    "deletable": false,
    "editable": false,
    "id": "DlegSvaT_Zcu",
    "tags": [
     "start_task"
    ]
   },
   "source": [
    "**Задание 26**\n",
    "\n",
    "Сгруппируйте таблицу `moscow_general` по жанру и посчитайте прослушивания треков каждого жанра методом `count()`. Затем отсортируйте результат в порядке убывания и сохраните его в таблице `moscow_genres`."
   ]
  },
  {
   "cell_type": "code",
   "execution_count": 35,
   "metadata": {
    "deletable": false,
    "id": "r19lIPke_Zcu"
   },
   "outputs": [],
   "source": [
    "# одной строкой: группировка таблицы moscow_general по столбцу 'genre', \n",
    "# подсчёт числа значений 'genre' в этой группировке методом count(), \n",
    "# сортировка получившегося Series в порядке убывания и сохранение в moscow_genres\n",
    "\n",
    "moscow_genres = moscow_general.groupby('genre')['genre'].count().sort_values(ascending = False)"
   ]
  },
  {
   "cell_type": "markdown",
   "metadata": {
    "deletable": false,
    "editable": false,
    "id": "6kMuomxTiIr8",
    "tags": [
     "start_task"
    ]
   },
   "source": [
    "**Задание 27**\n",
    "\n",
    "Выведите на экран первые десять строк `moscow_genres`:"
   ]
  },
  {
   "cell_type": "code",
   "execution_count": 36,
   "metadata": {
    "deletable": false,
    "id": "WhCSooF8_Zcv"
   },
   "outputs": [
    {
     "data": {
      "text/plain": [
       "genre\n",
       "pop            5892\n",
       "dance          4435\n",
       "rock           3965\n",
       "electronic     3786\n",
       "hiphop         2096\n",
       "classical      1616\n",
       "world          1432\n",
       "alternative    1379\n",
       "ruspop         1372\n",
       "rusrap         1161\n",
       "Name: genre, dtype: int64"
      ]
     },
     "execution_count": 36,
     "metadata": {},
     "output_type": "execute_result"
    }
   ],
   "source": [
    "# просмотр первых 10 строк moscow_genres\n",
    "moscow_genres.head(10)"
   ]
  },
  {
   "cell_type": "markdown",
   "metadata": {
    "deletable": false,
    "editable": false,
    "id": "cnPG2vnN_Zcv",
    "tags": [
     "start_task"
    ]
   },
   "source": [
    "**Задание 28**\n",
    "\n",
    "\n",
    "Теперь повторите то же и для Петербурга.\n",
    "\n",
    "Сгруппируйте таблицу `spb_general` по жанру. Посчитайте прослушивания треков каждого жанра. Результат отсортируйте в порядке убывания и сохраните в таблице `spb_genres`:\n"
   ]
  },
  {
   "cell_type": "code",
   "execution_count": 53,
   "metadata": {
    "deletable": false,
    "id": "gluLIpE7_Zcv"
   },
   "outputs": [
    {
     "ename": "AttributeError",
     "evalue": "'Series' object has no attribute 'info'",
     "output_type": "error",
     "traceback": [
      "\u001b[0;31m---------------------------------------------------------------------------\u001b[0m",
      "\u001b[0;31mAttributeError\u001b[0m                            Traceback (most recent call last)",
      "\u001b[0;32m/tmp/ipykernel_71/2407254088.py\u001b[0m in \u001b[0;36m<module>\u001b[0;34m\u001b[0m\n\u001b[1;32m      3\u001b[0m \u001b[0;31m# сортировка получившегося Series в порядке убывания и сохранение в spb_genres\u001b[0m\u001b[0;34m\u001b[0m\u001b[0;34m\u001b[0m\u001b[0;34m\u001b[0m\u001b[0m\n\u001b[1;32m      4\u001b[0m \u001b[0;31m#spb_genres = spb_general.groupby('genre')['genre'].count().sort_values(ascending = False)\u001b[0m\u001b[0;34m\u001b[0m\u001b[0;34m\u001b[0m\u001b[0;34m\u001b[0m\u001b[0m\n\u001b[0;32m----> 5\u001b[0;31m \u001b[0mspb_general\u001b[0m\u001b[0;34m.\u001b[0m\u001b[0minfo\u001b[0m\u001b[0;34m(\u001b[0m\u001b[0;34m)\u001b[0m\u001b[0;34m\u001b[0m\u001b[0;34m\u001b[0m\u001b[0m\n\u001b[0m",
      "\u001b[0;32m/opt/conda/lib/python3.9/site-packages/pandas/core/generic.py\u001b[0m in \u001b[0;36m__getattr__\u001b[0;34m(self, name)\u001b[0m\n\u001b[1;32m   5463\u001b[0m             \u001b[0;32mif\u001b[0m \u001b[0mself\u001b[0m\u001b[0;34m.\u001b[0m\u001b[0m_info_axis\u001b[0m\u001b[0;34m.\u001b[0m\u001b[0m_can_hold_identifiers_and_holds_name\u001b[0m\u001b[0;34m(\u001b[0m\u001b[0mname\u001b[0m\u001b[0;34m)\u001b[0m\u001b[0;34m:\u001b[0m\u001b[0;34m\u001b[0m\u001b[0;34m\u001b[0m\u001b[0m\n\u001b[1;32m   5464\u001b[0m                 \u001b[0;32mreturn\u001b[0m \u001b[0mself\u001b[0m\u001b[0;34m[\u001b[0m\u001b[0mname\u001b[0m\u001b[0;34m]\u001b[0m\u001b[0;34m\u001b[0m\u001b[0;34m\u001b[0m\u001b[0m\n\u001b[0;32m-> 5465\u001b[0;31m             \u001b[0;32mreturn\u001b[0m \u001b[0mobject\u001b[0m\u001b[0;34m.\u001b[0m\u001b[0m__getattribute__\u001b[0m\u001b[0;34m(\u001b[0m\u001b[0mself\u001b[0m\u001b[0;34m,\u001b[0m \u001b[0mname\u001b[0m\u001b[0;34m)\u001b[0m\u001b[0;34m\u001b[0m\u001b[0;34m\u001b[0m\u001b[0m\n\u001b[0m\u001b[1;32m   5466\u001b[0m \u001b[0;34m\u001b[0m\u001b[0m\n\u001b[1;32m   5467\u001b[0m     \u001b[0;32mdef\u001b[0m \u001b[0m__setattr__\u001b[0m\u001b[0;34m(\u001b[0m\u001b[0mself\u001b[0m\u001b[0;34m,\u001b[0m \u001b[0mname\u001b[0m\u001b[0;34m:\u001b[0m \u001b[0mstr\u001b[0m\u001b[0;34m,\u001b[0m \u001b[0mvalue\u001b[0m\u001b[0;34m)\u001b[0m \u001b[0;34m->\u001b[0m \u001b[0;32mNone\u001b[0m\u001b[0;34m:\u001b[0m\u001b[0;34m\u001b[0m\u001b[0;34m\u001b[0m\u001b[0m\n",
      "\u001b[0;31mAttributeError\u001b[0m: 'Series' object has no attribute 'info'"
     ]
    }
   ],
   "source": [
    "# одной строкой: группировка таблицы spb_general по столбцу 'genre', \n",
    "# подсчёт числа значений 'genre' в этой группировке методом count(), \n",
    "# сортировка получившегося Series в порядке убывания и сохранение в spb_genres\n",
    "spb_genres = spb_general.groupby('genre')['genre'].count().sort_values(ascending = False)\n",
    "#spb_general.info()"
   ]
  },
  {
   "cell_type": "markdown",
   "metadata": {
    "deletable": false,
    "editable": false,
    "id": "5Doha_ODgyQ8",
    "tags": [
     "start_task"
    ]
   },
   "source": [
    "**Задание 29**\n",
    "\n",
    "Выведите на экран первые десять строк `spb_genres`:"
   ]
  },
  {
   "cell_type": "code",
   "execution_count": 55,
   "metadata": {
    "deletable": false,
    "id": "uaGJHjVU_Zcv"
   },
   "outputs": [
    {
     "data": {
      "text/html": [
       "<div>\n",
       "<style scoped>\n",
       "    .dataframe tbody tr th:only-of-type {\n",
       "        vertical-align: middle;\n",
       "    }\n",
       "\n",
       "    .dataframe tbody tr th {\n",
       "        vertical-align: top;\n",
       "    }\n",
       "\n",
       "    .dataframe thead th {\n",
       "        text-align: right;\n",
       "    }\n",
       "</style>\n",
       "<table border=\"1\" class=\"dataframe\">\n",
       "  <thead>\n",
       "    <tr style=\"text-align: right;\">\n",
       "      <th></th>\n",
       "      <th>user_id</th>\n",
       "      <th>track</th>\n",
       "      <th>artist</th>\n",
       "      <th>genre</th>\n",
       "      <th>city</th>\n",
       "      <th>time</th>\n",
       "      <th>day</th>\n",
       "    </tr>\n",
       "  </thead>\n",
       "  <tbody>\n",
       "    <tr>\n",
       "      <th>0</th>\n",
       "      <td>FFB692EC</td>\n",
       "      <td>Kamigata To Boots</td>\n",
       "      <td>The Mass Missile</td>\n",
       "      <td>rock</td>\n",
       "      <td>Saint-Petersburg</td>\n",
       "      <td>20:28:33</td>\n",
       "      <td>Wednesday</td>\n",
       "    </tr>\n",
       "    <tr>\n",
       "      <th>2</th>\n",
       "      <td>20EC38</td>\n",
       "      <td>Funiculì funiculà</td>\n",
       "      <td>Mario Lanza</td>\n",
       "      <td>pop</td>\n",
       "      <td>Saint-Petersburg</td>\n",
       "      <td>20:58:07</td>\n",
       "      <td>Wednesday</td>\n",
       "    </tr>\n",
       "    <tr>\n",
       "      <th>3</th>\n",
       "      <td>A3DD03C9</td>\n",
       "      <td>Dragons in the Sunset</td>\n",
       "      <td>Fire + Ice</td>\n",
       "      <td>folk</td>\n",
       "      <td>Saint-Petersburg</td>\n",
       "      <td>08:37:09</td>\n",
       "      <td>Monday</td>\n",
       "    </tr>\n",
       "    <tr>\n",
       "      <th>5</th>\n",
       "      <td>842029A1</td>\n",
       "      <td>Преданная</td>\n",
       "      <td>IMPERVTOR</td>\n",
       "      <td>rusrap</td>\n",
       "      <td>Saint-Petersburg</td>\n",
       "      <td>13:09:41</td>\n",
       "      <td>Friday</td>\n",
       "    </tr>\n",
       "    <tr>\n",
       "      <th>9</th>\n",
       "      <td>E772D5C0</td>\n",
       "      <td>Pessimist</td>\n",
       "      <td>unknown</td>\n",
       "      <td>dance</td>\n",
       "      <td>Saint-Petersburg</td>\n",
       "      <td>21:20:49</td>\n",
       "      <td>Wednesday</td>\n",
       "    </tr>\n",
       "    <tr>\n",
       "      <th>14</th>\n",
       "      <td>94EB25C2</td>\n",
       "      <td>Make Love Whenever You Can</td>\n",
       "      <td>Arabesque</td>\n",
       "      <td>pop</td>\n",
       "      <td>Saint-Petersburg</td>\n",
       "      <td>13:22:08</td>\n",
       "      <td>Wednesday</td>\n",
       "    </tr>\n",
       "    <tr>\n",
       "      <th>16</th>\n",
       "      <td>81D05C7D</td>\n",
       "      <td>SLAVES OF FEAR</td>\n",
       "      <td>HEALTH</td>\n",
       "      <td>alternative</td>\n",
       "      <td>Saint-Petersburg</td>\n",
       "      <td>20:54:48</td>\n",
       "      <td>Monday</td>\n",
       "    </tr>\n",
       "    <tr>\n",
       "      <th>17</th>\n",
       "      <td>39DE290E</td>\n",
       "      <td>Веснянка</td>\n",
       "      <td>Веданъ Колодъ</td>\n",
       "      <td>folk</td>\n",
       "      <td>Saint-Petersburg</td>\n",
       "      <td>14:36:47</td>\n",
       "      <td>Monday</td>\n",
       "    </tr>\n",
       "    <tr>\n",
       "      <th>18</th>\n",
       "      <td>58AE138A</td>\n",
       "      <td>Pat-a-Cake</td>\n",
       "      <td>Mother Goose Club</td>\n",
       "      <td>children</td>\n",
       "      <td>Saint-Petersburg</td>\n",
       "      <td>20:04:56</td>\n",
       "      <td>Monday</td>\n",
       "    </tr>\n",
       "    <tr>\n",
       "      <th>22</th>\n",
       "      <td>B8E29C9C</td>\n",
       "      <td>Самота</td>\n",
       "      <td>unknown</td>\n",
       "      <td>folk</td>\n",
       "      <td>Saint-Petersburg</td>\n",
       "      <td>20:20:49</td>\n",
       "      <td>Wednesday</td>\n",
       "    </tr>\n",
       "  </tbody>\n",
       "</table>\n",
       "</div>"
      ],
      "text/plain": [
       "     user_id                       track             artist        genre  \\\n",
       "0   FFB692EC           Kamigata To Boots   The Mass Missile         rock   \n",
       "2     20EC38           Funiculì funiculà        Mario Lanza          pop   \n",
       "3   A3DD03C9       Dragons in the Sunset         Fire + Ice         folk   \n",
       "5   842029A1                   Преданная          IMPERVTOR       rusrap   \n",
       "9   E772D5C0                   Pessimist            unknown        dance   \n",
       "14  94EB25C2  Make Love Whenever You Can          Arabesque          pop   \n",
       "16  81D05C7D              SLAVES OF FEAR             HEALTH  alternative   \n",
       "17  39DE290E                    Веснянка      Веданъ Колодъ         folk   \n",
       "18  58AE138A                  Pat-a-Cake  Mother Goose Club     children   \n",
       "22  B8E29C9C                      Самота            unknown         folk   \n",
       "\n",
       "                city      time        day  \n",
       "0   Saint-Petersburg  20:28:33  Wednesday  \n",
       "2   Saint-Petersburg  20:58:07  Wednesday  \n",
       "3   Saint-Petersburg  08:37:09     Monday  \n",
       "5   Saint-Petersburg  13:09:41     Friday  \n",
       "9   Saint-Petersburg  21:20:49  Wednesday  \n",
       "14  Saint-Petersburg  13:22:08  Wednesday  \n",
       "16  Saint-Petersburg  20:54:48     Monday  \n",
       "17  Saint-Petersburg  14:36:47     Monday  \n",
       "18  Saint-Petersburg  20:04:56     Monday  \n",
       "22  Saint-Petersburg  20:20:49  Wednesday  "
      ]
     },
     "execution_count": 55,
     "metadata": {},
     "output_type": "execute_result"
    }
   ],
   "source": [
    "# просмотр первых 10 строк spb_genres\n",
    "spb_general.head(10)"
   ]
  },
  {
   "cell_type": "markdown",
   "metadata": {
    "deletable": false,
    "editable": false,
    "id": "RY51YJYu_Zcv"
   },
   "source": [
    "**Выводы**"
   ]
  },
  {
   "cell_type": "markdown",
   "metadata": {
    "deletable": false,
    "editable": false,
    "id": "nVhnJEm__Zcv"
   },
   "source": [
    "Гипотеза частично подтвердилась:\n",
    "* Поп-музыка — самый популярный жанр в Москве, как и предполагала гипотеза. Более того, в топ-10 жанров встречается близкий жанр — русская популярная музыка.\n",
    "* Вопреки ожиданиям, рэп одинаково популярен в Москве и Петербурге. \n"
   ]
  },
  {
   "cell_type": "markdown",
   "metadata": {
    "deletable": false,
    "editable": false,
    "id": "ykKQ0N65_Zcv"
   },
   "source": [
    "## Итоги исследования"
   ]
  },
  {
   "cell_type": "markdown",
   "metadata": {
    "deletable": false,
    "editable": false,
    "id": "tjUwbHb3_Zcv"
   },
   "source": [
    "Вы проверили три гипотезы и установили:\n",
    "\n",
    "1. День недели по-разному влияет на активность пользователей в Москве и Петербурге. \n",
    "\n",
    "Первая гипотеза полностью подтвердилась.\n",
    "\n",
    "2. Музыкальные предпочтения не сильно меняются в течение недели — будь то Москва или Петербург. Небольшие различия заметны в начале недели, по понедельникам:\n",
    "* в Москве слушают музыку жанра “world”,\n",
    "* в Петербурге — джаз и классику.\n",
    "\n",
    "Таким образом, вторая гипотеза подтвердилась лишь отчасти. Этот результат мог оказаться иным, если бы не пропуски в данных.\n",
    "\n",
    "3. Во вкусах пользователей Москвы и Петербурга больше общего чем различий. Вопреки ожиданиям, предпочтения жанров в Петербурге напоминают московские.\n",
    "\n",
    "Третья гипотеза не подтвердилась. Если различия в предпочтениях и существуют, на основной массе пользователей они незаметны.\n",
    "\n",
    "**На практике исследования содержат проверки статистических гипотез.**\n",
    "Из данных одного сервиса не всегда можно сделать вывод о всех жителях города.\n",
    "Проверки статистических гипотез покажут, насколько они достоверны, исходя из имеющихся данных. \n",
    "С методами проверок гипотез вы ещё познакомитесь в следующих темах."
   ]
  }
 ],
 "metadata": {
  "ExecuteTimeLog": [
   {
    "duration": 54,
    "start_time": "2022-08-20T21:00:26.163Z"
   },
   {
    "duration": 7,
    "start_time": "2022-08-20T21:01:16.395Z"
   },
   {
    "duration": 345,
    "start_time": "2022-08-20T21:02:09.736Z"
   },
   {
    "duration": 31,
    "start_time": "2022-08-20T21:02:10.083Z"
   },
   {
    "duration": 0,
    "start_time": "2022-08-20T21:02:10.116Z"
   },
   {
    "duration": 0,
    "start_time": "2022-08-20T21:02:10.117Z"
   },
   {
    "duration": 0,
    "start_time": "2022-08-20T21:02:10.118Z"
   },
   {
    "duration": 0,
    "start_time": "2022-08-20T21:02:10.119Z"
   },
   {
    "duration": 0,
    "start_time": "2022-08-20T21:02:10.121Z"
   },
   {
    "duration": 0,
    "start_time": "2022-08-20T21:02:10.121Z"
   },
   {
    "duration": 0,
    "start_time": "2022-08-20T21:02:10.122Z"
   },
   {
    "duration": 0,
    "start_time": "2022-08-20T21:02:10.123Z"
   },
   {
    "duration": 0,
    "start_time": "2022-08-20T21:02:10.124Z"
   },
   {
    "duration": 0,
    "start_time": "2022-08-20T21:02:10.126Z"
   },
   {
    "duration": 0,
    "start_time": "2022-08-20T21:02:10.127Z"
   },
   {
    "duration": 0,
    "start_time": "2022-08-20T21:02:10.128Z"
   },
   {
    "duration": 0,
    "start_time": "2022-08-20T21:02:10.129Z"
   },
   {
    "duration": 0,
    "start_time": "2022-08-20T21:02:10.131Z"
   },
   {
    "duration": 0,
    "start_time": "2022-08-20T21:02:10.132Z"
   },
   {
    "duration": 0,
    "start_time": "2022-08-20T21:02:10.134Z"
   },
   {
    "duration": 0,
    "start_time": "2022-08-20T21:02:10.135Z"
   },
   {
    "duration": 0,
    "start_time": "2022-08-20T21:02:10.136Z"
   },
   {
    "duration": 0,
    "start_time": "2022-08-20T21:02:10.137Z"
   },
   {
    "duration": 0,
    "start_time": "2022-08-20T21:02:10.139Z"
   },
   {
    "duration": 0,
    "start_time": "2022-08-20T21:02:10.140Z"
   },
   {
    "duration": 0,
    "start_time": "2022-08-20T21:02:10.141Z"
   },
   {
    "duration": 0,
    "start_time": "2022-08-20T21:02:10.142Z"
   },
   {
    "duration": 0,
    "start_time": "2022-08-20T21:02:10.143Z"
   },
   {
    "duration": 0,
    "start_time": "2022-08-20T21:02:10.144Z"
   },
   {
    "duration": 0,
    "start_time": "2022-08-20T21:02:10.146Z"
   },
   {
    "duration": 0,
    "start_time": "2022-08-20T21:02:10.147Z"
   },
   {
    "duration": 0,
    "start_time": "2022-08-20T21:02:10.148Z"
   },
   {
    "duration": 0,
    "start_time": "2022-08-20T21:02:10.149Z"
   },
   {
    "duration": 0,
    "start_time": "2022-08-20T21:02:10.150Z"
   },
   {
    "duration": 0,
    "start_time": "2022-08-20T21:02:10.151Z"
   },
   {
    "duration": 0,
    "start_time": "2022-08-20T21:02:10.152Z"
   },
   {
    "duration": 0,
    "start_time": "2022-08-20T21:02:10.153Z"
   },
   {
    "duration": 0,
    "start_time": "2022-08-20T21:02:10.154Z"
   },
   {
    "duration": 0,
    "start_time": "2022-08-20T21:02:10.154Z"
   },
   {
    "duration": 0,
    "start_time": "2022-08-20T21:02:10.206Z"
   },
   {
    "duration": 2,
    "start_time": "2022-08-20T21:03:25.141Z"
   },
   {
    "duration": 41,
    "start_time": "2022-08-20T21:07:28.652Z"
   },
   {
    "duration": 0,
    "start_time": "2022-08-20T21:07:28.695Z"
   },
   {
    "duration": 0,
    "start_time": "2022-08-20T21:07:28.696Z"
   },
   {
    "duration": 0,
    "start_time": "2022-08-20T21:07:28.698Z"
   },
   {
    "duration": 0,
    "start_time": "2022-08-20T21:07:28.699Z"
   },
   {
    "duration": 0,
    "start_time": "2022-08-20T21:07:28.700Z"
   },
   {
    "duration": 0,
    "start_time": "2022-08-20T21:07:28.702Z"
   },
   {
    "duration": 0,
    "start_time": "2022-08-20T21:07:28.704Z"
   },
   {
    "duration": 0,
    "start_time": "2022-08-20T21:07:28.705Z"
   },
   {
    "duration": 0,
    "start_time": "2022-08-20T21:07:28.706Z"
   },
   {
    "duration": 0,
    "start_time": "2022-08-20T21:07:28.707Z"
   },
   {
    "duration": 0,
    "start_time": "2022-08-20T21:07:28.708Z"
   },
   {
    "duration": 0,
    "start_time": "2022-08-20T21:07:28.709Z"
   },
   {
    "duration": 0,
    "start_time": "2022-08-20T21:07:28.710Z"
   },
   {
    "duration": 0,
    "start_time": "2022-08-20T21:07:28.711Z"
   },
   {
    "duration": 0,
    "start_time": "2022-08-20T21:07:28.712Z"
   },
   {
    "duration": 0,
    "start_time": "2022-08-20T21:07:28.712Z"
   },
   {
    "duration": 0,
    "start_time": "2022-08-20T21:07:28.713Z"
   },
   {
    "duration": 0,
    "start_time": "2022-08-20T21:07:28.714Z"
   },
   {
    "duration": 0,
    "start_time": "2022-08-20T21:07:28.715Z"
   },
   {
    "duration": 0,
    "start_time": "2022-08-20T21:07:28.716Z"
   },
   {
    "duration": 0,
    "start_time": "2022-08-20T21:07:28.717Z"
   },
   {
    "duration": 0,
    "start_time": "2022-08-20T21:07:28.718Z"
   },
   {
    "duration": 0,
    "start_time": "2022-08-20T21:07:28.719Z"
   },
   {
    "duration": 0,
    "start_time": "2022-08-20T21:07:28.720Z"
   },
   {
    "duration": 0,
    "start_time": "2022-08-20T21:07:28.721Z"
   },
   {
    "duration": 3,
    "start_time": "2022-08-20T21:07:28.723Z"
   },
   {
    "duration": 13,
    "start_time": "2022-08-20T21:07:28.727Z"
   },
   {
    "duration": 263,
    "start_time": "2022-08-20T21:07:28.783Z"
   },
   {
    "duration": 0,
    "start_time": "2022-08-20T21:07:29.048Z"
   },
   {
    "duration": 0,
    "start_time": "2022-08-20T21:07:29.049Z"
   },
   {
    "duration": 0,
    "start_time": "2022-08-20T21:07:29.050Z"
   },
   {
    "duration": 0,
    "start_time": "2022-08-20T21:07:29.051Z"
   },
   {
    "duration": 0,
    "start_time": "2022-08-20T21:07:29.052Z"
   },
   {
    "duration": 0,
    "start_time": "2022-08-20T21:07:29.053Z"
   },
   {
    "duration": 0,
    "start_time": "2022-08-20T21:07:29.054Z"
   },
   {
    "duration": 0,
    "start_time": "2022-08-20T21:07:29.055Z"
   },
   {
    "duration": 379,
    "start_time": "2022-08-21T05:22:08.532Z"
   },
   {
    "duration": 71,
    "start_time": "2022-08-21T05:22:13.822Z"
   },
   {
    "duration": 227,
    "start_time": "2022-08-21T05:22:51.941Z"
   },
   {
    "duration": 160,
    "start_time": "2022-08-21T05:22:58.250Z"
   },
   {
    "duration": 21,
    "start_time": "2022-08-21T05:23:09.380Z"
   },
   {
    "duration": 39,
    "start_time": "2022-08-21T05:23:32.840Z"
   },
   {
    "duration": 7,
    "start_time": "2022-08-21T05:33:23.242Z"
   },
   {
    "duration": 4,
    "start_time": "2022-08-21T05:33:34.639Z"
   },
   {
    "duration": 11,
    "start_time": "2022-08-21T05:33:47.937Z"
   },
   {
    "duration": 4,
    "start_time": "2022-08-21T05:33:58.664Z"
   },
   {
    "duration": 31,
    "start_time": "2022-08-21T05:37:36.818Z"
   },
   {
    "duration": 41,
    "start_time": "2022-08-21T10:08:34.278Z"
   },
   {
    "duration": 6,
    "start_time": "2022-08-21T10:23:44.134Z"
   },
   {
    "duration": 356,
    "start_time": "2022-08-21T10:23:56.136Z"
   },
   {
    "duration": 450,
    "start_time": "2022-08-21T10:23:56.495Z"
   },
   {
    "duration": 16,
    "start_time": "2022-08-21T10:23:56.947Z"
   },
   {
    "duration": 25,
    "start_time": "2022-08-21T10:23:56.965Z"
   },
   {
    "duration": 114,
    "start_time": "2022-08-21T10:23:56.992Z"
   },
   {
    "duration": 0,
    "start_time": "2022-08-21T10:23:57.108Z"
   },
   {
    "duration": 0,
    "start_time": "2022-08-21T10:23:57.109Z"
   },
   {
    "duration": 0,
    "start_time": "2022-08-21T10:23:57.110Z"
   },
   {
    "duration": 0,
    "start_time": "2022-08-21T10:23:57.111Z"
   },
   {
    "duration": 0,
    "start_time": "2022-08-21T10:23:57.112Z"
   },
   {
    "duration": 0,
    "start_time": "2022-08-21T10:23:57.113Z"
   },
   {
    "duration": 0,
    "start_time": "2022-08-21T10:23:57.114Z"
   },
   {
    "duration": 0,
    "start_time": "2022-08-21T10:23:57.115Z"
   },
   {
    "duration": 0,
    "start_time": "2022-08-21T10:23:57.117Z"
   },
   {
    "duration": 0,
    "start_time": "2022-08-21T10:23:57.118Z"
   },
   {
    "duration": 0,
    "start_time": "2022-08-21T10:23:57.118Z"
   },
   {
    "duration": 0,
    "start_time": "2022-08-21T10:23:57.120Z"
   },
   {
    "duration": 0,
    "start_time": "2022-08-21T10:23:57.120Z"
   },
   {
    "duration": 0,
    "start_time": "2022-08-21T10:23:57.121Z"
   },
   {
    "duration": 0,
    "start_time": "2022-08-21T10:23:57.122Z"
   },
   {
    "duration": 0,
    "start_time": "2022-08-21T10:23:57.123Z"
   },
   {
    "duration": 0,
    "start_time": "2022-08-21T10:23:57.124Z"
   },
   {
    "duration": 0,
    "start_time": "2022-08-21T10:23:57.125Z"
   },
   {
    "duration": 0,
    "start_time": "2022-08-21T10:23:57.125Z"
   },
   {
    "duration": 0,
    "start_time": "2022-08-21T10:23:57.127Z"
   },
   {
    "duration": 0,
    "start_time": "2022-08-21T10:23:57.127Z"
   },
   {
    "duration": 0,
    "start_time": "2022-08-21T10:23:57.128Z"
   },
   {
    "duration": 0,
    "start_time": "2022-08-21T10:23:57.129Z"
   },
   {
    "duration": 0,
    "start_time": "2022-08-21T10:23:57.130Z"
   },
   {
    "duration": 0,
    "start_time": "2022-08-21T10:23:57.132Z"
   },
   {
    "duration": 0,
    "start_time": "2022-08-21T10:23:57.133Z"
   },
   {
    "duration": 0,
    "start_time": "2022-08-21T10:23:57.133Z"
   },
   {
    "duration": 0,
    "start_time": "2022-08-21T10:23:57.134Z"
   },
   {
    "duration": 0,
    "start_time": "2022-08-21T10:23:57.135Z"
   },
   {
    "duration": 0,
    "start_time": "2022-08-21T10:23:57.136Z"
   },
   {
    "duration": 0,
    "start_time": "2022-08-21T10:23:57.137Z"
   },
   {
    "duration": 0,
    "start_time": "2022-08-21T10:23:57.138Z"
   },
   {
    "duration": 0,
    "start_time": "2022-08-21T10:23:57.139Z"
   },
   {
    "duration": 3,
    "start_time": "2022-08-21T10:24:22.583Z"
   },
   {
    "duration": 10,
    "start_time": "2022-08-21T10:24:30.325Z"
   },
   {
    "duration": 3,
    "start_time": "2022-08-21T10:24:34.508Z"
   },
   {
    "duration": 20,
    "start_time": "2022-08-21T10:24:47.688Z"
   },
   {
    "duration": 2025,
    "start_time": "2022-08-21T10:24:51.293Z"
   },
   {
    "duration": 21,
    "start_time": "2022-08-21T10:25:02.170Z"
   },
   {
    "duration": 17,
    "start_time": "2022-08-21T10:43:02.696Z"
   },
   {
    "duration": 20,
    "start_time": "2022-08-21T10:43:06.746Z"
   },
   {
    "duration": 65,
    "start_time": "2022-08-21T10:48:48.883Z"
   },
   {
    "duration": 10,
    "start_time": "2022-08-21T10:49:34.749Z"
   },
   {
    "duration": 48,
    "start_time": "2022-08-21T14:33:00.273Z"
   },
   {
    "duration": 6,
    "start_time": "2022-08-21T14:33:41.865Z"
   },
   {
    "duration": 5,
    "start_time": "2022-08-21T14:34:08.561Z"
   },
   {
    "duration": 380,
    "start_time": "2022-08-21T14:34:29.527Z"
   },
   {
    "duration": 214,
    "start_time": "2022-08-21T14:34:29.911Z"
   },
   {
    "duration": 16,
    "start_time": "2022-08-21T14:34:30.127Z"
   },
   {
    "duration": 27,
    "start_time": "2022-08-21T14:34:30.144Z"
   },
   {
    "duration": 49,
    "start_time": "2022-08-21T14:34:30.173Z"
   },
   {
    "duration": 0,
    "start_time": "2022-08-21T14:34:30.225Z"
   },
   {
    "duration": 0,
    "start_time": "2022-08-21T14:34:30.226Z"
   },
   {
    "duration": 0,
    "start_time": "2022-08-21T14:34:30.227Z"
   },
   {
    "duration": 0,
    "start_time": "2022-08-21T14:34:30.228Z"
   },
   {
    "duration": 0,
    "start_time": "2022-08-21T14:34:30.228Z"
   },
   {
    "duration": 0,
    "start_time": "2022-08-21T14:34:30.229Z"
   },
   {
    "duration": 0,
    "start_time": "2022-08-21T14:34:30.230Z"
   },
   {
    "duration": 0,
    "start_time": "2022-08-21T14:34:30.232Z"
   },
   {
    "duration": 0,
    "start_time": "2022-08-21T14:34:30.233Z"
   },
   {
    "duration": 0,
    "start_time": "2022-08-21T14:34:30.234Z"
   },
   {
    "duration": 0,
    "start_time": "2022-08-21T14:34:30.234Z"
   },
   {
    "duration": 0,
    "start_time": "2022-08-21T14:34:30.235Z"
   },
   {
    "duration": 0,
    "start_time": "2022-08-21T14:34:30.236Z"
   },
   {
    "duration": 0,
    "start_time": "2022-08-21T14:34:30.238Z"
   },
   {
    "duration": 0,
    "start_time": "2022-08-21T14:34:30.238Z"
   },
   {
    "duration": 0,
    "start_time": "2022-08-21T14:34:30.239Z"
   },
   {
    "duration": 0,
    "start_time": "2022-08-21T14:34:30.240Z"
   },
   {
    "duration": 0,
    "start_time": "2022-08-21T14:34:30.241Z"
   },
   {
    "duration": 0,
    "start_time": "2022-08-21T14:34:30.241Z"
   },
   {
    "duration": 0,
    "start_time": "2022-08-21T14:34:30.242Z"
   },
   {
    "duration": 0,
    "start_time": "2022-08-21T14:34:30.244Z"
   },
   {
    "duration": 0,
    "start_time": "2022-08-21T14:34:30.245Z"
   },
   {
    "duration": 0,
    "start_time": "2022-08-21T14:34:30.246Z"
   },
   {
    "duration": 0,
    "start_time": "2022-08-21T14:34:30.246Z"
   },
   {
    "duration": 0,
    "start_time": "2022-08-21T14:34:30.247Z"
   },
   {
    "duration": 0,
    "start_time": "2022-08-21T14:34:30.248Z"
   },
   {
    "duration": 0,
    "start_time": "2022-08-21T14:34:30.248Z"
   },
   {
    "duration": 0,
    "start_time": "2022-08-21T14:34:30.249Z"
   },
   {
    "duration": 0,
    "start_time": "2022-08-21T14:34:30.250Z"
   },
   {
    "duration": 0,
    "start_time": "2022-08-21T14:34:30.251Z"
   },
   {
    "duration": 0,
    "start_time": "2022-08-21T14:34:30.251Z"
   },
   {
    "duration": 0,
    "start_time": "2022-08-21T14:34:30.252Z"
   },
   {
    "duration": 0,
    "start_time": "2022-08-21T14:34:30.253Z"
   },
   {
    "duration": 3,
    "start_time": "2022-08-21T14:34:48.027Z"
   },
   {
    "duration": 10,
    "start_time": "2022-08-21T14:34:51.548Z"
   },
   {
    "duration": 3,
    "start_time": "2022-08-21T14:34:54.689Z"
   },
   {
    "duration": 19,
    "start_time": "2022-08-21T14:34:57.410Z"
   },
   {
    "duration": 2067,
    "start_time": "2022-08-21T14:35:01.797Z"
   },
   {
    "duration": 18,
    "start_time": "2022-08-21T14:36:17.469Z"
   },
   {
    "duration": 17,
    "start_time": "2022-08-21T14:40:33.533Z"
   },
   {
    "duration": 18,
    "start_time": "2022-08-21T14:40:36.398Z"
   },
   {
    "duration": 6,
    "start_time": "2022-08-21T14:42:10.752Z"
   },
   {
    "duration": 62,
    "start_time": "2022-08-21T14:43:25.859Z"
   },
   {
    "duration": 121,
    "start_time": "2022-08-21T14:47:09.204Z"
   },
   {
    "duration": 115,
    "start_time": "2022-08-21T14:47:44.110Z"
   },
   {
    "duration": 57,
    "start_time": "2022-08-21T14:47:53.568Z"
   },
   {
    "duration": 868,
    "start_time": "2022-08-21T14:51:12.899Z"
   },
   {
    "duration": 8,
    "start_time": "2022-08-21T14:52:00.917Z"
   },
   {
    "duration": 7,
    "start_time": "2022-08-21T14:53:48.639Z"
   },
   {
    "duration": 52,
    "start_time": "2022-08-21T15:11:05.126Z"
   },
   {
    "duration": 8,
    "start_time": "2022-08-21T15:11:24.582Z"
   },
   {
    "duration": 7,
    "start_time": "2022-08-21T15:19:05.596Z"
   },
   {
    "duration": 7,
    "start_time": "2022-08-21T15:20:30.523Z"
   },
   {
    "duration": 794,
    "start_time": "2022-08-21T15:32:34.485Z"
   },
   {
    "duration": 14,
    "start_time": "2022-08-21T15:32:52.675Z"
   },
   {
    "duration": 8,
    "start_time": "2022-08-21T15:32:56.281Z"
   },
   {
    "duration": 4,
    "start_time": "2022-08-21T15:33:18.347Z"
   },
   {
    "duration": 11,
    "start_time": "2022-08-21T15:33:59.789Z"
   },
   {
    "duration": 12,
    "start_time": "2022-08-21T15:34:21.231Z"
   },
   {
    "duration": 8,
    "start_time": "2022-08-21T15:35:01.445Z"
   },
   {
    "duration": 48,
    "start_time": "2022-08-21T15:35:59.829Z"
   },
   {
    "duration": 11,
    "start_time": "2022-08-21T15:36:10.258Z"
   },
   {
    "duration": 39,
    "start_time": "2022-08-21T15:36:57.128Z"
   },
   {
    "duration": 532,
    "start_time": "2022-08-21T15:37:30.280Z"
   },
   {
    "duration": 31,
    "start_time": "2022-08-21T15:37:44.723Z"
   },
   {
    "duration": 28,
    "start_time": "2022-08-21T15:38:20.422Z"
   },
   {
    "duration": 11,
    "start_time": "2022-08-21T15:38:57.342Z"
   },
   {
    "duration": 11,
    "start_time": "2022-08-21T15:39:14.357Z"
   },
   {
    "duration": 6,
    "start_time": "2022-08-21T15:41:04.452Z"
   },
   {
    "duration": 4,
    "start_time": "2022-08-21T15:41:42.661Z"
   },
   {
    "duration": 13,
    "start_time": "2022-08-21T16:31:12.961Z"
   },
   {
    "duration": 8,
    "start_time": "2022-08-21T16:31:46.652Z"
   },
   {
    "duration": 8,
    "start_time": "2022-08-21T16:36:03.229Z"
   },
   {
    "duration": 8,
    "start_time": "2022-08-21T16:36:16.046Z"
   },
   {
    "duration": 52,
    "start_time": "2022-08-21T16:36:32.762Z"
   },
   {
    "duration": 7,
    "start_time": "2022-08-21T16:36:40.571Z"
   },
   {
    "duration": 104,
    "start_time": "2022-08-21T18:58:12.618Z"
   },
   {
    "duration": 44,
    "start_time": "2022-08-21T18:58:33.214Z"
   },
   {
    "duration": 74,
    "start_time": "2022-08-21T18:59:10.282Z"
   },
   {
    "duration": 365,
    "start_time": "2022-08-21T19:01:10.468Z"
   },
   {
    "duration": 184,
    "start_time": "2022-08-21T19:01:10.835Z"
   },
   {
    "duration": 22,
    "start_time": "2022-08-21T19:01:11.020Z"
   },
   {
    "duration": 24,
    "start_time": "2022-08-21T19:01:11.045Z"
   },
   {
    "duration": 279,
    "start_time": "2022-08-21T19:01:11.071Z"
   },
   {
    "duration": 0,
    "start_time": "2022-08-21T19:01:11.352Z"
   },
   {
    "duration": 0,
    "start_time": "2022-08-21T19:01:11.354Z"
   },
   {
    "duration": 0,
    "start_time": "2022-08-21T19:01:11.355Z"
   },
   {
    "duration": 0,
    "start_time": "2022-08-21T19:01:11.356Z"
   },
   {
    "duration": 0,
    "start_time": "2022-08-21T19:01:11.357Z"
   },
   {
    "duration": 0,
    "start_time": "2022-08-21T19:01:11.358Z"
   },
   {
    "duration": 0,
    "start_time": "2022-08-21T19:01:11.359Z"
   },
   {
    "duration": 0,
    "start_time": "2022-08-21T19:01:11.360Z"
   },
   {
    "duration": 0,
    "start_time": "2022-08-21T19:01:11.362Z"
   },
   {
    "duration": 0,
    "start_time": "2022-08-21T19:01:11.363Z"
   },
   {
    "duration": 0,
    "start_time": "2022-08-21T19:01:11.364Z"
   },
   {
    "duration": 0,
    "start_time": "2022-08-21T19:01:11.365Z"
   },
   {
    "duration": 0,
    "start_time": "2022-08-21T19:01:11.366Z"
   },
   {
    "duration": 0,
    "start_time": "2022-08-21T19:01:11.367Z"
   },
   {
    "duration": 0,
    "start_time": "2022-08-21T19:01:11.368Z"
   },
   {
    "duration": 0,
    "start_time": "2022-08-21T19:01:11.369Z"
   },
   {
    "duration": 0,
    "start_time": "2022-08-21T19:01:11.370Z"
   },
   {
    "duration": 0,
    "start_time": "2022-08-21T19:01:11.370Z"
   },
   {
    "duration": 0,
    "start_time": "2022-08-21T19:01:11.372Z"
   },
   {
    "duration": 0,
    "start_time": "2022-08-21T19:01:11.373Z"
   },
   {
    "duration": 0,
    "start_time": "2022-08-21T19:01:11.374Z"
   },
   {
    "duration": 0,
    "start_time": "2022-08-21T19:01:11.375Z"
   },
   {
    "duration": 0,
    "start_time": "2022-08-21T19:01:11.377Z"
   },
   {
    "duration": 0,
    "start_time": "2022-08-21T19:01:11.378Z"
   },
   {
    "duration": 0,
    "start_time": "2022-08-21T19:01:11.379Z"
   },
   {
    "duration": 0,
    "start_time": "2022-08-21T19:01:11.380Z"
   },
   {
    "duration": 0,
    "start_time": "2022-08-21T19:01:11.381Z"
   },
   {
    "duration": 0,
    "start_time": "2022-08-21T19:01:11.383Z"
   },
   {
    "duration": 0,
    "start_time": "2022-08-21T19:01:11.384Z"
   },
   {
    "duration": 0,
    "start_time": "2022-08-21T19:01:11.385Z"
   },
   {
    "duration": 0,
    "start_time": "2022-08-21T19:01:11.386Z"
   },
   {
    "duration": 0,
    "start_time": "2022-08-21T19:01:11.387Z"
   },
   {
    "duration": 0,
    "start_time": "2022-08-21T19:01:11.388Z"
   },
   {
    "duration": 4,
    "start_time": "2022-08-21T19:01:27.897Z"
   },
   {
    "duration": 10,
    "start_time": "2022-08-21T19:01:32.128Z"
   },
   {
    "duration": 5,
    "start_time": "2022-08-21T19:01:34.966Z"
   },
   {
    "duration": 25,
    "start_time": "2022-08-21T19:01:37.448Z"
   },
   {
    "duration": 19,
    "start_time": "2022-08-21T19:01:40.436Z"
   },
   {
    "duration": 20,
    "start_time": "2022-08-21T19:01:43.241Z"
   },
   {
    "duration": 72,
    "start_time": "2022-08-21T19:02:16.378Z"
   },
   {
    "duration": 146,
    "start_time": "2022-08-21T19:02:18.762Z"
   },
   {
    "duration": 69,
    "start_time": "2022-08-21T19:02:21.263Z"
   },
   {
    "duration": 18,
    "start_time": "2022-08-21T19:02:23.509Z"
   },
   {
    "duration": 12,
    "start_time": "2022-08-21T19:02:26.827Z"
   },
   {
    "duration": 3,
    "start_time": "2022-08-21T19:02:29.141Z"
   },
   {
    "duration": 15681,
    "start_time": "2022-08-21T19:02:34.024Z"
   },
   {
    "duration": 10,
    "start_time": "2022-08-21T19:42:41.243Z"
   },
   {
    "duration": 11,
    "start_time": "2022-08-21T19:44:17.886Z"
   },
   {
    "duration": 10,
    "start_time": "2022-08-21T19:44:52.228Z"
   },
   {
    "duration": 10,
    "start_time": "2022-08-21T19:45:44.725Z"
   },
   {
    "duration": 50,
    "start_time": "2022-08-21T20:23:46.945Z"
   },
   {
    "duration": 4,
    "start_time": "2022-08-21T20:23:56.740Z"
   },
   {
    "duration": 54,
    "start_time": "2022-08-21T20:24:45.826Z"
   },
   {
    "duration": 558,
    "start_time": "2022-08-21T20:25:22.370Z"
   },
   {
    "duration": 4,
    "start_time": "2022-08-21T20:27:14.727Z"
   },
   {
    "duration": 50,
    "start_time": "2022-08-21T20:27:35.969Z"
   },
   {
    "duration": 51,
    "start_time": "2022-08-21T20:30:08.957Z"
   },
   {
    "duration": 46,
    "start_time": "2022-08-21T20:30:53.729Z"
   },
   {
    "duration": 4,
    "start_time": "2022-08-21T20:33:02.562Z"
   },
   {
    "duration": 83,
    "start_time": "2022-08-21T20:33:07.040Z"
   },
   {
    "duration": 14,
    "start_time": "2022-08-21T20:33:29.852Z"
   },
   {
    "duration": 13,
    "start_time": "2022-08-21T20:34:56.606Z"
   },
   {
    "duration": 2,
    "start_time": "2022-08-21T20:35:08.841Z"
   },
   {
    "duration": 11,
    "start_time": "2022-08-21T20:35:40.847Z"
   },
   {
    "duration": 12,
    "start_time": "2022-08-21T20:36:19.534Z"
   },
   {
    "duration": 21,
    "start_time": "2022-08-21T20:36:40.528Z"
   },
   {
    "duration": 13,
    "start_time": "2022-08-21T20:37:02.124Z"
   },
   {
    "duration": 11,
    "start_time": "2022-08-21T20:37:22.358Z"
   },
   {
    "duration": 11,
    "start_time": "2022-08-21T20:37:29.299Z"
   },
   {
    "duration": 14,
    "start_time": "2022-08-21T20:37:46.486Z"
   },
   {
    "duration": 11,
    "start_time": "2022-08-21T20:38:06.536Z"
   },
   {
    "duration": 16,
    "start_time": "2022-08-21T20:38:11.568Z"
   },
   {
    "duration": 8,
    "start_time": "2022-08-21T20:40:43.415Z"
   },
   {
    "duration": 6,
    "start_time": "2022-08-21T20:43:30.718Z"
   },
   {
    "duration": 10,
    "start_time": "2022-08-21T20:44:12.661Z"
   },
   {
    "duration": 5,
    "start_time": "2022-08-21T20:45:09.247Z"
   },
   {
    "duration": 5,
    "start_time": "2022-08-21T20:53:08.209Z"
   },
   {
    "duration": 48,
    "start_time": "2022-08-21T20:57:19.913Z"
   },
   {
    "duration": 56,
    "start_time": "2022-08-21T20:58:46.958Z"
   },
   {
    "duration": 41,
    "start_time": "2022-08-21T20:59:56.310Z"
   },
   {
    "duration": 9,
    "start_time": "2022-08-21T21:00:12.889Z"
   },
   {
    "duration": 12,
    "start_time": "2022-08-21T21:02:23.992Z"
   },
   {
    "duration": 25,
    "start_time": "2022-08-21T21:03:08.441Z"
   },
   {
    "duration": 25,
    "start_time": "2022-08-21T21:04:14.490Z"
   },
   {
    "duration": 26,
    "start_time": "2022-08-21T21:07:00.118Z"
   },
   {
    "duration": 26,
    "start_time": "2022-08-21T21:07:19.881Z"
   },
   {
    "duration": 4,
    "start_time": "2022-08-21T21:07:56.026Z"
   },
   {
    "duration": 50,
    "start_time": "2022-08-21T21:07:58.736Z"
   },
   {
    "duration": 8,
    "start_time": "2022-08-21T21:08:46.729Z"
   },
   {
    "duration": 8,
    "start_time": "2022-08-21T21:10:58.707Z"
   },
   {
    "duration": 28,
    "start_time": "2022-08-21T21:11:06.182Z"
   },
   {
    "duration": 32,
    "start_time": "2022-08-21T21:11:51.964Z"
   },
   {
    "duration": 25,
    "start_time": "2022-08-21T21:12:10.857Z"
   },
   {
    "duration": 8,
    "start_time": "2022-08-21T21:16:02.668Z"
   },
   {
    "duration": 4,
    "start_time": "2022-08-21T21:16:15.035Z"
   },
   {
    "duration": 5,
    "start_time": "2022-08-21T21:16:48.786Z"
   },
   {
    "duration": 9,
    "start_time": "2022-08-21T21:17:07.997Z"
   },
   {
    "duration": 4,
    "start_time": "2022-08-21T21:20:36.837Z"
   },
   {
    "duration": 8,
    "start_time": "2022-08-21T21:20:47.805Z"
   },
   {
    "duration": 9,
    "start_time": "2022-08-21T21:21:14.723Z"
   },
   {
    "duration": 11,
    "start_time": "2022-08-21T21:21:32.433Z"
   },
   {
    "duration": 8,
    "start_time": "2022-08-21T21:21:59.316Z"
   },
   {
    "duration": 5,
    "start_time": "2022-08-21T21:22:37.817Z"
   },
   {
    "duration": 8,
    "start_time": "2022-08-21T21:25:22.417Z"
   },
   {
    "duration": 9,
    "start_time": "2022-08-21T21:26:16.125Z"
   },
   {
    "duration": 9,
    "start_time": "2022-08-21T21:27:33.667Z"
   },
   {
    "duration": 10,
    "start_time": "2022-08-21T21:27:49.931Z"
   },
   {
    "duration": 9,
    "start_time": "2022-08-21T21:27:57.169Z"
   },
   {
    "duration": 8,
    "start_time": "2022-08-21T21:28:39.558Z"
   },
   {
    "duration": 36,
    "start_time": "2022-08-21T21:33:16.875Z"
   },
   {
    "duration": 11,
    "start_time": "2022-08-21T21:34:41.544Z"
   },
   {
    "duration": 6,
    "start_time": "2022-08-21T21:35:50.561Z"
   },
   {
    "duration": 11,
    "start_time": "2022-08-21T21:36:05.944Z"
   },
   {
    "duration": 10,
    "start_time": "2022-08-21T21:36:26.780Z"
   },
   {
    "duration": 10,
    "start_time": "2022-08-21T21:38:49.874Z"
   },
   {
    "duration": 24,
    "start_time": "2022-08-21T21:41:26.508Z"
   },
   {
    "duration": 13,
    "start_time": "2022-08-21T21:42:25.894Z"
   },
   {
    "duration": 13,
    "start_time": "2022-08-21T21:48:17.481Z"
   },
   {
    "duration": 14,
    "start_time": "2022-08-21T21:48:19.871Z"
   },
   {
    "duration": 6,
    "start_time": "2022-08-21T21:48:28.242Z"
   },
   {
    "duration": 6,
    "start_time": "2022-08-21T21:48:32.877Z"
   },
   {
    "duration": 437,
    "start_time": "2022-08-21T21:48:42.909Z"
   },
   {
    "duration": 169,
    "start_time": "2022-08-21T21:48:43.348Z"
   },
   {
    "duration": 24,
    "start_time": "2022-08-21T21:48:43.519Z"
   },
   {
    "duration": 50,
    "start_time": "2022-08-21T21:48:43.545Z"
   },
   {
    "duration": 14,
    "start_time": "2022-08-21T21:48:43.597Z"
   },
   {
    "duration": 6,
    "start_time": "2022-08-21T21:48:43.614Z"
   },
   {
    "duration": 18,
    "start_time": "2022-08-21T21:48:43.622Z"
   },
   {
    "duration": 10,
    "start_time": "2022-08-21T21:48:43.642Z"
   },
   {
    "duration": 22,
    "start_time": "2022-08-21T21:48:43.654Z"
   },
   {
    "duration": 33,
    "start_time": "2022-08-21T21:48:43.678Z"
   },
   {
    "duration": 19,
    "start_time": "2022-08-21T21:48:43.713Z"
   },
   {
    "duration": 62,
    "start_time": "2022-08-21T21:48:43.734Z"
   },
   {
    "duration": 150,
    "start_time": "2022-08-21T21:48:43.811Z"
   },
   {
    "duration": 77,
    "start_time": "2022-08-21T21:48:43.963Z"
   },
   {
    "duration": 6,
    "start_time": "2022-08-21T21:48:44.042Z"
   },
   {
    "duration": 14,
    "start_time": "2022-08-21T21:48:44.050Z"
   },
   {
    "duration": 4,
    "start_time": "2022-08-21T21:48:44.067Z"
   },
   {
    "duration": 17,
    "start_time": "2022-08-21T21:48:44.073Z"
   },
   {
    "duration": 32,
    "start_time": "2022-08-21T21:48:44.092Z"
   },
   {
    "duration": 3,
    "start_time": "2022-08-21T21:48:44.126Z"
   },
   {
    "duration": 28,
    "start_time": "2022-08-21T21:48:44.131Z"
   },
   {
    "duration": 19,
    "start_time": "2022-08-21T21:48:44.161Z"
   },
   {
    "duration": 37,
    "start_time": "2022-08-21T21:48:44.182Z"
   },
   {
    "duration": 20,
    "start_time": "2022-08-21T21:48:44.222Z"
   },
   {
    "duration": 20,
    "start_time": "2022-08-21T21:48:44.244Z"
   },
   {
    "duration": 46,
    "start_time": "2022-08-21T21:48:44.266Z"
   },
   {
    "duration": 9,
    "start_time": "2022-08-21T21:48:44.314Z"
   },
   {
    "duration": 12,
    "start_time": "2022-08-21T21:48:44.327Z"
   },
   {
    "duration": 10,
    "start_time": "2022-08-21T21:48:44.341Z"
   },
   {
    "duration": 5,
    "start_time": "2022-08-21T21:48:44.353Z"
   },
   {
    "duration": 83,
    "start_time": "2022-08-21T21:48:44.360Z"
   },
   {
    "duration": 42,
    "start_time": "2022-08-21T21:48:44.445Z"
   },
   {
    "duration": 61,
    "start_time": "2022-08-21T21:48:44.489Z"
   },
   {
    "duration": 22,
    "start_time": "2022-08-21T21:48:44.552Z"
   },
   {
    "duration": 8,
    "start_time": "2022-08-21T21:48:44.575Z"
   },
   {
    "duration": 31,
    "start_time": "2022-08-21T21:48:44.584Z"
   },
   {
    "duration": 8,
    "start_time": "2022-08-21T21:48:44.617Z"
   },
   {
    "duration": 15,
    "start_time": "2022-08-21T21:48:44.627Z"
   },
   {
    "duration": 6,
    "start_time": "2022-08-21T21:48:50.980Z"
   },
   {
    "duration": 15,
    "start_time": "2022-08-21T21:52:31.813Z"
   },
   {
    "duration": 15,
    "start_time": "2022-08-21T21:53:11.769Z"
   },
   {
    "duration": 75,
    "start_time": "2022-08-21T21:53:40.748Z"
   },
   {
    "duration": 46,
    "start_time": "2022-08-22T04:43:59.796Z"
   },
   {
    "duration": 447,
    "start_time": "2022-08-22T04:44:32.358Z"
   },
   {
    "duration": 244,
    "start_time": "2022-08-22T04:44:32.807Z"
   },
   {
    "duration": 17,
    "start_time": "2022-08-22T04:44:33.053Z"
   },
   {
    "duration": 27,
    "start_time": "2022-08-22T04:44:33.072Z"
   },
   {
    "duration": 2,
    "start_time": "2022-08-22T04:44:33.101Z"
   },
   {
    "duration": 6,
    "start_time": "2022-08-22T04:44:33.105Z"
   },
   {
    "duration": 13,
    "start_time": "2022-08-22T04:44:33.113Z"
   },
   {
    "duration": 31,
    "start_time": "2022-08-22T04:44:33.127Z"
   },
   {
    "duration": 26,
    "start_time": "2022-08-22T04:44:33.160Z"
   },
   {
    "duration": 17,
    "start_time": "2022-08-22T04:44:33.189Z"
   },
   {
    "duration": 50,
    "start_time": "2022-08-22T04:44:33.208Z"
   },
   {
    "duration": 68,
    "start_time": "2022-08-22T04:44:33.261Z"
   },
   {
    "duration": 159,
    "start_time": "2022-08-22T04:44:33.331Z"
   },
   {
    "duration": 112,
    "start_time": "2022-08-22T04:44:33.493Z"
   },
   {
    "duration": 79,
    "start_time": "2022-08-22T04:44:33.607Z"
   },
   {
    "duration": 0,
    "start_time": "2022-08-22T04:44:33.688Z"
   },
   {
    "duration": 0,
    "start_time": "2022-08-22T04:44:33.689Z"
   },
   {
    "duration": 0,
    "start_time": "2022-08-22T04:44:33.690Z"
   },
   {
    "duration": 0,
    "start_time": "2022-08-22T04:44:33.691Z"
   },
   {
    "duration": 0,
    "start_time": "2022-08-22T04:44:33.692Z"
   },
   {
    "duration": 0,
    "start_time": "2022-08-22T04:44:33.693Z"
   },
   {
    "duration": 0,
    "start_time": "2022-08-22T04:44:33.695Z"
   },
   {
    "duration": 0,
    "start_time": "2022-08-22T04:44:33.696Z"
   },
   {
    "duration": 0,
    "start_time": "2022-08-22T04:44:33.697Z"
   },
   {
    "duration": 0,
    "start_time": "2022-08-22T04:44:33.698Z"
   },
   {
    "duration": 0,
    "start_time": "2022-08-22T04:44:33.699Z"
   },
   {
    "duration": 0,
    "start_time": "2022-08-22T04:44:33.700Z"
   },
   {
    "duration": 0,
    "start_time": "2022-08-22T04:44:33.702Z"
   },
   {
    "duration": 0,
    "start_time": "2022-08-22T04:44:33.703Z"
   },
   {
    "duration": 0,
    "start_time": "2022-08-22T04:44:33.704Z"
   },
   {
    "duration": 0,
    "start_time": "2022-08-22T04:44:33.705Z"
   },
   {
    "duration": 0,
    "start_time": "2022-08-22T04:44:33.706Z"
   },
   {
    "duration": 0,
    "start_time": "2022-08-22T04:44:33.707Z"
   },
   {
    "duration": 0,
    "start_time": "2022-08-22T04:44:33.708Z"
   },
   {
    "duration": 0,
    "start_time": "2022-08-22T04:44:33.709Z"
   },
   {
    "duration": 0,
    "start_time": "2022-08-22T04:44:33.710Z"
   },
   {
    "duration": 0,
    "start_time": "2022-08-22T04:44:33.712Z"
   },
   {
    "duration": 0,
    "start_time": "2022-08-22T04:44:33.758Z"
   },
   {
    "duration": 49,
    "start_time": "2022-08-22T07:27:41.849Z"
   },
   {
    "duration": 7,
    "start_time": "2022-08-22T07:28:45.816Z"
   },
   {
    "duration": 431,
    "start_time": "2022-08-22T07:30:10.659Z"
   },
   {
    "duration": 467,
    "start_time": "2022-08-22T07:30:11.093Z"
   },
   {
    "duration": 25,
    "start_time": "2022-08-22T07:30:11.562Z"
   },
   {
    "duration": 38,
    "start_time": "2022-08-22T07:30:11.589Z"
   },
   {
    "duration": 5,
    "start_time": "2022-08-22T07:30:11.629Z"
   },
   {
    "duration": 17,
    "start_time": "2022-08-22T07:30:11.637Z"
   },
   {
    "duration": 34,
    "start_time": "2022-08-22T07:30:11.657Z"
   },
   {
    "duration": 10,
    "start_time": "2022-08-22T07:30:11.692Z"
   },
   {
    "duration": 41,
    "start_time": "2022-08-22T07:30:11.704Z"
   },
   {
    "duration": 37,
    "start_time": "2022-08-22T07:30:11.747Z"
   },
   {
    "duration": 30,
    "start_time": "2022-08-22T07:30:11.785Z"
   },
   {
    "duration": 79,
    "start_time": "2022-08-22T07:30:11.817Z"
   },
   {
    "duration": 136,
    "start_time": "2022-08-22T07:30:11.898Z"
   },
   {
    "duration": 71,
    "start_time": "2022-08-22T07:30:12.036Z"
   },
   {
    "duration": 119,
    "start_time": "2022-08-22T07:30:12.109Z"
   },
   {
    "duration": 0,
    "start_time": "2022-08-22T07:30:12.230Z"
   },
   {
    "duration": 0,
    "start_time": "2022-08-22T07:30:12.232Z"
   },
   {
    "duration": 1,
    "start_time": "2022-08-22T07:30:12.232Z"
   },
   {
    "duration": 0,
    "start_time": "2022-08-22T07:30:12.233Z"
   },
   {
    "duration": 0,
    "start_time": "2022-08-22T07:30:12.234Z"
   },
   {
    "duration": 0,
    "start_time": "2022-08-22T07:30:12.235Z"
   },
   {
    "duration": 0,
    "start_time": "2022-08-22T07:30:12.237Z"
   },
   {
    "duration": 0,
    "start_time": "2022-08-22T07:30:12.238Z"
   },
   {
    "duration": 0,
    "start_time": "2022-08-22T07:30:12.239Z"
   },
   {
    "duration": 0,
    "start_time": "2022-08-22T07:30:12.240Z"
   },
   {
    "duration": 0,
    "start_time": "2022-08-22T07:30:12.241Z"
   },
   {
    "duration": 0,
    "start_time": "2022-08-22T07:30:12.242Z"
   },
   {
    "duration": 0,
    "start_time": "2022-08-22T07:30:12.243Z"
   },
   {
    "duration": 0,
    "start_time": "2022-08-22T07:30:12.244Z"
   },
   {
    "duration": 0,
    "start_time": "2022-08-22T07:30:12.268Z"
   },
   {
    "duration": 0,
    "start_time": "2022-08-22T07:30:12.269Z"
   },
   {
    "duration": 0,
    "start_time": "2022-08-22T07:30:12.271Z"
   },
   {
    "duration": 0,
    "start_time": "2022-08-22T07:30:12.272Z"
   },
   {
    "duration": 0,
    "start_time": "2022-08-22T07:30:12.274Z"
   },
   {
    "duration": 0,
    "start_time": "2022-08-22T07:30:12.275Z"
   },
   {
    "duration": 0,
    "start_time": "2022-08-22T07:30:12.276Z"
   },
   {
    "duration": 0,
    "start_time": "2022-08-22T07:30:12.278Z"
   },
   {
    "duration": 0,
    "start_time": "2022-08-22T07:30:12.279Z"
   },
   {
    "duration": 40,
    "start_time": "2022-08-22T07:30:32.162Z"
   },
   {
    "duration": 37,
    "start_time": "2022-08-22T07:30:56.404Z"
   },
   {
    "duration": 36,
    "start_time": "2022-08-22T07:32:07.237Z"
   },
   {
    "duration": 11,
    "start_time": "2022-08-22T07:34:01.867Z"
   },
   {
    "duration": 11,
    "start_time": "2022-08-22T07:34:04.627Z"
   },
   {
    "duration": 4,
    "start_time": "2022-08-22T07:34:08.421Z"
   },
   {
    "duration": 4,
    "start_time": "2022-08-22T07:38:55.122Z"
   },
   {
    "duration": 11,
    "start_time": "2022-08-22T07:40:17.832Z"
   },
   {
    "duration": 10,
    "start_time": "2022-08-22T07:40:19.323Z"
   },
   {
    "duration": 4,
    "start_time": "2022-08-22T07:40:22.567Z"
   },
   {
    "duration": 5,
    "start_time": "2022-08-22T07:42:54.155Z"
   },
   {
    "duration": 4,
    "start_time": "2022-08-22T08:00:42.665Z"
   },
   {
    "duration": 6,
    "start_time": "2022-08-22T08:02:15.314Z"
   },
   {
    "duration": 6,
    "start_time": "2022-08-22T08:04:14.904Z"
   },
   {
    "duration": 5,
    "start_time": "2022-08-22T08:09:19.771Z"
   },
   {
    "duration": 6,
    "start_time": "2022-08-22T08:11:06.594Z"
   },
   {
    "duration": 441,
    "start_time": "2022-08-22T08:11:44.751Z"
   },
   {
    "duration": 178,
    "start_time": "2022-08-22T08:11:45.194Z"
   },
   {
    "duration": 20,
    "start_time": "2022-08-22T08:11:45.373Z"
   },
   {
    "duration": 33,
    "start_time": "2022-08-22T08:11:45.396Z"
   },
   {
    "duration": 3,
    "start_time": "2022-08-22T08:11:45.431Z"
   },
   {
    "duration": 12,
    "start_time": "2022-08-22T08:11:45.435Z"
   },
   {
    "duration": 12,
    "start_time": "2022-08-22T08:11:45.468Z"
   },
   {
    "duration": 12,
    "start_time": "2022-08-22T08:11:45.482Z"
   },
   {
    "duration": 32,
    "start_time": "2022-08-22T08:11:45.495Z"
   },
   {
    "duration": 21,
    "start_time": "2022-08-22T08:11:45.530Z"
   },
   {
    "duration": 22,
    "start_time": "2022-08-22T08:11:45.568Z"
   },
   {
    "duration": 78,
    "start_time": "2022-08-22T08:11:45.591Z"
   },
   {
    "duration": 145,
    "start_time": "2022-08-22T08:11:45.671Z"
   },
   {
    "duration": 67,
    "start_time": "2022-08-22T08:11:45.818Z"
   },
   {
    "duration": 35,
    "start_time": "2022-08-22T08:11:45.887Z"
   },
   {
    "duration": 10,
    "start_time": "2022-08-22T08:11:45.924Z"
   },
   {
    "duration": 54,
    "start_time": "2022-08-22T08:11:45.936Z"
   },
   {
    "duration": 10,
    "start_time": "2022-08-22T08:11:45.992Z"
   },
   {
    "duration": 10,
    "start_time": "2022-08-22T08:11:46.004Z"
   },
   {
    "duration": 3,
    "start_time": "2022-08-22T08:11:46.016Z"
   },
   {
    "duration": 21,
    "start_time": "2022-08-22T08:11:46.021Z"
   },
   {
    "duration": 15,
    "start_time": "2022-08-22T08:11:46.067Z"
   },
   {
    "duration": 17,
    "start_time": "2022-08-22T08:11:46.084Z"
   },
   {
    "duration": 14,
    "start_time": "2022-08-22T08:11:46.102Z"
   },
   {
    "duration": 15,
    "start_time": "2022-08-22T08:11:46.118Z"
   },
   {
    "duration": 44,
    "start_time": "2022-08-22T08:11:46.134Z"
   },
   {
    "duration": 21,
    "start_time": "2022-08-22T08:11:46.180Z"
   },
   {
    "duration": 32,
    "start_time": "2022-08-22T08:11:46.204Z"
   },
   {
    "duration": 9,
    "start_time": "2022-08-22T08:11:46.238Z"
   },
   {
    "duration": 8,
    "start_time": "2022-08-22T08:11:46.249Z"
   },
   {
    "duration": 61,
    "start_time": "2022-08-22T08:11:46.258Z"
   },
   {
    "duration": 28,
    "start_time": "2022-08-22T08:11:46.321Z"
   },
   {
    "duration": 21,
    "start_time": "2022-08-22T08:11:46.350Z"
   },
   {
    "duration": 21,
    "start_time": "2022-08-22T08:11:46.373Z"
   },
   {
    "duration": 8,
    "start_time": "2022-08-22T08:11:46.396Z"
   },
   {
    "duration": 13,
    "start_time": "2022-08-22T08:11:46.405Z"
   },
   {
    "duration": 11,
    "start_time": "2022-08-22T08:11:46.419Z"
   },
   {
    "duration": 11,
    "start_time": "2022-08-22T08:11:46.432Z"
   },
   {
    "duration": 6,
    "start_time": "2022-08-22T08:11:56.535Z"
   },
   {
    "duration": 4,
    "start_time": "2022-08-22T08:14:24.588Z"
   },
   {
    "duration": 19,
    "start_time": "2022-08-22T08:17:19.808Z"
   },
   {
    "duration": 13,
    "start_time": "2022-08-22T08:17:23.476Z"
   },
   {
    "duration": 21,
    "start_time": "2022-08-22T08:17:27.924Z"
   },
   {
    "duration": 15,
    "start_time": "2022-08-22T08:17:29.913Z"
   },
   {
    "duration": 19,
    "start_time": "2022-08-22T08:17:58.475Z"
   },
   {
    "duration": 12,
    "start_time": "2022-08-22T08:18:02.185Z"
   },
   {
    "duration": 19,
    "start_time": "2022-08-22T08:19:03.236Z"
   },
   {
    "duration": 12,
    "start_time": "2022-08-22T08:19:05.811Z"
   },
   {
    "duration": 8,
    "start_time": "2022-08-22T08:22:56.693Z"
   },
   {
    "duration": 67,
    "start_time": "2022-08-22T08:24:07.902Z"
   },
   {
    "duration": 9,
    "start_time": "2022-08-22T08:24:20.008Z"
   },
   {
    "duration": 8,
    "start_time": "2022-08-22T08:26:50.812Z"
   },
   {
    "duration": 9,
    "start_time": "2022-08-22T08:27:37.065Z"
   },
   {
    "duration": 24,
    "start_time": "2022-08-22T08:28:40.951Z"
   },
   {
    "duration": 12,
    "start_time": "2022-08-22T08:29:19.445Z"
   }
  ],
  "colab": {
   "collapsed_sections": [
    "E0vqbgi9ay0H",
    "VUC88oWjTJw2"
   ],
   "name": "automatization_template_upd4.ipynb",
   "provenance": []
  },
  "kernelspec": {
   "display_name": "Python 3 (ipykernel)",
   "language": "python",
   "name": "python3"
  },
  "language_info": {
   "codemirror_mode": {
    "name": "ipython",
    "version": 3
   },
   "file_extension": ".py",
   "mimetype": "text/x-python",
   "name": "python",
   "nbconvert_exporter": "python",
   "pygments_lexer": "ipython3",
   "version": "3.9.12"
  },
  "toc": {
   "base_numbering": 1,
   "nav_menu": {
    "height": "215px",
    "width": "403px"
   },
   "number_sections": true,
   "sideBar": true,
   "skip_h1_title": true,
   "title_cell": "Table of Contents",
   "title_sidebar": "Contents",
   "toc_cell": false,
   "toc_position": {
    "height": "calc(100% - 180px)",
    "left": "10px",
    "top": "150px",
    "width": "285.825px"
   },
   "toc_section_display": true,
   "toc_window_display": false
  }
 },
 "nbformat": 4,
 "nbformat_minor": 1
}
